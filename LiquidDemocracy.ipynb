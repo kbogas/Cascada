{
 "cells": [
  {
   "cell_type": "markdown",
   "metadata": {},
   "source": [
    "# Liquid Democracy\n",
    "Trying to implement an ensemble methodology for voting based on the [Liquid Democracy](http://procaccia.info/papers/liquid.pdf) paper.\n",
    "\n",
    "The important bits i see in this process is:\n",
    "- the *competence level* should be an estimate based on train/valid accuracy or distance to each new sample (or a mix of both)\n",
    "- the cap(n) is constant in  our case? This should be optimized?"
   ]
  },
  {
   "cell_type": "code",
   "execution_count": 1,
   "metadata": {},
   "outputs": [
    {
     "name": "stdout",
     "output_type": "stream",
     "text": [
      "Automatically created module for IPython interactive environment\n",
      "Loading 20 newsgroups dataset for categories:\n",
      "['alt.atheism', 'talk.religion.misc']\n",
      "857 documents\n",
      "2 categories\n",
      "\n"
     ]
    }
   ],
   "source": [
    "from __future__ import print_function\n",
    "\n",
    "from pprint import pprint\n",
    "from time import time\n",
    "import logging\n",
    "from sklearn.datasets import fetch_20newsgroups\n",
    "from sklearn.feature_extraction.text import CountVectorizer\n",
    "from sklearn.feature_extraction.text import TfidfTransformer\n",
    "from sklearn.linear_model import SGDClassifier\n",
    "from sklearn.model_selection import GridSearchCV\n",
    "from sklearn.pipeline import Pipeline\n",
    "from sklearn.metrics import classification_report, confusion_matrix\n",
    "\n",
    "print(__doc__)\n",
    "\n",
    "# Display progress logs on stdout\n",
    "logging.basicConfig(level=logging.INFO,\n",
    "                    format='%(asctime)s %(levelname)s %(message)s')\n",
    "\n",
    "\n",
    "# #############################################################################\n",
    "# Load some categories from the training set\n",
    "categories = [\n",
    "    'alt.atheism',\n",
    "    'talk.religion.misc',\n",
    "]\n",
    "# Uncomment the following to do the analysis on all the categories\n",
    "#categories = None\n",
    "\n",
    "print(\"Loading 20 newsgroups dataset for categories:\")\n",
    "print(categories)\n",
    "\n",
    "data = fetch_20newsgroups(subset='train', categories=categories)\n",
    "print(\"%d documents\" % len(data.filenames))\n",
    "print(\"%d categories\" % len(data.target_names))\n",
    "print()\n",
    "\n",
    "#############################################################################\n",
    "# Define a pipeline combining a text feature extractor with a simple\n",
    "# classifier\n",
    "pipeline = Pipeline([\n",
    "    ('vect', CountVectorizer()),\n",
    "    ('tfidf', TfidfTransformer()),\n",
    "    ('clf', SGDClassifier()),\n",
    "])\n",
    "\n",
    "# uncommenting more parameters will give better exploring power but will\n",
    "# increase processing time in a combinatorial way\n",
    "parameters = {\n",
    "    'clf__alpha': (0.00001, 0.000001),\n",
    "    'clf__penalty': ('l2', 'elasticnet'),\n",
    "    'clf__max_iter': (10, 50, 80, 150),\n",
    "}\n",
    "\n",
    "X = data.data\n",
    "y = data.target\n",
    "\n",
    "if __name__ == \"__main__\":\n",
    "    # multiprocessing requires the fork to happen in a __main__ protected\n",
    "    # block\n",
    "\n",
    "    # find the best parameters for both the feature extraction and the\n",
    "    # classifier\n",
    "    grid_search = GridSearchCV(pipeline, parameters, n_jobs=-1, verbose=1)\n",
    "\n",
    "#     print(\"Performing grid search...\")\n",
    "#     print(\"pipeline:\", [name for name, _ in pipeline.steps])\n",
    "#     print(\"parameters:\")\n",
    "#     pprint(parameters)\n",
    "#     t0 = time()\n",
    "#     # grid_search.fit(data.data, data.target)\n",
    "#     grid_search.fit(X, y)\n",
    "#     print(\"done in %0.3fs\" % (time() - t0))\n",
    "#     print()\n",
    "\n",
    "#     print(\"Best score: %0.3f\" % grid_search.best_score_)\n",
    "#     print(\"Best parameters set:\")\n",
    "#     best_parameters = grid_search.best_estimator_.get_params()\n",
    "#     for param_name in sorted(parameters.keys()):\n",
    "#         print(\"\\t%s: %r\" % (param_name, best_parameters[param_name]))"
   ]
  },
  {
   "cell_type": "code",
   "execution_count": 2,
   "metadata": {},
   "outputs": [
    {
     "name": "stdout",
     "output_type": "stream",
     "text": [
      "Fitting 3 folds for each of 16 candidates, totalling 48 fits\n"
     ]
    },
    {
     "name": "stderr",
     "output_type": "stream",
     "text": [
      "/home/kostas/.local/lib/python2.7/site-packages/sklearn/model_selection/_split.py:2053: FutureWarning: You should specify a value for 'cv' instead of relying on the default value. The default value will change from 3 to 5 in version 0.22.\n",
      "  warnings.warn(CV_WARNING, FutureWarning)\n",
      "[Parallel(n_jobs=-1)]: Using backend LokyBackend with 4 concurrent workers.\n",
      "[Parallel(n_jobs=-1)]: Done  48 out of  48 | elapsed:    6.5s finished\n",
      "/home/kostas/.local/lib/python2.7/site-packages/sklearn/linear_model/stochastic_gradient.py:183: FutureWarning: max_iter and tol parameters have been added in SGDClassifier in 0.19. If max_iter is set but tol is left unset, the default value for tol in 0.19 and 0.20 will be None (which is equivalent to -infinity, so it has no effect) but will change in 0.21 to 1e-3. Specify tol to silence this warning.\n",
      "  FutureWarning)\n"
     ]
    },
    {
     "name": "stdout",
     "output_type": "stream",
     "text": [
      "0.9302325581395349\n"
     ]
    }
   ],
   "source": [
    "from sklearn.model_selection import train_test_split\n",
    "from sklearn.metrics import accuracy_score\n",
    "X_train, X_test, y_train, y_test= train_test_split(X, y, random_state=42, test_size=0.3)\n",
    "# X_valid, X_test, y_valid, y_test= train_test_split(X_test, y_test, \n",
    "#                                                    random_state=42, test_size=0.5)\n",
    "grid_search.fit(X_train, y_train)\n",
    "cur_mod = grid_search.best_estimator_\n",
    "pred = cur_mod.predict(X_test)\n",
    "print(accuracy_score(y_test, pred))"
   ]
  },
  {
   "cell_type": "code",
   "execution_count": 3,
   "metadata": {},
   "outputs": [
    {
     "name": "stdout",
     "output_type": "stream",
     "text": [
      "15443 15443\n"
     ]
    }
   ],
   "source": [
    "from sklearn.feature_selection import mutual_info_classif\n",
    "from sklearn.feature_extraction.text import TfidfVectorizer\n",
    "\n",
    "pip = Pipeline([\n",
    "    ('vect', CountVectorizer()),\n",
    "    ('tfidf', TfidfTransformer())])\n",
    "\n",
    "tr = pip.fit_transform(X_train, y_train)\n",
    "mi = mutual_info_classif(tr, y_train)\n",
    "print(len(mi),tr.shape[1])\n",
    "mi = mi/sum(mi)\n",
    "#tr_valid = pip.transform(X_valid)\n",
    "tr_test = pip.transform(X_test)"
   ]
  },
  {
   "cell_type": "code",
   "execution_count": 33,
   "metadata": {},
   "outputs": [
    {
     "name": "stdout",
     "output_type": "stream",
     "text": [
      "0.9147286821705426\n"
     ]
    }
   ],
   "source": [
    "from sklearn.ensemble import RandomForestClassifier\n",
    "clf = RandomForestClassifier(n_estimators=100 ,random_state=42)\n",
    "clf.fit(tr, y_train)\n",
    "pred = clf.predict(tr_test)\n",
    "print(accuracy_score(y_test, pred))"
   ]
  },
  {
   "cell_type": "code",
   "execution_count": 97,
   "metadata": {},
   "outputs": [
    {
     "name": "stdout",
     "output_type": "stream",
     "text": [
      "(array([], dtype=int64),)\n",
      "0.7674418604651163 0.6744186046511628\n"
     ]
    },
    {
     "name": "stderr",
     "output_type": "stream",
     "text": [
      "/home/kostas/.local/lib/python2.7/site-packages/ipykernel_launcher.py:5: DeprecationWarning: The truth value of an empty array is ambiguous. Returning False, but in future this will result in an error. Use `array.size > 0` to check that an array is not empty.\n",
      "  \"\"\"\n"
     ]
    }
   ],
   "source": [
    "k = np.copy(competence)\n",
    "alpha = 0.5\n",
    "print(np.where(k - k[0]-alpha>0))\n",
    "print(k[11], k[0])\n",
    "if np.where(k - k[0]-alpha>0)[0]:\n",
    "    print('lala')"
   ]
  },
  {
   "cell_type": "code",
   "execution_count": 149,
   "metadata": {},
   "outputs": [],
   "source": [
    "from collections import defaultdict\n",
    "competence = []\n",
    "for est in clf.estimators_:\n",
    "    competence.append(est.score(tr_valid, y_valid))\n",
    "alpha = 0.2\n",
    "approves = {}\n",
    "approved_by = {}\n",
    "approved_by_length = {}\n",
    "for i, sc_i in enumerate(competence):\n",
    "    k = np.copy(competence)\n",
    "    approves[i] = np.where(k - sc_i - alpha>0)[0].tolist()\n",
    "    approved_by[i] = np.where(k - sc_i + alpha<0)[0].tolist()\n",
    "    approved_by_length[i] = len(approved_by[i])\n",
    "import operator\n",
    "sorted_approved = sorted(approved_by_length.items(), key=operator.itemgetter(1))[::-1]\n",
    "\n",
    "    \n"
   ]
  },
  {
   "cell_type": "code",
   "execution_count": 150,
   "metadata": {},
   "outputs": [
    {
     "name": "stdout",
     "output_type": "stream",
     "text": [
      "40\n",
      "11\n",
      "95\n",
      "99\n",
      "93\n",
      "16\n",
      "77\n",
      "71\n",
      "49\n",
      "45\n",
      "31\n",
      "26\n",
      "19\n",
      "18\n",
      "92\n",
      "75\n",
      "61\n",
      "58\n",
      "47\n",
      "38\n",
      "30\n",
      "98\n",
      "97\n",
      "96\n",
      "94\n",
      "91\n",
      "90\n",
      "89\n",
      "88\n",
      "87\n",
      "86\n",
      "85\n",
      "84\n",
      "83\n",
      "82\n",
      "81\n",
      "80\n",
      "79\n",
      "78\n",
      "76\n",
      "74\n",
      "73\n",
      "72\n",
      "70\n",
      "69\n",
      "68\n",
      "67\n",
      "66\n",
      "65\n",
      "64\n",
      "63\n",
      "62\n",
      "60\n",
      "59\n",
      "57\n",
      "56\n",
      "55\n",
      "54\n",
      "53\n",
      "52\n",
      "51\n",
      "50\n",
      "48\n",
      "46\n",
      "44\n",
      "43\n",
      "42\n",
      "41\n",
      "39\n",
      "37\n",
      "36\n",
      "35\n",
      "34\n",
      "33\n",
      "32\n",
      "29\n",
      "28\n",
      "27\n",
      "25\n",
      "24\n",
      "23\n",
      "22\n",
      "21\n",
      "20\n",
      "17\n",
      "15\n",
      "14\n",
      "13\n",
      "12\n",
      "10\n",
      "9\n",
      "8\n",
      "7\n",
      "6\n",
      "5\n",
      "4\n",
      "3\n",
      "2\n",
      "1\n",
      "0\n"
     ]
    },
    {
     "data": {
      "text/plain": [
       "{0: [0],\n",
       " 1: [1],\n",
       " 2: [2],\n",
       " 3: [3],\n",
       " 4: [4],\n",
       " 5: [5],\n",
       " 6: [6],\n",
       " 7: [7],\n",
       " 8: [8],\n",
       " 9: [9],\n",
       " 10: [10],\n",
       " 11: [11],\n",
       " 12: [12],\n",
       " 13: [13],\n",
       " 14: [14],\n",
       " 15: [15],\n",
       " 16: [16],\n",
       " 17: [17],\n",
       " 18: [18],\n",
       " 19: [19],\n",
       " 20: [20],\n",
       " 21: [21],\n",
       " 22: [22],\n",
       " 23: [23],\n",
       " 24: [24],\n",
       " 25: [25],\n",
       " 26: [26],\n",
       " 27: [27],\n",
       " 28: [28],\n",
       " 29: [29],\n",
       " 30: [30],\n",
       " 31: [31],\n",
       " 32: [32],\n",
       " 33: [33],\n",
       " 34: [34],\n",
       " 35: [35],\n",
       " 36: [36],\n",
       " 37: [37],\n",
       " 38: [38],\n",
       " 39: [39],\n",
       " 40: [37, 8, 41, 80, 22, 23, 89, 40],\n",
       " 41: [41],\n",
       " 42: [42],\n",
       " 43: [43],\n",
       " 44: [44],\n",
       " 45: [45],\n",
       " 46: [46],\n",
       " 47: [47],\n",
       " 48: [48],\n",
       " 49: [49],\n",
       " 50: [50],\n",
       " 51: [51],\n",
       " 52: [52],\n",
       " 53: [53],\n",
       " 54: [54],\n",
       " 55: [55],\n",
       " 56: [56],\n",
       " 57: [57],\n",
       " 58: [58],\n",
       " 59: [59],\n",
       " 60: [60],\n",
       " 61: [61],\n",
       " 62: [62],\n",
       " 63: [63],\n",
       " 64: [64],\n",
       " 65: [65],\n",
       " 66: [66],\n",
       " 67: [67],\n",
       " 68: [68],\n",
       " 69: [69],\n",
       " 70: [70],\n",
       " 71: [71],\n",
       " 72: [72],\n",
       " 73: [73],\n",
       " 74: [74],\n",
       " 75: [75],\n",
       " 76: [76],\n",
       " 77: [77],\n",
       " 78: [78],\n",
       " 79: [79],\n",
       " 80: [80],\n",
       " 81: [81],\n",
       " 82: [82],\n",
       " 83: [83],\n",
       " 84: [84],\n",
       " 85: [85],\n",
       " 86: [86],\n",
       " 87: [87],\n",
       " 88: [88],\n",
       " 89: [89],\n",
       " 90: [90],\n",
       " 91: [91],\n",
       " 92: [92],\n",
       " 93: [93],\n",
       " 94: [94],\n",
       " 95: [95],\n",
       " 96: [96],\n",
       " 97: [97],\n",
       " 98: [98],\n",
       " 99: [99]}"
      ]
     },
     "execution_count": 150,
     "metadata": {},
     "output_type": "execute_result"
    }
   ],
   "source": [
    "cap = int(len(competence)*0.2)\n",
    "cap_per_est = {}\n",
    "for i in xrange(len(competence)):\n",
    "    cap_per_est[i] = cap\n",
    "delegated = {}\n",
    "poss_nodes = set([i for i in xrange(len(competence))])\n",
    "for est_id, _ in sorted_approved:\n",
    "    print(est_id)\n",
    "    to_deleg = []\n",
    "    poss_deleg = list(poss_nodes.intersection(approved_by[est_id]))\n",
    "    if len(poss_deleg) <= cap_per_est[est_id] - 1:\n",
    "        to_deleg = poss_deleg\n",
    "    else:\n",
    "        to_deleg = np.random.choice(poss_deleg, cap_per_est[est_id] - 1).tolist()\n",
    "    to_deleg = to_deleg + [est_id]\n",
    "    cap_per_est[est_id] -= len(to_deleg)\n",
    "    poss_nodes = poss_nodes.difference(to_deleg)\n",
    "    delegated[est_id] = to_deleg\n",
    "    if len(poss_nodes) == 0:\n",
    "        break\n",
    "delegated"
   ]
  },
  {
   "cell_type": "code",
   "execution_count": 151,
   "metadata": {},
   "outputs": [
    {
     "name": "stdout",
     "output_type": "stream",
     "text": [
      "0.9922480620155039\n"
     ]
    }
   ],
   "source": [
    "import collections\n",
    "def predict_delegate(ensemble, del_map, X):\n",
    "    final_pred = []\n",
    "    for sample in xrange(X.shape[0]):\n",
    "        sample_pred = []\n",
    "        for est_id, delegates in del_map.items():\n",
    "            n_votes = len(delegates)\n",
    "            est_predict = ensemble.estimators_[est_id].predict(X[sample,:][0])[0]\n",
    "            sample_pred.extend([est_predict for i in xrange(n_votes)])\n",
    "        final_pred.append(collections.Counter(sample_pred).most_common()[0][0])\n",
    "    return np.array(final_pred)  \n",
    "y_test = predict_delegate(clf, delegated, tr_test)\n",
    "print(accuracy_score(y_test, pred))"
   ]
  },
  {
   "cell_type": "code",
   "execution_count": null,
   "metadata": {},
   "outputs": [],
   "source": []
  },
  {
   "cell_type": "code",
   "execution_count": 32,
   "metadata": {},
   "outputs": [
    {
     "name": "stdout",
     "output_type": "stream",
     "text": [
      "0.810077519379845\n"
     ]
    }
   ],
   "source": [
    "from sklearn.base import BaseEstimator, ClassifierMixin, clone\n",
    "from sklearn.utils import check_X_y, check_random_state, check_array\n",
    "from sklearn.metrics import get_scorer\n",
    "from sklearn.utils.validation import column_or_1d, check_is_fitted\n",
    "from sklearn.multiclass import check_classification_targets\n",
    "from sklearn.utils.metaestimators import if_delegate_has_method\n",
    "from sklearn.neighbors import KNeighborsClassifier\n",
    "from sklearn.tree import DecisionTreeClassifier\n",
    "from sklearn.preprocessing import MinMaxScaler\n",
    "from sklearn.feature_selection import mutual_info_classif\n",
    "import numpy as np\n",
    "\n",
    "class Liquid_Voter(BaseEstimator, ClassifierMixin):\n",
    "    \"\"\"\n",
    "    Liquid Voter delegation mechanism. It builds a standard random forest but\n",
    "    votes according to the liquid voting mechanism of action. Currently, the competence\n",
    "    is expressed through the accuracy of the trees based on a validation split on the \n",
    "    train set. The alpha and cap parameters essentially control a) how much better does\n",
    "    one model to be with regards to another so as to become it's delegate and b) the maximum\n",
    "    capacity of votes one delegate can carry.\n",
    "    \"\"\"\n",
    "    def __init__(self, \n",
    "                 ensemble=RandomForestClassifier(), \n",
    "                 n_estimators=100,  \n",
    "                 random_state=42,\n",
    "                 #competence = 'valid_acc',\n",
    "                 valid_size = 0.1,\n",
    "                 alpha = 0.2,\n",
    "                 cap = 0.2,\n",
    "                 metric='accuracy'):  \n",
    "        self.n_estimators = n_estimators\n",
    "        self.random_state = check_random_state(random_state)\n",
    "        self.ensemble = ensemble.set_params(**{'random_state':self.random_state,\n",
    "                                            'n_estimators':self.n_estimators})\n",
    "        self.alpha = alpha\n",
    "        self.cap = cap\n",
    "        self.scoring = get_scorer(metric)\n",
    "        #self.competence = competence\n",
    "        self.valid_size = valid_size\n",
    "        self.delegation_map = {}\n",
    "        self.competence = []\n",
    "    \n",
    "    def fit(self, X, y):\n",
    "        return self._fit(X, y)\n",
    "    \n",
    "    def _validate_y(self, y):\n",
    "        y = column_or_1d(y, warn=True)\n",
    "        check_classification_targets(y)\n",
    "        self.classes_, y = np.unique(y, return_inverse=True)\n",
    "        self.n_classes_ = len(self.classes_)\n",
    "        return y\n",
    "    \n",
    "    def _fit(self,X,y):\n",
    "        X, y = check_X_y(\n",
    "            X, y, ['csr', 'csc'], dtype=None, force_all_finite=False,\n",
    "            multi_output=True)\n",
    "        y = self._validate_y(y)\n",
    "        n_samples, self.n_features_ = X.shape\n",
    "        X_train, X_valid, y_train, y_valid = train_test_split(X, y,random_state= self.random_state,\n",
    "                         test_size = self.valid_size)\n",
    "        self.ensemble.fit(X_train, y_train)\n",
    "        from collections import defaultdict\n",
    "        import operator\n",
    "        for est in self.ensemble.estimators_:\n",
    "            self.competence.append(est.score(X_valid, y_valid))\n",
    "        self.ensemble.fit(X,y)\n",
    "        approves = {}\n",
    "        approved_by = {}\n",
    "        approved_by_length = {}\n",
    "        for i, sc_i in enumerate(self.competence):\n",
    "            k = np.copy(self.competence)\n",
    "            approves[i] = np.where(k - sc_i - self.alpha>0)[0].tolist()\n",
    "            approved_by[i] = np.where(k - sc_i + self.alpha<0)[0].tolist()\n",
    "            approved_by_length[i] = len(approved_by[i])\n",
    "        \n",
    "        sorted_approved = sorted(approved_by_length.items(), key=operator.itemgetter(1))[::-1]\n",
    "        cap = int(self.n_estimators*self.cap)\n",
    "        cap_per_est = {}\n",
    "        for i in xrange(self.n_estimators):\n",
    "            cap_per_est[i] = cap\n",
    "        poss_nodes = set([i for i in xrange(self.n_estimators)])\n",
    "        for est_id, _ in sorted_approved:\n",
    "            to_deleg = []\n",
    "            poss_deleg = list(poss_nodes.intersection(approved_by[est_id]))\n",
    "            if len(poss_deleg) <= cap_per_est[est_id] - 1:\n",
    "                to_deleg = poss_deleg\n",
    "            else:\n",
    "                to_deleg = np.random.choice(poss_deleg, cap_per_est[est_id] - 1).tolist()\n",
    "            to_deleg = to_deleg + [est_id]\n",
    "            cap_per_est[est_id] -= len(to_deleg)\n",
    "            poss_nodes = poss_nodes.difference(to_deleg)\n",
    "            self.delegation_map[est_id] = to_deleg\n",
    "            if len(poss_nodes) == 0:\n",
    "                break\n",
    "        return self\n",
    "    \n",
    "    \n",
    "    def _validate_y(self, y):\n",
    "        y = column_or_1d(y, warn=True)\n",
    "        check_classification_targets(y)\n",
    "        self.classes_, y = np.unique(y, return_inverse=True)\n",
    "        self.n_classes_ = len(self.classes_)\n",
    "        return y\n",
    "    \n",
    "    def predict(self, X):\n",
    "        \"\"\"Predict class for X.\n",
    "        The predicted class of an input sample is computed as the class with\n",
    "        the highest mean predicted probability. If base estimators do not\n",
    "        implement a ``predict_proba`` method, then it resorts to voting.\n",
    "        Parameters\n",
    "        ----------\n",
    "        X : {array-like, sparse matrix} of shape = [n_samples, n_features]\n",
    "            The training input samples. Sparse matrices are accepted only if\n",
    "            they are supported by the base estimator.\n",
    "        Returns\n",
    "        -------\n",
    "        y : array of shape = [n_samples]\n",
    "            The predicted classes.\n",
    "        \"\"\"\n",
    "        \n",
    "        return self.predict_delegate_(X)\n",
    "    \n",
    "    def predict_delegate_(self, X):\n",
    "        import collections\n",
    "        final_pred = []\n",
    "        for sample in xrange(X.shape[0]):\n",
    "            sample_pred = []\n",
    "            for est_id, delegates in self.delegation_map.items():\n",
    "                n_votes = len(delegates)\n",
    "                est_predict = self.ensemble.estimators_[est_id].predict(X[sample,:][0])[0]\n",
    "                sample_pred.extend([est_predict for i in xrange(n_votes)])\n",
    "            final_pred.append(collections.Counter(sample_pred).most_common()[0][0])\n",
    "        return np.array(final_pred)  \n",
    "\n",
    "lv = Liquid_Voter(alpha=0.2, cap=0.1, n_estimators=100)\n",
    "lv.fit(tr,y_train)\n",
    "y_test = lv.predict(tr_test)\n",
    "print(accuracy_score(y_test, pred))"
   ]
  },
  {
   "cell_type": "code",
   "execution_count": null,
   "metadata": {},
   "outputs": [
    {
     "name": "stdout",
     "output_type": "stream",
     "text": [
      "Fitting 3 folds for each of 40 candidates, totalling 120 fits\n"
     ]
    },
    {
     "name": "stderr",
     "output_type": "stream",
     "text": [
      "[Parallel(n_jobs=-1)]: Using backend LokyBackend with 4 concurrent workers.\n",
      "[Parallel(n_jobs=-1)]: Done  33 tasks      | elapsed:   49.8s\n"
     ]
    }
   ],
   "source": [
    "parameters2 = {\n",
    "    \"alpha\":np.linspace(0.05, 0.3, 10),\n",
    "    \"cap\":[0.1,0.2,0.05,0.3]\n",
    "}\n",
    "grid_search = GridSearchCV(Liquid_Voter(n_estimators=100), \n",
    "                           parameters2, \n",
    "                           n_jobs=-1, \n",
    "                           verbose=2)\n",
    "grid_search.fit(tr, y_train)\n",
    "cur_mod = grid_search.best_estimator_\n",
    "pred = cur_mod.predict(tr_test)\n",
    "\n",
    "print(accuracy_score(y_test, pred))"
   ]
  },
  {
   "cell_type": "code",
   "execution_count": 36,
   "metadata": {},
   "outputs": [
    {
     "name": "stdout",
     "output_type": "stream",
     "text": [
      "{'alpha': 0.3, 'cap': 0.1} 0.8530884808013356\n"
     ]
    }
   ],
   "source": [
    "print(grid_search.best_params_, grid_search.best_score_)"
   ]
  },
  {
   "cell_type": "code",
   "execution_count": 7,
   "metadata": {},
   "outputs": [
    {
     "name": "stderr",
     "output_type": "stream",
     "text": [
      "/home/kostas/.local/lib/python2.7/site-packages/ipykernel_launcher.py:69: DeprecationWarning: elementwise comparison failed; this will raise an error in the future.\n"
     ]
    },
    {
     "name": "stdout",
     "output_type": "stream",
     "text": [
      "(15676, 15676, 15676, 15676)\n",
      "(15676, 15676, 15676)\n",
      "500 ESTIMATORS -- 94.393\n",
      "0.8511627906976744\n"
     ]
    }
   ],
   "source": [
    "\n",
    "\n",
    "# uncommenting more parameters will give better exploring power but will\n",
    "# increase processing time in a combinatorial way\n",
    "parameters = {\n",
    "    'n_neighbors': [2,4,6,8,10],\n",
    "    'metric':['euclidean', 'manhattan', 'cosine', 'l2']\n",
    "}\n",
    "\n",
    "\n",
    "parameters2 = {\n",
    "    'clf__max_features': [50, 0.2, 0.3, 0.4,0.8, 'auto', 'log2'],\n",
    "    'clf__bootstrap_feats': [True, False],\n",
    "    'clf__n_estimators': [100,250,500],\n",
    "    'clf__feat_importance':[mi, []]\n",
    "}\n",
    "\n",
    "# Define a pipeline combining a text feature extractor with a simple\n",
    "# classifier\n",
    "pipeline = Pipeline([\n",
    "    ('vect', CountVectorizer()),\n",
    "    ('tfidf', TfidfTransformer()),\n",
    "    ('clf', Knn_Forest(n_estimators=500, \n",
    "                       max_features=0.2, \n",
    "                       bootstrap_feats=False,\n",
    "                       optim=False, \n",
    "                       parameters=parameters,\n",
    "                       feat_importance=mi\n",
    "                       )),\n",
    "])\n",
    "\n",
    "pipeline.fit(X_train, y_train)\n",
    "pred = pipeline.predict(X_test)\n",
    "\n",
    "# grid_search = GridSearchCV(pipeline, parameters2, n_jobs=1, verbose=2)\n",
    "# grid_search.fit(X_train, y_train)\n",
    "# cur_mod = grid_search.best_estimator_\n",
    "# pred = cur_mod.predict(X_test)\n",
    "\n",
    "print(accuracy_score(y_test, pred))"
   ]
  },
  {
   "cell_type": "code",
   "execution_count": 128,
   "metadata": {},
   "outputs": [
    {
     "data": {
      "text/plain": [
       "(15285,)"
      ]
     },
     "execution_count": 128,
     "metadata": {},
     "output_type": "execute_result"
    }
   ],
   "source": [
    "np.array(mi).shape"
   ]
  },
  {
   "cell_type": "code",
   "execution_count": 107,
   "metadata": {},
   "outputs": [
    {
     "name": "stdout",
     "output_type": "stream",
     "text": [
      "[3.66458532e-05 1.17863765e-04 2.08337729e-05 ... 7.93856492e-06\n",
      " 1.04044869e-05 1.04044869e-05]\n"
     ]
    },
    {
     "name": "stderr",
     "output_type": "stream",
     "text": [
      "/home/kostas/.local/lib/python2.7/site-packages/ipykernel_launcher.py:1: DeprecationWarning: elementwise comparison failed; this will raise an error in the future.\n",
      "  \"\"\"Entry point for launching an IPython kernel.\n"
     ]
    }
   ],
   "source": [
    "if mi == []:\n",
    "    feat_probas = [1/float(15285) for i in xrange(15285)]\n",
    "else:\n",
    "    feat_probas = mi/float(sum(mi))\n",
    "print(feat_probas)"
   ]
  },
  {
   "cell_type": "code",
   "execution_count": 89,
   "metadata": {},
   "outputs": [
    {
     "data": {
      "text/plain": [
       "array([0.00434618, 0.01397857, 0.00247087, ..., 0.00094151, 0.00123397,\n",
       "       0.00123397])"
      ]
     },
     "execution_count": 89,
     "metadata": {},
     "output_type": "execute_result"
    }
   ],
   "source": [
    "from sklearn.feature_selection import mutual_info_classif\n",
    "from sklearn.feature_extraction.text import TfidfVectorizer\n",
    "tr = TfidfVectorizer().fit_transform(X_train, y_train)\n",
    "mi = mutual_info_classif(tr, y_train)"
   ]
  },
  {
   "cell_type": "code",
   "execution_count": null,
   "metadata": {},
   "outputs": [],
   "source": []
  }
 ],
 "metadata": {
  "kernelspec": {
   "display_name": "Python 2",
   "language": "python",
   "name": "python2"
  },
  "language_info": {
   "codemirror_mode": {
    "name": "ipython",
    "version": 2
   },
   "file_extension": ".py",
   "mimetype": "text/x-python",
   "name": "python",
   "nbconvert_exporter": "python",
   "pygments_lexer": "ipython2",
   "version": "2.7.15rc1"
  }
 },
 "nbformat": 4,
 "nbformat_minor": 2
}
