{
 "cells": [
  {
   "cell_type": "markdown",
   "metadata": {},
   "source": [
    "# Coin-changing (Knapsack problem) solved as an integer programming problem\n",
    "\n",
    "In this scenario of the problem we assume the following:\n",
    "We are given a fixed amount of cash (CASH) to change into coins of specific denominations (w). We need to return the least amount of coins possible. Also we are asked to keep track of the coins to be returned.\n",
    "\n",
    "Python 3 is used. Also, the cvxopt package is build with GPLK support for the solver.\n",
    "Check out [the docs on how to do so](https://www.cvxpy.org/install/index.html)"
   ]
  },
  {
   "cell_type": "code",
   "execution_count": 3,
   "metadata": {},
   "outputs": [
    {
     "name": "stdout",
     "output_type": "stream",
     "text": [
      "Initial cash 2.0  is changed into 1 coins as follows:\n",
      "{2.0: 1.0, 5.0: 0.0, 10.0: 0.0}\n"
     ]
    }
   ],
   "source": [
    "import cvxpy as cp\n",
    "# The available coin denominations e.g. a 2-dollar bill, a 5-dollar bill and a 10-dollar bill.\n",
    "w = cp.Constant([2,5,10])\n",
    "\n",
    "# The initial cash to be changed\n",
    "CASH = cp.Constant(2)\n",
    "\n",
    "# Variables containing the number of the coins to be returned for each denominator\n",
    "# The size of this must be equal to the denominatios w\n",
    "x = cp.Variable((1, w.shape[0]), integer=True)\n",
    "\n",
    "# We want to minimize the total number of coins returned\n",
    "objective = cp.Minimize(cp.sum(x))\n",
    "\n",
    "\n",
    "\n",
    "# The constraints\n",
    "constraints = [\n",
    "    w@x.T == CASH, # \n",
    "    x>=0 # semi-positive coins\n",
    "]\n",
    "# Form and solve problem.\n",
    "prob = cp.Problem(objective, constraints)\n",
    "# Need the GLPK_MI solver because the ECOS_BB is not working correctly.\n",
    "prob.solve(solver = 'GLPK_MI') # Returns the optimal value.\n",
    "if prob.status == 'infeasible':\n",
    "    print(\"Can't change %s with denominations: %s\"%(CASH.__str__(), w.__str__()))\n",
    "else:\n",
    "    print(\"Initial cash %s  is changed into %d coins as follows:\"%(CASH.__str__(), prob.value))\n",
    "    print(dict(zip([w_ for w_ in w.value], x.value.flatten())))"
   ]
  }
 ],
 "metadata": {
  "kernelspec": {
   "display_name": "Python 3",
   "language": "python",
   "name": "python3"
  },
  "language_info": {
   "codemirror_mode": {
    "name": "ipython",
    "version": 3
   },
   "file_extension": ".py",
   "mimetype": "text/x-python",
   "name": "python",
   "nbconvert_exporter": "python",
   "pygments_lexer": "ipython3",
   "version": "3.6.7"
  }
 },
 "nbformat": 4,
 "nbformat_minor": 2
}
