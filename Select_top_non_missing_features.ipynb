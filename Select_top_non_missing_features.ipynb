{
 "cells": [
  {
   "cell_type": "markdown",
   "metadata": {},
   "source": [
    "## Sparsity feature selector\n",
    "\n",
    "- We select the top-k features for a given dataset X (N_samples x N_feats). X is expected to be binary. X[i,j] = 1 denotes that the feature j for sample i is not missing while X[i,j] = 0 denotes a missing feature.\n",
    "- The resulting subset of features will have all th"
   ]
  },
  {
   "cell_type": "code",
   "execution_count": null,
   "metadata": {},
   "outputs": [],
   "source": []
  },
  {
   "cell_type": "code",
   "execution_count": 226,
   "metadata": {},
   "outputs": [
    {
     "name": "stdout",
     "output_type": "stream",
     "text": [
      "Sparsity of features:\n",
      "[50.4 51.7 50.3 53.2 50.7 51.2 51.5 52.7 50.  51.8 50.4 49.4 47.2 50.6\n",
      " 49.1 51.6 49.7 50.9 48.7 49.4 48.2 48.3 50.4 51.5 52.6 52.9 50.7 50.2\n",
      " 50.6 51.4 51.4 49.4 52.5 49.3 47.3 48.6 52.9 52.4 51.9 49.6 52.1 50.7\n",
      " 48.9 48.6 50.6 49.3 50.2 50.2 51.9 48.8 52.4 50.9 51.1 50.2 49.7 49.\n",
      " 51.8 50.4 49.2 50.5]\n",
      "Best result with keeping: 272 / 1000 (27.20 %)\n",
      "Best feature indices: [0. 0. 0. 0. 0. 0. 0. 0. 0. 0. 0. 0. 1. 0. 0. 0. 0. 0. 0. 0. 0. 0. 0. 0.\n",
      " 0. 0. 0. 0. 0. 0. 0. 0. 0. 0. 1. 0. 0. 0. 0. 0. 0. 0. 0. 0. 0. 0. 0. 0.\n",
      " 0. 0. 0. 0. 0. 0. 0. 0. 0. 0. 0. 0.]\n",
      "Keeping: (272, 2)\n"
     ]
    },
    {
     "name": "stderr",
     "output_type": "stream",
     "text": [
      "/home/kbogas/anaconda3/lib/python3.7/site-packages/cvxpy/interface/numpy_interface/ndarray_interface.py:47: DeprecationWarning: `np.complex` is a deprecated alias for the builtin `complex`. To silence this warning, use `complex` by itself. Doing this will not modify any behavior and is safe. If you specifically wanted the numpy scalar type, use `np.complex128` here.\n",
      "Deprecated in NumPy 1.20; for more details and guidance: https://numpy.org/devdocs/release/1.20.0-notes.html#deprecations\n",
      "  if result.dtype in [numpy.complex, numpy.float64]:\n"
     ]
    }
   ],
   "source": [
    "import cvxpy as cp\n",
    "import numpy as np\n",
    "\n",
    "# N_samples X N_features matrix with binary values denoting whether the feature exists\n",
    "X = np.random.randint(2, size=(1000, 60))\n",
    "#X = np.vstack((np.ones((1000,60)), np.hstack((np.zeros((1000,30)), np.ones((1000,30)))), np.random.randint(2, size=(1000,60))))\n",
    "\n",
    "print(f'Sparsity of features:\\n{100 * (1 - (X.sum(axis=0) / len(X)))}')\n",
    "N_samples = X.shape[0]\n",
    "N_features = X.shape[1]\n",
    "\n",
    "k = cp.Constant(2)\n",
    "\n",
    "# # The costs for each feature\n",
    "w = cp.Constant(X)\n",
    "# Variables containing the number of the coins to be returned for each denominator\n",
    "# The size of this must be equal to the denominations w\n",
    "x = cp.Variable((1, N_features), boolean=True)\n",
    "\n",
    "# We want to minimize the total number of coins returned\n",
    "objective = cp.Minimize(cp.sum(k - w @ x.T))\n",
    "\n",
    "\n",
    "\n",
    "# The constraints\n",
    "constraints = [\n",
    "    cp.sum(x) == k,\n",
    "    x>=0 # semi-positive coins\n",
    "]\n",
    "# Form and solve problem.\n",
    "prob = cp.Problem(objective, constraints)\n",
    "# Need the GLPK_MI solver because the ECOS_BB is not working correctly.\n",
    "prob.solve(solver = 'GLPK_MI') # Returns the optimal value.\n",
    "if prob.status == 'infeasible':\n",
    "    print(\"Can't change %s with denominations: %s\"%(CASH.__str__(), w.__str__()))\n",
    "else:\n",
    "    #return\n",
    "    res = x.value.flatten()\n",
    "    keeping = np.sum(X[:, res.astype(bool)].sum(axis=1)==k.value)\n",
    "    print(f\"Best result with keeping: {int(keeping)} / {N_samples} ({100 * (int(keeping)) / N_samples:.2f} %)\")\n",
    "    print(f\"Best feature indices: {res}\")\n",
    "#  Keeping only the selected features\n",
    "subset = X[:, res.astype(bool)]\n",
    "# Dropping non-zero rows\n",
    "subset = subset[np.all(subset, axis=1)]\n",
    "print(f'Keeping: {subset.shape}')"
   ]
  },
  {
   "cell_type": "code",
   "execution_count": 194,
   "metadata": {},
   "outputs": [],
   "source": [
    "def find_best_feats(X, top_k, print_=False):\n",
    "    if print_:\n",
    "        print(f'Sparsity of features:\\n{100 * (1 - (X.sum(axis=0) / len(X)))}')\n",
    "    N_samples = X.shape[0]\n",
    "    N_features = X.shape[1]\n",
    "\n",
    "    k = cp.Constant(top_k)\n",
    "\n",
    "    # # The costs for each feature\n",
    "    w = cp.Constant(X)\n",
    "    # Variables containing the number of the coins to be returned for each denominator\n",
    "    # The size of this must be equal to the denominations w\n",
    "    x = cp.Variable((1, N_features), boolean=True)\n",
    "\n",
    "    # We want to minimize the total number of coins returned\n",
    "    objective = cp.Minimize(cp.sum(k - w @ x.T))\n",
    "\n",
    "\n",
    "\n",
    "    # The constraints\n",
    "    constraints = [\n",
    "        cp.sum(x) == k,\n",
    "        x>=0 # semi-positive coins\n",
    "    ]\n",
    "    # Form and solve problem.\n",
    "    prob = cp.Problem(objective, constraints)\n",
    "    # Need the GLPK_MI solver because the ECOS_BB is not working correctly.\n",
    "    prob.solve(solver = 'GLPK_MI') # Returns the optimal value.\n",
    "    if prob.status == 'infeasible':\n",
    "        print(\"Can't change %s with denominations: %s\"%(CASH.__str__(), w.__str__()))\n",
    "        raise Error\n",
    "        return []\n",
    "    else:\n",
    "        #return\n",
    "        res = x.value.flatten()\n",
    "        keeping = np.sum(X[:, res.astype(bool)].sum(axis=1)==k.value)\n",
    "        if print_:\n",
    "            print(f\"Best result with keeping: {int(keeping)} / {N_samples} ({100 * (int(keeping)) / N_samples:.2f} %)\")\n",
    "            print(f\"Best feature indices: {res}\")\n",
    "        return res"
   ]
  },
  {
   "cell_type": "code",
   "execution_count": 219,
   "metadata": {},
   "outputs": [
    {
     "name": "stderr",
     "output_type": "stream",
     "text": [
      "/home/kbogas/anaconda3/lib/python3.7/site-packages/cvxpy/interface/numpy_interface/ndarray_interface.py:47: DeprecationWarning: `np.complex` is a deprecated alias for the builtin `complex`. To silence this warning, use `complex` by itself. Doing this will not modify any behavior and is safe. If you specifically wanted the numpy scalar type, use `np.complex128` here.\n",
      "Deprecated in NumPy 1.20; for more details and guidance: https://numpy.org/devdocs/release/1.20.0-notes.html#deprecations\n",
      "  if result.dtype in [numpy.complex, numpy.float64]:\n"
     ]
    },
    {
     "name": "stdout",
     "output_type": "stream",
     "text": [
      "# features 1 | Result: 532 / 1000 (53.20 %)\n",
      "X shape: (532, 1)\n",
      "# features 2 | Result: 283 / 1000 (28.30 %)\n",
      "X shape: (283, 2)\n",
      "# features 3 | Result: 129 / 1000 (12.90 %)\n",
      "X shape: (129, 3)\n",
      "# features 4 | Result: 69 / 1000 (6.90 %)\n",
      "X shape: (69, 4)\n",
      "# features 5 | Result: 31 / 1000 (3.10 %)\n",
      "X shape: (31, 5)\n",
      "# features 6 | Result: 16 / 1000 (1.60 %)\n",
      "X shape: (16, 6)\n",
      "# features 7 | Result: 4 / 1000 (0.40 %)\n",
      "X shape: (4, 7)\n",
      "# features 8 | Result: 2 / 1000 (0.20 %)\n",
      "X shape: (2, 8)\n",
      "# features 9 | Result: 0 / 1000 (0.00 %)\n",
      "X shape: (0, 9)\n",
      "# features 10 | Result: 0 / 1000 (0.00 %)\n",
      "X shape: (0, 10)\n",
      "# features 11 | Result: 0 / 1000 (0.00 %)\n",
      "X shape: (0, 11)\n",
      "# features 12 | Result: 0 / 1000 (0.00 %)\n",
      "X shape: (0, 12)\n",
      "# features 13 | Result: 0 / 1000 (0.00 %)\n",
      "X shape: (0, 13)\n",
      "# features 14 | Result: 0 / 1000 (0.00 %)\n",
      "X shape: (0, 14)\n",
      "# features 15 | Result: 0 / 1000 (0.00 %)\n",
      "X shape: (0, 15)\n",
      "# features 16 | Result: 0 / 1000 (0.00 %)\n",
      "X shape: (0, 16)\n",
      "# features 17 | Result: 0 / 1000 (0.00 %)\n",
      "X shape: (0, 17)\n",
      "# features 18 | Result: 0 / 1000 (0.00 %)\n",
      "X shape: (0, 18)\n",
      "# features 19 | Result: 0 / 1000 (0.00 %)\n",
      "X shape: (0, 19)\n",
      "# features 20 | Result: 0 / 1000 (0.00 %)\n",
      "X shape: (0, 20)\n",
      "# features 21 | Result: 0 / 1000 (0.00 %)\n",
      "X shape: (0, 21)\n",
      "# features 22 | Result: 0 / 1000 (0.00 %)\n",
      "X shape: (0, 22)\n",
      "# features 23 | Result: 0 / 1000 (0.00 %)\n",
      "X shape: (0, 23)\n",
      "# features 24 | Result: 0 / 1000 (0.00 %)\n",
      "X shape: (0, 24)\n",
      "# features 25 | Result: 0 / 1000 (0.00 %)\n",
      "X shape: (0, 25)\n",
      "# features 26 | Result: 0 / 1000 (0.00 %)\n",
      "X shape: (0, 26)\n",
      "# features 27 | Result: 0 / 1000 (0.00 %)\n",
      "X shape: (0, 27)\n",
      "# features 28 | Result: 0 / 1000 (0.00 %)\n",
      "X shape: (0, 28)\n",
      "# features 29 | Result: 0 / 1000 (0.00 %)\n",
      "X shape: (0, 29)\n",
      "# features 30 | Result: 0 / 1000 (0.00 %)\n",
      "X shape: (0, 30)\n",
      "# features 31 | Result: 0 / 1000 (0.00 %)\n",
      "X shape: (0, 31)\n",
      "# features 32 | Result: 0 / 1000 (0.00 %)\n",
      "X shape: (0, 32)\n",
      "# features 33 | Result: 0 / 1000 (0.00 %)\n",
      "X shape: (0, 33)\n",
      "# features 34 | Result: 0 / 1000 (0.00 %)\n",
      "X shape: (0, 34)\n",
      "# features 35 | Result: 0 / 1000 (0.00 %)\n",
      "X shape: (0, 35)\n",
      "# features 36 | Result: 0 / 1000 (0.00 %)\n",
      "X shape: (0, 36)\n",
      "# features 37 | Result: 0 / 1000 (0.00 %)\n",
      "X shape: (0, 37)\n",
      "# features 38 | Result: 0 / 1000 (0.00 %)\n",
      "X shape: (0, 38)\n",
      "# features 39 | Result: 0 / 1000 (0.00 %)\n",
      "X shape: (0, 39)\n",
      "# features 40 | Result: 0 / 1000 (0.00 %)\n",
      "X shape: (0, 40)\n",
      "# features 41 | Result: 0 / 1000 (0.00 %)\n",
      "X shape: (0, 41)\n",
      "# features 42 | Result: 0 / 1000 (0.00 %)\n",
      "X shape: (0, 42)\n",
      "# features 43 | Result: 0 / 1000 (0.00 %)\n",
      "X shape: (0, 43)\n",
      "# features 44 | Result: 0 / 1000 (0.00 %)\n",
      "X shape: (0, 44)\n",
      "# features 45 | Result: 0 / 1000 (0.00 %)\n",
      "X shape: (0, 45)\n",
      "# features 46 | Result: 0 / 1000 (0.00 %)\n",
      "X shape: (0, 46)\n",
      "# features 47 | Result: 0 / 1000 (0.00 %)\n",
      "X shape: (0, 47)\n",
      "# features 48 | Result: 0 / 1000 (0.00 %)\n",
      "X shape: (0, 48)\n",
      "# features 49 | Result: 0 / 1000 (0.00 %)\n",
      "X shape: (0, 49)\n",
      "# features 50 | Result: 0 / 1000 (0.00 %)\n",
      "X shape: (0, 50)\n",
      "# features 51 | Result: 0 / 1000 (0.00 %)\n",
      "X shape: (0, 51)\n",
      "# features 52 | Result: 0 / 1000 (0.00 %)\n",
      "X shape: (0, 52)\n",
      "# features 53 | Result: 0 / 1000 (0.00 %)\n",
      "X shape: (0, 53)\n",
      "# features 54 | Result: 0 / 1000 (0.00 %)\n",
      "X shape: (0, 54)\n",
      "# features 55 | Result: 0 / 1000 (0.00 %)\n",
      "X shape: (0, 55)\n",
      "# features 56 | Result: 0 / 1000 (0.00 %)\n",
      "X shape: (0, 56)\n",
      "# features 57 | Result: 0 / 1000 (0.00 %)\n",
      "X shape: (0, 57)\n",
      "# features 58 | Result: 0 / 1000 (0.00 %)\n",
      "X shape: (0, 58)\n",
      "# features 59 | Result: 0 / 1000 (0.00 %)\n",
      "X shape: (0, 59)\n"
     ]
    }
   ],
   "source": [
    "X = np.random.randint(2, size=(1000, 60))\n",
    "perc = []\n",
    "for k in range(1, X.shape[1]):\n",
    "    res = find_best_feats(X, k)\n",
    "    subset = X[:, res.astype(bool)]\n",
    "    keeping = np.sum(subset.sum(axis=1)==k)\n",
    "    print(f\"# features {k} | Result: {int(keeping)} / {N_samples} ({100 * (int(keeping)) / N_samples:.2f} %)\")\n",
    "    print(f'X shape: {subset[np.all(subset, axis=1)].shape}')\n",
    "    perc.append(int(keeping) / N_samples)\n",
    "    #break\n",
    "    "
   ]
  },
  {
   "cell_type": "code",
   "execution_count": 215,
   "metadata": {},
   "outputs": [
    {
     "data": {
      "text/plain": [
       "array([], shape=(0, 60), dtype=int64)"
      ]
     },
     "execution_count": 215,
     "metadata": {},
     "output_type": "execute_result"
    }
   ],
   "source": []
  },
  {
   "cell_type": "code",
   "execution_count": 136,
   "metadata": {},
   "outputs": [
    {
     "data": {
      "text/plain": [
       "255"
      ]
     },
     "execution_count": 136,
     "metadata": {},
     "output_type": "execute_result"
    }
   ],
   "source": []
  },
  {
   "cell_type": "code",
   "execution_count": 80,
   "metadata": {},
   "outputs": [
    {
     "data": {
      "text/plain": [
       "241"
      ]
     },
     "execution_count": 80,
     "metadata": {},
     "output_type": "execute_result"
    }
   ],
   "source": [
    "N_samples - np.count_nonzero((X @ x.T).reshape(-1,) - k)"
   ]
  },
  {
   "cell_type": "code",
   "execution_count": 96,
   "metadata": {},
   "outputs": [
    {
     "data": {
      "text/plain": [
       "(1000, 1)"
      ]
     },
     "execution_count": 96,
     "metadata": {},
     "output_type": "execute_result"
    }
   ],
   "source": [
    "np.dot(X, x.T).shape"
   ]
  },
  {
   "cell_type": "code",
   "execution_count": 55,
   "metadata": {},
   "outputs": [
    {
     "data": {
      "text/plain": [
       "785"
      ]
     },
     "execution_count": 55,
     "metadata": {},
     "output_type": "execute_result"
    }
   ],
   "source": [
    "np.count_nonzero((X @ np.array([1, 0, 0, 0, 0, 0, 0, 0, 0, 0, 0, 0, 0, 0, 0, 0, 0, 0, 0, 1]).reshape(1,-1).T - k))"
   ]
  },
  {
   "cell_type": "code",
   "execution_count": 141,
   "metadata": {},
   "outputs": [
    {
     "data": {
      "text/plain": [
       "array([[1, 0, 1, ..., 1, 0, 1],\n",
       "       [0, 1, 0, ..., 1, 0, 0],\n",
       "       [1, 1, 1, ..., 0, 0, 0],\n",
       "       ...,\n",
       "       [0, 1, 1, ..., 0, 0, 1],\n",
       "       [1, 1, 1, ..., 0, 0, 0],\n",
       "       [0, 0, 1, ..., 1, 0, 0]])"
      ]
     },
     "execution_count": 141,
     "metadata": {},
     "output_type": "execute_result"
    }
   ],
   "source": [
    "X[:, x.value.flatten().astype(bool)]"
   ]
  },
  {
   "cell_type": "code",
   "execution_count": null,
   "metadata": {},
   "outputs": [],
   "source": [
    "lambda_ = 0.5\n",
    "\n",
    "def l\n",
    "cp.sum(x) * lambda_ + lambda_*loss()"
   ]
  }
 ],
 "metadata": {
  "kernelspec": {
   "display_name": "Python 3",
   "language": "python",
   "name": "python3"
  },
  "language_info": {
   "codemirror_mode": {
    "name": "ipython",
    "version": 3
   },
   "file_extension": ".py",
   "mimetype": "text/x-python",
   "name": "python",
   "nbconvert_exporter": "python",
   "pygments_lexer": "ipython3",
   "version": "3.7.3"
  }
 },
 "nbformat": 4,
 "nbformat_minor": 2
}
