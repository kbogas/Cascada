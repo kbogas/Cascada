{
 "cells": [
  {
   "cell_type": "code",
   "execution_count": null,
   "metadata": {},
   "outputs": [],
   "source": [
    "from sklearn.metrics import accuracy_score\n",
    "import numpy as np\n",
    "from sklearn.ensemble import RandomForestClassifier\n",
    "import tqdm\n",
    "import matplotlib.pyplot as plt\n",
    "%matplotlib inline\n",
    "plt.rcParams['figure.facecolor'] = 'grey'\n",
    "\n",
    "\n",
    "X = X_C\n",
    "y = y\n",
    "features = df2.columns.values.tolist()\n",
    "\n",
    "random_seed = 42\n",
    "cv_rounds = 10\n",
    "rf = RandomForestClassifier(n_estimators=200, n_jobs=-1, random_state=random_seed)\n",
    "\n",
    "cv_folds = StratifiedKFold(n_splits=cv_rounds, shuffle=True, random_state=random_seed)\n",
    "\n",
    "\n",
    "scores = {}\n",
    "for feat in features:\n",
    "    scores[feat] = []\n",
    "d = 0\n",
    "for train_idx, test_idx in cv_folds.split(X,y):\n",
    "    d += 1\n",
    "    print \"Round %d\" % d\n",
    "    X_train, X_test = X[train_idx], X[test_idx]\n",
    "    Y_train, Y_test = y[train_idx], y[test_idx]\n",
    "    r = rf.fit(X_train, Y_train)\n",
    "    acc = accuracy_score(Y_test, rf.predict(X_test))\n",
    "    for i in tqdm.tqdm_notebook(range(X.shape[1])):\n",
    "        X_t = X_test.copy()\n",
    "        np.random.shuffle(X_t[:, i])\n",
    "        shuff_acc = accuracy_score(Y_test, rf.predict(X_t))\n",
    "        scores[features[i]].append((acc-shuff_acc)/acc)\n",
    "\n",
    "mda_features = df.columns.values.tolist()\n",
    "mda_importance = [(np.mean(score)) for score in scores.values()]\n",
    "mda_indices = np.argsort(mda_importance)\n",
    "\n",
    "plt.title('Feature Importances')\n",
    "plt.barh(range(len(mda_indices)), [mda_importance[i] for i in mda_indices], color='#8f63f4', align='center')\n",
    "plt.yticks(range(len(mda_indices)), [mda_features[i] for i in mda_indices])\n",
    "plt.xlabel('Mean decrease accuracy')\n",
    "plt.show()"
   ]
  }
 ],
 "metadata": {
  "kernelspec": {
   "display_name": "Python [conda env:root] *",
   "language": "python",
   "name": "conda-root-py"
  },
  "language_info": {
   "codemirror_mode": {
    "name": "ipython",
    "version": 3
   },
   "file_extension": ".py",
   "mimetype": "text/x-python",
   "name": "python",
   "nbconvert_exporter": "python",
   "pygments_lexer": "ipython3",
   "version": "3.7.3"
  }
 },
 "nbformat": 4,
 "nbformat_minor": 2
}
