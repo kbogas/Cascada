{
 "cells": [
  {
   "cell_type": "markdown",
   "metadata": {},
   "source": [
    "##### Example use of the hyperopt to see the sensitivy of an algorith with respect ot their hyperparameters\n",
    "Here the use-case is a RandomForest algo and see the importance of different hyperaparameters based on the accuracy on the train and test set.\n",
    "Simple train/test split has been performed."
   ]
  },
  {
   "cell_type": "code",
   "execution_count": 1,
   "metadata": {},
   "outputs": [
    {
     "name": "stdout",
     "output_type": "stream",
     "text": [
      "Automatically created module for IPython interactive environment\n",
      "Loading 20 newsgroups dataset for categories:\n",
      "['alt.atheism', 'talk.religion.misc']\n",
      "857 documents\n",
      "2 categories\n",
      "\n"
     ]
    }
   ],
   "source": [
    "from __future__ import print_function\n",
    "\n",
    "from pprint import pprint\n",
    "from time import time\n",
    "import logging\n",
    "from sklearn.datasets import fetch_20newsgroups\n",
    "from sklearn.feature_extraction.text import CountVectorizer\n",
    "from sklearn.feature_extraction.text import TfidfTransformer\n",
    "from sklearn.linear_model import SGDClassifier\n",
    "from sklearn.model_selection import GridSearchCV\n",
    "from sklearn.pipeline import Pipeline\n",
    "from sklearn.metrics import classification_report, confusion_matrix\n",
    "\n",
    "print(__doc__)\n",
    "\n",
    "# Display progress logs on stdout\n",
    "logging.basicConfig(level=logging.INFO,\n",
    "                    format='%(asctime)s %(levelname)s %(message)s')\n",
    "\n",
    "\n",
    "# #############################################################################\n",
    "# Load some categories from the training set\n",
    "categories = [\n",
    "    'alt.atheism',\n",
    "    'talk.religion.misc',\n",
    "]\n",
    "# Uncomment the following to do the analysis on all the categories\n",
    "#categories = None\n",
    "\n",
    "print(\"Loading 20 newsgroups dataset for categories:\")\n",
    "print(categories)\n",
    "\n",
    "data = fetch_20newsgroups(subset='train', categories=categories)\n",
    "print(\"%d documents\" % len(data.filenames))\n",
    "print(\"%d categories\" % len(data.target_names))\n",
    "print()\n",
    "\n",
    "#############################################################################\n",
    "# Define a pipeline combining a text feature extractor with a simple\n",
    "# classifier\n",
    "pipeline = Pipeline([\n",
    "    ('vect', CountVectorizer()),\n",
    "    ('tfidf', TfidfTransformer()),\n",
    "    ('clf', SGDClassifier()),\n",
    "])\n",
    "\n",
    "# uncommenting more parameters will give better exploring power but will\n",
    "# increase processing time in a combinatorial way\n",
    "parameters = {\n",
    "    'clf__alpha': (0.00001, 0.000001),\n",
    "    'clf__penalty': ('l2', 'elasticnet'),\n",
    "    'clf__max_iter': (10, 50, 80, 150),\n",
    "}\n",
    "\n",
    "X = data.data\n",
    "y = data.target\n",
    "\n",
    "if __name__ == \"__main__\":\n",
    "    # multiprocessing requires the fork to happen in a __main__ protected\n",
    "    # block\n",
    "\n",
    "    # find the best parameters for both the feature extraction and the\n",
    "    # classifier\n",
    "    grid_search = GridSearchCV(pipeline, parameters, n_jobs=-1, verbose=1)\n",
    "\n",
    "#     print(\"Performing grid search...\")\n",
    "#     print(\"pipeline:\", [name for name, _ in pipeline.steps])\n",
    "#     print(\"parameters:\")\n",
    "#     pprint(parameters)\n",
    "#     t0 = time()\n",
    "#     # grid_search.fit(data.data, data.target)\n",
    "#     grid_search.fit(X, y)\n",
    "#     print(\"done in %0.3fs\" % (time() - t0))\n",
    "#     print()\n",
    "\n",
    "#     print(\"Best score: %0.3f\" % grid_search.best_score_)\n",
    "#     print(\"Best parameters set:\")\n",
    "#     best_parameters = grid_search.best_estimator_.get_params()\n",
    "#     for param_name in sorted(parameters.keys()):\n",
    "#         print(\"\\t%s: %r\" % (param_name, best_parameters[param_name]))"
   ]
  },
  {
   "cell_type": "code",
   "execution_count": 2,
   "metadata": {},
   "outputs": [
    {
     "name": "stdout",
     "output_type": "stream",
     "text": [
      "Fitting 3 folds for each of 16 candidates, totalling 48 fits\n"
     ]
    },
    {
     "name": "stderr",
     "output_type": "stream",
     "text": [
      "/home/kostas/.local/lib/python2.7/site-packages/sklearn/model_selection/_split.py:2053: FutureWarning: You should specify a value for 'cv' instead of relying on the default value. The default value will change from 3 to 5 in version 0.22.\n",
      "  warnings.warn(CV_WARNING, FutureWarning)\n",
      "[Parallel(n_jobs=-1)]: Using backend LokyBackend with 4 concurrent workers.\n",
      "[Parallel(n_jobs=-1)]: Done  48 out of  48 | elapsed:    6.2s finished\n",
      "/home/kostas/.local/lib/python2.7/site-packages/sklearn/linear_model/stochastic_gradient.py:183: FutureWarning: max_iter and tol parameters have been added in SGDClassifier in 0.19. If max_iter is set but tol is left unset, the default value for tol in 0.19 and 0.20 will be None (which is equivalent to -infinity, so it has no effect) but will change in 0.21 to 1e-3. Specify tol to silence this warning.\n",
      "  FutureWarning)\n"
     ]
    },
    {
     "name": "stdout",
     "output_type": "stream",
     "text": [
      "0.9418604651162791\n"
     ]
    }
   ],
   "source": [
    "from sklearn.model_selection import train_test_split\n",
    "from sklearn.metrics import accuracy_score\n",
    "X_train, X_test, y_train, y_test= train_test_split(X, y, random_state=42, test_size=0.3)\n",
    "# X_valid, X_test, y_valid, y_test= train_test_split(X_test, y_test, \n",
    "#                                                    random_state=42, test_size=0.5)\n",
    "grid_search.fit(X_train, y_train)\n",
    "cur_mod = grid_search.best_estimator_\n",
    "pred = cur_mod.predict(X_test)\n",
    "print(accuracy_score(y_test, pred))"
   ]
  },
  {
   "cell_type": "code",
   "execution_count": 3,
   "metadata": {},
   "outputs": [
    {
     "name": "stdout",
     "output_type": "stream",
     "text": [
      "15443 15443\n"
     ]
    }
   ],
   "source": [
    "from sklearn.feature_selection import mutual_info_classif\n",
    "from sklearn.feature_extraction.text import TfidfVectorizer\n",
    "\n",
    "pip = Pipeline([\n",
    "    ('vect', CountVectorizer()),\n",
    "    ('tfidf', TfidfTransformer())])\n",
    "\n",
    "tr = pip.fit_transform(X_train, y_train)\n",
    "mi = mutual_info_classif(tr, y_train)\n",
    "print(len(mi),tr.shape[1])\n",
    "mi = mi/sum(mi)\n",
    "#tr_valid = pip.transform(X_valid)\n",
    "tr_test = pip.transform(X_test)"
   ]
  },
  {
   "cell_type": "code",
   "execution_count": 4,
   "metadata": {},
   "outputs": [
    {
     "name": "stdout",
     "output_type": "stream",
     "text": [
      "0.8643410852713178\n"
     ]
    }
   ],
   "source": [
    "from sklearn.base import BaseEstimator, ClassifierMixin, clone\n",
    "from sklearn.utils import check_X_y, check_random_state, check_array\n",
    "from sklearn.metrics import get_scorer\n",
    "from sklearn.utils.validation import column_or_1d, check_is_fitted\n",
    "from sklearn.multiclass import check_classification_targets\n",
    "from sklearn.utils.metaestimators import if_delegate_has_method\n",
    "from sklearn.neighbors import KNeighborsClassifier\n",
    "from sklearn.tree import DecisionTreeClassifier\n",
    "from sklearn.preprocessing import MinMaxScaler\n",
    "from sklearn.feature_selection import mutual_info_classif\n",
    "import numpy as np\n",
    "from sklearn.ensemble import RandomForestClassifier\n",
    "\n",
    "\n",
    "class Liquid_Voter2(BaseEstimator, ClassifierMixin):\n",
    "    \"\"\"\n",
    "    Liquid Voter delegation mechanism. It builds a standard random forest but\n",
    "    votes according to the liquid voting mechanism of action. Currently, the competence\n",
    "    is expressed through the accuracy of the trees based on a validation split on the \n",
    "    train set. The alpha and cap parameters essentially control a) how much better does\n",
    "    one model to be with regards to another so as to become it's delegate and b) the maximum\n",
    "    capacity of votes one delegate can carry.\n",
    "    \"\"\"\n",
    "    def __init__(self, \n",
    "                 ensemble=RandomForestClassifier(), \n",
    "                 n_estimators=100,  \n",
    "                 random_state=42,\n",
    "                min_samples_leaf=2,\n",
    "                 #competence = 'valid_acc',\n",
    "                 valid_size = 0.1,\n",
    "                 alpha = 0.2,\n",
    "                 cap = 0.2,\n",
    "                 metric='accuracy'):  \n",
    "        self.n_estimators = n_estimators\n",
    "        self.random_state = check_random_state(random_state)\n",
    "        self.min_samples_leaf = min_samples_leaf\n",
    "        self.ensemble = ensemble.set_params(**{'random_state':self.random_state,\n",
    "                                            'n_estimators':self.n_estimators,\n",
    "                                              'min_samples_leaf':self.min_samples_leaf})\n",
    "        self.alpha = alpha\n",
    "        self.cap = cap\n",
    "        self.scoring = get_scorer(metric)\n",
    "        #self.competence = competence\n",
    "        self.valid_size = valid_size\n",
    "        self.delegation_map = {}\n",
    "        self.competence = []\n",
    "    \n",
    "    def fit(self, X, y):\n",
    "        return self._fit(X, y)\n",
    "    \n",
    "    def _validate_y(self, y):\n",
    "        y = column_or_1d(y, warn=True)\n",
    "        check_classification_targets(y)\n",
    "        self.classes_, y = np.unique(y, return_inverse=True)\n",
    "        self.n_classes_ = len(self.classes_)\n",
    "        return y\n",
    "    \n",
    "    def _fit(self,X,y):\n",
    "        X, y = check_X_y(\n",
    "            X, y, ['csr', 'csc'], dtype=None, force_all_finite=False,\n",
    "            multi_output=True)\n",
    "        y = self._validate_y(y)\n",
    "        n_samples, self.n_features_ = X.shape\n",
    "        self.ensemble.fit(X,y)\n",
    "        return self\n",
    "    \n",
    "    \n",
    "    def _validate_y(self, y):\n",
    "        y = column_or_1d(y, warn=True)\n",
    "        check_classification_targets(y)\n",
    "        self.classes_, y = np.unique(y, return_inverse=True)\n",
    "        self.n_classes_ = len(self.classes_)\n",
    "        return y\n",
    "    \n",
    "    def predict(self, X):\n",
    "        \"\"\"Predict class for X.\n",
    "        The predicted class of an input sample is computed as the class with\n",
    "        the highest mean predicted probability. If base estimators do not\n",
    "        implement a ``predict_proba`` method, then it resorts to voting.\n",
    "        Parameters\n",
    "        ----------\n",
    "        X : {array-like, sparse matrix} of shape = [n_samples, n_features]\n",
    "            The training input samples. Sparse matrices are accepted only if\n",
    "            they are supported by the base estimator.\n",
    "        Returns\n",
    "        -------\n",
    "        y : array of shape = [n_samples]\n",
    "            The predicted classes.\n",
    "        \"\"\"\n",
    "        \n",
    "        return self.predict_delegate_(X)\n",
    "    \n",
    "    def predict_delegate_(self, X):\n",
    "        import collections\n",
    "        import operator\n",
    "        final_pred = []\n",
    "        for sample in xrange(X.shape[0]):\n",
    "            # Competence\n",
    "            self.competence = []\n",
    "            for est in self.ensemble.estimators_:\n",
    "                proba = est.predict_proba(X[sample,:].reshape(1, -1))[0][0]\n",
    "                #print(proba)\n",
    "                comp = abs(proba-0.5)*2\n",
    "                self.competence.append(comp)\n",
    "            #print(self.competence)\n",
    "            # Delegation\n",
    "            approves = {}\n",
    "            approved_by = {}\n",
    "            approved_by_length = {}\n",
    "            for i, sc_i in enumerate(self.competence):\n",
    "                k = np.copy(self.competence)\n",
    "                approves[i] = np.where(k - sc_i - self.alpha>0)[0].tolist()\n",
    "                approved_by[i] = np.where(k - sc_i + self.alpha<0)[0].tolist()\n",
    "                approved_by_length[i] = len(approved_by[i])\n",
    "\n",
    "            sorted_approved = sorted(approved_by_length.items(), key=operator.itemgetter(1))[::-1]\n",
    "            cap = int(self.n_estimators*self.cap)\n",
    "            cap_per_est = {}\n",
    "            for i in xrange(self.n_estimators):\n",
    "                cap_per_est[i] = cap\n",
    "            poss_nodes = set([i for i in xrange(self.n_estimators)])\n",
    "            #print(sorted_approved)\n",
    "            for est_id, _ in sorted_approved:\n",
    "                to_deleg = []\n",
    "                poss_deleg = list(poss_nodes.intersection(approved_by[est_id]))\n",
    "                if len(poss_deleg) <= cap_per_est[est_id] - 1:\n",
    "                    to_deleg = poss_deleg\n",
    "                else:\n",
    "                    to_deleg = np.random.choice(poss_deleg, cap_per_est[est_id] - 1).tolist()\n",
    "                to_deleg = to_deleg + [est_id]\n",
    "                cap_per_est[est_id] -= len(to_deleg)\n",
    "                poss_nodes = poss_nodes.difference(to_deleg)\n",
    "                self.delegation_map[est_id] = to_deleg\n",
    "                if len(poss_nodes) == 0:\n",
    "                    break\n",
    "            \n",
    "            # Prediction\n",
    "            sample_pred = []\n",
    "            for est_id, delegates in self.delegation_map.items():\n",
    "                n_votes = len(delegates)\n",
    "                est_predict = self.ensemble.estimators_[est_id].predict(X[sample,:].reshape(1, -1))[0]\n",
    "                sample_pred.extend([est_predict for i in xrange(n_votes)])\n",
    "            final_pred.append(collections.Counter(sample_pred).most_common()[0][0])\n",
    "        return np.array(final_pred)  \n",
    "\n",
    "lv = Liquid_Voter2(alpha=2, cap=0.1, n_estimators=100, min_samples_leaf=2)\n",
    "lv.fit(tr,y_train)\n",
    "pred = lv.predict(tr_test[:])\n",
    "print(accuracy_score(y_test[:], pred))"
   ]
  },
  {
   "cell_type": "code",
   "execution_count": 5,
   "metadata": {},
   "outputs": [
    {
     "data": {
      "text/plain": [
       "array([1])"
      ]
     },
     "execution_count": 5,
     "metadata": {},
     "output_type": "execute_result"
    }
   ],
   "source": [
    " np.arange(1, 2)"
   ]
  },
  {
   "cell_type": "code",
   "execution_count": 6,
   "metadata": {},
   "outputs": [
    {
     "name": "stderr",
     "output_type": "stream",
     "text": [
      "2019-06-20 16:27:43,162 INFO Generating grammar tables from /usr/lib/python2.7/lib2to3/Grammar.txt\n",
      "2019-06-20 16:27:43,179 INFO Generating grammar tables from /usr/lib/python2.7/lib2to3/PatternGrammar.txt\n",
      "2019-06-20 16:27:43,286 INFO tpe_transform took 0.001015 seconds\n",
      "2019-06-20 16:27:43,288 INFO TPE using 0 trials\n",
      "2019-06-20 16:28:23,488 INFO tpe_transform took 0.001069 seconds\n",
      "2019-06-20 16:28:23,489 INFO TPE using 1/1 trials with best loss 0.158915\n"
     ]
    },
    {
     "name": "stdout",
     "output_type": "stream",
     "text": [
      "Train score: 0.993  -- Validation score: 0.841\n"
     ]
    },
    {
     "name": "stderr",
     "output_type": "stream",
     "text": [
      "2019-06-20 16:29:03,100 INFO tpe_transform took 0.001079 seconds\n",
      "2019-06-20 16:29:03,101 INFO TPE using 2/2 trials with best loss 0.112403\n"
     ]
    },
    {
     "name": "stdout",
     "output_type": "stream",
     "text": [
      "Train score: 1.000  -- Validation score: 0.888\n"
     ]
    },
    {
     "name": "stderr",
     "output_type": "stream",
     "text": [
      "2019-06-20 16:29:42,995 INFO tpe_transform took 0.000788 seconds\n",
      "2019-06-20 16:29:42,996 INFO TPE using 3/3 trials with best loss 0.112403\n"
     ]
    },
    {
     "name": "stdout",
     "output_type": "stream",
     "text": [
      "Train score: 0.995  -- Validation score: 0.853\n"
     ]
    },
    {
     "name": "stderr",
     "output_type": "stream",
     "text": [
      "2019-06-20 16:30:23,076 INFO tpe_transform took 0.001061 seconds\n",
      "2019-06-20 16:30:23,077 INFO TPE using 4/4 trials with best loss 0.112403\n"
     ]
    },
    {
     "name": "stdout",
     "output_type": "stream",
     "text": [
      "Train score: 1.000  -- Validation score: 0.888\n"
     ]
    },
    {
     "name": "stderr",
     "output_type": "stream",
     "text": [
      "2019-06-20 16:31:03,346 INFO tpe_transform took 0.001243 seconds\n",
      "2019-06-20 16:31:03,347 INFO TPE using 5/5 trials with best loss 0.112403\n"
     ]
    },
    {
     "name": "stdout",
     "output_type": "stream",
     "text": [
      "Train score: 0.993  -- Validation score: 0.849\n"
     ]
    },
    {
     "name": "stderr",
     "output_type": "stream",
     "text": [
      "2019-06-20 16:31:43,197 INFO tpe_transform took 0.001135 seconds\n",
      "2019-06-20 16:31:43,199 INFO TPE using 6/6 trials with best loss 0.112403\n"
     ]
    },
    {
     "name": "stdout",
     "output_type": "stream",
     "text": [
      "Train score: 1.000  -- Validation score: 0.888\n"
     ]
    },
    {
     "name": "stderr",
     "output_type": "stream",
     "text": [
      "2019-06-20 16:32:22,947 INFO tpe_transform took 0.001125 seconds\n",
      "2019-06-20 16:32:22,949 INFO TPE using 7/7 trials with best loss 0.112403\n"
     ]
    },
    {
     "name": "stdout",
     "output_type": "stream",
     "text": [
      "Train score: 0.998  -- Validation score: 0.860\n"
     ]
    },
    {
     "name": "stderr",
     "output_type": "stream",
     "text": [
      "2019-06-20 16:33:03,093 INFO tpe_transform took 0.001228 seconds\n",
      "2019-06-20 16:33:03,094 INFO TPE using 8/8 trials with best loss 0.112403\n"
     ]
    },
    {
     "name": "stdout",
     "output_type": "stream",
     "text": [
      "Train score: 1.000  -- Validation score: 0.888\n"
     ]
    },
    {
     "name": "stderr",
     "output_type": "stream",
     "text": [
      "2019-06-20 16:33:42,858 INFO tpe_transform took 0.000805 seconds\n",
      "2019-06-20 16:33:42,860 INFO TPE using 9/9 trials with best loss 0.112403\n"
     ]
    },
    {
     "name": "stdout",
     "output_type": "stream",
     "text": [
      "Train score: 1.000  -- Validation score: 0.868\n"
     ]
    },
    {
     "name": "stderr",
     "output_type": "stream",
     "text": [
      "2019-06-20 16:34:22,846 INFO tpe_transform took 0.001073 seconds\n",
      "2019-06-20 16:34:22,847 INFO TPE using 10/10 trials with best loss 0.112403\n"
     ]
    },
    {
     "name": "stdout",
     "output_type": "stream",
     "text": [
      "Train score: 1.000  -- Validation score: 0.845\n"
     ]
    },
    {
     "name": "stderr",
     "output_type": "stream",
     "text": [
      "2019-06-20 16:35:02,920 INFO tpe_transform took 0.001114 seconds\n",
      "2019-06-20 16:35:02,922 INFO TPE using 11/11 trials with best loss 0.112403\n"
     ]
    },
    {
     "name": "stdout",
     "output_type": "stream",
     "text": [
      "Train score: 0.995  -- Validation score: 0.849\n"
     ]
    },
    {
     "name": "stderr",
     "output_type": "stream",
     "text": [
      "2019-06-20 16:35:43,189 INFO tpe_transform took 0.000909 seconds\n",
      "2019-06-20 16:35:43,191 INFO TPE using 12/12 trials with best loss 0.112403\n"
     ]
    },
    {
     "name": "stdout",
     "output_type": "stream",
     "text": [
      "Train score: 1.000  -- Validation score: 0.888\n"
     ]
    },
    {
     "name": "stderr",
     "output_type": "stream",
     "text": [
      "2019-06-20 16:36:23,364 INFO tpe_transform took 0.000924 seconds\n",
      "2019-06-20 16:36:23,365 INFO TPE using 13/13 trials with best loss 0.112403\n"
     ]
    },
    {
     "name": "stdout",
     "output_type": "stream",
     "text": [
      "Train score: 1.000  -- Validation score: 0.888\n"
     ]
    },
    {
     "name": "stderr",
     "output_type": "stream",
     "text": [
      "2019-06-20 16:37:03,171 INFO tpe_transform took 0.000799 seconds\n",
      "2019-06-20 16:37:03,172 INFO TPE using 14/14 trials with best loss 0.112403\n"
     ]
    },
    {
     "name": "stdout",
     "output_type": "stream",
     "text": [
      "Train score: 0.998  -- Validation score: 0.860\n"
     ]
    },
    {
     "name": "stderr",
     "output_type": "stream",
     "text": [
      "2019-06-20 16:37:43,389 INFO tpe_transform took 0.001072 seconds\n",
      "2019-06-20 16:37:43,390 INFO TPE using 15/15 trials with best loss 0.112403\n"
     ]
    },
    {
     "name": "stdout",
     "output_type": "stream",
     "text": [
      "Train score: 0.997  -- Validation score: 0.872\n"
     ]
    },
    {
     "name": "stderr",
     "output_type": "stream",
     "text": [
      "2019-06-20 16:38:23,764 INFO tpe_transform took 0.000812 seconds\n",
      "2019-06-20 16:38:23,765 INFO TPE using 16/16 trials with best loss 0.112403\n"
     ]
    },
    {
     "name": "stdout",
     "output_type": "stream",
     "text": [
      "Train score: 1.000  -- Validation score: 0.888\n"
     ]
    },
    {
     "name": "stderr",
     "output_type": "stream",
     "text": [
      "2019-06-20 16:39:03,804 INFO tpe_transform took 0.000806 seconds\n",
      "2019-06-20 16:39:03,806 INFO TPE using 17/17 trials with best loss 0.112403\n"
     ]
    },
    {
     "name": "stdout",
     "output_type": "stream",
     "text": [
      "Train score: 0.993  -- Validation score: 0.857\n"
     ]
    },
    {
     "name": "stderr",
     "output_type": "stream",
     "text": [
      "2019-06-20 16:39:44,113 INFO tpe_transform took 0.001106 seconds\n",
      "2019-06-20 16:39:44,114 INFO TPE using 18/18 trials with best loss 0.112403\n"
     ]
    },
    {
     "name": "stdout",
     "output_type": "stream",
     "text": [
      "Train score: 1.000  -- Validation score: 0.888\n"
     ]
    },
    {
     "name": "stderr",
     "output_type": "stream",
     "text": [
      "2019-06-20 16:40:24,502 INFO tpe_transform took 0.001180 seconds\n",
      "2019-06-20 16:40:24,504 INFO TPE using 19/19 trials with best loss 0.112403\n"
     ]
    },
    {
     "name": "stdout",
     "output_type": "stream",
     "text": [
      "Train score: 0.998  -- Validation score: 0.849\n"
     ]
    },
    {
     "name": "stderr",
     "output_type": "stream",
     "text": [
      "2019-06-20 16:41:04,709 INFO tpe_transform took 0.000831 seconds\n",
      "2019-06-20 16:41:04,710 INFO TPE using 20/20 trials with best loss 0.112403\n"
     ]
    },
    {
     "name": "stdout",
     "output_type": "stream",
     "text": [
      "Train score: 1.000  -- Validation score: 0.888\n"
     ]
    },
    {
     "name": "stderr",
     "output_type": "stream",
     "text": [
      "2019-06-20 16:41:44,913 INFO tpe_transform took 0.001191 seconds\n",
      "2019-06-20 16:41:44,915 INFO TPE using 21/21 trials with best loss 0.112403\n"
     ]
    },
    {
     "name": "stdout",
     "output_type": "stream",
     "text": [
      "Train score: 1.000  -- Validation score: 0.888\n"
     ]
    },
    {
     "name": "stderr",
     "output_type": "stream",
     "text": [
      "2019-06-20 16:42:25,045 INFO tpe_transform took 0.001174 seconds\n",
      "2019-06-20 16:42:25,046 INFO TPE using 22/22 trials with best loss 0.112403\n"
     ]
    },
    {
     "name": "stdout",
     "output_type": "stream",
     "text": [
      "Train score: 1.000  -- Validation score: 0.888\n"
     ]
    },
    {
     "name": "stderr",
     "output_type": "stream",
     "text": [
      "2019-06-20 16:43:04,799 INFO tpe_transform took 0.001046 seconds\n",
      "2019-06-20 16:43:04,800 INFO TPE using 23/23 trials with best loss 0.112403\n"
     ]
    },
    {
     "name": "stdout",
     "output_type": "stream",
     "text": [
      "Train score: 1.000  -- Validation score: 0.888\n"
     ]
    },
    {
     "name": "stderr",
     "output_type": "stream",
     "text": [
      "2019-06-20 16:43:44,736 INFO tpe_transform took 0.001119 seconds\n",
      "2019-06-20 16:43:44,737 INFO TPE using 24/24 trials with best loss 0.112403\n"
     ]
    },
    {
     "name": "stdout",
     "output_type": "stream",
     "text": [
      "Train score: 1.000  -- Validation score: 0.888\n"
     ]
    },
    {
     "name": "stderr",
     "output_type": "stream",
     "text": [
      "2019-06-20 16:44:24,440 INFO tpe_transform took 0.001108 seconds\n",
      "2019-06-20 16:44:24,442 INFO TPE using 25/25 trials with best loss 0.112403\n"
     ]
    },
    {
     "name": "stdout",
     "output_type": "stream",
     "text": [
      "Train score: 1.000  -- Validation score: 0.888\n"
     ]
    },
    {
     "name": "stderr",
     "output_type": "stream",
     "text": [
      "2019-06-20 16:45:04,349 INFO tpe_transform took 0.001149 seconds\n",
      "2019-06-20 16:45:04,350 INFO TPE using 26/26 trials with best loss 0.112403\n"
     ]
    },
    {
     "name": "stdout",
     "output_type": "stream",
     "text": [
      "Train score: 1.000  -- Validation score: 0.888\n"
     ]
    },
    {
     "name": "stderr",
     "output_type": "stream",
     "text": [
      "2019-06-20 16:45:44,495 INFO tpe_transform took 0.000800 seconds\n",
      "2019-06-20 16:45:44,496 INFO TPE using 27/27 trials with best loss 0.112403\n"
     ]
    },
    {
     "name": "stdout",
     "output_type": "stream",
     "text": [
      "Train score: 1.000  -- Validation score: 0.888\n"
     ]
    },
    {
     "name": "stderr",
     "output_type": "stream",
     "text": [
      "2019-06-20 16:46:24,653 INFO tpe_transform took 0.001137 seconds\n",
      "2019-06-20 16:46:24,655 INFO TPE using 28/28 trials with best loss 0.112403\n"
     ]
    },
    {
     "name": "stdout",
     "output_type": "stream",
     "text": [
      "Train score: 1.000  -- Validation score: 0.888\n"
     ]
    },
    {
     "name": "stderr",
     "output_type": "stream",
     "text": [
      "2019-06-20 16:47:04,407 INFO tpe_transform took 0.001201 seconds\n",
      "2019-06-20 16:47:04,408 INFO TPE using 29/29 trials with best loss 0.112403\n"
     ]
    },
    {
     "name": "stdout",
     "output_type": "stream",
     "text": [
      "Train score: 1.000  -- Validation score: 0.888\n"
     ]
    },
    {
     "name": "stderr",
     "output_type": "stream",
     "text": [
      "2019-06-20 16:47:44,517 INFO tpe_transform took 0.001144 seconds\n",
      "2019-06-20 16:47:44,518 INFO TPE using 30/30 trials with best loss 0.112403\n"
     ]
    },
    {
     "name": "stdout",
     "output_type": "stream",
     "text": [
      "Train score: 1.000  -- Validation score: 0.888\n"
     ]
    },
    {
     "name": "stderr",
     "output_type": "stream",
     "text": [
      "2019-06-20 16:48:24,484 INFO tpe_transform took 0.000809 seconds\n",
      "2019-06-20 16:48:24,485 INFO TPE using 31/31 trials with best loss 0.112403\n"
     ]
    },
    {
     "name": "stdout",
     "output_type": "stream",
     "text": [
      "Train score: 1.000  -- Validation score: 0.888\n"
     ]
    },
    {
     "name": "stderr",
     "output_type": "stream",
     "text": [
      "2019-06-20 16:49:04,339 INFO tpe_transform took 0.001121 seconds\n",
      "2019-06-20 16:49:04,340 INFO TPE using 32/32 trials with best loss 0.112403\n"
     ]
    },
    {
     "name": "stdout",
     "output_type": "stream",
     "text": [
      "Train score: 1.000  -- Validation score: 0.888\n"
     ]
    },
    {
     "name": "stderr",
     "output_type": "stream",
     "text": [
      "2019-06-20 16:49:43,985 INFO tpe_transform took 0.001002 seconds\n",
      "2019-06-20 16:49:43,986 INFO TPE using 33/33 trials with best loss 0.112403\n"
     ]
    },
    {
     "name": "stdout",
     "output_type": "stream",
     "text": [
      "Train score: 1.000  -- Validation score: 0.888\n"
     ]
    },
    {
     "name": "stderr",
     "output_type": "stream",
     "text": [
      "2019-06-20 16:50:23,999 INFO tpe_transform took 0.001205 seconds\n",
      "2019-06-20 16:50:24,001 INFO TPE using 34/34 trials with best loss 0.112403\n"
     ]
    },
    {
     "name": "stdout",
     "output_type": "stream",
     "text": [
      "Train score: 1.000  -- Validation score: 0.888\n"
     ]
    },
    {
     "name": "stderr",
     "output_type": "stream",
     "text": [
      "2019-06-20 16:51:04,273 INFO tpe_transform took 0.001157 seconds\n",
      "2019-06-20 16:51:04,275 INFO TPE using 35/35 trials with best loss 0.112403\n"
     ]
    },
    {
     "name": "stdout",
     "output_type": "stream",
     "text": [
      "Train score: 1.000  -- Validation score: 0.888\n"
     ]
    },
    {
     "name": "stderr",
     "output_type": "stream",
     "text": [
      "2019-06-20 16:51:44,450 INFO tpe_transform took 0.001123 seconds\n",
      "2019-06-20 16:51:44,452 INFO TPE using 36/36 trials with best loss 0.112403\n"
     ]
    },
    {
     "name": "stdout",
     "output_type": "stream",
     "text": [
      "Train score: 1.000  -- Validation score: 0.888\n"
     ]
    },
    {
     "name": "stderr",
     "output_type": "stream",
     "text": [
      "2019-06-20 16:52:24,721 INFO tpe_transform took 0.001078 seconds\n",
      "2019-06-20 16:52:24,723 INFO TPE using 37/37 trials with best loss 0.112403\n"
     ]
    },
    {
     "name": "stdout",
     "output_type": "stream",
     "text": [
      "Train score: 1.000  -- Validation score: 0.888\n"
     ]
    },
    {
     "name": "stderr",
     "output_type": "stream",
     "text": [
      "2019-06-20 16:53:04,842 INFO tpe_transform took 0.001071 seconds\n",
      "2019-06-20 16:53:04,844 INFO TPE using 38/38 trials with best loss 0.112403\n"
     ]
    },
    {
     "name": "stdout",
     "output_type": "stream",
     "text": [
      "Train score: 1.000  -- Validation score: 0.888\n"
     ]
    },
    {
     "name": "stderr",
     "output_type": "stream",
     "text": [
      "2019-06-20 16:53:44,796 INFO tpe_transform took 0.001081 seconds\n",
      "2019-06-20 16:53:44,797 INFO TPE using 39/39 trials with best loss 0.112403\n"
     ]
    },
    {
     "name": "stdout",
     "output_type": "stream",
     "text": [
      "Train score: 1.000  -- Validation score: 0.888\n"
     ]
    },
    {
     "name": "stderr",
     "output_type": "stream",
     "text": [
      "2019-06-20 16:54:24,705 INFO tpe_transform took 0.001131 seconds\n",
      "2019-06-20 16:54:24,707 INFO TPE using 40/40 trials with best loss 0.112403\n"
     ]
    },
    {
     "name": "stdout",
     "output_type": "stream",
     "text": [
      "Train score: 1.000  -- Validation score: 0.888\n"
     ]
    },
    {
     "name": "stderr",
     "output_type": "stream",
     "text": [
      "2019-06-20 16:55:04,610 INFO tpe_transform took 0.000812 seconds\n",
      "2019-06-20 16:55:04,611 INFO TPE using 41/41 trials with best loss 0.112403\n"
     ]
    },
    {
     "name": "stdout",
     "output_type": "stream",
     "text": [
      "Train score: 0.993  -- Validation score: 0.860\n"
     ]
    },
    {
     "name": "stderr",
     "output_type": "stream",
     "text": [
      "2019-06-20 16:55:44,584 INFO tpe_transform took 0.001143 seconds\n",
      "2019-06-20 16:55:44,586 INFO TPE using 42/42 trials with best loss 0.112403\n"
     ]
    },
    {
     "name": "stdout",
     "output_type": "stream",
     "text": [
      "Train score: 1.000  -- Validation score: 0.888\n"
     ]
    },
    {
     "name": "stderr",
     "output_type": "stream",
     "text": [
      "2019-06-20 16:56:25,041 INFO tpe_transform took 0.000796 seconds\n",
      "2019-06-20 16:56:25,042 INFO TPE using 43/43 trials with best loss 0.112403\n"
     ]
    },
    {
     "name": "stdout",
     "output_type": "stream",
     "text": [
      "Train score: 1.000  -- Validation score: 0.888\n"
     ]
    },
    {
     "name": "stderr",
     "output_type": "stream",
     "text": [
      "2019-06-20 16:57:05,258 INFO tpe_transform took 0.001133 seconds\n",
      "2019-06-20 16:57:05,260 INFO TPE using 44/44 trials with best loss 0.112403\n"
     ]
    },
    {
     "name": "stdout",
     "output_type": "stream",
     "text": [
      "Train score: 1.000  -- Validation score: 0.868\n"
     ]
    },
    {
     "name": "stderr",
     "output_type": "stream",
     "text": [
      "2019-06-20 16:57:45,472 INFO tpe_transform took 0.001135 seconds\n",
      "2019-06-20 16:57:45,473 INFO TPE using 45/45 trials with best loss 0.112403\n"
     ]
    },
    {
     "name": "stdout",
     "output_type": "stream",
     "text": [
      "Train score: 1.000  -- Validation score: 0.888\n"
     ]
    },
    {
     "name": "stderr",
     "output_type": "stream",
     "text": [
      "2019-06-20 16:58:26,569 INFO tpe_transform took 0.001077 seconds\n",
      "2019-06-20 16:58:26,571 INFO TPE using 46/46 trials with best loss 0.112403\n"
     ]
    },
    {
     "name": "stdout",
     "output_type": "stream",
     "text": [
      "Train score: 0.998  -- Validation score: 0.864\n"
     ]
    },
    {
     "name": "stderr",
     "output_type": "stream",
     "text": [
      "2019-06-20 16:59:06,586 INFO tpe_transform took 0.001061 seconds\n",
      "2019-06-20 16:59:06,587 INFO TPE using 47/47 trials with best loss 0.112403\n"
     ]
    },
    {
     "name": "stdout",
     "output_type": "stream",
     "text": [
      "Train score: 1.000  -- Validation score: 0.888\n"
     ]
    },
    {
     "name": "stderr",
     "output_type": "stream",
     "text": [
      "2019-06-20 16:59:46,429 INFO tpe_transform took 0.000815 seconds\n",
      "2019-06-20 16:59:46,431 INFO TPE using 48/48 trials with best loss 0.112403\n"
     ]
    },
    {
     "name": "stdout",
     "output_type": "stream",
     "text": [
      "Train score: 1.000  -- Validation score: 0.888\n"
     ]
    },
    {
     "name": "stderr",
     "output_type": "stream",
     "text": [
      "2019-06-20 17:00:26,664 INFO tpe_transform took 0.000799 seconds\n",
      "2019-06-20 17:00:26,666 INFO TPE using 49/49 trials with best loss 0.112403\n"
     ]
    },
    {
     "name": "stdout",
     "output_type": "stream",
     "text": [
      "Train score: 0.998  -- Validation score: 0.849\n"
     ]
    },
    {
     "name": "stderr",
     "output_type": "stream",
     "text": [
      "2019-06-20 17:01:06,891 INFO tpe_transform took 0.001072 seconds\n",
      "2019-06-20 17:01:06,893 INFO TPE using 50/50 trials with best loss 0.112403\n"
     ]
    },
    {
     "name": "stdout",
     "output_type": "stream",
     "text": [
      "Train score: 1.000  -- Validation score: 0.888\n"
     ]
    },
    {
     "name": "stderr",
     "output_type": "stream",
     "text": [
      "2019-06-20 17:01:47,298 INFO tpe_transform took 0.000797 seconds\n",
      "2019-06-20 17:01:47,299 INFO TPE using 51/51 trials with best loss 0.112403\n"
     ]
    },
    {
     "name": "stdout",
     "output_type": "stream",
     "text": [
      "Train score: 1.000  -- Validation score: 0.864\n"
     ]
    },
    {
     "name": "stderr",
     "output_type": "stream",
     "text": [
      "2019-06-20 17:02:27,628 INFO tpe_transform took 0.001213 seconds\n",
      "2019-06-20 17:02:27,630 INFO TPE using 52/52 trials with best loss 0.112403\n"
     ]
    },
    {
     "name": "stdout",
     "output_type": "stream",
     "text": [
      "Train score: 1.000  -- Validation score: 0.888\n"
     ]
    },
    {
     "name": "stderr",
     "output_type": "stream",
     "text": [
      "2019-06-20 17:03:08,008 INFO tpe_transform took 0.000818 seconds\n",
      "2019-06-20 17:03:08,009 INFO TPE using 53/53 trials with best loss 0.112403\n"
     ]
    },
    {
     "name": "stdout",
     "output_type": "stream",
     "text": [
      "Train score: 1.000  -- Validation score: 0.888\n"
     ]
    },
    {
     "name": "stderr",
     "output_type": "stream",
     "text": [
      "2019-06-20 17:03:47,926 INFO tpe_transform took 0.000855 seconds\n",
      "2019-06-20 17:03:47,927 INFO TPE using 54/54 trials with best loss 0.112403\n"
     ]
    },
    {
     "name": "stdout",
     "output_type": "stream",
     "text": [
      "Train score: 1.000  -- Validation score: 0.888\n"
     ]
    },
    {
     "name": "stderr",
     "output_type": "stream",
     "text": [
      "2019-06-20 17:04:28,269 INFO tpe_transform took 0.001156 seconds\n",
      "2019-06-20 17:04:28,271 INFO TPE using 55/55 trials with best loss 0.112403\n"
     ]
    },
    {
     "name": "stdout",
     "output_type": "stream",
     "text": [
      "Train score: 0.998  -- Validation score: 0.857\n"
     ]
    },
    {
     "name": "stderr",
     "output_type": "stream",
     "text": [
      "2019-06-20 17:05:08,195 INFO tpe_transform took 0.000818 seconds\n",
      "2019-06-20 17:05:08,196 INFO TPE using 56/56 trials with best loss 0.112403\n"
     ]
    },
    {
     "name": "stdout",
     "output_type": "stream",
     "text": [
      "Train score: 1.000  -- Validation score: 0.888\n"
     ]
    },
    {
     "name": "stderr",
     "output_type": "stream",
     "text": [
      "2019-06-20 17:05:48,337 INFO tpe_transform took 0.001358 seconds\n",
      "2019-06-20 17:05:48,338 INFO TPE using 57/57 trials with best loss 0.112403\n"
     ]
    },
    {
     "name": "stdout",
     "output_type": "stream",
     "text": [
      "Train score: 1.000  -- Validation score: 0.888\n"
     ]
    },
    {
     "name": "stderr",
     "output_type": "stream",
     "text": [
      "2019-06-20 17:06:28,608 INFO tpe_transform took 0.000818 seconds\n",
      "2019-06-20 17:06:28,609 INFO TPE using 58/58 trials with best loss 0.112403\n"
     ]
    },
    {
     "name": "stdout",
     "output_type": "stream",
     "text": [
      "Train score: 1.000  -- Validation score: 0.888\n"
     ]
    },
    {
     "name": "stderr",
     "output_type": "stream",
     "text": [
      "2019-06-20 17:07:08,948 INFO tpe_transform took 0.000838 seconds\n",
      "2019-06-20 17:07:08,950 INFO TPE using 59/59 trials with best loss 0.112403\n"
     ]
    },
    {
     "name": "stdout",
     "output_type": "stream",
     "text": [
      "Train score: 1.000  -- Validation score: 0.864\n"
     ]
    },
    {
     "name": "stderr",
     "output_type": "stream",
     "text": [
      "2019-06-20 17:07:48,945 INFO tpe_transform took 0.000822 seconds\n",
      "2019-06-20 17:07:48,946 INFO TPE using 60/60 trials with best loss 0.112403\n"
     ]
    },
    {
     "name": "stdout",
     "output_type": "stream",
     "text": [
      "Train score: 1.000  -- Validation score: 0.888\n"
     ]
    },
    {
     "name": "stderr",
     "output_type": "stream",
     "text": [
      "2019-06-20 17:08:29,164 INFO tpe_transform took 0.001083 seconds\n",
      "2019-06-20 17:08:29,166 INFO TPE using 61/61 trials with best loss 0.112403\n"
     ]
    },
    {
     "name": "stdout",
     "output_type": "stream",
     "text": [
      "Train score: 1.000  -- Validation score: 0.888\n"
     ]
    },
    {
     "name": "stderr",
     "output_type": "stream",
     "text": [
      "2019-06-20 17:09:09,363 INFO tpe_transform took 0.001123 seconds\n",
      "2019-06-20 17:09:09,365 INFO TPE using 62/62 trials with best loss 0.112403\n"
     ]
    },
    {
     "name": "stdout",
     "output_type": "stream",
     "text": [
      "Train score: 1.000  -- Validation score: 0.888\n"
     ]
    },
    {
     "name": "stderr",
     "output_type": "stream",
     "text": [
      "2019-06-20 17:09:49,755 INFO tpe_transform took 0.000800 seconds\n",
      "2019-06-20 17:09:49,757 INFO TPE using 63/63 trials with best loss 0.112403\n"
     ]
    },
    {
     "name": "stdout",
     "output_type": "stream",
     "text": [
      "Train score: 1.000  -- Validation score: 0.868\n"
     ]
    },
    {
     "name": "stderr",
     "output_type": "stream",
     "text": [
      "2019-06-20 17:10:29,969 INFO tpe_transform took 0.001080 seconds\n",
      "2019-06-20 17:10:29,971 INFO TPE using 64/64 trials with best loss 0.112403\n"
     ]
    },
    {
     "name": "stdout",
     "output_type": "stream",
     "text": [
      "Train score: 1.000  -- Validation score: 0.888\n"
     ]
    },
    {
     "name": "stderr",
     "output_type": "stream",
     "text": [
      "2019-06-20 17:11:10,009 INFO tpe_transform took 0.000818 seconds\n",
      "2019-06-20 17:11:10,010 INFO TPE using 65/65 trials with best loss 0.112403\n"
     ]
    },
    {
     "name": "stdout",
     "output_type": "stream",
     "text": [
      "Train score: 1.000  -- Validation score: 0.888\n"
     ]
    },
    {
     "name": "stderr",
     "output_type": "stream",
     "text": [
      "2019-06-20 17:11:50,478 INFO tpe_transform took 0.001088 seconds\n",
      "2019-06-20 17:11:50,479 INFO TPE using 66/66 trials with best loss 0.112403\n"
     ]
    },
    {
     "name": "stdout",
     "output_type": "stream",
     "text": [
      "Train score: 1.000  -- Validation score: 0.888\n"
     ]
    },
    {
     "name": "stderr",
     "output_type": "stream",
     "text": [
      "2019-06-20 17:12:31,111 INFO tpe_transform took 0.000810 seconds\n",
      "2019-06-20 17:12:31,112 INFO TPE using 67/67 trials with best loss 0.112403\n"
     ]
    },
    {
     "name": "stdout",
     "output_type": "stream",
     "text": [
      "Train score: 1.000  -- Validation score: 0.888\n"
     ]
    },
    {
     "name": "stderr",
     "output_type": "stream",
     "text": [
      "2019-06-20 17:13:11,526 INFO tpe_transform took 0.001233 seconds\n",
      "2019-06-20 17:13:11,528 INFO TPE using 68/68 trials with best loss 0.112403\n"
     ]
    },
    {
     "name": "stdout",
     "output_type": "stream",
     "text": [
      "Train score: 1.000  -- Validation score: 0.888\n"
     ]
    },
    {
     "name": "stderr",
     "output_type": "stream",
     "text": [
      "2019-06-20 17:13:52,099 INFO tpe_transform took 0.000865 seconds\n",
      "2019-06-20 17:13:52,100 INFO TPE using 69/69 trials with best loss 0.112403\n"
     ]
    },
    {
     "name": "stdout",
     "output_type": "stream",
     "text": [
      "Train score: 1.000  -- Validation score: 0.888\n"
     ]
    },
    {
     "name": "stderr",
     "output_type": "stream",
     "text": [
      "2019-06-20 17:14:32,430 INFO tpe_transform took 0.000827 seconds\n",
      "2019-06-20 17:14:32,432 INFO TPE using 70/70 trials with best loss 0.112403\n"
     ]
    },
    {
     "name": "stdout",
     "output_type": "stream",
     "text": [
      "Train score: 1.000  -- Validation score: 0.888\n"
     ]
    },
    {
     "name": "stderr",
     "output_type": "stream",
     "text": [
      "2019-06-20 17:15:12,692 INFO tpe_transform took 0.001346 seconds\n",
      "2019-06-20 17:15:12,694 INFO TPE using 71/71 trials with best loss 0.112403\n"
     ]
    },
    {
     "name": "stdout",
     "output_type": "stream",
     "text": [
      "Train score: 1.000  -- Validation score: 0.888\n"
     ]
    },
    {
     "name": "stderr",
     "output_type": "stream",
     "text": [
      "2019-06-20 17:15:52,681 INFO tpe_transform took 0.001133 seconds\n",
      "2019-06-20 17:15:52,682 INFO TPE using 72/72 trials with best loss 0.112403\n"
     ]
    },
    {
     "name": "stdout",
     "output_type": "stream",
     "text": [
      "Train score: 1.000  -- Validation score: 0.888\n"
     ]
    },
    {
     "name": "stderr",
     "output_type": "stream",
     "text": [
      "2019-06-20 17:16:33,136 INFO tpe_transform took 0.001167 seconds\n",
      "2019-06-20 17:16:33,137 INFO TPE using 73/73 trials with best loss 0.112403\n"
     ]
    },
    {
     "name": "stdout",
     "output_type": "stream",
     "text": [
      "Train score: 1.000  -- Validation score: 0.888\n"
     ]
    },
    {
     "name": "stderr",
     "output_type": "stream",
     "text": [
      "2019-06-20 17:17:13,210 INFO tpe_transform took 0.000802 seconds\n",
      "2019-06-20 17:17:13,211 INFO TPE using 74/74 trials with best loss 0.112403\n"
     ]
    },
    {
     "name": "stdout",
     "output_type": "stream",
     "text": [
      "Train score: 1.000  -- Validation score: 0.888\n"
     ]
    },
    {
     "name": "stderr",
     "output_type": "stream",
     "text": [
      "2019-06-20 17:17:53,536 INFO tpe_transform took 0.001106 seconds\n",
      "2019-06-20 17:17:53,538 INFO TPE using 75/75 trials with best loss 0.112403\n"
     ]
    },
    {
     "name": "stdout",
     "output_type": "stream",
     "text": [
      "Train score: 1.000  -- Validation score: 0.888\n"
     ]
    },
    {
     "name": "stderr",
     "output_type": "stream",
     "text": [
      "2019-06-20 17:18:33,659 INFO tpe_transform took 0.001098 seconds\n",
      "2019-06-20 17:18:33,660 INFO TPE using 76/76 trials with best loss 0.112403\n"
     ]
    },
    {
     "name": "stdout",
     "output_type": "stream",
     "text": [
      "Train score: 1.000  -- Validation score: 0.888\n"
     ]
    },
    {
     "name": "stderr",
     "output_type": "stream",
     "text": [
      "2019-06-20 17:19:13,801 INFO tpe_transform took 0.000888 seconds\n",
      "2019-06-20 17:19:13,802 INFO TPE using 77/77 trials with best loss 0.112403\n"
     ]
    },
    {
     "name": "stdout",
     "output_type": "stream",
     "text": [
      "Train score: 1.000  -- Validation score: 0.888\n"
     ]
    },
    {
     "name": "stderr",
     "output_type": "stream",
     "text": [
      "2019-06-20 17:19:54,133 INFO tpe_transform took 0.000831 seconds\n",
      "2019-06-20 17:19:54,134 INFO TPE using 78/78 trials with best loss 0.112403\n"
     ]
    },
    {
     "name": "stdout",
     "output_type": "stream",
     "text": [
      "Train score: 1.000  -- Validation score: 0.888\n"
     ]
    },
    {
     "name": "stderr",
     "output_type": "stream",
     "text": [
      "2019-06-20 17:20:34,618 INFO tpe_transform took 0.000816 seconds\n",
      "2019-06-20 17:20:34,619 INFO TPE using 79/79 trials with best loss 0.112403\n"
     ]
    },
    {
     "name": "stdout",
     "output_type": "stream",
     "text": [
      "Train score: 1.000  -- Validation score: 0.888\n"
     ]
    },
    {
     "name": "stderr",
     "output_type": "stream",
     "text": [
      "2019-06-20 17:21:15,056 INFO tpe_transform took 0.000825 seconds\n",
      "2019-06-20 17:21:15,057 INFO TPE using 80/80 trials with best loss 0.112403\n"
     ]
    },
    {
     "name": "stdout",
     "output_type": "stream",
     "text": [
      "Train score: 0.998  -- Validation score: 0.864\n"
     ]
    },
    {
     "name": "stderr",
     "output_type": "stream",
     "text": [
      "2019-06-20 17:21:55,413 INFO tpe_transform took 0.000831 seconds\n",
      "2019-06-20 17:21:55,414 INFO TPE using 81/81 trials with best loss 0.112403\n"
     ]
    },
    {
     "name": "stdout",
     "output_type": "stream",
     "text": [
      "Train score: 1.000  -- Validation score: 0.888\n"
     ]
    },
    {
     "name": "stderr",
     "output_type": "stream",
     "text": [
      "2019-06-20 17:22:35,462 INFO tpe_transform took 0.000939 seconds\n",
      "2019-06-20 17:22:35,464 INFO TPE using 82/82 trials with best loss 0.112403\n"
     ]
    },
    {
     "name": "stdout",
     "output_type": "stream",
     "text": [
      "Train score: 1.000  -- Validation score: 0.888\n"
     ]
    },
    {
     "name": "stderr",
     "output_type": "stream",
     "text": [
      "2019-06-20 17:23:15,888 INFO tpe_transform took 0.000828 seconds\n",
      "2019-06-20 17:23:15,890 INFO TPE using 83/83 trials with best loss 0.112403\n"
     ]
    },
    {
     "name": "stdout",
     "output_type": "stream",
     "text": [
      "Train score: 1.000  -- Validation score: 0.888\n"
     ]
    },
    {
     "name": "stderr",
     "output_type": "stream",
     "text": [
      "2019-06-20 17:23:55,957 INFO tpe_transform took 0.000821 seconds\n",
      "2019-06-20 17:23:55,959 INFO TPE using 84/84 trials with best loss 0.112403\n"
     ]
    },
    {
     "name": "stdout",
     "output_type": "stream",
     "text": [
      "Train score: 1.000  -- Validation score: 0.888\n"
     ]
    },
    {
     "name": "stderr",
     "output_type": "stream",
     "text": [
      "2019-06-20 17:24:36,330 INFO tpe_transform took 0.000789 seconds\n",
      "2019-06-20 17:24:36,331 INFO TPE using 85/85 trials with best loss 0.112403\n"
     ]
    },
    {
     "name": "stdout",
     "output_type": "stream",
     "text": [
      "Train score: 0.998  -- Validation score: 0.864\n"
     ]
    },
    {
     "name": "stderr",
     "output_type": "stream",
     "text": [
      "2019-06-20 17:25:16,718 INFO tpe_transform took 0.000858 seconds\n",
      "2019-06-20 17:25:16,720 INFO TPE using 86/86 trials with best loss 0.112403\n"
     ]
    },
    {
     "name": "stdout",
     "output_type": "stream",
     "text": [
      "Train score: 1.000  -- Validation score: 0.888\n"
     ]
    },
    {
     "name": "stderr",
     "output_type": "stream",
     "text": [
      "2019-06-20 17:25:57,191 INFO tpe_transform took 0.000902 seconds\n",
      "2019-06-20 17:25:57,192 INFO TPE using 87/87 trials with best loss 0.112403\n"
     ]
    },
    {
     "name": "stdout",
     "output_type": "stream",
     "text": [
      "Train score: 1.000  -- Validation score: 0.888\n"
     ]
    },
    {
     "name": "stderr",
     "output_type": "stream",
     "text": [
      "2019-06-20 17:26:37,348 INFO tpe_transform took 0.000834 seconds\n",
      "2019-06-20 17:26:37,350 INFO TPE using 88/88 trials with best loss 0.112403\n"
     ]
    },
    {
     "name": "stdout",
     "output_type": "stream",
     "text": [
      "Train score: 1.000  -- Validation score: 0.888\n"
     ]
    },
    {
     "name": "stderr",
     "output_type": "stream",
     "text": [
      "2019-06-20 17:27:17,560 INFO tpe_transform took 0.000816 seconds\n",
      "2019-06-20 17:27:17,562 INFO TPE using 89/89 trials with best loss 0.112403\n"
     ]
    },
    {
     "name": "stdout",
     "output_type": "stream",
     "text": [
      "Train score: 0.992  -- Validation score: 0.857\n"
     ]
    },
    {
     "name": "stderr",
     "output_type": "stream",
     "text": [
      "2019-06-20 17:27:58,141 INFO tpe_transform took 0.000828 seconds\n",
      "2019-06-20 17:27:58,143 INFO TPE using 90/90 trials with best loss 0.112403\n"
     ]
    },
    {
     "name": "stdout",
     "output_type": "stream",
     "text": [
      "Train score: 1.000  -- Validation score: 0.888\n"
     ]
    },
    {
     "name": "stderr",
     "output_type": "stream",
     "text": [
      "2019-06-20 17:28:38,319 INFO tpe_transform took 0.000796 seconds\n",
      "2019-06-20 17:28:38,320 INFO TPE using 91/91 trials with best loss 0.112403\n"
     ]
    },
    {
     "name": "stdout",
     "output_type": "stream",
     "text": [
      "Train score: 1.000  -- Validation score: 0.888\n"
     ]
    },
    {
     "name": "stderr",
     "output_type": "stream",
     "text": [
      "2019-06-20 17:29:18,711 INFO tpe_transform took 0.000818 seconds\n",
      "2019-06-20 17:29:18,713 INFO TPE using 92/92 trials with best loss 0.112403\n"
     ]
    },
    {
     "name": "stdout",
     "output_type": "stream",
     "text": [
      "Train score: 1.000  -- Validation score: 0.888\n"
     ]
    },
    {
     "name": "stderr",
     "output_type": "stream",
     "text": [
      "2019-06-20 17:29:59,082 INFO tpe_transform took 0.001196 seconds\n",
      "2019-06-20 17:29:59,083 INFO TPE using 93/93 trials with best loss 0.112403\n"
     ]
    },
    {
     "name": "stdout",
     "output_type": "stream",
     "text": [
      "Train score: 1.000  -- Validation score: 0.888\n"
     ]
    },
    {
     "name": "stderr",
     "output_type": "stream",
     "text": [
      "2019-06-20 17:30:39,397 INFO tpe_transform took 0.000807 seconds\n",
      "2019-06-20 17:30:39,398 INFO TPE using 94/94 trials with best loss 0.112403\n"
     ]
    },
    {
     "name": "stdout",
     "output_type": "stream",
     "text": [
      "Train score: 1.000  -- Validation score: 0.857\n"
     ]
    },
    {
     "name": "stderr",
     "output_type": "stream",
     "text": [
      "2019-06-20 17:31:19,486 INFO tpe_transform took 0.000801 seconds\n",
      "2019-06-20 17:31:19,487 INFO TPE using 95/95 trials with best loss 0.112403\n"
     ]
    },
    {
     "name": "stdout",
     "output_type": "stream",
     "text": [
      "Train score: 1.000  -- Validation score: 0.888\n"
     ]
    },
    {
     "name": "stderr",
     "output_type": "stream",
     "text": [
      "2019-06-20 17:31:59,556 INFO tpe_transform took 0.001060 seconds\n",
      "2019-06-20 17:31:59,558 INFO TPE using 96/96 trials with best loss 0.112403\n"
     ]
    },
    {
     "name": "stdout",
     "output_type": "stream",
     "text": [
      "Train score: 1.000  -- Validation score: 0.888\n"
     ]
    },
    {
     "name": "stderr",
     "output_type": "stream",
     "text": [
      "2019-06-20 17:32:39,300 INFO tpe_transform took 0.000825 seconds\n",
      "2019-06-20 17:32:39,302 INFO TPE using 97/97 trials with best loss 0.112403\n"
     ]
    },
    {
     "name": "stdout",
     "output_type": "stream",
     "text": [
      "Train score: 1.000  -- Validation score: 0.888\n"
     ]
    },
    {
     "name": "stderr",
     "output_type": "stream",
     "text": [
      "2019-06-20 17:33:19,439 INFO tpe_transform took 0.000804 seconds\n",
      "2019-06-20 17:33:19,441 INFO TPE using 98/98 trials with best loss 0.112403\n"
     ]
    },
    {
     "name": "stdout",
     "output_type": "stream",
     "text": [
      "Train score: 1.000  -- Validation score: 0.888\n"
     ]
    },
    {
     "name": "stderr",
     "output_type": "stream",
     "text": [
      "2019-06-20 17:33:59,676 INFO tpe_transform took 0.000821 seconds\n",
      "2019-06-20 17:33:59,678 INFO TPE using 99/99 trials with best loss 0.112403\n"
     ]
    },
    {
     "name": "stdout",
     "output_type": "stream",
     "text": [
      "Train score: 0.998  -- Validation score: 0.860\n",
      "Train score: 1.000  -- Validation score: 0.888\n",
      "{'alpha': 0.7929974893280227, 'cap': 0.03068184073438316, 'min_samples_leaf': 0}\n"
     ]
    }
   ],
   "source": [
    "import pandas as pd\n",
    "import numpy as np\n",
    "from sklearn.metrics import accuracy_score\n",
    "from hyperopt import hp, fmin, tpe, STATUS_OK, Trials\n",
    "from sklearn.model_selection import train_test_split\n",
    "from sklearn.ensemble import RandomForestClassifier\n",
    "\n",
    "\n",
    "\n",
    "space = {\n",
    "    #'criterion': hp.choice( 'criterion', ( 'gini', 'entropy' )),\n",
    "    #'bootstrap': hp.choice( 'bootstrap', ( True, False )),\n",
    "    #'class_weight': hp.choice( 'class_weight', ( 'balanced', 'balanced_subsample', None )),\n",
    "    #'max_depth': hp.choice('max_depth', np.arange( 2, 80, dtype=int)),\n",
    "    #'max_features': hp.choice( 'mf', ( 'sqrt', 'log2', None )),\n",
    "    #'min_samples_split': hp.choice('min_samples_split', np.arange( 2, 20, dtype=int)),\n",
    "    'min_samples_leaf': hp.choice('min_samples_leaf', np.arange( 1, 3, dtype=int)),\n",
    "    'alpha': hp.uniform('alpha', 0.01, 0.8),\n",
    "    'cap': hp.uniform('cap', 0.01, 0.2)\n",
    "    #'n_estimators': hp.choice( 'n_estimators', [100,150, 200, 250, 300, 350,500]),\n",
    "}\n",
    "\n",
    "\n",
    "\n",
    "\n",
    "random_state = 42\n",
    "\n",
    "# X_train, X_cv, y_train, y_cv = train_test_split(X_B,\n",
    "#                                                 y, \n",
    "#                                                 test_size=0.1, \n",
    "#                                                 random_state=random_state, \n",
    "#                                                 stratify=y)\n",
    "\n",
    "\n",
    "def objective(space):\n",
    "\n",
    "    clf = Liquid_Voter2(random_state=random_state, **space)\n",
    "    clf.fit(tr, y_train)\n",
    "    pred = clf.predict(tr_test)\n",
    "    acc = accuracy_score(y_test, pred)\n",
    "    train_acc = accuracy_score(y_train, clf.predict(tr))\n",
    "    print(\"Train score: %0.3f  -- Validation score: %0.3f\"% (train_acc, acc))\n",
    "    to_return = {'loss':1-acc, 'train_loss':1-train_acc, 'status': STATUS_OK }\n",
    "    to_return.update(space)\n",
    "    return to_return\n",
    "\n",
    "\n",
    "trials = Trials()\n",
    "best = fmin(fn=objective,\n",
    "            space=space,\n",
    "            algo=tpe.suggest,\n",
    "            max_evals=100,\n",
    "            trials=trials)\n",
    "\n",
    "print(best)\n"
   ]
  },
  {
   "cell_type": "markdown",
   "metadata": {},
   "source": [
    "# Fetch the trials results\n",
    "And keep a separate Dataframe for the categorical variables"
   ]
  },
  {
   "cell_type": "code",
   "execution_count": 7,
   "metadata": {},
   "outputs": [
    {
     "name": "stdout",
     "output_type": "stream",
     "text": [
      "(100, 5)\n",
      "Index([u'alpha', u'cap', u'loss', u'min_samples_leaf', u'train_loss'], dtype='object')\n"
     ]
    }
   ],
   "source": [
    "tt = [t['result'] for t in trials.trials]\n",
    "dd = pd.DataFrame(tt)\n",
    "# categorical_feats = ['criterion', \n",
    "#                      'class_weight', \n",
    "#                      'max_features',\n",
    "#                      'bootstrap']\n",
    "# dd_cat = dd[categorical_feats+['loss']+['train_loss']]\n",
    "# for cat in categorical_feats:\n",
    "#     del dd[cat]\n",
    "del dd['status']\n",
    "print(dd.shape)\n",
    "print(dd.columns)"
   ]
  },
  {
   "cell_type": "markdown",
   "metadata": {},
   "source": [
    "# Pivot the table\n",
    "(this can be done more efficiently probably)"
   ]
  },
  {
   "cell_type": "code",
   "execution_count": 8,
   "metadata": {},
   "outputs": [
    {
     "data": {
      "text/html": [
       "<div>\n",
       "<style scoped>\n",
       "    .dataframe tbody tr th:only-of-type {\n",
       "        vertical-align: middle;\n",
       "    }\n",
       "\n",
       "    .dataframe tbody tr th {\n",
       "        vertical-align: top;\n",
       "    }\n",
       "\n",
       "    .dataframe thead th {\n",
       "        text-align: right;\n",
       "    }\n",
       "</style>\n",
       "<table border=\"1\" class=\"dataframe\">\n",
       "  <thead>\n",
       "    <tr style=\"text-align: right;\">\n",
       "      <th></th>\n",
       "      <th>alpha</th>\n",
       "      <th>cap</th>\n",
       "      <th>loss</th>\n",
       "      <th>min_samples_leaf</th>\n",
       "      <th>set</th>\n",
       "    </tr>\n",
       "  </thead>\n",
       "  <tbody>\n",
       "    <tr>\n",
       "      <th>0</th>\n",
       "      <td>0.017807</td>\n",
       "      <td>0.180784</td>\n",
       "      <td>0.158915</td>\n",
       "      <td>2.0</td>\n",
       "      <td>Test</td>\n",
       "    </tr>\n",
       "    <tr>\n",
       "      <th>1</th>\n",
       "      <td>0.017807</td>\n",
       "      <td>0.180784</td>\n",
       "      <td>0.006678</td>\n",
       "      <td>2.0</td>\n",
       "      <td>Train</td>\n",
       "    </tr>\n",
       "    <tr>\n",
       "      <th>2</th>\n",
       "      <td>0.792997</td>\n",
       "      <td>0.030682</td>\n",
       "      <td>0.112403</td>\n",
       "      <td>1.0</td>\n",
       "      <td>Test</td>\n",
       "    </tr>\n",
       "    <tr>\n",
       "      <th>3</th>\n",
       "      <td>0.792997</td>\n",
       "      <td>0.030682</td>\n",
       "      <td>0.000000</td>\n",
       "      <td>1.0</td>\n",
       "      <td>Train</td>\n",
       "    </tr>\n",
       "    <tr>\n",
       "      <th>4</th>\n",
       "      <td>0.289324</td>\n",
       "      <td>0.158601</td>\n",
       "      <td>0.147287</td>\n",
       "      <td>2.0</td>\n",
       "      <td>Test</td>\n",
       "    </tr>\n",
       "    <tr>\n",
       "      <th>5</th>\n",
       "      <td>0.289324</td>\n",
       "      <td>0.158601</td>\n",
       "      <td>0.005008</td>\n",
       "      <td>2.0</td>\n",
       "      <td>Train</td>\n",
       "    </tr>\n",
       "    <tr>\n",
       "      <th>6</th>\n",
       "      <td>0.150716</td>\n",
       "      <td>0.164847</td>\n",
       "      <td>0.112403</td>\n",
       "      <td>1.0</td>\n",
       "      <td>Test</td>\n",
       "    </tr>\n",
       "    <tr>\n",
       "      <th>7</th>\n",
       "      <td>0.150716</td>\n",
       "      <td>0.164847</td>\n",
       "      <td>0.000000</td>\n",
       "      <td>1.0</td>\n",
       "      <td>Train</td>\n",
       "    </tr>\n",
       "    <tr>\n",
       "      <th>8</th>\n",
       "      <td>0.124103</td>\n",
       "      <td>0.166192</td>\n",
       "      <td>0.151163</td>\n",
       "      <td>2.0</td>\n",
       "      <td>Test</td>\n",
       "    </tr>\n",
       "    <tr>\n",
       "      <th>9</th>\n",
       "      <td>0.124103</td>\n",
       "      <td>0.166192</td>\n",
       "      <td>0.006678</td>\n",
       "      <td>2.0</td>\n",
       "      <td>Train</td>\n",
       "    </tr>\n",
       "    <tr>\n",
       "      <th>10</th>\n",
       "      <td>0.073189</td>\n",
       "      <td>0.165355</td>\n",
       "      <td>0.112403</td>\n",
       "      <td>1.0</td>\n",
       "      <td>Test</td>\n",
       "    </tr>\n",
       "    <tr>\n",
       "      <th>11</th>\n",
       "      <td>0.073189</td>\n",
       "      <td>0.165355</td>\n",
       "      <td>0.000000</td>\n",
       "      <td>1.0</td>\n",
       "      <td>Train</td>\n",
       "    </tr>\n",
       "    <tr>\n",
       "      <th>12</th>\n",
       "      <td>0.552070</td>\n",
       "      <td>0.107728</td>\n",
       "      <td>0.139535</td>\n",
       "      <td>2.0</td>\n",
       "      <td>Test</td>\n",
       "    </tr>\n",
       "    <tr>\n",
       "      <th>13</th>\n",
       "      <td>0.552070</td>\n",
       "      <td>0.107728</td>\n",
       "      <td>0.001669</td>\n",
       "      <td>2.0</td>\n",
       "      <td>Train</td>\n",
       "    </tr>\n",
       "    <tr>\n",
       "      <th>14</th>\n",
       "      <td>0.676491</td>\n",
       "      <td>0.124759</td>\n",
       "      <td>0.112403</td>\n",
       "      <td>1.0</td>\n",
       "      <td>Test</td>\n",
       "    </tr>\n",
       "    <tr>\n",
       "      <th>15</th>\n",
       "      <td>0.676491</td>\n",
       "      <td>0.124759</td>\n",
       "      <td>0.000000</td>\n",
       "      <td>1.0</td>\n",
       "      <td>Train</td>\n",
       "    </tr>\n",
       "    <tr>\n",
       "      <th>16</th>\n",
       "      <td>0.746134</td>\n",
       "      <td>0.095601</td>\n",
       "      <td>0.131783</td>\n",
       "      <td>2.0</td>\n",
       "      <td>Test</td>\n",
       "    </tr>\n",
       "    <tr>\n",
       "      <th>17</th>\n",
       "      <td>0.746134</td>\n",
       "      <td>0.095601</td>\n",
       "      <td>0.000000</td>\n",
       "      <td>2.0</td>\n",
       "      <td>Train</td>\n",
       "    </tr>\n",
       "    <tr>\n",
       "      <th>18</th>\n",
       "      <td>0.752158</td>\n",
       "      <td>0.138945</td>\n",
       "      <td>0.155039</td>\n",
       "      <td>2.0</td>\n",
       "      <td>Test</td>\n",
       "    </tr>\n",
       "    <tr>\n",
       "      <th>19</th>\n",
       "      <td>0.752158</td>\n",
       "      <td>0.138945</td>\n",
       "      <td>0.000000</td>\n",
       "      <td>2.0</td>\n",
       "      <td>Train</td>\n",
       "    </tr>\n",
       "    <tr>\n",
       "      <th>20</th>\n",
       "      <td>0.740980</td>\n",
       "      <td>0.198583</td>\n",
       "      <td>0.151163</td>\n",
       "      <td>2.0</td>\n",
       "      <td>Test</td>\n",
       "    </tr>\n",
       "    <tr>\n",
       "      <th>21</th>\n",
       "      <td>0.740980</td>\n",
       "      <td>0.198583</td>\n",
       "      <td>0.005008</td>\n",
       "      <td>2.0</td>\n",
       "      <td>Train</td>\n",
       "    </tr>\n",
       "    <tr>\n",
       "      <th>22</th>\n",
       "      <td>0.019734</td>\n",
       "      <td>0.127462</td>\n",
       "      <td>0.112403</td>\n",
       "      <td>1.0</td>\n",
       "      <td>Test</td>\n",
       "    </tr>\n",
       "    <tr>\n",
       "      <th>23</th>\n",
       "      <td>0.019734</td>\n",
       "      <td>0.127462</td>\n",
       "      <td>0.000000</td>\n",
       "      <td>1.0</td>\n",
       "      <td>Train</td>\n",
       "    </tr>\n",
       "    <tr>\n",
       "      <th>24</th>\n",
       "      <td>0.355282</td>\n",
       "      <td>0.039179</td>\n",
       "      <td>0.112403</td>\n",
       "      <td>1.0</td>\n",
       "      <td>Test</td>\n",
       "    </tr>\n",
       "    <tr>\n",
       "      <th>25</th>\n",
       "      <td>0.355282</td>\n",
       "      <td>0.039179</td>\n",
       "      <td>0.000000</td>\n",
       "      <td>1.0</td>\n",
       "      <td>Train</td>\n",
       "    </tr>\n",
       "    <tr>\n",
       "      <th>26</th>\n",
       "      <td>0.616710</td>\n",
       "      <td>0.104644</td>\n",
       "      <td>0.139535</td>\n",
       "      <td>2.0</td>\n",
       "      <td>Test</td>\n",
       "    </tr>\n",
       "    <tr>\n",
       "      <th>27</th>\n",
       "      <td>0.616710</td>\n",
       "      <td>0.104644</td>\n",
       "      <td>0.001669</td>\n",
       "      <td>2.0</td>\n",
       "      <td>Train</td>\n",
       "    </tr>\n",
       "    <tr>\n",
       "      <th>28</th>\n",
       "      <td>0.548893</td>\n",
       "      <td>0.154616</td>\n",
       "      <td>0.127907</td>\n",
       "      <td>2.0</td>\n",
       "      <td>Test</td>\n",
       "    </tr>\n",
       "    <tr>\n",
       "      <th>29</th>\n",
       "      <td>0.548893</td>\n",
       "      <td>0.154616</td>\n",
       "      <td>0.003339</td>\n",
       "      <td>2.0</td>\n",
       "      <td>Train</td>\n",
       "    </tr>\n",
       "    <tr>\n",
       "      <th>...</th>\n",
       "      <td>...</td>\n",
       "      <td>...</td>\n",
       "      <td>...</td>\n",
       "      <td>...</td>\n",
       "      <td>...</td>\n",
       "    </tr>\n",
       "    <tr>\n",
       "      <th>170</th>\n",
       "      <td>0.199636</td>\n",
       "      <td>0.163730</td>\n",
       "      <td>0.112403</td>\n",
       "      <td>1.0</td>\n",
       "      <td>Test</td>\n",
       "    </tr>\n",
       "    <tr>\n",
       "      <th>171</th>\n",
       "      <td>0.199636</td>\n",
       "      <td>0.163730</td>\n",
       "      <td>0.000000</td>\n",
       "      <td>1.0</td>\n",
       "      <td>Train</td>\n",
       "    </tr>\n",
       "    <tr>\n",
       "      <th>172</th>\n",
       "      <td>0.565141</td>\n",
       "      <td>0.127726</td>\n",
       "      <td>0.112403</td>\n",
       "      <td>1.0</td>\n",
       "      <td>Test</td>\n",
       "    </tr>\n",
       "    <tr>\n",
       "      <th>173</th>\n",
       "      <td>0.565141</td>\n",
       "      <td>0.127726</td>\n",
       "      <td>0.000000</td>\n",
       "      <td>1.0</td>\n",
       "      <td>Train</td>\n",
       "    </tr>\n",
       "    <tr>\n",
       "      <th>174</th>\n",
       "      <td>0.047907</td>\n",
       "      <td>0.140717</td>\n",
       "      <td>0.112403</td>\n",
       "      <td>1.0</td>\n",
       "      <td>Test</td>\n",
       "    </tr>\n",
       "    <tr>\n",
       "      <th>175</th>\n",
       "      <td>0.047907</td>\n",
       "      <td>0.140717</td>\n",
       "      <td>0.000000</td>\n",
       "      <td>1.0</td>\n",
       "      <td>Train</td>\n",
       "    </tr>\n",
       "    <tr>\n",
       "      <th>176</th>\n",
       "      <td>0.240269</td>\n",
       "      <td>0.144894</td>\n",
       "      <td>0.143411</td>\n",
       "      <td>2.0</td>\n",
       "      <td>Test</td>\n",
       "    </tr>\n",
       "    <tr>\n",
       "      <th>177</th>\n",
       "      <td>0.240269</td>\n",
       "      <td>0.144894</td>\n",
       "      <td>0.008347</td>\n",
       "      <td>2.0</td>\n",
       "      <td>Train</td>\n",
       "    </tr>\n",
       "    <tr>\n",
       "      <th>178</th>\n",
       "      <td>0.640247</td>\n",
       "      <td>0.118057</td>\n",
       "      <td>0.112403</td>\n",
       "      <td>1.0</td>\n",
       "      <td>Test</td>\n",
       "    </tr>\n",
       "    <tr>\n",
       "      <th>179</th>\n",
       "      <td>0.640247</td>\n",
       "      <td>0.118057</td>\n",
       "      <td>0.000000</td>\n",
       "      <td>1.0</td>\n",
       "      <td>Train</td>\n",
       "    </tr>\n",
       "    <tr>\n",
       "      <th>180</th>\n",
       "      <td>0.443611</td>\n",
       "      <td>0.088638</td>\n",
       "      <td>0.112403</td>\n",
       "      <td>1.0</td>\n",
       "      <td>Test</td>\n",
       "    </tr>\n",
       "    <tr>\n",
       "      <th>181</th>\n",
       "      <td>0.443611</td>\n",
       "      <td>0.088638</td>\n",
       "      <td>0.000000</td>\n",
       "      <td>1.0</td>\n",
       "      <td>Train</td>\n",
       "    </tr>\n",
       "    <tr>\n",
       "      <th>182</th>\n",
       "      <td>0.363817</td>\n",
       "      <td>0.060572</td>\n",
       "      <td>0.112403</td>\n",
       "      <td>1.0</td>\n",
       "      <td>Test</td>\n",
       "    </tr>\n",
       "    <tr>\n",
       "      <th>183</th>\n",
       "      <td>0.363817</td>\n",
       "      <td>0.060572</td>\n",
       "      <td>0.000000</td>\n",
       "      <td>1.0</td>\n",
       "      <td>Train</td>\n",
       "    </tr>\n",
       "    <tr>\n",
       "      <th>184</th>\n",
       "      <td>0.385501</td>\n",
       "      <td>0.064157</td>\n",
       "      <td>0.112403</td>\n",
       "      <td>1.0</td>\n",
       "      <td>Test</td>\n",
       "    </tr>\n",
       "    <tr>\n",
       "      <th>185</th>\n",
       "      <td>0.385501</td>\n",
       "      <td>0.064157</td>\n",
       "      <td>0.000000</td>\n",
       "      <td>1.0</td>\n",
       "      <td>Train</td>\n",
       "    </tr>\n",
       "    <tr>\n",
       "      <th>186</th>\n",
       "      <td>0.782512</td>\n",
       "      <td>0.100379</td>\n",
       "      <td>0.143411</td>\n",
       "      <td>2.0</td>\n",
       "      <td>Test</td>\n",
       "    </tr>\n",
       "    <tr>\n",
       "      <th>187</th>\n",
       "      <td>0.782512</td>\n",
       "      <td>0.100379</td>\n",
       "      <td>0.000000</td>\n",
       "      <td>2.0</td>\n",
       "      <td>Train</td>\n",
       "    </tr>\n",
       "    <tr>\n",
       "      <th>188</th>\n",
       "      <td>0.709852</td>\n",
       "      <td>0.122044</td>\n",
       "      <td>0.112403</td>\n",
       "      <td>1.0</td>\n",
       "      <td>Test</td>\n",
       "    </tr>\n",
       "    <tr>\n",
       "      <th>189</th>\n",
       "      <td>0.709852</td>\n",
       "      <td>0.122044</td>\n",
       "      <td>0.000000</td>\n",
       "      <td>1.0</td>\n",
       "      <td>Train</td>\n",
       "    </tr>\n",
       "    <tr>\n",
       "      <th>190</th>\n",
       "      <td>0.679155</td>\n",
       "      <td>0.072374</td>\n",
       "      <td>0.112403</td>\n",
       "      <td>1.0</td>\n",
       "      <td>Test</td>\n",
       "    </tr>\n",
       "    <tr>\n",
       "      <th>191</th>\n",
       "      <td>0.679155</td>\n",
       "      <td>0.072374</td>\n",
       "      <td>0.000000</td>\n",
       "      <td>1.0</td>\n",
       "      <td>Train</td>\n",
       "    </tr>\n",
       "    <tr>\n",
       "      <th>192</th>\n",
       "      <td>0.789956</td>\n",
       "      <td>0.082051</td>\n",
       "      <td>0.112403</td>\n",
       "      <td>1.0</td>\n",
       "      <td>Test</td>\n",
       "    </tr>\n",
       "    <tr>\n",
       "      <th>193</th>\n",
       "      <td>0.789956</td>\n",
       "      <td>0.082051</td>\n",
       "      <td>0.000000</td>\n",
       "      <td>1.0</td>\n",
       "      <td>Train</td>\n",
       "    </tr>\n",
       "    <tr>\n",
       "      <th>194</th>\n",
       "      <td>0.540551</td>\n",
       "      <td>0.092066</td>\n",
       "      <td>0.112403</td>\n",
       "      <td>1.0</td>\n",
       "      <td>Test</td>\n",
       "    </tr>\n",
       "    <tr>\n",
       "      <th>195</th>\n",
       "      <td>0.540551</td>\n",
       "      <td>0.092066</td>\n",
       "      <td>0.000000</td>\n",
       "      <td>1.0</td>\n",
       "      <td>Train</td>\n",
       "    </tr>\n",
       "    <tr>\n",
       "      <th>196</th>\n",
       "      <td>0.542738</td>\n",
       "      <td>0.110201</td>\n",
       "      <td>0.139535</td>\n",
       "      <td>2.0</td>\n",
       "      <td>Test</td>\n",
       "    </tr>\n",
       "    <tr>\n",
       "      <th>197</th>\n",
       "      <td>0.542738</td>\n",
       "      <td>0.110201</td>\n",
       "      <td>0.001669</td>\n",
       "      <td>2.0</td>\n",
       "      <td>Train</td>\n",
       "    </tr>\n",
       "    <tr>\n",
       "      <th>198</th>\n",
       "      <td>0.657390</td>\n",
       "      <td>0.033081</td>\n",
       "      <td>0.112403</td>\n",
       "      <td>1.0</td>\n",
       "      <td>Test</td>\n",
       "    </tr>\n",
       "    <tr>\n",
       "      <th>199</th>\n",
       "      <td>0.657390</td>\n",
       "      <td>0.033081</td>\n",
       "      <td>0.000000</td>\n",
       "      <td>1.0</td>\n",
       "      <td>Train</td>\n",
       "    </tr>\n",
       "  </tbody>\n",
       "</table>\n",
       "<p>200 rows × 5 columns</p>\n",
       "</div>"
      ],
      "text/plain": [
       "        alpha       cap      loss  min_samples_leaf    set\n",
       "0    0.017807  0.180784  0.158915               2.0   Test\n",
       "1    0.017807  0.180784  0.006678               2.0  Train\n",
       "2    0.792997  0.030682  0.112403               1.0   Test\n",
       "3    0.792997  0.030682  0.000000               1.0  Train\n",
       "4    0.289324  0.158601  0.147287               2.0   Test\n",
       "5    0.289324  0.158601  0.005008               2.0  Train\n",
       "6    0.150716  0.164847  0.112403               1.0   Test\n",
       "7    0.150716  0.164847  0.000000               1.0  Train\n",
       "8    0.124103  0.166192  0.151163               2.0   Test\n",
       "9    0.124103  0.166192  0.006678               2.0  Train\n",
       "10   0.073189  0.165355  0.112403               1.0   Test\n",
       "11   0.073189  0.165355  0.000000               1.0  Train\n",
       "12   0.552070  0.107728  0.139535               2.0   Test\n",
       "13   0.552070  0.107728  0.001669               2.0  Train\n",
       "14   0.676491  0.124759  0.112403               1.0   Test\n",
       "15   0.676491  0.124759  0.000000               1.0  Train\n",
       "16   0.746134  0.095601  0.131783               2.0   Test\n",
       "17   0.746134  0.095601  0.000000               2.0  Train\n",
       "18   0.752158  0.138945  0.155039               2.0   Test\n",
       "19   0.752158  0.138945  0.000000               2.0  Train\n",
       "20   0.740980  0.198583  0.151163               2.0   Test\n",
       "21   0.740980  0.198583  0.005008               2.0  Train\n",
       "22   0.019734  0.127462  0.112403               1.0   Test\n",
       "23   0.019734  0.127462  0.000000               1.0  Train\n",
       "24   0.355282  0.039179  0.112403               1.0   Test\n",
       "25   0.355282  0.039179  0.000000               1.0  Train\n",
       "26   0.616710  0.104644  0.139535               2.0   Test\n",
       "27   0.616710  0.104644  0.001669               2.0  Train\n",
       "28   0.548893  0.154616  0.127907               2.0   Test\n",
       "29   0.548893  0.154616  0.003339               2.0  Train\n",
       "..        ...       ...       ...               ...    ...\n",
       "170  0.199636  0.163730  0.112403               1.0   Test\n",
       "171  0.199636  0.163730  0.000000               1.0  Train\n",
       "172  0.565141  0.127726  0.112403               1.0   Test\n",
       "173  0.565141  0.127726  0.000000               1.0  Train\n",
       "174  0.047907  0.140717  0.112403               1.0   Test\n",
       "175  0.047907  0.140717  0.000000               1.0  Train\n",
       "176  0.240269  0.144894  0.143411               2.0   Test\n",
       "177  0.240269  0.144894  0.008347               2.0  Train\n",
       "178  0.640247  0.118057  0.112403               1.0   Test\n",
       "179  0.640247  0.118057  0.000000               1.0  Train\n",
       "180  0.443611  0.088638  0.112403               1.0   Test\n",
       "181  0.443611  0.088638  0.000000               1.0  Train\n",
       "182  0.363817  0.060572  0.112403               1.0   Test\n",
       "183  0.363817  0.060572  0.000000               1.0  Train\n",
       "184  0.385501  0.064157  0.112403               1.0   Test\n",
       "185  0.385501  0.064157  0.000000               1.0  Train\n",
       "186  0.782512  0.100379  0.143411               2.0   Test\n",
       "187  0.782512  0.100379  0.000000               2.0  Train\n",
       "188  0.709852  0.122044  0.112403               1.0   Test\n",
       "189  0.709852  0.122044  0.000000               1.0  Train\n",
       "190  0.679155  0.072374  0.112403               1.0   Test\n",
       "191  0.679155  0.072374  0.000000               1.0  Train\n",
       "192  0.789956  0.082051  0.112403               1.0   Test\n",
       "193  0.789956  0.082051  0.000000               1.0  Train\n",
       "194  0.540551  0.092066  0.112403               1.0   Test\n",
       "195  0.540551  0.092066  0.000000               1.0  Train\n",
       "196  0.542738  0.110201  0.139535               2.0   Test\n",
       "197  0.542738  0.110201  0.001669               2.0  Train\n",
       "198  0.657390  0.033081  0.112403               1.0   Test\n",
       "199  0.657390  0.033081  0.000000               1.0  Train\n",
       "\n",
       "[200 rows x 5 columns]"
      ]
     },
     "execution_count": 8,
     "metadata": {},
     "output_type": "execute_result"
    }
   ],
   "source": [
    "tr = []\n",
    "for i, row in dd.iterrows():\n",
    "    cur = {}\n",
    "    cur['loss'] = row['loss']\n",
    "    train_loss = row['train_loss']\n",
    "    del row['loss']\n",
    "    del row['train_loss']\n",
    "    cur['set'] = \"Test\"\n",
    "    cur.update(row.to_dict())\n",
    "    tr.append(cur)\n",
    "    cur = {}\n",
    "    cur['loss'] = train_loss\n",
    "    cur['set'] = \"Train\"\n",
    "    cur.update(row.to_dict())\n",
    "    tr.append(cur)\n",
    "dd2 = pd.DataFrame(tr)\n",
    "dd2"
   ]
  },
  {
   "cell_type": "markdown",
   "metadata": {},
   "source": [
    "# Do the same for the categorical Dataframe\n"
   ]
  },
  {
   "cell_type": "code",
   "execution_count": 7,
   "metadata": {},
   "outputs": [
    {
     "ename": "NameError",
     "evalue": "name 'dd_cat' is not defined",
     "output_type": "error",
     "traceback": [
      "\u001b[0;31m---------------------------------------------------------------------------\u001b[0m",
      "\u001b[0;31mNameError\u001b[0m                                 Traceback (most recent call last)",
      "\u001b[0;32m<ipython-input-7-7ee156885dff>\u001b[0m in \u001b[0;36m<module>\u001b[0;34m()\u001b[0m\n\u001b[1;32m      1\u001b[0m \u001b[0mtr\u001b[0m \u001b[0;34m=\u001b[0m \u001b[0;34m[\u001b[0m\u001b[0;34m]\u001b[0m\u001b[0;34m\u001b[0m\u001b[0m\n\u001b[0;32m----> 2\u001b[0;31m \u001b[0;32mfor\u001b[0m \u001b[0mi\u001b[0m\u001b[0;34m,\u001b[0m \u001b[0mrow\u001b[0m \u001b[0;32min\u001b[0m \u001b[0mdd_cat\u001b[0m\u001b[0;34m.\u001b[0m\u001b[0miterrows\u001b[0m\u001b[0;34m(\u001b[0m\u001b[0;34m)\u001b[0m\u001b[0;34m:\u001b[0m\u001b[0;34m\u001b[0m\u001b[0m\n\u001b[0m\u001b[1;32m      3\u001b[0m     \u001b[0mcur\u001b[0m \u001b[0;34m=\u001b[0m \u001b[0;34m{\u001b[0m\u001b[0;34m}\u001b[0m\u001b[0;34m\u001b[0m\u001b[0m\n\u001b[1;32m      4\u001b[0m     \u001b[0mcur\u001b[0m\u001b[0;34m[\u001b[0m\u001b[0;34m'loss'\u001b[0m\u001b[0;34m]\u001b[0m \u001b[0;34m=\u001b[0m \u001b[0mrow\u001b[0m\u001b[0;34m[\u001b[0m\u001b[0;34m'loss'\u001b[0m\u001b[0;34m]\u001b[0m\u001b[0;34m\u001b[0m\u001b[0m\n\u001b[1;32m      5\u001b[0m     \u001b[0mtrain_loss\u001b[0m \u001b[0;34m=\u001b[0m \u001b[0mrow\u001b[0m\u001b[0;34m[\u001b[0m\u001b[0;34m'train_loss'\u001b[0m\u001b[0;34m]\u001b[0m\u001b[0;34m\u001b[0m\u001b[0m\n",
      "\u001b[0;31mNameError\u001b[0m: name 'dd_cat' is not defined"
     ]
    }
   ],
   "source": [
    "tr = []\n",
    "for i, row in dd_cat.iterrows():\n",
    "    cur = {}\n",
    "    cur['loss'] = row['loss']\n",
    "    train_loss = row['train_loss']\n",
    "    del row['loss']\n",
    "    del row['train_loss']\n",
    "    cur['set'] = \"Test\"\n",
    "    cur.update(row.to_dict())\n",
    "    tr.append(cur)\n",
    "    cur = {}\n",
    "    cur['loss'] = train_loss\n",
    "    cur['set'] = \"Train\"\n",
    "    cur.update(row.to_dict())\n",
    "    tr.append(cur)\n",
    "dd2_cat = pd.DataFrame(tr)\n",
    "dd2_cat"
   ]
  },
  {
   "cell_type": "markdown",
   "metadata": {},
   "source": [
    "### Plot the Results"
   ]
  },
  {
   "cell_type": "code",
   "execution_count": 9,
   "metadata": {},
   "outputs": [
    {
     "data": {
      "image/png": "[encoded data removed]",
      "text/plain": [
       "<Figure size 1141.48x360 with 3 Axes>"
      ]
     },
     "metadata": {
      "needs_background": "light"
     },
     "output_type": "display_data"
    }
   ],
   "source": [
    "import seaborn as sns\n",
    "import matplotlib.pyplot as plt\n",
    "%matplotlib inline\n",
    "dd2_melted = dd2.melt(['loss', 'set'])\n",
    "g = sns.lmplot(x=\"value\", y=\"loss\", col=\"variable\", hue='set', data=dd2_melted,sharex=False) "
   ]
  },
  {
   "cell_type": "code",
   "execution_count": 23,
   "metadata": {},
   "outputs": [
    {
     "data": {
      "text/plain": [
       "array([0.01])"
      ]
     },
     "execution_count": 23,
     "metadata": {},
     "output_type": "execute_result"
    }
   ],
   "source": [
    "np.arange(0.01, 0.8)"
   ]
  },
  {
   "cell_type": "markdown",
   "metadata": {},
   "source": [
    "### Plot the Results\n",
    "(Categorical Vars into boxplot)\n",
    "This needs some fixing for the empty labels"
   ]
  },
  {
   "cell_type": "code",
   "execution_count": null,
   "metadata": {},
   "outputs": [],
   "source": [
    "dd2_cat_melted = dd2_cat.melt(['loss', 'set'])\n",
    "g = sns.catplot(x=\"value\", y=\"loss\", col='variable', hue='set', \n",
    "                data=dd2_cat_melted, sharex=False,\n",
    "                kind='box')"
   ]
  }
 ],
 "metadata": {
  "kernelspec": {
   "display_name": "Python 2",
   "language": "python",
   "name": "python2"
  },
  "language_info": {
   "codemirror_mode": {
    "name": "ipython",
    "version": 2
   },
   "file_extension": ".py",
   "mimetype": "text/x-python",
   "name": "python",
   "nbconvert_exporter": "python",
   "pygments_lexer": "ipython2",
   "version": "2.7.15rc1"
  }
 },
 "nbformat": 4,
 "nbformat_minor": 2
}
