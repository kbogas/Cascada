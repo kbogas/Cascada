{
 "cells": [
  {
   "cell_type": "markdown",
   "metadata": {},
   "source": [
    "# Simple xgboost hyper-parameter tuning using hyperopt"
   ]
  },
  {
   "cell_type": "code",
   "execution_count": null,
   "metadata": {},
   "outputs": [],
   "source": [
    "from sklearn.model_selection import train_test_split\n",
    "X_train, X_cv, y_train, y_cv = train_test_split(X_concat,y, \n",
    "                                                    test_size=0.1, \n",
    "                                                    random_state=42, stratify=y)"
   ]
  },
  {
   "cell_type": "code",
   "execution_count": null,
   "metadata": {},
   "outputs": [],
   "source": [
    "import pandas as pd, numpy as np\n",
    "from sklearn.metrics import accuracy_score\n",
    "import xgboost as xgb\n",
    "from hyperopt import hp, fmin, tpe, STATUS_OK, Trials\n",
    "from sklearn.model_selection import train_test_split\n",
    "\n",
    "\n",
    "random_state = 42\n",
    "\n",
    "X_train, X_cv, y_train, y_cv = train_test_split(X_concat,\n",
    "                                                y, \n",
    "                                                test_size=0.1, \n",
    "                                                random_state=random_state, \n",
    "                                                stratify=y)\n",
    "\n",
    "\n",
    "def objective(space):\n",
    "\n",
    "    clf = xgb.XGBClassifier(**space)\n",
    "\n",
    "    eval_set  = [(X_cv, y_cv)]\n",
    "\n",
    "    clf.fit(X_train, y_train,\n",
    "            eval_set=eval_set,\n",
    "            early_stopping_rounds=30)\n",
    "\n",
    "    pred = clf.predict(X_cv)\n",
    "    acc = accuracy_score(y_cv, pred)\n",
    "    print \"SCORE:\", acc\n",
    "\n",
    "    return{'loss':1-acc, 'status': STATUS_OK }\n",
    "\n",
    "\n",
    "space ={\n",
    "        'n_estimators' :hp.choice('n_estimators', np.arange( 100, 1000, dtype=int)),\n",
    "        'max_depth': hp.choice('max_depth', np.arange(1, 10, dtype=int)),\n",
    "        'min_child_weight': hp.quniform ('x_min_child', 1, 10, 1),\n",
    "        'subsample': hp.uniform ('x_subsample', 0.8, 1),\n",
    "        'gamma' : hp.quniform('gamma', 0.5, 1, 0.05),\n",
    "        'colsample_bytree' : hp.quniform('colsample_bytree', 0.5, 1, 0.05),\n",
    "        'eval_metric': 'error',\n",
    "        'objective': 'binary:logistic',\n",
    "        'nthread' : -1,\n",
    "        'silent' : 0,\n",
    "        'random_state': random_state\n",
    "    }\n",
    "\n",
    "\n",
    "trials = Trials()\n",
    "best = fmin(fn=objective,\n",
    "            space=space,\n",
    "            algo=tpe.suggest,\n",
    "            max_evals=100,\n",
    "            trials=trials)\n",
    "\n",
    "print best"
   ]
  },
  {
   "cell_type": "markdown",
   "metadata": {},
   "source": [
    "# Parameters for gridsearch to be used"
   ]
  },
  {
   "cell_type": "code",
   "execution_count": 2,
   "metadata": {},
   "outputs": [],
   "source": [
    "param_dist_rigid = {\n",
    "    'clf_xgb':\n",
    "        { \n",
    "            'clf_xgb__n_estimators': [100, 250,500,750, 1000],\n",
    "            'clf_xgb__learning_rate': [0.01, 0.03, 0.05, 0.07],\n",
    "            'clf_xgb__subsample': [0.3, 0.5, 0.7, 0.9],\n",
    "            'clf_xgb__max_depth': [3, 4, 5,8],\n",
    "            'clf_xgb__gamma': [0.5,0.7,0.8,1],\n",
    "            'clf_xgb__colsample_bytree': [0.5, 0.7, 0.9],\n",
    "            'clf_xgb__seed': [42]\n",
    "         }\n",
    "}"
   ]
  },
  {
   "cell_type": "code",
   "execution_count": null,
   "metadata": {},
   "outputs": [],
   "source": []
  }
 ],
 "metadata": {
  "kernelspec": {
   "display_name": "Python 2",
   "language": "python",
   "name": "python2"
  },
  "language_info": {
   "codemirror_mode": {
    "name": "ipython",
    "version": 2
   },
   "file_extension": ".py",
   "mimetype": "text/x-python",
   "name": "python",
   "nbconvert_exporter": "python",
   "pygments_lexer": "ipython2",
   "version": "2.7.15rc1"
  }
 },
 "nbformat": 4,
 "nbformat_minor": 2
}
