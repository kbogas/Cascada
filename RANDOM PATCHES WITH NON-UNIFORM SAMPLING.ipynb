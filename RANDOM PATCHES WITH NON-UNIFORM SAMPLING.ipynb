{
 "cells": [
  {
   "cell_type": "markdown",
   "metadata": {},
   "source": [
    "The idea is to do random patches but try out different methodologies regarding the sampling procedure. First, in the form of weighted samples where ideas from Breiman's Paper (pasting) and Adaboost can be used.\n",
    "Second, in the form of weighted features with respect to correlation (chi square, best of k?) between the selected samples?\n",
    "\n",
    "- [Link to breiman Paper](https://link.springer.com/content/pdf/10.1023%2FA%3A1007563306331.pdf)\n",
    "- [Link to Louppe Paper](https://orbi.uliege.be/bitstream/2268/130099/1/glouppe12.pdf)"
   ]
  },
  {
   "cell_type": "code",
   "execution_count": 7,
   "metadata": {},
   "outputs": [
    {
     "name": "stderr",
     "output_type": "stream",
     "text": [
      "/usr/local/lib/python2.7/dist-packages/sklearn/cross_validation.py:41: DeprecationWarning: This module was deprecated in version 0.18 in favor of the model_selection module into which all the refactored classes and functions are moved. Also note that the interface of the new CV iterators are different from that of this module. This module will be removed in 0.20.\n",
      "  \"This module will be removed in 0.20.\", DeprecationWarning)\n"
     ]
    },
    {
     "ename": "NameError",
     "evalue": "name 'logging' is not defined",
     "output_type": "error",
     "traceback": [
      "\u001b[0;31m---------------------------------------------------------------------------\u001b[0m",
      "\u001b[0;31mNameError\u001b[0m                                 Traceback (most recent call last)",
      "\u001b[0;32m<ipython-input-7-ef9bf38adebc>\u001b[0m in \u001b[0;36m<module>\u001b[0;34m()\u001b[0m\n\u001b[1;32m     34\u001b[0m \u001b[0;34m\u001b[0m\u001b[0m\n\u001b[1;32m     35\u001b[0m \u001b[0;31m# Display progress logs on stdout\u001b[0m\u001b[0;34m\u001b[0m\u001b[0;34m\u001b[0m\u001b[0m\n\u001b[0;32m---> 36\u001b[0;31m logging.basicConfig(level=logging.INFO,\n\u001b[0m\u001b[1;32m     37\u001b[0m                     format='%(asctime)s %(levelname)s %(message)s')\n\u001b[1;32m     38\u001b[0m \u001b[0;34m\u001b[0m\u001b[0m\n",
      "\u001b[0;31mNameError\u001b[0m: name 'logging' is not defined"
     ]
    }
   ],
   "source": [
    "from sklearn.cross_validation import cross_val_score\n",
    "from sklearn.ensemble import BaggingClassifier\n",
    "from sklearn.neighbors import KNeighborsClassifier\n",
    "\n",
    "\n",
    "import numpy as np\n",
    "import matplotlib.pyplot as plt\n",
    "import matplotlib.gridspec as gridspec\n",
    "import itertools\n",
    "\n",
    "import sklearn\n",
    "\n",
    "from sklearn.linear_model import LogisticRegression\n",
    "from sklearn.svm import SVC\n",
    "from sklearn.ensemble import RandomForestClassifier\n",
    "\n",
    "from brew.base import Ensemble, EnsembleClassifier\n",
    "from brew.stacking.stacker import EnsembleStack, EnsembleStackClassifier\n",
    "from brew.combination.combiner import Combiner\n",
    "from sklearn.metrics import accuracy_score, confusion_matrix, classification_report\n",
    "\n",
    "\n",
    "from mlxtend.data import wine_data, iris_data\n",
    "\n",
    "from mlxtend.plotting import plot_decision_regions\n",
    "\n",
    "\n",
    "from sklearn.base import TransformerMixin, BaseEstimator\n",
    "from sklearn.ensemble import ExtraTreesClassifier\n",
    "from itertools import combinations\n",
    "import random\n",
    "random.seed(10)\n",
    "\n",
    "\n",
    "# Display progress logs on stdout\n",
    "logging.basicConfig(level=logging.INFO,\n",
    "                    format='%(asctime)s %(levelname)s %(message)s')\n",
    "\n",
    "\n",
    "X, y = wine_data()\n",
    "\n",
    "\n",
    "knn = KNeighborsClassifier()\n",
    "bagging = BaggingClassifier(knn, max_samples=0.5, max_features=0.5)\n",
    "\n",
    "print(\"KNN Score:\")\n",
    "print(cross_val_score(knn, X, y, cv=5, n_jobs=-1).mean())\n",
    "print(\"Bagging Score:\")\n",
    "print(cross_val_score(bagging, X, y, cv=5, n_jobs=-1).mean())\n",
    "\n",
    "\n"
   ]
  },
  {
   "cell_type": "code",
   "execution_count": 8,
   "metadata": {},
   "outputs": [
    {
     "ename": "SyntaxError",
     "evalue": "invalid syntax (<ipython-input-8-b5e3e48164d3>, line 4)",
     "output_type": "error",
     "traceback": [
      "\u001b[0;36m  File \u001b[0;32m\"<ipython-input-8-b5e3e48164d3>\"\u001b[0;36m, line \u001b[0;32m4\u001b[0m\n\u001b[0;31m    randon_state.choice([i for i in xrange(0, n_population)], n_samples, p=)\u001b[0m\n\u001b[0m                                                                           ^\u001b[0m\n\u001b[0;31mSyntaxError\u001b[0m\u001b[0;31m:\u001b[0m invalid syntax\n"
     ]
    }
   ],
   "source": [
    "random_state = check_random_state(0)\n",
    "random_state.randint(0, 15, 2)\n",
    "\n",
    "randon_state.choice([i for i in xrange(0, n_population)], n_samples, p=)"
   ]
  },
  {
   "cell_type": "code",
   "execution_count": 9,
   "metadata": {},
   "outputs": [
    {
     "name": "stderr",
     "output_type": "stream",
     "text": [
      "/usr/local/lib/python2.7/dist-packages/ipykernel_launcher.py:5: RuntimeWarning: divide by zero encountered in divide\n",
      "  \"\"\"\n",
      "/usr/local/lib/python2.7/dist-packages/ipykernel_launcher.py:5: RuntimeWarning: divide by zero encountered in log\n",
      "  \"\"\"\n"
     ]
    },
    {
     "data": {
      "image/png": "[encoded data removed]",
      "text/plain": [
       "<Figure size 432x288 with 1 Axes>"
      ]
     },
     "metadata": {},
     "output_type": "display_data"
    }
   ],
   "source": [
    "import matplotlib.pyplot as plt\n",
    "import numpy\n",
    "\n",
    "x = numpy.linspace(0,1,100) # 100 linearly spaced numbers\n",
    "yy = np.exp(0.5*np.log((1-x)/x)) # computing the values of sin(x)/x\n",
    "\n",
    "# compose plot\n",
    "plt.plot(x,yy) # sin(x)/x\n",
    "#plt.plot(x,yy,'co') # same function with cyan dots\n",
    "plt.show() # show the plot"
   ]
  },
  {
   "cell_type": "code",
   "execution_count": 10,
   "metadata": {},
   "outputs": [
    {
     "ename": "NameError",
     "evalue": "name 'a' is not defined",
     "output_type": "error",
     "traceback": [
      "\u001b[0;31m---------------------------------------------------------------------------\u001b[0m",
      "\u001b[0;31mNameError\u001b[0m                                 Traceback (most recent call last)",
      "\u001b[0;32m<ipython-input-10-0c676070ba42>\u001b[0m in \u001b[0;36m<module>\u001b[0;34m()\u001b[0m\n\u001b[0;32m----> 1\u001b[0;31m \u001b[0;32mprint\u001b[0m\u001b[0;34m(\u001b[0m\u001b[0ma\u001b[0m\u001b[0;34m)\u001b[0m\u001b[0;34m\u001b[0m\u001b[0m\n\u001b[0m\u001b[1;32m      2\u001b[0m \u001b[0;32mprint\u001b[0m\u001b[0;34m(\u001b[0m\u001b[0msigns\u001b[0m\u001b[0;34m[\u001b[0m\u001b[0;36m0\u001b[0m\u001b[0;34m]\u001b[0m\u001b[0;34m)\u001b[0m\u001b[0;34m\u001b[0m\u001b[0m\n\u001b[1;32m      3\u001b[0m \u001b[0;32mprint\u001b[0m\u001b[0;34m(\u001b[0m\u001b[0mnp\u001b[0m\u001b[0;34m.\u001b[0m\u001b[0mexp\u001b[0m\u001b[0;34m(\u001b[0m\u001b[0;34m-\u001b[0m\u001b[0ma\u001b[0m\u001b[0;34m*\u001b[0m\u001b[0msigns\u001b[0m\u001b[0;34m[\u001b[0m\u001b[0;36m0\u001b[0m\u001b[0;34m]\u001b[0m\u001b[0;34m)\u001b[0m\u001b[0;34m)\u001b[0m\u001b[0;34m\u001b[0m\u001b[0m\n\u001b[1;32m      4\u001b[0m \u001b[0;32mprint\u001b[0m\u001b[0;34m(\u001b[0m\u001b[0msigns\u001b[0m\u001b[0;34m[\u001b[0m\u001b[0;36m4\u001b[0m\u001b[0;34m]\u001b[0m\u001b[0;34m)\u001b[0m\u001b[0;34m\u001b[0m\u001b[0m\n\u001b[1;32m      5\u001b[0m \u001b[0;32mprint\u001b[0m\u001b[0;34m(\u001b[0m\u001b[0mnp\u001b[0m\u001b[0;34m.\u001b[0m\u001b[0mexp\u001b[0m\u001b[0;34m(\u001b[0m\u001b[0;34m-\u001b[0m\u001b[0ma\u001b[0m\u001b[0;34m*\u001b[0m\u001b[0msigns\u001b[0m\u001b[0;34m[\u001b[0m\u001b[0;36m4\u001b[0m\u001b[0;34m]\u001b[0m\u001b[0;34m)\u001b[0m\u001b[0;34m)\u001b[0m\u001b[0;34m\u001b[0m\u001b[0m\n",
      "\u001b[0;31mNameError\u001b[0m: name 'a' is not defined"
     ]
    }
   ],
   "source": [
    "print(a)\n",
    "print(signs[0])\n",
    "print(np.exp(-a*signs[0]))\n",
    "print(signs[4])\n",
    "print(np.exp(-a*signs[4]))"
   ]
  },
  {
   "cell_type": "code",
   "execution_count": 11,
   "metadata": {},
   "outputs": [
    {
     "ename": "NameError",
     "evalue": "name 'knn' is not defined",
     "output_type": "error",
     "traceback": [
      "\u001b[0;31m---------------------------------------------------------------------------\u001b[0m",
      "\u001b[0;31mNameError\u001b[0m                                 Traceback (most recent call last)",
      "\u001b[0;32m<ipython-input-11-39f7e6d9df06>\u001b[0m in \u001b[0;36m<module>\u001b[0;34m()\u001b[0m\n\u001b[0;32m----> 1\u001b[0;31m \u001b[0mknn\u001b[0m\u001b[0;34m.\u001b[0m\u001b[0mfit\u001b[0m\u001b[0;34m(\u001b[0m\u001b[0mX\u001b[0m\u001b[0;34m,\u001b[0m\u001b[0my\u001b[0m\u001b[0;34m)\u001b[0m\u001b[0;34m\u001b[0m\u001b[0m\n\u001b[0m\u001b[1;32m      2\u001b[0m \u001b[0mpreds2\u001b[0m \u001b[0;34m=\u001b[0m \u001b[0mknn\u001b[0m\u001b[0;34m.\u001b[0m\u001b[0mpredict\u001b[0m\u001b[0;34m(\u001b[0m\u001b[0mX\u001b[0m\u001b[0;34m)\u001b[0m\u001b[0;34m\u001b[0m\u001b[0m\n\u001b[1;32m      3\u001b[0m \u001b[0msc\u001b[0m \u001b[0;34m=\u001b[0m \u001b[0;36m1\u001b[0m\u001b[0;34m-\u001b[0m\u001b[0maccuracy_score\u001b[0m\u001b[0;34m(\u001b[0m\u001b[0my\u001b[0m\u001b[0;34m,\u001b[0m\u001b[0mpreds2\u001b[0m\u001b[0;34m,\u001b[0m \u001b[0mnormalize\u001b[0m\u001b[0;34m=\u001b[0m\u001b[0mTrue\u001b[0m\u001b[0;34m)\u001b[0m\u001b[0;34m\u001b[0m\u001b[0m\n\u001b[1;32m      4\u001b[0m \u001b[0;32mprint\u001b[0m\u001b[0;34m(\u001b[0m\u001b[0msc\u001b[0m\u001b[0;34m)\u001b[0m\u001b[0;34m\u001b[0m\u001b[0m\n\u001b[1;32m      5\u001b[0m \u001b[0ma\u001b[0m \u001b[0;34m=\u001b[0m \u001b[0;36m0.5\u001b[0m\u001b[0;34m*\u001b[0m\u001b[0mnp\u001b[0m\u001b[0;34m.\u001b[0m\u001b[0mlog\u001b[0m\u001b[0;34m(\u001b[0m\u001b[0;34m(\u001b[0m\u001b[0;36m1\u001b[0m\u001b[0;34m-\u001b[0m\u001b[0msc\u001b[0m\u001b[0;34m)\u001b[0m\u001b[0;34m/\u001b[0m\u001b[0mfloat\u001b[0m\u001b[0;34m(\u001b[0m\u001b[0msc\u001b[0m\u001b[0;34m)\u001b[0m\u001b[0;34m)\u001b[0m\u001b[0;34m\u001b[0m\u001b[0m\n",
      "\u001b[0;31mNameError\u001b[0m: name 'knn' is not defined"
     ]
    }
   ],
   "source": [
    "knn.fit(X,y)\n",
    "preds2 = knn.predict(X)\n",
    "sc = 1-accuracy_score(y,preds2, normalize=True)\n",
    "print(sc)\n",
    "a = 0.5*np.log((1-sc)/float(sc))\n",
    "print(a)\n",
    "signs = sign(y, preds2)\n",
    "#print(signs)\n",
    "temp =np.array([1/float(len(y)) for i in y])*np.exp(-a*signs)\n",
    "print(temp)\n",
    "print(temp/sum(temp))\n",
    "for i, sign_ in enumerate(signs):\n",
    "    if sign_ <0:\n",
    "        pass\n",
    "        #print(\"DIFFERENT\")\n",
    "        #print(y[i], preds2[i])\n",
    "        #print(np.mean(temp), temp[i])\n",
    "    elif sign_ >0:\n",
    "        pass\n",
    "        #print(\"SAME\")\n",
    "        #print(y[i], preds2[i])\n",
    "        #print(np.mean(temp), temp[i])"
   ]
  },
  {
   "cell_type": "code",
   "execution_count": 12,
   "metadata": {},
   "outputs": [
    {
     "ename": "NameError",
     "evalue": "name 'preds' is not defined",
     "output_type": "error",
     "traceback": [
      "\u001b[0;31m---------------------------------------------------------------------------\u001b[0m",
      "\u001b[0;31mNameError\u001b[0m                                 Traceback (most recent call last)",
      "\u001b[0;32m<ipython-input-12-ec08ce9545c3>\u001b[0m in \u001b[0;36m<module>\u001b[0;34m()\u001b[0m\n\u001b[0;32m----> 1\u001b[0;31m \u001b[0mssign\u001b[0m \u001b[0;34m=\u001b[0m \u001b[0mnp\u001b[0m\u001b[0;34m.\u001b[0m\u001b[0mones_like\u001b[0m\u001b[0;34m(\u001b[0m\u001b[0mpreds\u001b[0m\u001b[0;34m)\u001b[0m\u001b[0;34m\u001b[0m\u001b[0m\n\u001b[0m\u001b[1;32m      2\u001b[0m \u001b[0mssign\u001b[0m\u001b[0;34m[\u001b[0m\u001b[0mnp\u001b[0m\u001b[0;34m.\u001b[0m\u001b[0mwhere\u001b[0m\u001b[0;34m(\u001b[0m\u001b[0mpreds\u001b[0m\u001b[0;34m!=\u001b[0m\u001b[0my\u001b[0m\u001b[0;34m)\u001b[0m\u001b[0;34m]\u001b[0m \u001b[0;34m=\u001b[0m \u001b[0;34m-\u001b[0m\u001b[0;36m1\u001b[0m\u001b[0;34m\u001b[0m\u001b[0m\n\u001b[1;32m      3\u001b[0m \u001b[0mssign\u001b[0m\u001b[0;34m\u001b[0m\u001b[0m\n",
      "\u001b[0;31mNameError\u001b[0m: name 'preds' is not defined"
     ]
    }
   ],
   "source": [
    "ssign = np.ones_like(preds)\n",
    "ssign[np.where(preds!=y)] = -1\n",
    "ssign"
   ]
  },
  {
   "cell_type": "code",
   "execution_count": 199,
   "metadata": {},
   "outputs": [
    {
     "data": {
      "text/plain": [
       "array([8.62039620e-14, 8.62039620e-14, 1.00981784e-12, 1.44822656e-12,\n",
       "       5.24203654e-10, 8.80662139e-09, 4.71783289e-08, 3.08532463e-07,\n",
       "       6.89465754e-07, 7.92595925e-07, 1.15249918e-06, 3.61423742e-06,\n",
       "       6.55631483e-06, 6.55631483e-06, 1.93619862e-05, 2.44906075e-05,\n",
       "       4.64902324e-05, 7.68025452e-05, 8.32147652e-05, 8.32147652e-05,\n",
       "       8.32147652e-05, 4.11442206e-04, 5.44599866e-04, 5.90068335e-04,\n",
       "       5.90068335e-04, 5.90068335e-04, 5.90068335e-04, 9.74801535e-04,\n",
       "       9.74801535e-04, 9.74801535e-04, 9.74801535e-04, 9.74801535e-04,\n",
       "       9.74801535e-04, 9.74801535e-04, 9.74801535e-04, 6.91222906e-03,\n",
       "       6.91222906e-03, 6.91222906e-03, 6.91222906e-03, 6.91222906e-03,\n",
       "       6.91222906e-03, 6.91222906e-03, 6.91222906e-03, 6.91222906e-03,\n",
       "       6.91222906e-03, 6.91222906e-03, 6.91222906e-03, 6.91222906e-03,\n",
       "       6.91222906e-03, 6.91222906e-03, 6.91222906e-03, 6.91222906e-03,\n",
       "       6.91222906e-03, 6.91222906e-03, 6.91222906e-03, 6.91222906e-03,\n",
       "       6.91222906e-03, 6.91222906e-03, 6.91222906e-03, 6.91222906e-03,\n",
       "       6.91222906e-03, 6.91222906e-03, 6.91222906e-03, 6.91222906e-03,\n",
       "       6.91222906e-03, 6.91222906e-03, 6.91222906e-03, 6.91222906e-03,\n",
       "       6.91222906e-03, 6.91222906e-03, 6.91222906e-03, 6.91222906e-03,\n",
       "       6.91222906e-03, 6.91222906e-03, 6.91222906e-03, 6.91222906e-03,\n",
       "       6.91222906e-03, 6.91222906e-03, 6.91222906e-03, 6.91222906e-03,\n",
       "       6.91222906e-03, 6.91222906e-03, 6.91222906e-03, 6.91222906e-03,\n",
       "       6.91222906e-03, 6.91222906e-03, 6.91222906e-03, 6.91222906e-03,\n",
       "       6.91222906e-03, 6.91222906e-03, 6.91222906e-03, 6.91222906e-03,\n",
       "       6.91222906e-03, 6.91222906e-03, 6.91222906e-03, 6.91222906e-03,\n",
       "       6.91222906e-03, 6.91222906e-03, 6.91222906e-03, 6.91222906e-03,\n",
       "       6.91222906e-03, 6.91222906e-03, 6.91222906e-03, 6.91222906e-03,\n",
       "       6.91222906e-03, 6.91222906e-03, 6.91222906e-03, 6.91222906e-03,\n",
       "       6.91222906e-03, 6.91222906e-03, 6.91222906e-03, 6.91222906e-03,\n",
       "       6.91222906e-03, 6.91222906e-03, 6.91222906e-03, 6.91222906e-03,\n",
       "       6.91222906e-03, 6.91222906e-03, 6.91222906e-03, 6.91222906e-03,\n",
       "       6.91222906e-03, 6.91222906e-03, 6.91222906e-03, 6.91222906e-03,\n",
       "       6.91222906e-03, 6.91222906e-03, 6.91222906e-03, 6.91222906e-03,\n",
       "       6.91222906e-03, 6.91222906e-03, 6.91222906e-03, 6.91222906e-03,\n",
       "       6.91222906e-03, 6.91222906e-03, 6.91222906e-03, 6.91222906e-03,\n",
       "       6.91222906e-03, 6.91222906e-03, 6.91222906e-03, 6.91222906e-03,\n",
       "       6.91222906e-03, 6.91222906e-03, 6.91222906e-03, 6.91222906e-03,\n",
       "       6.91222906e-03, 6.91222906e-03, 6.91222906e-03, 6.91222906e-03,\n",
       "       6.91222906e-03, 6.91222906e-03, 6.91222906e-03, 6.91222906e-03,\n",
       "       6.91222906e-03, 6.91222906e-03, 6.91222906e-03, 6.91222906e-03,\n",
       "       6.91222906e-03, 6.91222906e-03, 6.91222906e-03, 6.91222906e-03,\n",
       "       6.91222906e-03, 6.91222906e-03, 6.91222906e-03, 6.91222906e-03,\n",
       "       6.91222906e-03, 6.91222906e-03, 6.91222906e-03, 6.91222906e-03,\n",
       "       6.91222906e-03, 6.91222906e-03, 6.91222906e-03, 6.91222906e-03,\n",
       "       6.91222906e-03, 6.91222906e-03, 6.91222906e-03, 6.91222906e-03,\n",
       "       6.91222906e-03, 6.91222906e-03])"
      ]
     },
     "execution_count": 199,
     "metadata": {},
     "output_type": "execute_result"
    }
   ],
   "source": [
    "#rp2.fit(X,y)\n",
    "preds = rp2.predict(X)\n",
    "rp2.samples_weights[-1][np.argsort(rp2.samples_weights[-1]).flatten()]\n",
    "#for i, y_ in enumerate(preds):\n",
    "    #print(\"%d -- %d\" % (y_, y[i]))\n",
    "    #print(rp2.samples_weights[-1][i])"
   ]
  },
  {
   "cell_type": "code",
   "execution_count": 502,
   "metadata": {},
   "outputs": [
    {
     "data": {
      "text/plain": [
       "True"
      ]
     },
     "execution_count": 502,
     "metadata": {},
     "output_type": "execute_result"
    }
   ],
   "source": []
  },
  {
   "cell_type": "code",
   "execution_count": 21,
   "metadata": {},
   "outputs": [],
   "source": [
    "from sklearn.base import BaseEstimator, ClassifierMixin, clone\n",
    "from sklearn.neighbors import KNeighborsClassifier\n",
    "from sklearn.utils import check_X_y, column_or_1d, check_random_state\n",
    "from sklearn.utils.multiclass import check_classification_targets\n",
    "from sklearn.model_selection import train_test_split\n",
    "from sklearn.utils import check_random_state, check_X_y, check_array, column_or_1d\n",
    "from sklearn.utils.random import sample_without_replacement\n",
    "from sklearn.utils.validation import has_fit_parameter, check_is_fitted\n",
    "from sklearn.utils import indices_to_mask, check_consistent_length\n",
    "from sklearn.utils.metaestimators import if_delegate_has_method\n",
    "from sklearn.utils.multiclass import check_classification_targets\n",
    "\n",
    "\n",
    "\n",
    "def _generate_indices(random_state, bootstrap, n_population, n_samples, prob= None):\n",
    "    \"\"\"Draw randomly sampled indices.\"\"\"\n",
    "    # Draw sample indices\n",
    "    if np.all(prob)!=None:\n",
    "        #print(prob.shape)\n",
    "        #print(prob)\n",
    "        indices = random_state.choice([i for i in xrange(0, n_population)], n_samples, p=prob)\n",
    "    else:\n",
    "        if bootstrap:\n",
    "            #print(random_state)\n",
    "            #print(n_population, n_samples)\n",
    "            indices = random_state.randint(0, n_population, n_samples)\n",
    "        else:\n",
    "            indices = sample_without_replacement(n_population, n_samples,\n",
    "                                                 random_state=random_state)\n",
    "\n",
    "    return indices\n",
    "\n",
    "\n",
    "def generate_bagging_indices(random_state, bootstrap_features,\n",
    "                              bootstrap_samples, n_features, n_samples,\n",
    "                              max_features, max_samples, samples_weights):\n",
    "    \"\"\"Randomly draw feature and sample indices.\"\"\"\n",
    "    # Get valid random state\n",
    "    random_state = check_random_state(random_state)\n",
    "\n",
    "    # Draw indices\n",
    "    #print(random_state, type(random_state))\n",
    "    \n",
    "    feature_indices = _generate_indices(random_state, bootstrap_features,\n",
    "                                        n_features, max_features)\n",
    "    #print(bootstrap_samples, n_samples, max_samples, samples_weights)\n",
    "    sample_indices = _generate_indices(random_state, bootstrap_samples,\n",
    "                                       n_samples, max_samples, prob=samples_weights)\n",
    "\n",
    "    return feature_indices, sample_indices\n",
    "\n",
    "\n",
    "\n",
    "def sign(true, preds):\n",
    "    ssign = np.ones_like(true)\n",
    "    ssign[np.where(preds!=true)] = -1\n",
    "    return ssign\n",
    "\n",
    "class Vanilla_RP(BaseEstimator, ClassifierMixin):\n",
    "    \n",
    "    def __init__(self, \n",
    "                 base_estimator_=KNeighborsClassifier(),\n",
    "                 n_estimators=10,\n",
    "                 max_samples=1.0,\n",
    "                 max_features=1.0,\n",
    "                 bootstrap_samples=True,\n",
    "                 bootstrap_features = False,\n",
    "                 patcher='random',\n",
    "                 dev_set=0.1,\n",
    "                 random_state=42):\n",
    "        self.base_estimator_ = base_estimator_\n",
    "        self.n_estimators= n_estimators\n",
    "        self.max_samples = max_samples\n",
    "        self.max_features = max_features\n",
    "        self.bootstrap_samples = bootstrap_samples\n",
    "        self.bootstrap_features = bootstrap_features\n",
    "        self.patcher = patcher\n",
    "        self.dev_set = 0.1\n",
    "        self.random_state = check_random_state(random_state)\n",
    "        self.ensemble = []\n",
    "        self.prev_samples_indices = []\n",
    "        self.estimators_features = []\n",
    "        self.samples_weights = []\n",
    "        self.samples_times_selected = None\n",
    "        self.scores = []\n",
    "        self.a = 0\n",
    "        self.X_dev = None\n",
    "        self.y_dev = None\n",
    "\n",
    "    \n",
    "    def fit(self, X, y):\n",
    "        \n",
    "        X, y = check_X_y(\n",
    "            X, y, ['csr', 'csc'], dtype=None, force_all_finite=False,\n",
    "            multi_output=True)\n",
    "        #print(y)\n",
    "        #print(type(y), y.shape)\n",
    "        #print(X.shape)\n",
    "        #X, self.X_dev, y, self.y_dev = train_test_split(X, y, test_size=self.dev_set, stratify=y)\n",
    "        n_samples, self.n_features_ = X.shape\n",
    "        self._n_samples = n_samples\n",
    "        self.samples_times_selected = np.zeros_like(y)\n",
    "        self.default_sample_weight = 1/float(X.shape[0])\n",
    "        self.max_samples = int(self.max_samples*self._n_samples)\n",
    "        self.max_features = int(self.max_features*self.n_features_)\n",
    "        \n",
    "        y = self._validate_y(y)\n",
    "        for i_est in xrange(self.n_estimators):\n",
    "            estimator = clone(self.base_estimator_)\n",
    "            if self.patcher == 'random':\n",
    "                features_indices, samples_indices = generate_bagging_indices(\n",
    "                    self.random_state, self.bootstrap_features,\n",
    "                              self.bootstrap_samples, X.shape[1], X.shape[0],\n",
    "                              self.max_features, self.max_samples, [None])\n",
    "            elif self.patcher == 'weighted':\n",
    "#                 X_train, X_dev, y_train, y_dev = train_test_split(X, y, stratify = True,\n",
    "#                                                                    test_size=self.dev_set, \n",
    "#                                                                    random_state=self.random_state)\n",
    "                if i_est==0:\n",
    "                    self.samples_weights.append(np.array([self.default_sample_weight for i in xrange(X.shape[0])]))\n",
    "                    self.scores.append(1)\n",
    "                    signs = np.ones_like(y)\n",
    "                else:\n",
    "                    signs = self.update_weights(X, y)\n",
    "                #print(\"ROUND %d\"%i_est)\n",
    "                #print(self.samples_weights[i_est])\n",
    "                #print(\"INDEX %d\" % i)\n",
    "                #print(self.samples_weights[i_est])\n",
    "                features_indices, samples_indices = generate_bagging_indices(\n",
    "                    self.random_state, self.bootstrap_features,\n",
    "                              self.bootstrap_samples, X.shape[1], X.shape[0],\n",
    "                              self.max_features, self.max_samples, self.samples_weights[i_est])\n",
    "                # print(\"ROUND %d\" % i_est)\n",
    "                # print(\"SCORE %0.3f\"%(self.scores[-1]))\n",
    "                if i_est != 0:\n",
    "                    accs = []\n",
    "                    accs_last = []\n",
    "                    overlaps = []\n",
    "                    accs_total = []\n",
    "                    for jj, ens in enumerate(self.ensemble):\n",
    "                        # print(len(self.prev_samples_indices), len(self.estimators_features))\n",
    "                        p_pred = ens.predict(X[self.prev_samples_indices[jj]][:, self.estimators_features[jj]])\n",
    "                        last_pred = ens.predict(X[self.prev_samples_indices[-1]][:, self.estimators_features[jj]])\n",
    "                        total_pred = self.predict(X[self.prev_samples_indices[jj]])\n",
    "                        accs.append(1-accuracy_score(y[self.prev_samples_indices[jj]], p_pred, normalize=True))\n",
    "                        accs_last.append(1-accuracy_score(y[self.prev_samples_indices[-1]], last_pred, normalize=True))\n",
    "                        accs_total.append(1-accuracy_score(y[self.prev_samples_indices[jj]], total_pred, normalize=True))\n",
    "                    #try:\n",
    "                        #    self.ensemble[jj+1]\n",
    "                        #except IndexError:\n",
    "                        #    print(\"CURRENT\")\n",
    "                        #    print(self.prev_samples_indices[jj])\n",
    "                        #    print(\"LAST\")\n",
    "                        #    print(self.prev_samples_indices[-1])\n",
    "                        #    print(np.array_equal(self.prev_samples_indices[jj], self.prev_samples_indices[-1]))\n",
    "                        #    print(np.intersect1d(self.prev_samples_indices[jj], self.prev_samples_indices[-1]).shape[0], self.prev_samples_indices[-1].shape[0], self.prev_samples_indices[jj].shape[0])\n",
    "                        overlaps.append(np.intersect1d(self.prev_samples_indices[jj], self.prev_samples_indices[-1]).shape[0]/float(np.unique(self.prev_samples_indices[jj]).shape[0]))\n",
    "                    accs = np.round(100*np.array(accs),3)\n",
    "                    accs_last = np.round(100*np.array(accs_last),3)\n",
    "                    overlaps = np.round(100*np.array(overlaps),3)\n",
    "                    accs_total = np.round(100*np.array(accs_total),3)\n",
    "#                     print(\"PREVIOUS ERRORS ON CORRESPONDING DATA\")\n",
    "#                     print(accs)\n",
    "#                     print(\"ERRORS OF THE ENSEMBLE ON CORRESPONDING DATA\")\n",
    "#                     print(accs_total)\n",
    "#                     print(\"PREVIOUS ERRORS ON LAST SELECTED DATA\")\n",
    "#                     print(accs_last)\n",
    "#                     print(\"OVERLAPS\")\n",
    "#                     print(overlaps)\n",
    "#                 print(\"a: %0.3f\"%self.a)\n",
    "#                 print(\"WEIGHTS\")\n",
    "#                 print(np.min(self.samples_weights[-1]), \n",
    "#                       np.mean(self.samples_weights[-1]), \n",
    "#                       np.max(self.samples_weights[-1]))\n",
    "#                 #print(self.samples_weights[-1])\n",
    "#                 print(\"SAMPLED INSTANCES\")\n",
    "#                 print(self.samples_weights[-1][samples_indices])\n",
    "#                 print(signs[samples_indices])\n",
    "#                 print(y[samples_indices])\n",
    "#                 print(\"~\"*50)\n",
    "            else:\n",
    "                print(\"UNSUPPORTED WAY OF PATCHING: %s !\" % self.patcher)\n",
    "            # minor fix for when one class is not represented during sampling\n",
    "            #print(samples_indices.shape)\n",
    "            samples_indices = self.fix_class_indices(y, samples_indices)\n",
    "            #print(\"AFTER\")\n",
    "            #print(samples_indices.shape)\n",
    "            estimator.fit(X[samples_indices][:, features_indices], y[samples_indices])\n",
    "            self.prev_samples_indices.append(samples_indices)\n",
    "            self.estimators_features.append(features_indices)\n",
    "            self.ensemble.append(estimator)\n",
    "            self.samples_times_selected[samples_indices] += 1\n",
    "        return self\n",
    "    \n",
    "    def fix_class_indices(self, y, samples_indices):\n",
    "        in_set = set(y[samples_indices])\n",
    "        a = set(y).difference(in_set)\n",
    "        for item in a:\n",
    "           samples_indices= np.append(samples_indices, [np.where(y==item)[0][0]])\n",
    "        return samples_indices\n",
    "    \n",
    "    def update_weights(self, X, y): \n",
    "        #print(\"REMOVED %d\" % np.where(self.samples_times_selected > 3)[0].shape[0])\n",
    "        #self.samples_weights[-1][np.where(self.samples_times_selected > 3)] = self.default_sample_weight\n",
    "        #self.samples_times_selected[np.where(self.samples_times_selected > 3)] = 0\n",
    "        preds = self.predict(X)\n",
    "        self.scores.append(1-accuracy_score(y, preds, normalize=True)+0.0001)\n",
    "        self.a = 0.5*np.log((1-self.scores[-1])/float(self.scores[-1]))\n",
    "        #self.a = 9\n",
    "        #self.a = 1\n",
    "        signs = sign(y, preds)\n",
    "        temp = self.samples_weights[-1]*np.exp(-self.a*signs)\n",
    "            \n",
    "        #print(\"MEAN\")\n",
    "        #print(np.mean(temp))\n",
    "        #print(temp[np.where(signs<0)])\n",
    "        self.samples_weights.append(temp/np.sum(temp))\n",
    "        preds = np.ones((X.shape[0], len(self.ensemble)))\n",
    "        for ii, est in enumerate(self.ensemble):\n",
    "            sc = accuracy_score(y, est.predict(X[:, self.estimators_features[ii]]), normalize=True)\n",
    "            preds[:, ii] = sc*sign(y, est.predict(X[:, self.estimators_features[ii]]))\n",
    "        #print(\"INITIAL\")\n",
    "        #print(preds)\n",
    "        #print(np.min(preds))\n",
    "        #print(\"AFTER COLLAPSE\")\n",
    "        preds = np.sum(preds, axis=1)\n",
    "        #print(preds)\n",
    "        #print(\"AFTER RESHAPE\")\n",
    "        preds = preds.reshape(-1,)\n",
    "        #print(preds)\n",
    "        if np.any(preds<0):\n",
    "            min_ = np.min(preds)\n",
    "            if min_ < 0:\n",
    "                min_ = -1*min_\n",
    "            #print(\"MIN\")\n",
    "            #print(min_)\n",
    "            preds = preds + min_ + 0.001\n",
    "        #else:\n",
    "            #preds = preds - np.min(preds) + 0.001\n",
    "        #print(\"AFTER_MIN\")\n",
    "        #print(preds)\n",
    "        #print(\"AFTER NORMALIZATION\")\n",
    "        preds /= np.sum(preds)\n",
    "        #print(preds)\n",
    "        #print(preds)\n",
    "        #print(np.sum(preds))\n",
    "        self.samples_weights.append(preds)\n",
    "        return signs\n",
    "    \n",
    "    def _validate_y(self, y):\n",
    "        y = column_or_1d(y, warn=True)\n",
    "        check_classification_targets(y)\n",
    "        self.classes_, y = np.unique(y, return_inverse=True)\n",
    "        self.n_classes_ = len(self.classes_)\n",
    "        return y\n",
    "    \n",
    "    def predict(self, X):\n",
    "        \"\"\"Predict class for X.\n",
    "        The predicted class of an input sample is computed as the class with\n",
    "        the highest mean predicted probability. If base estimators do not\n",
    "        implement a ``predict_proba`` method, then it resorts to voting.\n",
    "        Parameters\n",
    "        ----------\n",
    "        X : {array-like, sparse matrix} of shape = [n_samples, n_features]\n",
    "            The training input samples. Sparse matrices are accepted only if\n",
    "            they are supported by the base estimator.\n",
    "        Returns\n",
    "        -------\n",
    "        y : array of shape = [n_samples]\n",
    "            The predicted classes.\n",
    "        \"\"\"\n",
    "    \n",
    "        if hasattr(self.base_estimator_, \"predict_proba\"):\n",
    "            predicted_probability = self.predict_proba(X)\n",
    "            return self.classes_.take((np.argmax(predicted_probability, axis=1)),\n",
    "                                  axis=0)\n",
    "        else:\n",
    "            predicted_probability = np.zeros((X.shape[0],1))\n",
    "            for i, ens in enumerate(self.ensemble):\n",
    "                predicted_probability = np.hstack((predicted_probability, ens.predict(X[:, self.estimators_features[i]]).reshape(-1,1)))\n",
    "            predicted_probability = np.delete(predicted_probability,0,axis=1)\n",
    "            final_pred = []\n",
    "            for sample in xrange(X.shape[0]):\n",
    "                final_pred.append(most_common(predicted_probability[sample,:]))\n",
    "                #votes = []\n",
    "                #for i, mod_vote in predictions[sample,:]:\n",
    "                #    votes.extend([predictions[sample, i] for j in xrange(int(self.acc[i]))])\n",
    "                #final_pred = most_common(votes)\n",
    "            return np.array(final_pred)   \n",
    "  \n",
    "\n",
    "\n",
    "    def predict_proba(self, X):\n",
    "        \"\"\"Predict class probabilities for X.\n",
    "        The predicted class probabilities of an input sample is computed as\n",
    "        the mean predicted class probabilities of the base estimators in the\n",
    "        ensemble. If base estimators do not implement a ``predict_proba``\n",
    "        method, then it resorts to voting and the predicted class probabilities\n",
    "        of an input sample represents the proportion of estimators predicting\n",
    "        each class.\n",
    "        Parameters\n",
    "        ----------\n",
    "        X : {array-like, sparse matrix} of shape = [n_samples, n_features]\n",
    "            The training input samples. Sparse matrices are accepted only if\n",
    "            they are supported by the base estimator.\n",
    "        Returns\n",
    "        -------\n",
    "        p : array of shape = [n_samples, n_classes]\n",
    "            The class probabilities of the input samples. The order of the\n",
    "            classes corresponds to that in the attribute `classes_`.\n",
    "        \"\"\"\n",
    "        check_is_fitted(self, \"classes_\")\n",
    "        # Check data\n",
    "        X = check_array(\n",
    "            X, accept_sparse=['csr', 'csc'], dtype=None,\n",
    "            force_all_finite=False\n",
    "        )\n",
    "\n",
    "        if self.n_features_ != X.shape[1]:\n",
    "            raise ValueError(\"Number of features of the model must \"\n",
    "                             \"match the input. Model n_features is {0} and \"\n",
    "                             \"input n_features is {1}.\"\n",
    "                             \"\".format(self.n_features_, X.shape[1]))\n",
    "\n",
    "        all_proba = np.zeros((X.shape[0], self.n_classes_))\n",
    "        for i, ens in enumerate(self.ensemble):\n",
    "            all_proba += ens.predict_proba(X[:, self.estimators_features[i]])\n",
    "        all_proba /= self.n_estimators\n",
    "        #print(all_proba.shape)\n",
    "        #print(all_proba)\n",
    "        #proba = np.sum(all_proba, axis=0) / self.n_estimators\n",
    "        #print(proba.shape)\n",
    "        #print(proba)\n",
    "        return all_proba\n",
    "\n",
    "\n",
    "    @if_delegate_has_method(delegate='base_estimator')\n",
    "    def decision_function(self, X):\n",
    "        \"\"\"Average of the decision functions of the base classifiers.\n",
    "        Parameters\n",
    "        ----------\n",
    "        X : {array-like, sparse matrix} of shape = [n_samples, n_features]\n",
    "            The training input samples. Sparse matrices are accepted only if\n",
    "            they are supported by the base estimator.\n",
    "        Returns\n",
    "        -------\n",
    "        score : array, shape = [n_samples, k]\n",
    "            The decision function of the input samples. The columns correspond\n",
    "            to the classes in sorted order, as they appear in the attribute\n",
    "            ``classes_``. Regression and binary classification are special\n",
    "            cases with ``k == 1``, otherwise ``k==n_classes``.\n",
    "        \"\"\"\n",
    "        check_is_fitted(self, \"classes_\")\n",
    "\n",
    "        # Check data\n",
    "        X = check_array(\n",
    "            X, accept_sparse=['csr', 'csc'], dtype=None,\n",
    "            force_all_finite=False\n",
    "        )\n",
    "\n",
    "        if self.n_features_ != X.shape[1]:\n",
    "            raise ValueError(\"Number of features of the model must \"\n",
    "                             \"match the input. Model n_features is {0} and \"\n",
    "                             \"input n_features is {1} \"\n",
    "                             \"\".format(self.n_features_, X.shape[1]))\n",
    "        all_decisions = np.zeros((X.shape[0], self.n_classes_))\n",
    "        for i, ens in enumerate(self.ensemble):\n",
    "            all_decisions += ens.predict_proba(X[:, self.estimators_features[i]]) \n",
    "        decisions = sum(all_decisions) / self.n_estimators\n",
    "\n",
    "        return decisions\n",
    "\n",
    "        \n",
    "    \n",
    "\n",
    "        \n",
    "        \n",
    "def most_common(lst):\n",
    "    if isinstance(lst, np.ndarray):\n",
    "        lst = lst.tolist()\n",
    "    #print(lst, max(set(lst), key=lst.count)  )\n",
    "    return max(set(lst), key=lst.count)                     \n",
    "        \n",
    "        "
   ]
  },
  {
   "cell_type": "code",
   "execution_count": 464,
   "metadata": {},
   "outputs": [
    {
     "data": {
      "text/plain": [
       "1"
      ]
     },
     "execution_count": 464,
     "metadata": {},
     "output_type": "execute_result"
    }
   ],
   "source": [
    "min(min(np.array([[1,2]])))"
   ]
  },
  {
   "cell_type": "code",
   "execution_count": 15,
   "metadata": {},
   "outputs": [
    {
     "ename": "NameError",
     "evalue": "name 'knn' is not defined",
     "output_type": "error",
     "traceback": [
      "\u001b[0;31m---------------------------------------------------------------------------\u001b[0m",
      "\u001b[0;31mNameError\u001b[0m                                 Traceback (most recent call last)",
      "\u001b[0;32m<ipython-input-15-8faf7cc61ec3>\u001b[0m in \u001b[0;36m<module>\u001b[0;34m()\u001b[0m\n\u001b[1;32m      1\u001b[0m \u001b[0;31m#X, y = wine_data()\u001b[0m\u001b[0;34m\u001b[0m\u001b[0;34m\u001b[0m\u001b[0m\n\u001b[0;32m----> 2\u001b[0;31m \u001b[0mrp2\u001b[0m \u001b[0;34m=\u001b[0m \u001b[0mVanilla_RP\u001b[0m\u001b[0;34m(\u001b[0m\u001b[0mknn\u001b[0m\u001b[0;34m,\u001b[0m\u001b[0mmax_samples\u001b[0m\u001b[0;34m=\u001b[0m\u001b[0;36m0.5\u001b[0m\u001b[0;34m,\u001b[0m \u001b[0mmax_features\u001b[0m\u001b[0;34m=\u001b[0m\u001b[0;36m0.5\u001b[0m\u001b[0;34m,\u001b[0m \u001b[0mpatcher\u001b[0m\u001b[0;34m=\u001b[0m\u001b[0;34m'weighted'\u001b[0m\u001b[0;34m)\u001b[0m\u001b[0;34m\u001b[0m\u001b[0m\n\u001b[0m\u001b[1;32m      3\u001b[0m \u001b[0mrp2\u001b[0m\u001b[0;34m.\u001b[0m\u001b[0mfit\u001b[0m\u001b[0;34m(\u001b[0m\u001b[0mX\u001b[0m\u001b[0;34m,\u001b[0m\u001b[0my\u001b[0m\u001b[0;34m)\u001b[0m\u001b[0;34m\u001b[0m\u001b[0m\n\u001b[1;32m      4\u001b[0m \u001b[0;34m\u001b[0m\u001b[0m\n\u001b[1;32m      5\u001b[0m \u001b[0;31m#train_test_split(X,y,test_size=0.2, stratify=y)\u001b[0m\u001b[0;34m\u001b[0m\u001b[0;34m\u001b[0m\u001b[0m\n",
      "\u001b[0;31mNameError\u001b[0m: name 'knn' is not defined"
     ]
    }
   ],
   "source": [
    "#X, y = wine_data()\n",
    "rp2 = Vanilla_RP(knn,max_samples=0.5, max_features=0.5, patcher='weighted')\n",
    "rp2.fit(X,y)\n",
    "\n",
    "#train_test_split(X,y,test_size=0.2, stratify=y)"
   ]
  },
  {
   "cell_type": "code",
   "execution_count": 22,
   "metadata": {},
   "outputs": [
    {
     "name": "stdout",
     "output_type": "stream",
     "text": [
      "KNN Score:\n",
      "0.7666666666666667\n",
      "Bagging Score:\n",
      "0.76\n",
      "RP Score:\n",
      "0.7466666666666667\n",
      "RP-WEIGHTED Score:\n",
      "0.6333333333333334\n"
     ]
    }
   ],
   "source": [
    "knn = KNeighborsClassifier()\n",
    "bagging = BaggingClassifier(knn, max_samples=0.5, max_features=0.5)\n",
    "rp = Vanilla_RP(knn,max_samples=0.5, max_features=0.5)\n",
    "rp2 = Vanilla_RP(knn,max_samples=0.5, max_features=0.5, patcher='weighted')\n",
    "print(\"KNN Score:\")\n",
    "print(cross_val_score(knn, X, y, cv=5, n_jobs=-1).mean())\n",
    "print(\"Bagging Score:\")\n",
    "print(cross_val_score(bagging, X, y, cv=5, n_jobs=-1).mean())\n",
    "print(\"RP Score:\")\n",
    "print(cross_val_score(rp, X, y, cv=5, n_jobs=-1).mean())\n",
    "print(\"RP-WEIGHTED Score:\")\n",
    "print(cross_val_score(rp2, X, y, cv=5, n_jobs=-1).mean())\n"
   ]
  },
  {
   "cell_type": "code",
   "execution_count": 265,
   "metadata": {},
   "outputs": [
    {
     "ename": "SyntaxError",
     "evalue": "invalid syntax (<ipython-input-265-5d8d022927a3>, line 67)",
     "output_type": "error",
     "traceback": [
      "\u001b[0;36m  File \u001b[0;32m\"<ipython-input-265-5d8d022927a3>\"\u001b[0;36m, line \u001b[0;32m67\u001b[0m\n\u001b[0;31m    def sign_()\u001b[0m\n\u001b[0m               ^\u001b[0m\n\u001b[0;31mSyntaxError\u001b[0m\u001b[0;31m:\u001b[0m invalid syntax\n"
     ]
    }
   ],
   "source": [
    "\n",
    "\"\"\"Bagging meta-estimator.\"\"\"\n",
    "\n",
    "# Author: Gilles Louppe <g.louppe@gmail.com>\n",
    "# License: BSD 3 clause\n",
    "\n",
    "from __future__ import division\n",
    "\n",
    "import itertools\n",
    "import numbers\n",
    "import numpy as np\n",
    "from warnings import warn\n",
    "from abc import ABCMeta, abstractmethod\n",
    "\n",
    "from sklearn.base import ClassifierMixin, RegressorMixin\n",
    "from sklearn.externals.joblib import Parallel, delayed\n",
    "from sklearn.externals.six import with_metaclass\n",
    "from sklearn.externals.six.moves import zip\n",
    "from sklearn.metrics import r2_score, accuracy_score\n",
    "from sklearn.tree import DecisionTreeClassifier, DecisionTreeRegressor\n",
    "from sklearn.utils import check_random_state, check_X_y, check_array, column_or_1d\n",
    "from sklearn.utils.random import sample_without_replacement\n",
    "from sklearn.utils.validation import has_fit_parameter, check_is_fitted\n",
    "from sklearn.utils import indices_to_mask, check_consistent_length\n",
    "from sklearn.utils.metaestimators import if_delegate_has_method\n",
    "from sklearn.utils.multiclass import check_classification_targets\n",
    "\n",
    "from sklearn.base import BaseEnsemble, _partition_estimators\n",
    "\n",
    "\n",
    "__all__ = [\"BaggingClassifier\",\n",
    "           \"BaggingRegressor\"]\n",
    "\n",
    "MAX_INT = np.iinfo(np.int32).max\n",
    "\n",
    "\n",
    "def _generate_indices(random_state, bootstrap, n_population, n_samples, prob= None):\n",
    "    \"\"\"Draw randomly sampled indices.\"\"\"\n",
    "    # Draw sample indices\n",
    "    if prob:\n",
    "        indices = random_state.choice([i for i in xrange(0, n_population)], n_samples, p=prob)\n",
    "    else:\n",
    "        if bootstrap:\n",
    "            indices = random_state.randint(0, n_population, n_samples)\n",
    "        else:\n",
    "            indices = sample_without_replacement(n_population, n_samples,\n",
    "                                                 random_state=random_state)\n",
    "\n",
    "    return indices\n",
    "\n",
    "\n",
    "def _generate_bagging_indices(random_state, bootstrap_features,\n",
    "                              bootstrap_samples, n_features, n_samples,\n",
    "                              max_features, max_samples):\n",
    "    \"\"\"Randomly draw feature and sample indices.\"\"\"\n",
    "    # Get valid random state\n",
    "    random_state = check_random_state(random_state)\n",
    "\n",
    "    # Draw indices\n",
    "    feature_indices = _generate_indices(random_state, bootstrap_features,\n",
    "                                        n_features, max_features)\n",
    "    sample_indices = _generate_indices(random_state, bootstrap_samples,\n",
    "                                       n_samples, max_samples)\n",
    "\n",
    "    return feature_indices, sample_indices\n",
    "\n",
    "def sign_()\n",
    "\n",
    "def _parallel_build_estimators(n_estimators, ensemble, X, y, sample_weight,\n",
    "                               seeds, total_n_estimators, verbose, sample_weights):\n",
    "    \"\"\"Private function used to build a batch of estimators within a job.\"\"\"\n",
    "    # Retrieve settings\n",
    "    n_samples, n_features = X.shape\n",
    "    max_features = ensemble._max_features\n",
    "    max_samples = ensemble._max_samples\n",
    "    bootstrap = ensemble.bootstrap\n",
    "    bootstrap_features = ensemble.bootstrap_features\n",
    "    support_sample_weight = has_fit_parameter(ensemble.base_estimator_,\n",
    "                                              \"sample_weight\")\n",
    "    if not support_sample_weight and sample_weight is not None:\n",
    "        raise ValueError(\"The base estimator doesn't support sample weight\")\n",
    "\n",
    "    # Build estimators\n",
    "    estimators = []\n",
    "    estimators_features = []\n",
    "\n",
    "    for i in range(n_estimators):\n",
    "        if verbose > 1:\n",
    "            print(\"Building estimator %d of %d for this parallel run \"\n",
    "                  \"(total %d)...\" % (i + 1, n_estimators, total_n_estimators))\n",
    "\n",
    "        random_state = np.random.RandomState(seeds[i])\n",
    "        estimator = ensemble._make_estimator(append=False,\n",
    "                                             random_state=random_state)\n",
    "\n",
    "        # Draw random feature, sample indices\n",
    "        a = 0.5*np.log((1-self.oob_score_)/self.oob_score_)\n",
    "        sample_weights =\n",
    "        features, indices = _generate_bagging_indices(random_state,\n",
    "                                                      bootstrap_features,\n",
    "                                                      bootstrap, n_features,\n",
    "                                                      n_samples, max_features,\n",
    "                                                      max_samples, prob=sample_weights)\n",
    "\n",
    "        # Draw samples, using sample weights, and then fit\n",
    "        if support_sample_weight:\n",
    "            if sample_weight is None:\n",
    "                curr_sample_weight = np.ones((n_samples,))\n",
    "            else:\n",
    "                curr_sample_weight = sample_weight.copy()\n",
    "\n",
    "            if bootstrap:\n",
    "                sample_counts = np.bincount(indices, minlength=n_samples)\n",
    "                curr_sample_weight *= sample_counts\n",
    "            else:\n",
    "                not_indices_mask = ~indices_to_mask(indices, n_samples)\n",
    "                curr_sample_weight[not_indices_mask] = 0\n",
    "\n",
    "            estimator.fit(X[:, features], y, sample_weight=curr_sample_weight)\n",
    "\n",
    "        # Draw samples, using a mask, and then fit\n",
    "        else:\n",
    "            estimator.fit((X[indices])[:, features], y[indices])\n",
    "\n",
    "        estimators.append(estimator)\n",
    "        estimators_features.append(features)\n",
    "\n",
    "    return estimators, estimators_features\n",
    "\n",
    "\n",
    "def _parallel_predict_proba(estimators, estimators_features, X, n_classes):\n",
    "    \"\"\"Private function used to compute (proba-)predictions within a job.\"\"\"\n",
    "    n_samples = X.shape[0]\n",
    "    p_parallel_predict_probaroba = np.zeros((n_samples, n_classes))\n",
    "\n",
    "    for estimator, features in zip(estimators, estimators_features):\n",
    "        if hasattr(estimator, \"predict_proba\"):\n",
    "            proba_estimator = estimator.predict_proba(X[:, features])\n",
    "\n",
    "            if n_classes == len(estimator.classes_):\n",
    "                proba += proba_estimator\n",
    "\n",
    "            else:\n",
    "                proba[:, estimator.classes_] += \\\n",
    "                    proba_estimator[:, range(len(estimator.classes_))]\n",
    "\n",
    "        else:\n",
    "            # Resort to voting\n",
    "            predictions = estimator.predict(X[:, features])\n",
    "\n",
    "            for i in range(n_samples):\n",
    "                proba[i, predictions[i]] += 1\n",
    "\n",
    "    return proba\n",
    "\n",
    "\n",
    "def _parallel_predict_log_proba(estimators, estimators_features, X, n_classes):\n",
    "    \"\"\"Private function used to compute log probabilities within a job.\"\"\"\n",
    "    n_samples = X.shape[0]\n",
    "    log_proba = np.empty((n_samples, n_classes))\n",
    "    log_proba.fill(-np.inf)\n",
    "    all_classes = np.arange(n_classes, dtype=np.int)\n",
    "\n",
    "    for estimator, features in zip(estimators, estimators_features):\n",
    "        log_proba_estimator = estimator.predict_log_proba(X[:, features])\n",
    "\n",
    "        if n_classes == len(estimator.classes_):\n",
    "            log_proba = np.logaddexp(log_proba, log_proba_estimator)\n",
    "\n",
    "        else:\n",
    "            log_proba[:, estimator.classes_] = np.logaddexp(\n",
    "                log_proba[:, estimator.classes_],\n",
    "                log_proba_estimator[:, range(len(estimator.classes_))])\n",
    "\n",
    "            missing = np.setdiff1d(all_classes, estimator.classes_)\n",
    "            log_proba[:, missing] = np.logaddexp(log_proba[:, missing],\n",
    "                                                 -np.inf)\n",
    "\n",
    "    return log_proba\n",
    "\n",
    "\n",
    "def _parallel_decision_function(estimators, estimators_features, X):\n",
    "    \"\"\"Private function used to compute decisions within a job.\"\"\"\n",
    "    return sum(estimator.decision_function(X[:, features])\n",
    "               for estimator, features in zip(estimators,\n",
    "                                              estimators_features))\n",
    "\n",
    "\n",
    "def _parallel_predict_regression(estimators, estimators_features, X):\n",
    "    \"\"\"Private function used to compute predictions within a job.\"\"\"\n",
    "    return sum(estimator.predict(X[:, features])\n",
    "               for estimator, features in zip(estimators,\n",
    "                                              estimators_features))\n",
    "\n",
    "\n",
    "class BaseBagging(with_metaclass(ABCMeta, BaseEnsemble)):\n",
    "    \"\"\"Base class for Bagging meta-estimator.\n",
    "    Warning: This class should not be used directly. Use derived classes\n",
    "    instead.\n",
    "    \"\"\"\n",
    "\n",
    "    @abstractmethod\n",
    "    def __init__(self,\n",
    "                 base_estimator=None,\n",
    "                 n_estimators=10,\n",
    "                 max_samples=1.0,\n",
    "                 max_features=1.0,\n",
    "                 bootstrap=True,\n",
    "                 bootstrap_features=False,\n",
    "                 oob_score=False,\n",
    "                 warm_start=False,\n",
    "                 n_jobs=1,\n",
    "                 random_state=None,\n",
    "                 verbose=0):\n",
    "        super(BaseBagging, self).__init__(\n",
    "            base_estimator=base_estimator,\n",
    "            n_estimators=n_estimators)\n",
    "\n",
    "        self.max_samples = max_samples\n",
    "        self.max_features = max_features\n",
    "        self.bootstrap = bootstrap\n",
    "        self.bootstrap_features = bootstrap_features\n",
    "        self.oob_score = oob_score\n",
    "        self.warm_start = warm_start\n",
    "        self.n_jobs = n_jobs\n",
    "        self.random_state = random_state\n",
    "        self.verbose = verbose\n",
    "        self.samples_weights = None \n",
    "\n",
    "    def fit(self, X, y, sample_weight=None):\n",
    "        \"\"\"Build a Bagging ensemble of estimators from the training\n",
    "           set (X, y).\n",
    "        Parameters\n",
    "        ----------\n",
    "        X : {array-like, sparse matrix} of shape = [n_samples, n_features]\n",
    "            The training input samples. Sparse matrices are accepted only if\n",
    "            they are supported by the base estimator.\n",
    "        y : array-like, shape = [n_samples]\n",
    "            The target values (class labels in classification, real numbers in\n",
    "            regression).\n",
    "        sample_weight : array-like, shape = [n_samples] or None\n",
    "            Sample weights. If None, then samples are equally weighted.\n",
    "            Note that this is supported only if the base estimator supports\n",
    "            sample weighting.\n",
    "        Returns\n",
    "        -------\n",
    "        self : object\n",
    "            Returns self.\n",
    "        \"\"\"\n",
    "        return self._fit(X, y, self.max_samples, sample_weight=sample_weight)\n",
    "\n",
    "    def _fit(self, X, y, max_samples=None, max_depth=None, sample_weight=None):\n",
    "        \"\"\"Build a Bagging ensemble of estimators from the training\n",
    "           set (X, y).\n",
    "        Parameters\n",
    "        ----------\n",
    "        X : {array-like, sparse matrix} of shape = [n_samples, n_features]\n",
    "            The training input samples. Sparse matrices are accepted only if\n",
    "            they are supported by the base estimator.\n",
    "        y : array-like, shape = [n_samples]\n",
    "            The target values (class labels in classification, real numbers in\n",
    "            regression).\n",
    "        max_samples : int or float, optional (default=None)\n",
    "            Argument to use instead of self.max_samples.\n",
    "        max_depth : int, optional (default=None)\n",
    "            Override value used when constructing base estimator. Only\n",
    "            supported if the base estimator has a max_depth parameter.\n",
    "        sample_weight : array-like, shape = [n_samples] or None\n",
    "            Sample weights. If None, then samples are equally weighted.\n",
    "            Note that this is supported only if the base estimator supports\n",
    "            sample weighting.\n",
    "        Returns\n",
    "        -------\n",
    "        self : object\n",
    "            Returns self.\n",
    "        \"\"\"\n",
    "        random_state = check_random_state(self.random_state)\n",
    "\n",
    "        # Convert data\n",
    "        X, y = check_X_y(X, y, ['csr', 'csc'])\n",
    "        if sample_weight is not None:\n",
    "            sample_weight = check_array(sample_weight, ensure_2d=False)\n",
    "            check_consistent_length(y, sample_weight)\n",
    "\n",
    "        # Remap output\n",
    "        n_samples, self.n_features_ = X.shape\n",
    "        self._n_samples = n_samples\n",
    "        self.samples_weights = np.array([1/float(n_samples) for i in xrange(n_samples)])\n",
    "        y = self._validate_y(y)\n",
    "\n",
    "        # Check parameters\n",
    "        self._validate_estimator()\n",
    "\n",
    "        if max_depth is not None:\n",
    "            self.base_estimator_.max_depth = max_depth\n",
    "\n",
    "        # Validate max_samples\n",
    "        if max_samples is None:\n",
    "            max_samples = self.max_samples\n",
    "        elif not isinstance(max_samples, (numbers.Integral, np.integer)):\n",
    "            max_samples = int(max_samples * X.shape[0])\n",
    "\n",
    "        if not (0 < max_samples <= X.shape[0]):\n",
    "            raise ValueError(\"max_samples must be in (0, n_samples]\")\n",
    "\n",
    "        # Store validated integer row sampling value\n",
    "        self._max_samples = max_samples\n",
    "\n",
    "        # Validate max_features\n",
    "        if isinstance(self.max_features, (numbers.Integral, np.integer)):\n",
    "            max_features = self.max_features\n",
    "        else:  # float\n",
    "            max_features = int(self.max_features * self.n_features_)\n",
    "\n",
    "        if not (0 < max_features <= self.n_features_):\n",
    "            raise ValueError(\"max_features must be in (0, n_features]\")\n",
    "\n",
    "        # Store validated integer feature sampling value\n",
    "        self._max_features = max_features\n",
    "\n",
    "        # Other checks\n",
    "        if not self.bootstrap and self.oob_score:\n",
    "            raise ValueError(\"Out of bag estimation only available\"\n",
    "                             \" if bootstrap=True\")\n",
    "\n",
    "        if self.warm_start and self.oob_score:\n",
    "            raise ValueError(\"Out of bag estimate only available\"\n",
    "                             \" if warm_start=False\")\n",
    "\n",
    "        if hasattr(self, \"oob_score_\") and self.warm_start:\n",
    "            del self.oob_score_\n",
    "\n",
    "        if not self.warm_start or not hasattr(self, 'estimators_'):\n",
    "            # Free allocated memory, if any\n",
    "            self.estimators_ = []\n",
    "            self.estimators_features_ = []\n",
    "\n",
    "        n_more_estimators = self.n_estimators - len(self.estimators_)\n",
    "\n",
    "        if n_more_estimators < 0:\n",
    "            raise ValueError('n_estimators=%d must be larger or equal to '\n",
    "                             'len(estimators_)=%d when warm_start==True'\n",
    "                             % (self.n_estimators, len(self.estimators_)))\n",
    "\n",
    "        elif n_more_estimators == 0:\n",
    "            warn(\"Warm-start fitting without increasing n_estimators does not \"\n",
    "                 \"fit new trees.\")\n",
    "            return self\n",
    "\n",
    "        # Parallel loop\n",
    "        n_jobs, n_estimators, starts = _partition_estimators(n_more_estimators,\n",
    "                                                             self.n_jobs)\n",
    "        total_n_estimators = sum(n_estimators)\n",
    "\n",
    "        # Advance random state to state after training\n",
    "        # the first n_estimators\n",
    "        if self.warm_start and len(self.estimators_) > 0:\n",
    "            random_state.randint(MAX_INT, size=len(self.estimators_))\n",
    "\n",
    "        seeds = random_state.randint(MAX_INT, size=n_more_estimators)\n",
    "        self._seeds = seeds\n",
    "\n",
    "        all_results = Parallel(n_jobs=n_jobs, verbose=self.verbose)(\n",
    "            delayed(_parallel_build_estiself.samples_weights = np.array([1/float(n_samples) for i in xrange(n_samples)])mators)(\n",
    "                n_estimators[i],\n",
    "                self,\n",
    "                X,\n",
    "                y,\n",
    "                sample_weight,\n",
    "                seeds[starts[i]:starts[i + 1]],\n",
    "                total_n_estimators,\n",
    "                verbose=self.verbose,\n",
    "                sample_weights = self.samples_weights)\n",
    "            for i in range(n_jobs))\n",
    "\n",
    "        # Reduce\n",
    "        self.estimators_ += list(itertools.chain.from_iterable(\n",
    "            t[0] for t in all_results))\n",
    "        self.estimators_features_ += list(itertools.chain.from_iterable(\n",
    "            t[1] for t in all_results))\n",
    "\n",
    "        if self.oob_score:\n",
    "            self._set_oob_score(X, y)\n",
    "\n",
    "        return self\n",
    "\n",
    "    @abstractmethod\n",
    "    def _set_oob_score(self, X, y):\n",
    "        \"\"\"Calculate out of bag predictions and score.\"\"\"\n",
    "\n",
    "    def _validate_y(self, y):\n",
    "        # Default implementation\n",
    "        return column_or_1d(y, warn=True)\n",
    "\n",
    "    def _get_estimators_indices(self):\n",
    "        # Get drawn indices along both sample and feature axes\n",
    "        for seed in self._seeds:\n",
    "            # Operations accessing random_state must be performed identically\n",
    "            # to those in `_parallel_build_estimators()`\n",
    "            random_state = np.random.RandomState(seed)\n",
    "            feature_indices, sample_indices = _generate_bagging_indices(\n",
    "                random_state, self.bootstrap_features, self.bootstrap,\n",
    "                self.n_features_, self._n_samples, self._max_features,\n",
    "                self._max_samples)\n",
    "\n",
    "            yield feature_indices, sample_indices\n",
    "\n",
    "    @property\n",
    "    def estimators_samples_(self):\n",
    "        \"\"\"The subset of drawn samples for each base estimator.\n",
    "        Returns a dynamically generated list of boolean masks identifying\n",
    "        the samples used for fitting each member of the ensemble, i.e.,\n",
    "        the in-bag samples.\n",
    "        Note: the list is re-created at each call to the property in order\n",
    "        to reduce the object memory footprint by not storing the sampling\n",
    "        data. Thus fetching the property may be slower than expected.\n",
    "        \"\"\"\n",
    "        sample_masks = []\n",
    "        for _, sample_indices in self._get_estimators_indices():\n",
    "            mask = indices_to_mask(sample_indices, self._n_samples)\n",
    "            sample_masks.append(mask)\n",
    "\n",
    "        return sample_masks\n",
    "\n",
    "\n",
    "class BaggingClassifier2(BaseBagging, ClassifierMixin):\n",
    "    \"\"\"A Bagging classifier.\n",
    "    A Bagging classifier is an ensemble meta-estimator that fits base\n",
    "    classifiers each on random subsets of the original dataset and then\n",
    "    aggregate their individual predictions (either by voting or by averaging)\n",
    "    to form a final prediction. Such a meta-estimator can typically be used as\n",
    "    a way to reduce the variance of a black-box estimator (e.g., a decision\n",
    "    tree), by introducing randomization into its construction procedure and\n",
    "    then making an ensemble out of it.\n",
    "    This algorithm encompasses several works from the literature. When random\n",
    "    subsets of the dataset are drawn as random subsets of the samples, then\n",
    "    this algorithm is known as Pasting [1]_. If samples are drawn with\n",
    "    replacement, then the method is known as Bagging [2]_. When random subsets\n",
    "    of the dataset are drawn as random subsets of the features, then the method\n",
    "    is known as Random Subspaces [3]_. Finally, when base estimators are built\n",
    "    on subsets of both samples and features, then the method is known as\n",
    "    Random Patches [4]_.\n",
    "    Read more in the :ref:`User Guide <bagging>`.\n",
    "    Parameters\n",
    "    ----------\n",
    "    base_estimator : object or None, optional (default=None)\n",
    "        The base estimator to fit on random subsets of the dataset.\n",
    "        If None, then the base estimator is a decision tree.\n",
    "    n_estimators : int, optional (default=10)\n",
    "        The number of base estimators in the ensemble.\n",
    "    max_samples : int or float, optional (default=1.0)\n",
    "        The number of samples to draw from X to train each base estimator.\n",
    "            - If int, then draw `max_samples` samples.\n",
    "            - If float, then draw `max_samples * X.shape[0]` samples.\n",
    "    max_features : int or float, optional (default=1.0)\n",
    "        The number of features to draw from X to train each base estimator.\n",
    "            - If int, then draw `max_features` features.\n",
    "            - If float, then draw `max_features * X.shape[1]` features.\n",
    "    bootstrap : boolean, optional (default=True)\n",
    "        Whether samples are drawn with replacement.\n",
    "    bootstrap_features : boolean, optional (default=False)\n",
    "        Whether features are drawn with replacement.\n",
    "    oob_score : bool\n",
    "        Whether to use out-of-bag samples to estimate\n",
    "        the generalization error.\n",
    "    warm_start : bool, optional (default=False)\n",
    "        When set to True, reuse the solution of the previous call to fit\n",
    "        and add more estimators to the ensemble, otherwise, just fit\n",
    "        a whole new ensemble.\n",
    "        .. versionadded:: 0.17\n",
    "           *warm_start* constructor parameter.\n",
    "    n_jobs : int, optional (default=1)\n",
    "        The number of jobs to run in parallel for both `fit` and `predict`.\n",
    "        If -1, then the number of jobs is set to the number of cores.\n",
    "    random_state : int, RandomState instance or None, optional (default=None)\n",
    "        If int, random_state is the seed used by the random number generator;\n",
    "        If RandomState instance, random_state is the random number generator;\n",
    "        If None, the random number generator is the RandomState instance used\n",
    "        by `np.random`.\n",
    "    verbose : int, optional (default=0)\n",
    "        Controls the verbosity of the building process.\n",
    "    Attributes\n",
    "    ----------\n",
    "    base_estimator_ : estimator\n",
    "        The base estimator from which the ensemble is grown.\n",
    "    estimators_ : list of estimators\n",
    "        The collection of fitted base estimators.\n",
    "    estimators_samples_ : list of arrays\n",
    "        The subset of drawn samples (i.e., the in-bag samples) for each base\n",
    "        estimator. Each subset is defined by a boolean mask.\n",
    "    estimators_features_ : list of arrays\n",
    "        The subset of drawn features for each base estimator.\n",
    "    classes_ : array of shape = [n_classes]\n",
    "        The classes labels.\n",
    "    n_classes_ : int or list\n",
    "        The number of classes.\n",
    "    oob_score_ : float\n",
    "        Score of the training dataset obtained using an out-of-bag estimate.\n",
    "    oob_decision_function_ : array of shape = [n_samples, n_classes]\n",
    "        Decision function computed with out-of-bag estimate on the training\n",
    "        set. If n_estimators is small it might be possible that a data point\n",
    "        was never left out during the bootstrap. In this case,\n",
    "        `oob_decision_function_` might contain NaN.\n",
    "    References\n",
    "    ----------\n",
    "    .. [1] L. Breiman, \"Pasting small votes for classification in large\n",
    "           databases and on-line\", Machine Learning, 36(1), 85-103, 1999.\n",
    "    .. [2] L. Breiman, \"Bagging predictors\", Machine Learning, 24(2), 123-140,\n",
    "           1996.\n",
    "    .. [3] T. Ho, \"The random subspace method for constructing decision\n",
    "           forests\", Pattern Analysis and Machine Intelligence, 20(8), 832-844,\n",
    "           1998.\n",
    "    .. [4] G. Louppe and P. Geurts, \"Ensembles on Random Patches\", Machine\n",
    "           Learning and Knowledge Discovery in Databases, 346-361, 2012.\n",
    "    \"\"\"\n",
    "    def __init__(self,\n",
    "                 base_estimator=None,\n",
    "                 n_estimators=10,\n",
    "                 max_samples=1.0,\n",
    "                 max_features=1.0,\n",
    "                 bootstrap=True,\n",
    "                 bootstrap_features=False,\n",
    "                 oob_score=False,\n",
    "                 warm_start=False,\n",
    "                 n_jobs=1,\n",
    "                 random_state=None,\n",
    "                 verbose=0):\n",
    "\n",
    "        super(BaggingClassifier, self).__init__(\n",
    "            base_estimator,\n",
    "            n_estimators=n_estimators,\n",
    "            max_samples=max_samples,\n",
    "            max_features=max_features,\n",
    "            bootstrap=bootstrap,\n",
    "            bootstrap_features=bootstrap_features,\n",
    "            oob_score=oob_score,\n",
    "            warm_start=warm_start,\n",
    "            n_jobs=n_jobs,\n",
    "            random_state=random_state,\n",
    "            verbose=verbose)\n",
    "\n",
    "    def _validate_estimator(self):\n",
    "        \"\"\"Check the estimator and set the base_estimator_ attribute.\"\"\"\n",
    "        super(BaggingClassifier, self)._validate_estimator(\n",
    "            default=DecisionTreeClassifier())\n",
    "\n",
    "    def _set_oob_score(self, X, y):\n",
    "        n_samples = y.shape[0]\n",
    "        n_classes_ = self.n_classes_\n",
    "        classes_ = self.classes_\n",
    "\n",
    "        predictions = np.zeros((n_samples, n_classes_))\n",
    "\n",
    "        for estimator, samples, features in zip(self.estimators_,\n",
    "                                                self.estimators_samples_,\n",
    "                                                self.estimators_features_):\n",
    "            # Create mask for OOB samples\n",
    "            mask = ~samples\n",
    "\n",
    "            if hasattr(estimator, \"predict_proba\"):\n",
    "                predictions[mask, :] += estimator.predict_proba(\n",
    "                    (X[mask, :])[:, features])\n",
    "\n",
    "            else:\n",
    "                p = estimator.predict((X[mask, :])[:, features])\n",
    "                j = 0\n",
    "\n",
    "                for i in range(n_samples):\n",
    "                    if mask[i]:\n",
    "                        predictions[i, p[j]] += 1\n",
    "                        j += 1\n",
    "\n",
    "        if (predictions.sum(axis=1) == 0).any():\n",
    "            warn(\"Some inputs do not have OOB scores. \"\n",
    "                 \"This probably means too few estimators were used \"\n",
    "                 \"to compute any reliable oob estimates.\")\n",
    "\n",
    "        oob_decision_function = (predictions /\n",
    "                                 predictions.sum(axis=1)[:, np.newaxis])\n",
    "        oob_score = accuracy_score(y, np.argmax(predictions, axis=1))\n",
    "\n",
    "        self.oob_decision_function_ = oob_decision_function\n",
    "        self.oob_score_ = oob_score\n",
    "\n",
    "    def _validate_y(self, y):\n",
    "        y = column_or_1d(y, warn=True)\n",
    "        check_classification_targets(y)\n",
    "        self.classes_, y = np.unique(y, return_inverse=True)\n",
    "        self.n_classes_ = len(self.classes_)\n",
    "\n",
    "        return y\n",
    "\n",
    "    def predict(self, X):\n",
    "        \"\"\"Predict class for X.\n",
    "        The predicted class of an input sample is computed as the class with\n",
    "        the highest mean predicted probability. If base estimators do not\n",
    "        implement a ``predict_proba`` method, then it resorts to voting.\n",
    "        Parameters\n",
    "        ----------\n",
    "        X : {array-like, sparse matrix} of shape = [n_samples, n_features]\n",
    "            The training input samples. Sparse matrices are accepted only if\n",
    "            they are supported by the base estimator.\n",
    "        Returns\n",
    "        -------\n",
    "        y : array of shape = [n_samples]\n",
    "            The predicted classes.\n",
    "        \"\"\"\n",
    "        predicted_probabilitiy = self.predict_proba(X)\n",
    "        return self.classes_.take((np.argmax(predicted_probabilitiy, axis=1)),\n",
    "                                  axis=0)\n",
    "\n",
    "    def predict_proba(self, X):\n",
    "        \"\"\"Predict class probabilities for X.\n",
    "        The predicted class probabilities of an input sample is computed as\n",
    "        the mean predicted class probabilities of the base estimators in the\n",
    "        ensemble. If base estimators do not implement a ``predict_proba``\n",
    "        method, then it resorts to voting and the predicted class probabilities\n",
    "        of an input sample represents the proportion of estimators predicting\n",
    "        each class.\n",
    "        Parameters\n",
    "        ----------\n",
    "        X : {array-like, sparse matrix} of shape = [n_samples, n_features]\n",
    "            The training input samples. Sparse matrices are accepted only if\n",
    "            they are supported by the base estimator.\n",
    "        Returns\n",
    "        -------\n",
    "        p : array of shape = [n_samples, n_classes]\n",
    "            The class probabilities of the input samples. The order of the\n",
    "            classes corresponds to that in the attribute `classes_`.\n",
    "        \"\"\"\n",
    "        check_is_fitted(self, \"classes_\")\n",
    "        # Check data\n",
    "        X = check_array(X, accept_sparse=['csr', 'csc'])\n",
    "\n",
    "        if self.n_features_ != X.shape[1]:\n",
    "            raise ValueError(\"Number of features of the model must \"\n",
    "                             \"match the input. Model n_features is {0} and \"\n",
    "                             \"input n_features is {1}.\"\n",
    "                             \"\".format(self.n_features_, X.shape[1]))\n",
    "\n",
    "        # Parallel loop\n",
    "        n_jobs, n_estimators, starts = _partition_estimators(self.n_estimators,\n",
    "                                                             self.n_jobs)\n",
    "\n",
    "        all_proba = Parallel(n_jobs=n_jobs, verbose=self.verbose)(\n",
    "            delayed(_parallel_predict_proba)(\n",
    "                self.estimators_[starts[i]:starts[i + 1]],\n",
    "                self.estimators_features_[starts[i]:starts[i + 1]],\n",
    "                X,\n",
    "                self.n_classes_)\n",
    "            for i in range(n_jobs))\n",
    "\n",
    "        # Reduce\n",
    "        proba = sum(all_proba) / self.n_estimators\n",
    "\n",
    "        return proba\n",
    "\n",
    "    def predict_log_proba(self, X):\n",
    "        \"\"\"Predict class log-probabilities for X.\n",
    "        The predicted class log-probabilities of an input sample is computed as\n",
    "        the log of the mean predicted class probabilities of the base\n",
    "        estimators in the ensemble.\n",
    "        Parameters\n",
    "        ----------\n",
    "        X : {array-like, sparse matrix} of shape = [n_samples, n_features]\n",
    "            The training input samples. Sparse matrices are accepted only if\n",
    "            they are supported by the base estimator.\n",
    "        Returns\n",
    "        -------\n",
    "        p : array of shape = [n_samples, n_classes]\n",
    "            The class log-probabilities of the input samples. The order of the\n",
    "            classes corresponds to that in the attribute `classes_`.\n",
    "        \"\"\"\n",
    "        check_is_fitted(self, \"classes_\")\n",
    "        if hasattr(self.base_estimator_, \"predict_log_proba\"):\n",
    "            # Check data\n",
    "            X = check_array(X, accept_sparse=['csr', 'csc'])\n",
    "\n",
    "            if self.n_features_ != X.shape[1]:\n",
    "                raise ValueError(\"Number of features of the model must \"\n",
    "                                 \"match the input. Model n_features is {0} \"\n",
    "                                 \"and input n_features is {1} \"\n",
    "                                 \"\".format(self.n_features_, X.shape[1]))\n",
    "\n",
    "            # Parallel loop\n",
    "            n_jobs, n_estimators, starts = _partition_estimators(\n",
    "                self.n_estimators, self.n_jobs)\n",
    "\n",
    "            all_log_proba = Parallel(n_jobs=n_jobs, verbose=self.verbose)(\n",
    "                delayed(_parallel_predict_log_proba)(\n",
    "                    self.estimators_[starts[i]:starts[i + 1]],\n",
    "                    self.estimators_features_[starts[i]:starts[i + 1]],\n",
    "                    X,\n",
    "                    self.n_classes_)\n",
    "                for i in range(n_jobs))\n",
    "\n",
    "            # Reduce\n",
    "            log_proba = all_log_proba[0]\n",
    "\n",
    "            for j in range(1, len(all_log_proba)):\n",
    "                log_proba = np.logaddexp(log_proba, all_log_proba[j])\n",
    "\n",
    "            log_proba -= np.log(self.n_estimators)\n",
    "\n",
    "            return log_proba\n",
    "\n",
    "        else:\n",
    "            return np.log(self.predict_proba(X))\n",
    "\n",
    "    @if_delegate_has_method(delegate='base_estimator')\n",
    "    def decision_function(self, X):\n",
    "        \"\"\"Average of the decision functions of the base classifiers.\n",
    "        Parameters\n",
    "        ----------\n",
    "        X : {array-like, sparse matrix} of shape = [n_samples, n_features]\n",
    "            The training input samples. Sparse matrices are accepted only if\n",
    "            they are supported by the base estimator.\n",
    "        Returns\n",
    "        -------\n",
    "        score : array, shape = [n_samples, k]\n",
    "            The decision function of the input samples. The columns correspond\n",
    "            to the classes in sorted order, as they appear in the attribute\n",
    "            ``classes_``. Regression and binary classification are special\n",
    "            cases with ``k == 1``, otherwise ``k==n_classes``.\n",
    "        \"\"\"\n",
    "        check_is_fitted(self, \"classes_\")\n",
    "\n",
    "        # Check data\n",
    "        X = check_array(X, accept_sparse=['csr', 'csc'])\n",
    "\n",
    "        if self.n_features_ != X.shape[1]:\n",
    "            raise ValueError(\"Number of features of the model must \"\n",
    "                             \"match the input. Model n_features is {0} and \"\n",
    "                             \"input n_features is {1} \"\n",
    "                             \"\".format(self.n_features_, X.shape[1]))\n",
    "\n",
    "        # Parallel loop\n",
    "        n_jobs, n_estimators, starts = _partition_estimators(self.n_estimators,\n",
    "                                                             self.n_jobs)\n",
    "\n",
    "        all_decisions = Parallel(n_jobs=n_jobs, verbose=self.verbose)(\n",
    "            delayed(_parallel_decision_function)(\n",
    "                self.estimators_[starts[i]:starts[i + 1]],\n",
    "                self.estimators_features_[starts[i]:starts[i + 1]],\n",
    "                X)\n",
    "            for i in range(n_jobs))\n",
    "\n",
    "        # Reduce\n",
    "        decisions = sum(all_decisions) / self.n_estimators\n",
    "\n",
    "        return decisions\n",
    "\n"
   ]
  },
  {
   "cell_type": "code",
   "execution_count": null,
   "metadata": {},
   "outputs": [],
   "source": [
    "\n",
    "        #print(y)\n",
    "        #print(type(y), y.shape)\n",
    "        #print(X.shape)\n",
    "        #X, self.X_dev, y, self.y_dev = train_test_split(X, y, test_size=self.dev_set, stratify=y)\n",
    "        n_samples, self.n_features_ = X.shape\n",
    "        self._n_samples = n_samples\n",
    "        self.samples_times_selected = np.zeros_like(y)\n",
    "        self.default_sample_weight = 1/float(X.shape[0])\n",
    "        self.max_samples = int(self.max_samples*self._n_samples)\n",
    "        self.max_features = int(self.max_features*self.n_features_)\n",
    "        \n",
    "        y = self._validate_y(y)\n",
    "        for i_est in xrange(self.n_estimators):\n",
    "            estimator = clone(self.base_estimator_)\n",
    "            if self.patcher == 'random':\n",
    "                features_indices, samples_indices = generate_bagging_indices(\n",
    "                    self.random_state, self.bootstrap_features,\n",
    "                              self.bootstrap_samples, X.shape[1], X.shape[0],\n",
    "                              self.max_features, self.max_samples, [None])\n",
    "            elif self.patcher == 'weighted':\n",
    "#                 X_train, X_dev, y_train, y_dev = train_test_split(X, y, stratify = True,\n",
    "#                                                                    test_size=self.dev_set, \n",
    "#                                                                    random_state=self.random_state)\n",
    "                if i_est==0:\n",
    "                    self.samples_weights.append(np.array([self.default_sample_weight for i in xrange(X.shape[0])]))\n",
    "                    self.scores.append(1)\n",
    "                    signs = np.ones_like(y)\n",
    "                else:\n",
    "                    signs = self.update_weights(X, y)\n",
    "                #print(\"ROUND %d\"%i_est)\n",
    "                #print(self.samples_weights[i_est])\n",
    "                #print(\"INDEX %d\" % i)\n",
    "                #print(self.samples_weights[i_est])\n",
    "                features_indices, samples_indices = generate_bagging_indices(\n",
    "                    self.random_state, self.bootstrap_features,\n",
    "                              self.bootstrap_samples, X.shape[1], X.shape[0],\n",
    "                              self.max_features, self.max_samples, self.samples_weights[i_est])\n",
    "                print(\"ROUND %d\" % i_est)\n",
    "                print(\"SCORE %0.3f\"%(self.scores[-1]))\n",
    "                if i_est != 0:\n",
    "                    accs = []\n",
    "                    accs_last = []\n",
    "                    overlaps = []\n",
    "                    accs_total = []\n",
    "                    for jj, ens in enumerate(self.ensemble):\n",
    "                        print(len(self.prev_samples_indices), len(self.estimators_features))\n",
    "                        p_pred = ens.predict(X[self.prev_samples_indices[jj]][:, self.estimators_features[jj]])\n",
    "                        last_pred = ens.predict(X[self.prev_samples_indices[-1]][:, self.estimators_features[jj]])\n",
    "                        total_pred = self.predict(X[self.prev_samples_indices[jj]])\n",
    "                        accs.append(1-accuracy_score(y[self.prev_samples_indices[jj]], p_pred, normalize=True))\n",
    "                        accs_last.append(1-accuracy_score(y[self.prev_samples_indices[-1]], last_pred, normalize=True))\n",
    "                        accs_total.append(1-accuracy_score(y[self.prev_samples_indices[jj]], total_pred, normalize=True))\n",
    "                    #try:\n",
    "                        #    self.ensemble[jj+1]\n",
    "                        #except IndexError:\n",
    "                        #    print(\"CURRENT\")\n",
    "                        #    print(self.prev_samples_indices[jj])\n",
    "                        #    print(\"LAST\")\n",
    "                        #    print(self.prev_samples_indices[-1])\n",
    "                        #    print(np.array_equal(self.prev_samples_indices[jj], self.prev_samples_indices[-1]))\n",
    "                        #    print(np.intersect1d(self.prev_samples_indices[jj], self.prev_samples_indices[-1]).shape[0], self.prev_samples_indices[-1].shape[0], self.prev_samples_indices[jj].shape[0])\n",
    "                        overlaps.append(np.intersect1d(self.prev_samples_indices[jj], self.prev_samples_indices[-1]).shape[0]/float(np.unique(self.prev_samples_indices[jj]).shape[0]))\n",
    "                    accs = np.round(100*np.array(accs),3)\n",
    "                    accs_last = np.round(100*np.array(accs_last),3)\n",
    "                    overlaps = np.round(100*np.array(overlaps),3)\n",
    "                    accs_total = np.round(100*np.array(accs_total),3)\n",
    "                    print(\"PREVIOUS ERRORS ON CORRESPONDING DATA\")\n",
    "                    print(accs)\n",
    "                    print(\"ERRORS OF THE ENSEMBLE ON CORRESPONDING DATA\")\n",
    "                    print(accs_total)\n",
    "                    print(\"PREVIOUS ERRORS ON LAST SELECTED DATA\")\n",
    "                    print(accs_last)\n",
    "                    print(\"OVERLAPS\")\n",
    "                    print(overlaps)\n",
    "                print(\"a: %0.3f\"%self.a)\n",
    "                print(\"WEIGHTS\")\n",
    "                print(np.min(self.samples_weights[-1]), \n",
    "                      np.mean(self.samples_weights[-1]), \n",
    "                      np.max(self.samples_weights[-1]))\n",
    "                #print(self.samples_weights[-1])\n",
    "                print(\"SAMPLED INSTANCES\")\n",
    "                print(self.samples_weights[-1][samples_indices])\n",
    "                print(signs[samples_indices])\n",
    "                print(y[samples_indices])\n",
    "                print(\"~\"*50)\n",
    "            else:\n",
    "                print(\"UNSUPPORTED WAY OF PATCHING: %s !\" % self.patcher)\n",
    "            # minor fix for when one class is not represented during sampling\n",
    "            #print(samples_indices.shape)\n",
    "            samples_indices = self.fix_class_indices(y, samples_indices)\n",
    "            #print(\"AFTER\")\n",
    "            #print(samples_indices.shape)\n",
    "            estimator.fit(X[samples_indices][:, features_indices], y[samples_indices])\n",
    "            self.prev_samples_indices.append(samples_indices)\n",
    "            self.estimators_features.append(features_indices)\n",
    "            self.ensemble.append(estimator)\n",
    "            self.samples_times_selected[samples_indices] += 1\n",
    "        return\n",
    "    \n",
    "    def fix_class_indices(self, y, samples_indices):\n",
    "        in_set = set(y[samples_indices])\n",
    "        a = set(y).difference(in_set)\n",
    "        for item in a:\n",
    "           samples_indices= np.append(samples_indices, [np.where(y==item)[0][0]])\n",
    "        return samples_indices\n",
    "    \n",
    "    def update_weights(self, X, y): \n",
    "        #print(\"REMOVED %d\" % np.where(self.samples_times_selected > 3)[0].shape[0])\n",
    "        #self.samples_weights[-1][np.where(self.samples_times_selected > 3)] = self.default_sample_weight\n",
    "        #self.samples_times_selected[np.where(self.samples_times_selected > 3)] = 0\n",
    "        preds = self.predict(X)\n",
    "        self.scores.append(1-accuracy_score(y, preds, normalize=True)+0.0001)\n",
    "        self.a = 0.5*np.log((1-self.scores[-1])/float(self.scores[-1]))\n",
    "        #self.a = 9\n",
    "        #self.a = 1\n",
    "        signs = sign(y, preds)\n",
    "        temp = self.samples_weights[-1]*np.exp(-self.a*signs)\n",
    "            \n",
    "        #print(\"MEAN\")\n",
    "        #print(np.mean(temp))\n",
    "        #print(temp[np.where(signs<0)])\n",
    "        self.samples_weights.append(temp/np.sum(temp))\n",
    "        preds = np.ones((X.shape[0], len(self.ensemble)))\n",
    "        for ii, est in enumerate(self.ensemble):\n",
    "            sc = accuracy_score(y, est.predict(X[:, self.estimators_features[ii]]), normalize=True)\n",
    "            preds[:, ii] = sc*sign(y, est.predict(X[:, self.estimators_features[ii]]))\n",
    "        #print(\"INITIAL\")\n",
    "        #print(preds)\n",
    "        #print(np.min(preds))\n",
    "        #print(\"AFTER COLLAPSE\")\n",
    "        preds = np.sum(preds, axis=1)\n",
    "        #print(preds)\n",
    "        #print(\"AFTER RESHAPE\")\n",
    "        preds = preds.reshape(-1,)\n",
    "        #print(preds)\n",
    "        if np.any(preds<0):\n",
    "            min_ = np.min(preds)\n",
    "            if min_ < 0:\n",
    "                min_ = -1*min_\n",
    "            #print(\"MIN\")\n",
    "            #print(min_)\n",
    "        preds = preds + min_ + 0.001\n",
    "        #print(\"AFTER_MIN\")\n",
    "        #print(preds)\n",
    "        #print(\"AFTER NORMALIZATION\")\n",
    "        preds /= np.sum(preds)\n",
    "        #print(preds)\n",
    "        #print(preds)\n",
    "        #print(np.sum(preds))\n",
    "        self.samples_weights.append(preds)\n",
    "        return signs\n",
    "    \n"
   ]
  },
  {
   "cell_type": "code",
   "execution_count": 23,
   "metadata": {},
   "outputs": [],
   "source": [
    "from sklearn.utils import check_random_state, check_X_y, column_or_1d\n",
    "from sklearn.utils.multiclass import check_classification_targets\n",
    "from sklearn.base import BaseEstimator, ClassifierMixin, clone\n",
    "from sklearn.neighbors import KNeighborsClassifier\n",
    "from sklearn.metrics import pairwise_distances\n",
    "from sklearn.metrics import accuracy_score, get_scorer\n",
    "import copy\n",
    "\n",
    "class Adversarial_Cascade(BaseEstimator, ClassifierMixin):\n",
    "    \n",
    "    def __init__(self, base_estimator=KNeighborsClassifier(), n_estimators=10, acc_target=0.99,\n",
    "                 num_adversaries_per_instance=4, way = 'prob', \n",
    "                 random_state=42, optim=False, parameters=None, metric='accuracy', oob=False, oob_size=0.1):\n",
    "        self.base_estimator = base_estimator\n",
    "        self.n_estimators = n_estimators\n",
    "        self.acc_target = acc_target\n",
    "        self.num_adversaries_per_instance = num_adversaries_per_instance\n",
    "        self.way = way\n",
    "        self.random_state = check_random_state(random_state)\n",
    "        self.optim = optim\n",
    "        self.oob = oob\n",
    "        self.oob_size = 0.1\n",
    "        self.X_oob = None\n",
    "        self.y_oob = None\n",
    "        if self.optim:\n",
    "            self.parameters = parameters\n",
    "        else:\n",
    "            self.parameters = None\n",
    "        self.scoring = get_scorer(metric)\n",
    "        self.acc = 0\n",
    "        self.ensemble = []\n",
    "        self.selected_indices = []\n",
    "    \n",
    "    def fit(self, X, y):\n",
    "        return self._fit(X, y)\n",
    "    \n",
    "    def _fit(self,X,y):\n",
    "        X, y = check_X_y(\n",
    "            X, y, ['csr', 'csc'], dtype=None, force_all_finite=False,\n",
    "            multi_output=True)\n",
    "        y = self._validate_y(y)\n",
    "        if self.oob:\n",
    "            X, self.X_oob, y, self.y_oob = train_test_split(X,y,test_size=0.1,stratify=y)\n",
    "        n_samples, self.n_features_ = X.shape\n",
    "        cur_X, cur_y = X, y\n",
    "        self.selected_indices.append([i for i in xrange(X.shape[0])])\n",
    "        flag_target = False\n",
    "        for i_est in xrange(self.n_estimators):\n",
    "            cur_mod = clone(self.base_estimator)\n",
    "            if self.optim:\n",
    "                grid_search = GridSearchCV(cur_mod, self.parameters, n_jobs=-1, verbose=1, refit=True)\n",
    "                grid_search.fit(cur_X, cur_y)\n",
    "                cur_mod = grid_search.best_estimator_\n",
    "            else:\n",
    "                cur_mod.fit(cur_X, cur_y)\n",
    "            self.ensemble.append(cur_mod)\n",
    "            cur_X, cur_y, flag_target = self._create_next_batch(X, y)\n",
    "            if flag_target:\n",
    "                break\n",
    "            #print(cur_X.shape, cur_y.shape)\n",
    "        print(\"%d ESTIMATORS -- %0.3f\" % (len(self.ensemble), 100*accuracy_score(y, self.predict(X), normalize=True)))\n",
    "        return self\n",
    "    \n",
    "    def _create_next_batch(self, X, y):\n",
    "        if self.oob:\n",
    "            preds = self.predict(self.X_oob)\n",
    "            centroids = self.X_oob[preds != self.y_oob]\n",
    "            centroids_ind = np.argwhere(preds != self.y_oob).reshape(-1,)\n",
    "            cur_X = copy.deepcopy(self.X_oob[centroids_ind,:])\n",
    "            cur_y = copy.deepcopy(self.y_oob[centroids_ind])\n",
    "            str_target = \"OOB SAMPLE\"\n",
    "            self.acc = accuracy_score(self.y_oob, preds, normalize=True)\n",
    "            #acc = (1-(centroids.shape[0])/float(self.X_oob.shape[0]))\n",
    "        else:\n",
    "            preds = self.predict(X)\n",
    "            centroids = X[preds != y]\n",
    "            centroids_ind = np.argwhere(preds!=y).reshape(-1,)\n",
    "            cur_X = copy.deepcopy(X[centroids_ind,:])\n",
    "            cur_y = copy.deepcopy(y[centroids_ind])\n",
    "            str_target = \"TRAIN SAMPLE\"\n",
    "            self.acc = accuracy_score(y, preds, normalize=True)\n",
    "            #acc = (1-(centroids.shape[0])/float(X.shape[0]))\n",
    "        if  self.acc > self.acc_target:\n",
    "            #return X, y, False\n",
    "            #print(\"ACCURACY ON THE %s IS %0.3f\" % (str_target, 100*(1-(centroids.shape[0])/float(X.shape[0]))))\n",
    "            #print(\"STOPPING WITH %d BASE MODELS\" % len(self.ensemble))\n",
    "            return _, _,True\n",
    "        probas = pairwise_distances(centroids, X)\n",
    "        probas /= np.sum(probas, axis=1).reshape(-1,1)\n",
    "\n",
    "        \n",
    "        for i_centr in xrange(probas.shape[0]):\n",
    "            if self.way == 'prob':\n",
    "                indices = self.random_state.choice([i for i in xrange(0, probas.shape[1])],\n",
    "                                                   self.num_adversaries_per_instance, p=probas[i_centr,:])\n",
    "            if self.way == 'furthest':\n",
    "                indices = np.argsort(probas[i_centr,:])[::-1][:self.num_adversaries_per_instance]\n",
    "            indices = self._fix_class_indices(y, indices)\n",
    "            #print(cur_X.shape, X[indices,:].shape)\n",
    "            cur_X = np.vstack((cur_X, X[indices,:]))\n",
    "            cur_y = np.append(cur_y, y[indices])\n",
    "                #cur_y.extend(indices)\n",
    "\n",
    "            #cur_X = np.delete(cur_X, 0, axis=0)\n",
    "            #cur_y = y[cur_y]\n",
    "        return cur_X, cur_y, False\n",
    "        \n",
    "    def _fix_class_indices(self, y, samples_indices):\n",
    "        in_set = set(y[samples_indices])\n",
    "        a = set(y).difference(in_set)\n",
    "        for item in a:\n",
    "           samples_indices= np.append(samples_indices, [np.where(y==item)[0][0]])\n",
    "        return samples_indices    \n",
    "    \n",
    "    def _validate_y(self, y):\n",
    "        y = column_or_1d(y, warn=True)\n",
    "        check_classification_targets(y)\n",
    "        self.classes_, y = np.unique(y, return_inverse=True)\n",
    "        self.n_classes_ = len(self.classes_)\n",
    "        return y\n",
    "    \n",
    "    def predict(self, X):\n",
    "        \"\"\"Predict class for X.\n",
    "        The predicted class of an input sample is computed as the class with\n",
    "        the highest mean predicted probability. If base estimators do not\n",
    "        implement a ``predict_proba`` method, then it resorts to voting.\n",
    "        Parameters\n",
    "        ----------\n",
    "        X : {array-like, sparse matrix} of shape = [n_samples, n_features]\n",
    "            The training input samples. Sparse matrices are accepted only if\n",
    "            they are supported by the base estimator.\n",
    "        Returns\n",
    "        -------\n",
    "        y : array of shape = [n_samples]\n",
    "            The predicted classes.\n",
    "        \"\"\"\n",
    "        \n",
    "        if hasattr(self.base_estimator, \"predict_proba\"):\n",
    "            predicted_probability = self.predict_proba(X)\n",
    "            return self.classes_.take((np.argmax(predicted_probability, axis=1)),\n",
    "                                  axis=0)\n",
    "        else:\n",
    "            predicted_probability = np.zeros((X.shape[0],1), dtype=int)\n",
    "            for i, ens in enumerate(self.ensemble):\n",
    "                predicted_probability = np.hstack((predicted_probability, ens.predict(X).reshape(-1,1)))\n",
    "            predicted_probability = np.delete(predicted_probability,0,axis=1)\n",
    "            final_pred = []\n",
    "            for sample in xrange(X.shape[0]):\n",
    "                final_pred.append(most_common(predicted_probability[sample,:]))\n",
    "                #votes = []\n",
    "                #for i, mod_vote in predictions[sample,:]:\n",
    "                #    votes.extend([predictions[sample, i] for j in xrange(int(self.acc[i]))])\n",
    "                #final_pred = most_common(votes)\n",
    "            return np.array(final_pred)   \n",
    "\n",
    "\n",
    "    def predict_proba(self, X):\n",
    "        \"\"\"Predict class probabilities for X.\n",
    "        The predicted class probabilities of an input sample is computed as\n",
    "        the mean predicted class probabilities of the base estimators in the\n",
    "        ensemble. If base estimators do not implement a ``predict_proba``\n",
    "        method, then it resorts to voting and the predicted class probabilities\n",
    "        of an input sample represents the proportion of estimators predicting\n",
    "        each class.\n",
    "        Parameters\n",
    "        ----------\n",
    "        X : {array-like, sparse matrix} of shape = [n_samples, n_features]\n",
    "            The training input samples. Sparse matrices are accepted only if\n",
    "            they are supported by the base estimator.\n",
    "        Returns\n",
    "        -------\n",
    "        p : array of shape = [n_samples, n_classes]\n",
    "            The class probabilities of the input samples. The order of the\n",
    "            classes corresponds to that in the attribute `classes_`.\n",
    "        \"\"\"\n",
    "        check_is_fitted(self, \"classes_\")\n",
    "        # Check data\n",
    "        X = check_array(\n",
    "            X, accept_sparse=['csr', 'csc'], dtype=None,\n",
    "            force_all_finite=False\n",
    "        )\n",
    "\n",
    "        if self.n_features_ != X.shape[1]:\n",
    "            raise ValueError(\"Number of features of the model must \"\n",
    "                             \"match the input. Model n_features is {0} and \"\n",
    "                             \"input n_features is {1}.\"\n",
    "                             \"\".format(self.n_features_, X.shape[1]))\n",
    "\n",
    "        all_proba = np.zeros((X.shape[0], self.n_classes_))\n",
    "        for i, ens in enumerate(self.ensemble):\n",
    "            all_proba += ens.predict_proba(X)\n",
    "        all_proba /= self.n_estimators\n",
    "        #print(all_proba.shape)\n",
    "        #print(all_proba)\n",
    "        #proba = np.sum(all_proba, axis=0) / self.n_estimators\n",
    "        #print(proba.shape)\n",
    "        #print(proba)\n",
    "        return all_proba\n",
    "\n",
    "\n",
    "    @if_delegate_has_method(delegate='base_estimator')\n",
    "    def decision_function(self, X):\n",
    "        \"\"\"Average of the decision functions of the base classifiers.\n",
    "        Parameters\n",
    "        ----------\n",
    "        X : {array-like, sparse matrix} of shape = [n_samples, n_features]\n",
    "            The training input samples. Sparse matrices are accepted only if\n",
    "            they are supported by the base estimator.\n",
    "        Returns\n",
    "        -------\n",
    "        score : array, shape = [n_samples, k]\n",
    "            The decision function of the input samples. The columns correspond\n",
    "            to the classes in sorted order, as they appear in the attribute\n",
    "            ``classes_``. Regression and binary classification are special\n",
    "            cases with ``k == 1``, otherwise ``k==n_classes``.\n",
    "        \"\"\"\n",
    "        check_is_fitted(self, \"classes_\")\n",
    "\n",
    "        # Check data\n",
    "        X = check_array(\n",
    "            X, accept_sparse=['csr', 'csc'], dtype=None,\n",
    "            force_all_finite=False\n",
    "        )\n",
    "\n",
    "        if self.n_features_ != X.shape[1]:\n",
    "            raise ValueError(\"Number of features of the model must \"\n",
    "                             \"match the input. Model n_features is {0} and \"\n",
    "                             \"input n_features is {1} \"\n",
    "                             \"\".format(self.n_features_, X.shape[1]))\n",
    "        all_decisions = np.zeros((X.shape[0], self.n_classes_))\n",
    "        for i, ens in enumerate(self.ensemble):\n",
    "            all_decisions += ens.predict_proba(X) \n",
    "        decisions = sum(all_decisions) / self.n_estimators\n",
    "\n",
    "        return decisions\n",
    "\n",
    "def most_common(lst):\n",
    "    if isinstance(lst, np.ndarray):\n",
    "        lst = lst.tolist()\n",
    "    #print(lst, max(set(lst), key=lst.count)  )\n",
    "    return max(set(lst), key=lst.count)        "
   ]
  },
  {
   "cell_type": "code",
   "execution_count": 24,
   "metadata": {},
   "outputs": [
    {
     "name": "stdout",
     "output_type": "stream",
     "text": [
      "10 ESTIMATORS -- 85.333\n",
      "0.8533333333333334\n"
     ]
    }
   ],
   "source": [
    "ac = Adversarial_Cascade(base_estimator=knn, oob=False, num_adversaries_per_instance=10)\n",
    "ac.fit(X,y)\n",
    "preds = ac.predict(X)\n",
    "print(accuracy_score(y,preds,normalize=True))\n",
    "#ac.selected_indices"
   ]
  },
  {
   "cell_type": "code",
   "execution_count": 833,
   "metadata": {},
   "outputs": [
    {
     "name": "stdout",
     "output_type": "stream",
     "text": [
      "0.7222222222222222\n"
     ]
    }
   ],
   "source": [
    "X_train, X_dev, y_train, y_dev = train_test_split(X,y,stratify=y,test_size=0.1, random_state=42)\n",
    "ac = Adversarial_Cascade(base_estimator=KNeighborsClassifier(), \n",
    "                         oob=False, \n",
    "                         num_adversaries_per_instance=5, way='furthest')\n",
    "ac.fit(X_train,y_train)\n",
    "preds = ac.predict(X_dev)\n",
    "print(accuracy_score(y_dev,preds,normalize=True))"
   ]
  },
  {
   "cell_type": "code",
   "execution_count": null,
   "metadata": {},
   "outputs": [],
   "source": [
    "ac = Adversarial_Cascade(base_estimator=base, optim=True, parameters=parameters, oob=True, random_state=i)\n",
    "print(cross_val_score(ac, X, y, cv=5, n_jobs=-1).mean())"
   ]
  },
  {
   "cell_type": "code",
   "execution_count": 523,
   "metadata": {},
   "outputs": [],
   "source": [
    "knn.fit(X,y)\n",
    "preds = knn.predict(X)\n",
    "centroids = X[preds!=y]"
   ]
  },
  {
   "cell_type": "code",
   "execution_count": 618,
   "metadata": {},
   "outputs": [
    {
     "data": {
      "text/plain": [
       "[0,\n",
       " 0,\n",
       " 0,\n",
       " 0,\n",
       " 0,\n",
       " 0,\n",
       " 0,\n",
       " 0,\n",
       " 0,\n",
       " 0,\n",
       " 0,\n",
       " 0,\n",
       " 0,\n",
       " 0,\n",
       " 0,\n",
       " 0,\n",
       " 0,\n",
       " 0,\n",
       " 0,\n",
       " 0,\n",
       " 0,\n",
       " 0,\n",
       " 0,\n",
       " 0,\n",
       " 0,\n",
       " 0,\n",
       " 0,\n",
       " 0,\n",
       " 0,\n",
       " 0,\n",
       " 0,\n",
       " 0,\n",
       " 0,\n",
       " 0,\n",
       " 0,\n",
       " 0,\n",
       " 0,\n",
       " 0,\n",
       " 0,\n",
       " 0,\n",
       " 0,\n",
       " 0,\n",
       " 0,\n",
       " 0,\n",
       " 0,\n",
       " 0,\n",
       " 0,\n",
       " 0,\n",
       " 0,\n",
       " 0,\n",
       " 0,\n",
       " 0,\n",
       " 0,\n",
       " 0,\n",
       " 0,\n",
       " 0,\n",
       " 0,\n",
       " 0,\n",
       " 0,\n",
       " 1,\n",
       " 1,\n",
       " 1,\n",
       " 1,\n",
       " 1,\n",
       " 1,\n",
       " 1,\n",
       " 1,\n",
       " 1,\n",
       " 1,\n",
       " 1,\n",
       " 1,\n",
       " 1,\n",
       " 1,\n",
       " 1,\n",
       " 1,\n",
       " 1,\n",
       " 1,\n",
       " 1,\n",
       " 1,\n",
       " 1,\n",
       " 1,\n",
       " 1,\n",
       " 1,\n",
       " 1,\n",
       " 1,\n",
       " 1,\n",
       " 1,\n",
       " 1,\n",
       " 1,\n",
       " 1,\n",
       " 1,\n",
       " 1,\n",
       " 1,\n",
       " 1,\n",
       " 1,\n",
       " 1,\n",
       " 1,\n",
       " 1,\n",
       " 1,\n",
       " 1,\n",
       " 1,\n",
       " 1,\n",
       " 1,\n",
       " 1,\n",
       " 1,\n",
       " 1,\n",
       " 1,\n",
       " 1,\n",
       " 1,\n",
       " 1,\n",
       " 1,\n",
       " 1,\n",
       " 1,\n",
       " 1,\n",
       " 1,\n",
       " 1,\n",
       " 1,\n",
       " 1,\n",
       " 1,\n",
       " 1,\n",
       " 1,\n",
       " 1,\n",
       " 1,\n",
       " 1,\n",
       " 1,\n",
       " 1,\n",
       " 1,\n",
       " 1,\n",
       " 1,\n",
       " 1,\n",
       " 2,\n",
       " 2,\n",
       " 2,\n",
       " 2,\n",
       " 2,\n",
       " 2,\n",
       " 2,\n",
       " 2,\n",
       " 2,\n",
       " 2,\n",
       " 2,\n",
       " 2,\n",
       " 2,\n",
       " 2,\n",
       " 2,\n",
       " 2,\n",
       " 2,\n",
       " 2,\n",
       " 2,\n",
       " 2,\n",
       " 2,\n",
       " 2,\n",
       " 2,\n",
       " 2,\n",
       " 2,\n",
       " 2,\n",
       " 2,\n",
       " 2,\n",
       " 2,\n",
       " 2,\n",
       " 2,\n",
       " 2,\n",
       " 2,\n",
       " 2,\n",
       " 2,\n",
       " 2,\n",
       " 2,\n",
       " 2,\n",
       " 2,\n",
       " 2,\n",
       " 2,\n",
       " 2,\n",
       " 2,\n",
       " 2,\n",
       " 2,\n",
       " 2,\n",
       " 2,\n",
       " 2]"
      ]
     },
     "execution_count": 618,
     "metadata": {},
     "output_type": "execute_result"
    }
   ],
   "source": [
    "knn.fit(X,y)\n",
    "list(knn.predict(X))"
   ]
  },
  {
   "cell_type": "code",
   "execution_count": 551,
   "metadata": {},
   "outputs": [],
   "source": [
    "probas = pairwise_distances(centroids, X)\n",
    "probas /= np.sum(probas, axis=1).reshape(-1,1)\n",
    "check_random_state(42).rand"
   ]
  },
  {
   "cell_type": "code",
   "execution_count": 29,
   "metadata": {},
   "outputs": [],
   "source": [
    "from sklearn.preprocessing import StandardScaler\n",
    "from sklearn.linear_model import SGDClassifier\n",
    "from sklearn.model_selection import GridSearchCV\n",
    "from sklearn.pipeline import Pipeline\n",
    "\n",
    "\n",
    "parameters = {\n",
    "    'clf__alpha': (0.00001, 0.000001),\n",
    "    'clf__penalty': ('l2', 'elasticnet'),\n",
    "    'clf__max_iter': (10, 50, 80, 150),\n",
    "}\n",
    "\n",
    "pipeline = Pipeline([ ('std', StandardScaler()), ('clf', SGDClassifier())])\n",
    "grid_search = GridSearchCV(pipeline, parameters, n_jobs=-1, verbose=1)\n"
   ]
  },
  {
   "cell_type": "code",
   "execution_count": 781,
   "metadata": {},
   "outputs": [
    {
     "name": "stdout",
     "output_type": "stream",
     "text": [
      "ROUND 0\n",
      "Pipeline(memory=None,\n",
      "     steps=[('std', StandardScaler(copy=True, with_mean=True, with_std=True)), ('clf', SGDClassifier(alpha=0.0001, average=False, class_weight=None, epsilon=0.1,\n",
      "       eta0=0.0, fit_intercept=True, l1_ratio=0.15,\n",
      "       learning_rate='optimal', loss='hinge', max_iter=None, n_iter=None,\n",
      "       n_jobs=1, penalty='l2', power_t=0.5, random_state=0, shuffle=True,\n",
      "       tol=None, verbose=0, warm_start=False))])\n",
      "MODEL BASE -- 95.503\n",
      "BaggingClassifier(base_estimator=Pipeline(memory=None,\n",
      "     steps=[('std', StandardScaler(copy=True, with_mean=True, with_std=True)), ('clf', SGDClassifier(alpha=0.0001, average=False, class_weight=None, epsilon=0.1,\n",
      "       eta0=0.0, fit_intercept=True, l1_ratio=0.15,\n",
      "       learning_rate='optimal', loss='hinge', max_iter=None, n_iter=None,\n",
      "       n_jobs=1, penalty='l2', power_t=0.5, random_state=0, shuffle=True,\n",
      "       tol=None, verbose=0, warm_start=False))]),\n",
      "         bootstrap=True, bootstrap_features=False, max_features=0.5,\n",
      "         max_samples=0.5, n_estimators=10, n_jobs=1, oob_score=False,\n",
      "         random_state=0, verbose=0, warm_start=False)\n",
      "MODEL BAGGING -- 96.043\n",
      "Vanilla_RP(base_estimator_=Pipeline(memory=None,\n",
      "     steps=[('std', StandardScaler(copy=True, with_mean=True, with_std=True)), ('clf', SGDClassifier(alpha=0.0001, average=False, class_weight=None, epsilon=0.1,\n",
      "       eta0=0.0, fit_intercept=True, l1_ratio=0.15,\n",
      "       learning_rate='optimal', loss='hinge', max_iter=None, n_iter=None,\n",
      "       n_jobs=1, penalty='l2', power_t=0.5, random_state=0, shuffle=True,\n",
      "       tol=None, verbose=0, warm_start=False))]),\n",
      "      bootstrap_features=False, bootstrap_samples=True, dev_set=0.1,\n",
      "      max_features=0.5, max_samples=0.5, n_estimators=10, patcher='random',\n",
      "      random_state=0)\n"
     ]
    },
    {
     "ename": "RuntimeError",
     "evalue": "Cannot clone object Vanilla_RP(base_estimator_=Pipeline(memory=None,\n     steps=[('std', StandardScaler(copy=True, with_mean=True, with_std=True)), ('clf', SGDClassifier(alpha=0.0001, average=False, class_weight=None, epsilon=0.1,\n       eta0=0.0, fit_intercept=True, l1_ratio=0.15,\n       learning_rate='optimal', loss='hinge', max_iter=None, n_iter=None,\n       n_jobs=1, penalty='l2', power_t=0.5, random_state=0, shuffle=True,\n       tol=None, verbose=0, warm_start=False))]),\n      bootstrap_features=False, bootstrap_samples=True, dev_set=0.1,\n      max_features=0.5, max_samples=0.5, n_estimators=10, patcher='random',\n      random_state=0), as the constructor does not seem to set parameter random_state",
     "output_type": "error",
     "traceback": [
      "\u001b[0;31m---------------------------------------------------------------------------\u001b[0m",
      "\u001b[0;31mRuntimeError\u001b[0m                              Traceback (most recent call last)",
      "\u001b[0;32m<ipython-input-781-c7ddc2617417>\u001b[0m in \u001b[0;36m<module>\u001b[0;34m()\u001b[0m\n\u001b[1;32m     19\u001b[0m             \u001b[0mmodels\u001b[0m\u001b[0;34m[\u001b[0m\u001b[0mm_i\u001b[0m\u001b[0;34m]\u001b[0m\u001b[0;34m.\u001b[0m\u001b[0mset_params\u001b[0m\u001b[0;34m(\u001b[0m\u001b[0;34m**\u001b[0m\u001b[0;34m{\u001b[0m\u001b[0;34m'random_state'\u001b[0m\u001b[0;34m:\u001b[0m\u001b[0mi\u001b[0m\u001b[0;34m}\u001b[0m\u001b[0;34m)\u001b[0m\u001b[0;34m\u001b[0m\u001b[0m\n\u001b[1;32m     20\u001b[0m         \u001b[0;32mprint\u001b[0m\u001b[0;34m(\u001b[0m\u001b[0mmodels\u001b[0m\u001b[0;34m[\u001b[0m\u001b[0mm_i\u001b[0m\u001b[0;34m]\u001b[0m\u001b[0;34m)\u001b[0m\u001b[0;34m\u001b[0m\u001b[0m\n\u001b[0;32m---> 21\u001b[0;31m         \u001b[0msc\u001b[0m \u001b[0;34m=\u001b[0m \u001b[0mcross_val_score\u001b[0m\u001b[0;34m(\u001b[0m\u001b[0mmodels\u001b[0m\u001b[0;34m[\u001b[0m\u001b[0mm_i\u001b[0m\u001b[0;34m]\u001b[0m\u001b[0;34m,\u001b[0m \u001b[0mX\u001b[0m\u001b[0;34m,\u001b[0m \u001b[0my\u001b[0m\u001b[0;34m,\u001b[0m \u001b[0mcv\u001b[0m\u001b[0;34m=\u001b[0m\u001b[0;36m5\u001b[0m\u001b[0;34m,\u001b[0m \u001b[0mn_jobs\u001b[0m\u001b[0;34m=\u001b[0m\u001b[0;34m-\u001b[0m\u001b[0;36m1\u001b[0m\u001b[0;34m)\u001b[0m\u001b[0;34m.\u001b[0m\u001b[0mmean\u001b[0m\u001b[0;34m(\u001b[0m\u001b[0;34m)\u001b[0m\u001b[0;34m\u001b[0m\u001b[0m\n\u001b[0m\u001b[1;32m     22\u001b[0m         \u001b[0;32mprint\u001b[0m\u001b[0;34m(\u001b[0m\u001b[0;34m\"MODEL %s -- %0.3f\"\u001b[0m \u001b[0;34m%\u001b[0m\u001b[0;34m(\u001b[0m\u001b[0mmodel_names\u001b[0m\u001b[0;34m[\u001b[0m\u001b[0mm_i\u001b[0m\u001b[0;34m]\u001b[0m\u001b[0;34m,\u001b[0m \u001b[0;36m100\u001b[0m\u001b[0;34m*\u001b[0m\u001b[0msc\u001b[0m\u001b[0;34m)\u001b[0m\u001b[0;34m)\u001b[0m\u001b[0;34m\u001b[0m\u001b[0m\n\u001b[1;32m     23\u001b[0m         \u001b[0mscores\u001b[0m\u001b[0;34m[\u001b[0m\u001b[0mmodel_names\u001b[0m\u001b[0;34m[\u001b[0m\u001b[0mm_i\u001b[0m\u001b[0;34m]\u001b[0m\u001b[0;34m]\u001b[0m\u001b[0;34m.\u001b[0m\u001b[0mappend\u001b[0m\u001b[0;34m(\u001b[0m\u001b[0msc\u001b[0m\u001b[0;34m)\u001b[0m\u001b[0;34m\u001b[0m\u001b[0m\n",
      "\u001b[0;32m/usr/local/lib/python2.7/dist-packages/sklearn/cross_validation.pyc\u001b[0m in \u001b[0;36mcross_val_score\u001b[0;34m(estimator, X, y, scoring, cv, n_jobs, verbose, fit_params, pre_dispatch)\u001b[0m\n\u001b[1;32m   1579\u001b[0m                                               \u001b[0mtrain\u001b[0m\u001b[0;34m,\u001b[0m \u001b[0mtest\u001b[0m\u001b[0;34m,\u001b[0m \u001b[0mverbose\u001b[0m\u001b[0;34m,\u001b[0m \u001b[0mNone\u001b[0m\u001b[0;34m,\u001b[0m\u001b[0;34m\u001b[0m\u001b[0m\n\u001b[1;32m   1580\u001b[0m                                               fit_params)\n\u001b[0;32m-> 1581\u001b[0;31m                       for train, test in cv)\n\u001b[0m\u001b[1;32m   1582\u001b[0m     \u001b[0;32mreturn\u001b[0m \u001b[0mnp\u001b[0m\u001b[0;34m.\u001b[0m\u001b[0marray\u001b[0m\u001b[0;34m(\u001b[0m\u001b[0mscores\u001b[0m\u001b[0;34m)\u001b[0m\u001b[0;34m[\u001b[0m\u001b[0;34m:\u001b[0m\u001b[0;34m,\u001b[0m \u001b[0;36m0\u001b[0m\u001b[0;34m]\u001b[0m\u001b[0;34m\u001b[0m\u001b[0m\n\u001b[1;32m   1583\u001b[0m \u001b[0;34m\u001b[0m\u001b[0m\n",
      "\u001b[0;32m/usr/local/lib/python2.7/dist-packages/sklearn/externals/joblib/parallel.pyc\u001b[0m in \u001b[0;36m__call__\u001b[0;34m(self, iterable)\u001b[0m\n\u001b[1;32m    777\u001b[0m             \u001b[0;31m# was dispatched. In particular this covers the edge\u001b[0m\u001b[0;34m\u001b[0m\u001b[0;34m\u001b[0m\u001b[0m\n\u001b[1;32m    778\u001b[0m             \u001b[0;31m# case of Parallel used with an exhausted iterator.\u001b[0m\u001b[0;34m\u001b[0m\u001b[0;34m\u001b[0m\u001b[0m\n\u001b[0;32m--> 779\u001b[0;31m             \u001b[0;32mwhile\u001b[0m \u001b[0mself\u001b[0m\u001b[0;34m.\u001b[0m\u001b[0mdispatch_one_batch\u001b[0m\u001b[0;34m(\u001b[0m\u001b[0miterator\u001b[0m\u001b[0;34m)\u001b[0m\u001b[0;34m:\u001b[0m\u001b[0;34m\u001b[0m\u001b[0m\n\u001b[0m\u001b[1;32m    780\u001b[0m                 \u001b[0mself\u001b[0m\u001b[0;34m.\u001b[0m\u001b[0m_iterating\u001b[0m \u001b[0;34m=\u001b[0m \u001b[0mTrue\u001b[0m\u001b[0;34m\u001b[0m\u001b[0m\n\u001b[1;32m    781\u001b[0m             \u001b[0;32melse\u001b[0m\u001b[0;34m:\u001b[0m\u001b[0;34m\u001b[0m\u001b[0m\n",
      "\u001b[0;32m/usr/local/lib/python2.7/dist-packages/sklearn/externals/joblib/parallel.pyc\u001b[0m in \u001b[0;36mdispatch_one_batch\u001b[0;34m(self, iterator)\u001b[0m\n\u001b[1;32m    618\u001b[0m \u001b[0;34m\u001b[0m\u001b[0m\n\u001b[1;32m    619\u001b[0m         \u001b[0;32mwith\u001b[0m \u001b[0mself\u001b[0m\u001b[0;34m.\u001b[0m\u001b[0m_lock\u001b[0m\u001b[0;34m:\u001b[0m\u001b[0;34m\u001b[0m\u001b[0m\n\u001b[0;32m--> 620\u001b[0;31m             \u001b[0mtasks\u001b[0m \u001b[0;34m=\u001b[0m \u001b[0mBatchedCalls\u001b[0m\u001b[0;34m(\u001b[0m\u001b[0mitertools\u001b[0m\u001b[0;34m.\u001b[0m\u001b[0mislice\u001b[0m\u001b[0;34m(\u001b[0m\u001b[0miterator\u001b[0m\u001b[0;34m,\u001b[0m \u001b[0mbatch_size\u001b[0m\u001b[0;34m)\u001b[0m\u001b[0;34m)\u001b[0m\u001b[0;34m\u001b[0m\u001b[0m\n\u001b[0m\u001b[1;32m    621\u001b[0m             \u001b[0;32mif\u001b[0m \u001b[0mlen\u001b[0m\u001b[0;34m(\u001b[0m\u001b[0mtasks\u001b[0m\u001b[0;34m)\u001b[0m \u001b[0;34m==\u001b[0m \u001b[0;36m0\u001b[0m\u001b[0;34m:\u001b[0m\u001b[0;34m\u001b[0m\u001b[0m\n\u001b[1;32m    622\u001b[0m                 \u001b[0;31m# No more tasks available in the iterator: tell caller to stop.\u001b[0m\u001b[0;34m\u001b[0m\u001b[0;34m\u001b[0m\u001b[0m\n",
      "\u001b[0;32m/usr/local/lib/python2.7/dist-packages/sklearn/externals/joblib/parallel.pyc\u001b[0m in \u001b[0;36m__init__\u001b[0;34m(self, iterator_slice)\u001b[0m\n\u001b[1;32m    125\u001b[0m \u001b[0;34m\u001b[0m\u001b[0m\n\u001b[1;32m    126\u001b[0m     \u001b[0;32mdef\u001b[0m \u001b[0m__init__\u001b[0m\u001b[0;34m(\u001b[0m\u001b[0mself\u001b[0m\u001b[0;34m,\u001b[0m \u001b[0miterator_slice\u001b[0m\u001b[0;34m)\u001b[0m\u001b[0;34m:\u001b[0m\u001b[0;34m\u001b[0m\u001b[0m\n\u001b[0;32m--> 127\u001b[0;31m         \u001b[0mself\u001b[0m\u001b[0;34m.\u001b[0m\u001b[0mitems\u001b[0m \u001b[0;34m=\u001b[0m \u001b[0mlist\u001b[0m\u001b[0;34m(\u001b[0m\u001b[0miterator_slice\u001b[0m\u001b[0;34m)\u001b[0m\u001b[0;34m\u001b[0m\u001b[0m\n\u001b[0m\u001b[1;32m    128\u001b[0m         \u001b[0mself\u001b[0m\u001b[0;34m.\u001b[0m\u001b[0m_size\u001b[0m \u001b[0;34m=\u001b[0m \u001b[0mlen\u001b[0m\u001b[0;34m(\u001b[0m\u001b[0mself\u001b[0m\u001b[0;34m.\u001b[0m\u001b[0mitems\u001b[0m\u001b[0;34m)\u001b[0m\u001b[0;34m\u001b[0m\u001b[0m\n\u001b[1;32m    129\u001b[0m \u001b[0;34m\u001b[0m\u001b[0m\n",
      "\u001b[0;32m/usr/local/lib/python2.7/dist-packages/sklearn/cross_validation.pyc\u001b[0m in \u001b[0;36m<genexpr>\u001b[0;34m((train, test))\u001b[0m\n\u001b[1;32m   1579\u001b[0m                                               \u001b[0mtrain\u001b[0m\u001b[0;34m,\u001b[0m \u001b[0mtest\u001b[0m\u001b[0;34m,\u001b[0m \u001b[0mverbose\u001b[0m\u001b[0;34m,\u001b[0m \u001b[0mNone\u001b[0m\u001b[0;34m,\u001b[0m\u001b[0;34m\u001b[0m\u001b[0m\n\u001b[1;32m   1580\u001b[0m                                               fit_params)\n\u001b[0;32m-> 1581\u001b[0;31m                       for train, test in cv)\n\u001b[0m\u001b[1;32m   1582\u001b[0m     \u001b[0;32mreturn\u001b[0m \u001b[0mnp\u001b[0m\u001b[0;34m.\u001b[0m\u001b[0marray\u001b[0m\u001b[0;34m(\u001b[0m\u001b[0mscores\u001b[0m\u001b[0;34m)\u001b[0m\u001b[0;34m[\u001b[0m\u001b[0;34m:\u001b[0m\u001b[0;34m,\u001b[0m \u001b[0;36m0\u001b[0m\u001b[0;34m]\u001b[0m\u001b[0;34m\u001b[0m\u001b[0m\n\u001b[1;32m   1583\u001b[0m \u001b[0;34m\u001b[0m\u001b[0m\n",
      "\u001b[0;32m/usr/local/lib/python2.7/dist-packages/sklearn/base.pyc\u001b[0m in \u001b[0;36mclone\u001b[0;34m(estimator, safe)\u001b[0m\n\u001b[1;32m    117\u001b[0m             raise RuntimeError('Cannot clone object %s, as the constructor '\n\u001b[1;32m    118\u001b[0m                                \u001b[0;34m'does not seem to set parameter %s'\u001b[0m \u001b[0;34m%\u001b[0m\u001b[0;34m\u001b[0m\u001b[0m\n\u001b[0;32m--> 119\u001b[0;31m                                (estimator, name))\n\u001b[0m\u001b[1;32m    120\u001b[0m \u001b[0;34m\u001b[0m\u001b[0m\n\u001b[1;32m    121\u001b[0m     \u001b[0;32mreturn\u001b[0m \u001b[0mnew_object\u001b[0m\u001b[0;34m\u001b[0m\u001b[0m\n",
      "\u001b[0;31mRuntimeError\u001b[0m: Cannot clone object Vanilla_RP(base_estimator_=Pipeline(memory=None,\n     steps=[('std', StandardScaler(copy=True, with_mean=True, with_std=True)), ('clf', SGDClassifier(alpha=0.0001, average=False, class_weight=None, epsilon=0.1,\n       eta0=0.0, fit_intercept=True, l1_ratio=0.15,\n       learning_rate='optimal', loss='hinge', max_iter=None, n_iter=None,\n       n_jobs=1, penalty='l2', power_t=0.5, random_state=0, shuffle=True,\n       tol=None, verbose=0, warm_start=False))]),\n      bootstrap_features=False, bootstrap_samples=True, dev_set=0.1,\n      max_features=0.5, max_samples=0.5, n_estimators=10, patcher='random',\n      random_state=0), as the constructor does not seem to set parameter random_state"
     ]
    }
   ],
   "source": [
    "model_names = ['BASE', \"BAGGING\", \"RANDOM_PATCHES\", \"WEIGHTED_RP\", \"AC\"]\n",
    "base = pipeline\n",
    "models = [\n",
    "    base,\n",
    "    BaggingClassifier(base, max_samples=0.5, max_features=0.5),\n",
    "    Vanilla_RP(base,max_samples=0.5, max_features=0.5),\n",
    "    Vanilla_RP(base, max_samples=0.5, max_features=0.5, patcher='weighted'),\n",
    "    Adversarial_Cascade(base_estimator=base, optim=False, parameters=parameters, oob=True)\n",
    "]\n",
    "scores = {}\n",
    "for m in model_names:\n",
    "    scores[m] = []\n",
    "for i in xrange(10):\n",
    "    print(\"ROUND %d\" % i)\n",
    "    for m_i in xrange(len(model_names)):\n",
    "        try:\n",
    "            models[m_i].set_params(**{'clf__random_state':i})\n",
    "        except ValueError:\n",
    "            models[m_i].set_params(**{'random_state':i})\n",
    "        print(models[m_i])\n",
    "        sc = cross_val_score(models[m_i], X, y, cv=5, n_jobs=-1).mean()\n",
    "        print(\"MODEL %s -- %0.3f\" %(model_names[m_i], 100*sc))\n",
    "        scores[model_names[m_i]].append(sc)\n"
   ]
  },
  {
   "cell_type": "code",
   "execution_count": null,
   "metadata": {},
   "outputs": [],
   "source": []
  },
  {
   "cell_type": "code",
   "execution_count": 810,
   "metadata": {},
   "outputs": [
    {
     "name": "stdout",
     "output_type": "stream",
     "text": [
      "KNN Score:\n",
      "0.9550349509173038\n",
      "Bagging Score:\n",
      "0.8260564766447119\n",
      "RP Score:\n",
      "0.9226555126555127\n",
      "RP-WEIGHTED Score:\n",
      "0.9334039922275217\n",
      "AC\n",
      "0.7325760213995508\n",
      "~~~~~~~~~~~~~~~~~~~~~~~~~~~~~~~~~~~~~~~~~~~~~~~~~~\n"
     ]
    }
   ],
   "source": [
    "base = KNeighborsClassifier()\n",
    "bagging = BaggingClassifier(base, max_samples=0.5, max_features=0.5, random_state=42)\n",
    "rp = Vanilla_RP(base,max_samples=0.5, max_features=0.5, random_state=42)\n",
    "rp_w = Vanilla_RP(base, max_samples=0.5, max_features=0.5, patcher='weighted', random_state=42)\n",
    "ac = Adversarial_Cascade(base_estimator=base, num_adversaries_per_instance=10,\n",
    "                         optim=False, \n",
    "                         parameters=parameters, \n",
    "                         oob=False, random_state=42)\n",
    "print(\"KNN Score:\")\n",
    "print(cross_val_score(knn, X, y, cv=5, n_jobs=-1).mean())\n",
    "print(\"Bagging Score:\")\n",
    "print(cross_val_score(bagging, X, y, cv=5, n_jobs=-1).mean())\n",
    "print(\"RP Score:\")\n",
    "print(cross_val_score(rp, X, y, cv=5, n_jobs=-1).mean())\n",
    "print(\"RP-WEIGHTED Score:\")\n",
    "print(cross_val_score(rp_w, X, y, cv=5, n_jobs=-1).mean())\n",
    "print(\"AC\")\n",
    "print(cross_val_score(ac, X, y, cv=5, n_jobs=-1).mean())\n",
    "print(\"~\"*50)"
   ]
  },
  {
   "cell_type": "code",
   "execution_count": 795,
   "metadata": {},
   "outputs": [
    {
     "name": "stdout",
     "output_type": "stream",
     "text": [
      "ROUND 0\n",
      "KNN Score:\n",
      "0.9550349509173038\n",
      "Bagging Score:\n",
      "0.9604310192545487\n",
      "RP Score:\n",
      "0.9496295455118984\n",
      "RP-WEIGHTED Score:\n",
      "0.977592550533727\n",
      "AC\n",
      "Fitting 3 folds for each of 16 candidates, totalling 48 fits\n"
     ]
    },
    {
     "name": "stderr",
     "output_type": "stream",
     "text": [
      "/usr/local/lib/python2.7/dist-packages/sklearn/externals/joblib/parallel.py:547: UserWarning: Multiprocessing-backed parallel loops cannot be nested, setting n_jobs=1\n",
      "  **self._backend_args)\n"
     ]
    },
    {
     "name": "stdout",
     "output_type": "stream",
     "text": [
      "Fitting 3 folds for each of 16 candidates, totalling 48 fits\n"
     ]
    },
    {
     "name": "stderr",
     "output_type": "stream",
     "text": [
      "/usr/local/lib/python2.7/dist-packages/sklearn/externals/joblib/parallel.py:547: UserWarning: Multiprocessing-backed parallel loops cannot be nested, setting n_jobs=1\n",
      "  **self._backend_args)\n"
     ]
    },
    {
     "name": "stdout",
     "output_type": "stream",
     "text": [
      "Fitting 3 folds for each of 16 candidates, totalling 48 fits\n",
      "Fitting 3 folds for each of 16 candidates, totalling 48 fits\n"
     ]
    },
    {
     "name": "stderr",
     "output_type": "stream",
     "text": [
      "/usr/local/lib/python2.7/dist-packages/sklearn/externals/joblib/parallel.py:547: UserWarning: Multiprocessing-backed parallel loops cannot be nested, setting n_jobs=1\n",
      "  **self._backend_args)\n",
      "/usr/local/lib/python2.7/dist-packages/sklearn/externals/joblib/parallel.py:547: UserWarning: Multiprocessing-backed parallel loops cannot be nested, setting n_jobs=1\n",
      "  **self._backend_args)\n",
      "[Parallel(n_jobs=-1)]: Done  48 out of  48 | elapsed:    0.3s finished\n"
     ]
    },
    {
     "name": "stdout",
     "output_type": "stream",
     "text": [
      "Fitting 3 folds for each of 16 candidates, totalling 48 fits\n"
     ]
    },
    {
     "name": "stderr",
     "output_type": "stream",
     "text": [
      "/usr/local/lib/python2.7/dist-packages/sklearn/model_selection/_split.py:605: Warning: The least populated class in y has only 1 members, which is too few. The minimum number of members in any class cannot be less than n_splits=3.\n",
      "  % (min_groups, self.n_splits)), Warning)\n",
      "[Parallel(n_jobs=-1)]: Done  48 out of  48 | elapsed:    0.4s finished\n"
     ]
    },
    {
     "name": "stdout",
     "output_type": "stream",
     "text": [
      "ACCURACY ON THE OOB SAMPLE IS 100.000\n",
      "STOPPING WITH 1 BASE MODELS\n"
     ]
    },
    {
     "name": "stderr",
     "output_type": "stream",
     "text": [
      "[Parallel(n_jobs=-1)]: Done  48 out of  48 | elapsed:    0.4s finished\n"
     ]
    },
    {
     "name": "stdout",
     "output_type": "stream",
     "text": [
      "Fitting 3 folds for each of 16 candidates, totalling 48 fits\n",
      "ACCURACY ON THE OOB SAMPLE IS 100.000\n",
      "STOPPING WITH 1 BASE MODELS\n"
     ]
    },
    {
     "name": "stderr",
     "output_type": "stream",
     "text": [
      "[Parallel(n_jobs=-1)]: Done  48 out of  48 | elapsed:    0.4s finished\n"
     ]
    },
    {
     "name": "stdout",
     "output_type": "stream",
     "text": [
      "ACCURACY ON THE OOB SAMPLE IS 100.000\n"
     ]
    },
    {
     "name": "stderr",
     "output_type": "stream",
     "text": [
      "[Parallel(n_jobs=-1)]: Done  48 out of  48 | elapsed:    0.2s finished\n"
     ]
    },
    {
     "name": "stdout",
     "output_type": "stream",
     "text": [
      "Fitting 3 folds for each of 16 candidates, totalling 48 fits\n"
     ]
    },
    {
     "name": "stderr",
     "output_type": "stream",
     "text": [
      "/usr/local/lib/python2.7/dist-packages/sklearn/model_selection/_split.py:605: Warning: The least populated class in y has only 2 members, which is too few. The minimum number of members in any class cannot be less than n_splits=3.\n",
      "  % (min_groups, self.n_splits)), Warning)\n"
     ]
    },
    {
     "name": "stdout",
     "output_type": "stream",
     "text": [
      "STOPPING WITH 1 BASE MODELS\n"
     ]
    },
    {
     "name": "stderr",
     "output_type": "stream",
     "text": [
      "[Parallel(n_jobs=-1)]: Done  48 out of  48 | elapsed:    0.3s finished\n"
     ]
    },
    {
     "name": "stdout",
     "output_type": "stream",
     "text": [
      "ACCURACY ON THE OOB SAMPLE IS 100.000\n",
      "STOPPING WITH 1 BASE MODELS\n"
     ]
    },
    {
     "name": "stderr",
     "output_type": "stream",
     "text": [
      "[Parallel(n_jobs=-1)]: Done  48 out of  48 | elapsed:    0.2s finished\n"
     ]
    },
    {
     "name": "stdout",
     "output_type": "stream",
     "text": [
      "Fitting 3 folds for each of 16 candidates, totalling 48 fits\n"
     ]
    },
    {
     "name": "stderr",
     "output_type": "stream",
     "text": [
      "[Parallel(n_jobs=-1)]: Done  48 out of  48 | elapsed:    0.2s finished\n"
     ]
    },
    {
     "name": "stdout",
     "output_type": "stream",
     "text": [
      "ACCURACY ON THE OOB SAMPLE IS 100.000\n",
      "STOPPING WITH 4 BASE MODELS\n",
      "0.945019305019305\n",
      "~~~~~~~~~~~~~~~~~~~~~~~~~~~~~~~~~~~~~~~~~~~~~~~~~~\n",
      "ROUND 1\n",
      "KNN Score:\n",
      "0.9550349509173038\n",
      "Bagging Score:\n",
      "0.9505834405834406\n",
      "RP Score:\n",
      "0.9561296590708356\n",
      "RP-WEIGHTED Score:\n",
      "0.9493113281348575\n",
      "AC\n",
      "Fitting 3 folds for each of 16 candidates, totalling 48 fits\n"
     ]
    },
    {
     "name": "stderr",
     "output_type": "stream",
     "text": [
      "/usr/local/lib/python2.7/dist-packages/sklearn/externals/joblib/parallel.py:547: UserWarning: Multiprocessing-backed parallel loops cannot be nested, setting n_jobs=1\n",
      "  **self._backend_args)\n"
     ]
    },
    {
     "name": "stdout",
     "output_type": "stream",
     "text": [
      "Fitting 3 folds for each of 16 candidates, totalling 48 fits\n"
     ]
    },
    {
     "name": "stderr",
     "output_type": "stream",
     "text": [
      "/usr/local/lib/python2.7/dist-packages/sklearn/externals/joblib/parallel.py:547: UserWarning: Multiprocessing-backed parallel loops cannot be nested, setting n_jobs=1\n",
      "  **self._backend_args)\n"
     ]
    },
    {
     "name": "stdout",
     "output_type": "stream",
     "text": [
      "Fitting 3 folds for each of 16 candidates, totalling 48 fits\n"
     ]
    },
    {
     "name": "stderr",
     "output_type": "stream",
     "text": [
      "/usr/local/lib/python2.7/dist-packages/sklearn/externals/joblib/parallel.py:547: UserWarning: Multiprocessing-backed parallel loops cannot be nested, setting n_jobs=1\n",
      "  **self._backend_args)\n"
     ]
    },
    {
     "name": "stdout",
     "output_type": "stream",
     "text": [
      "Fitting 3 folds for each of 16 candidates, totalling 48 fits\n"
     ]
    },
    {
     "name": "stderr",
     "output_type": "stream",
     "text": [
      "/usr/local/lib/python2.7/dist-packages/sklearn/externals/joblib/parallel.py:547: UserWarning: Multiprocessing-backed parallel loops cannot be nested, setting n_jobs=1\n",
      "  **self._backend_args)\n",
      "[Parallel(n_jobs=-1)]: Done  48 out of  48 | elapsed:    0.3s finished\n"
     ]
    },
    {
     "name": "stdout",
     "output_type": "stream",
     "text": [
      "ACCURACY ON THE OOB SAMPLE IS 100.000\n",
      "STOPPING WITH 1 BASE MODELS\n"
     ]
    },
    {
     "name": "stderr",
     "output_type": "stream",
     "text": [
      "[Parallel(n_jobs=-1)]: Done  48 out of  48 | elapsed:    0.3s finished\n"
     ]
    },
    {
     "name": "stdout",
     "output_type": "stream",
     "text": [
      "Fitting 3 folds for each of 16 candidates, totalling 48 fits\n",
      "ACCURACY ON THE OOB SAMPLE IS 100.000\n",
      "STOPPING WITH 1 BASE MODELS\n"
     ]
    },
    {
     "name": "stderr",
     "output_type": "stream",
     "text": [
      "[Parallel(n_jobs=-1)]: Done  48 out of  48 | elapsed:    0.3s finished\n"
     ]
    },
    {
     "name": "stdout",
     "output_type": "stream",
     "text": [
      "ACCURACY ON THE OOB SAMPLE IS 100.000\n",
      "STOPPING WITH 1 BASE MODELS\n"
     ]
    },
    {
     "name": "stderr",
     "output_type": "stream",
     "text": [
      "[Parallel(n_jobs=-1)]: Done  48 out of  48 | elapsed:    0.4s finished\n"
     ]
    },
    {
     "name": "stdout",
     "output_type": "stream",
     "text": [
      "Fitting 3 folds for each of 16 candidates, totalling 48 fits\n"
     ]
    },
    {
     "name": "stderr",
     "output_type": "stream",
     "text": [
      "/usr/local/lib/python2.7/dist-packages/sklearn/model_selection/_split.py:605: Warning: The least populated class in y has only 1 members, which is too few. The minimum number of members in any class cannot be less than n_splits=3.\n",
      "  % (min_groups, self.n_splits)), Warning)\n",
      "[Parallel(n_jobs=-1)]: Done  48 out of  48 | elapsed:    0.2s finished\n"
     ]
    },
    {
     "name": "stdout",
     "output_type": "stream",
     "text": [
      "ACCURACY ON THE OOB SAMPLE IS 100.000\n",
      "STOPPING WITH 1 BASE MODELS\n"
     ]
    },
    {
     "name": "stderr",
     "output_type": "stream",
     "text": [
      "[Parallel(n_jobs=-1)]: Done  48 out of  48 | elapsed:    0.2s finished\n"
     ]
    },
    {
     "name": "stdout",
     "output_type": "stream",
     "text": [
      "ACCURACY ON THE OOB SAMPLE IS 100.000\n",
      "STOPPING WITH 2 BASE MODELS\n",
      "0.9499477628889392\n",
      "~~~~~~~~~~~~~~~~~~~~~~~~~~~~~~~~~~~~~~~~~~~~~~~~~~\n",
      "ROUND 2\n",
      "KNN Score:\n",
      "0.9550349509173038\n",
      "Bagging Score:\n",
      "0.9667996567996567\n",
      "RP Score:\n",
      "0.9445416004239535\n",
      "RP-WEIGHTED Score:\n",
      "0.9663133721957251\n",
      "AC\n",
      "Fitting 3 folds for each of 16 candidates, totalling 48 fits\n"
     ]
    },
    {
     "name": "stderr",
     "output_type": "stream",
     "text": [
      "/usr/local/lib/python2.7/dist-packages/sklearn/externals/joblib/parallel.py:547: UserWarning: Multiprocessing-backed parallel loops cannot be nested, setting n_jobs=1\n",
      "  **self._backend_args)\n"
     ]
    },
    {
     "name": "stdout",
     "output_type": "stream",
     "text": [
      "Fitting 3 folds for each of 16 candidates, totalling 48 fits\n",
      "Fitting 3 folds for each of 16 candidates, totalling 48 fits\n",
      "Fitting 3 folds for each of 16 candidates, totalling 48 fits\n"
     ]
    },
    {
     "name": "stderr",
     "output_type": "stream",
     "text": [
      "/usr/local/lib/python2.7/dist-packages/sklearn/externals/joblib/parallel.py:547: UserWarning: Multiprocessing-backed parallel loops cannot be nested, setting n_jobs=1\n",
      "  **self._backend_args)\n",
      "/usr/local/lib/python2.7/dist-packages/sklearn/externals/joblib/parallel.py:547: UserWarning: Multiprocessing-backed parallel loops cannot be nested, setting n_jobs=1\n",
      "  **self._backend_args)\n",
      "/usr/local/lib/python2.7/dist-packages/sklearn/externals/joblib/parallel.py:547: UserWarning: Multiprocessing-backed parallel loops cannot be nested, setting n_jobs=1\n",
      "  **self._backend_args)\n",
      "[Parallel(n_jobs=-1)]: Done  48 out of  48 | elapsed:    0.3s finished\n",
      "[Parallel(n_jobs=-1)]: Done  48 out of  48 | elapsed:    0.3s finished\n"
     ]
    },
    {
     "name": "stdout",
     "output_type": "stream",
     "text": [
      "ACCURACY ON THE OOB SAMPLE IS 100.000\n",
      "Fitting 3 folds for each of 16 candidates, totalling 48 fits\n",
      "STOPPING WITH 1 BASE MODELS\n",
      "Fitting 3 folds for each of 16 candidates, totalling 48 fits\n"
     ]
    },
    {
     "name": "stderr",
     "output_type": "stream",
     "text": [
      "/usr/local/lib/python2.7/dist-packages/sklearn/model_selection/_split.py:605: Warning: The least populated class in y has only 1 members, which is too few. The minimum number of members in any class cannot be less than n_splits=3.\n",
      "  % (min_groups, self.n_splits)), Warning)\n",
      "[Parallel(n_jobs=-1)]: Done  48 out of  48 | elapsed:    0.3s finished\n"
     ]
    },
    {
     "name": "stdout",
     "output_type": "stream",
     "text": [
      "ACCURACY ON THE OOB SAMPLE IS 100.000\n",
      "STOPPING WITH 1 BASE MODELS\n"
     ]
    },
    {
     "name": "stderr",
     "output_type": "stream",
     "text": [
      "[Parallel(n_jobs=-1)]: Done  48 out of  48 | elapsed:    0.5s finished\n"
     ]
    },
    {
     "name": "stdout",
     "output_type": "stream",
     "text": [
      "ACCURACY ON THE OOB SAMPLE IS 100.000\n",
      "STOPPING WITH 1 BASE MODELS\n"
     ]
    },
    {
     "name": "stderr",
     "output_type": "stream",
     "text": [
      "[Parallel(n_jobs=-1)]: Done  48 out of  48 | elapsed:    0.2s finished\n"
     ]
    },
    {
     "name": "stdout",
     "output_type": "stream",
     "text": [
      "ACCURACY ON THE OOB SAMPLE IS 100.000\n",
      "STOPPING WITH 2 BASE MODELS\n"
     ]
    },
    {
     "name": "stderr",
     "output_type": "stream",
     "text": [
      "[Parallel(n_jobs=-1)]: Done  48 out of  48 | elapsed:    0.3s finished\n"
     ]
    },
    {
     "name": "stdout",
     "output_type": "stream",
     "text": [
      "ACCURACY ON THE OOB SAMPLE IS 100.000\n",
      "STOPPING WITH 1 BASE MODELS\n",
      "0.9504247104247103\n",
      "~~~~~~~~~~~~~~~~~~~~~~~~~~~~~~~~~~~~~~~~~~~~~~~~~~\n",
      "ROUND 3\n",
      "KNN Score:\n",
      "0.9550349509173038\n",
      "Bagging Score:\n",
      "0.9555118984530748\n",
      "RP Score:\n",
      "0.9609258838670603\n",
      "RP-WEIGHTED Score:\n",
      "0.9499384258207788\n",
      "AC\n",
      "Fitting 3 folds for each of 16 candidates, totalling 48 fits\n",
      "Fitting 3 folds for each of 16 candidates, totalling 48 fits\n"
     ]
    },
    {
     "name": "stderr",
     "output_type": "stream",
     "text": [
      "/usr/local/lib/python2.7/dist-packages/sklearn/externals/joblib/parallel.py:547: UserWarning: Multiprocessing-backed parallel loops cannot be nested, setting n_jobs=1\n",
      "  **self._backend_args)\n"
     ]
    },
    {
     "name": "stdout",
     "output_type": "stream",
     "text": [
      "Fitting 3 folds for each of 16 candidates, totalling 48 fits\n",
      "Fitting 3 folds for each of 16 candidates, totalling 48 fits\n"
     ]
    },
    {
     "name": "stderr",
     "output_type": "stream",
     "text": [
      "/usr/local/lib/python2.7/dist-packages/sklearn/externals/joblib/parallel.py:547: UserWarning: Multiprocessing-backed parallel loops cannot be nested, setting n_jobs=1\n",
      "  **self._backend_args)\n",
      "/usr/local/lib/python2.7/dist-packages/sklearn/externals/joblib/parallel.py:547: UserWarning: Multiprocessing-backed parallel loops cannot be nested, setting n_jobs=1\n",
      "  **self._backend_args)\n",
      "/usr/local/lib/python2.7/dist-packages/sklearn/externals/joblib/parallel.py:547: UserWarning: Multiprocessing-backed parallel loops cannot be nested, setting n_jobs=1\n",
      "  **self._backend_args)\n",
      "[Parallel(n_jobs=-1)]: Done  48 out of  48 | elapsed:    0.3s finished\n"
     ]
    },
    {
     "name": "stdout",
     "output_type": "stream",
     "text": [
      "ACCURACY ON THE OOB SAMPLE IS 100.000\n",
      "STOPPING WITH 1 BASE MODELS\n",
      "Fitting 3 folds for each of 16 candidates, totalling 48 fits\n"
     ]
    },
    {
     "name": "stderr",
     "output_type": "stream",
     "text": [
      "[Parallel(n_jobs=-1)]: Done  48 out of  48 | elapsed:    0.3s finished\n"
     ]
    },
    {
     "name": "stdout",
     "output_type": "stream",
     "text": [
      "ACCURACY ON THE OOB SAMPLE IS 100.000\n"
     ]
    },
    {
     "name": "stderr",
     "output_type": "stream",
     "text": [
      "[Parallel(n_jobs=-1)]: Done  48 out of  48 | elapsed:    0.3s finished\n"
     ]
    },
    {
     "name": "stdout",
     "output_type": "stream",
     "text": [
      "ACCURACY ON THE OOB SAMPLE IS 100.000\n",
      "STOPPING WITH 1 BASE MODELS\n",
      "STOPPING WITH 1 BASE MODELS\n"
     ]
    },
    {
     "name": "stderr",
     "output_type": "stream",
     "text": [
      "[Parallel(n_jobs=-1)]: Done  48 out of  48 | elapsed:    0.4s finished\n"
     ]
    },
    {
     "name": "stdout",
     "output_type": "stream",
     "text": [
      "Fitting 3 folds for each of 16 candidates, totalling 48 fits\n"
     ]
    },
    {
     "name": "stderr",
     "output_type": "stream",
     "text": [
      "/usr/local/lib/python2.7/dist-packages/sklearn/model_selection/_split.py:605: Warning: The least populated class in y has only 1 members, which is too few. The minimum number of members in any class cannot be less than n_splits=3.\n",
      "  % (min_groups, self.n_splits)), Warning)\n",
      "[Parallel(n_jobs=-1)]: Done  48 out of  48 | elapsed:    0.3s finished\n"
     ]
    },
    {
     "name": "stdout",
     "output_type": "stream",
     "text": [
      "ACCURACY ON THE OOB SAMPLE IS 100.000\n",
      "STOPPING WITH 1 BASE MODELS\n"
     ]
    },
    {
     "name": "stderr",
     "output_type": "stream",
     "text": [
      "[Parallel(n_jobs=-1)]: Done  48 out of  48 | elapsed:    0.2s finished\n"
     ]
    },
    {
     "name": "stdout",
     "output_type": "stream",
     "text": [
      "Fitting 3 folds for each of 16 candidates, totalling 48 fits\n"
     ]
    },
    {
     "name": "stderr",
     "output_type": "stream",
     "text": [
      "[Parallel(n_jobs=-1)]: Done  48 out of  48 | elapsed:    0.2s finished\n"
     ]
    },
    {
     "name": "stdout",
     "output_type": "stream",
     "text": [
      "Fitting 3 folds for each of 16 candidates, totalling 48 fits\n"
     ]
    },
    {
     "name": "stderr",
     "output_type": "stream",
     "text": [
      "/usr/local/lib/python2.7/dist-packages/sklearn/model_selection/_split.py:605: Warning: The least populated class in y has only 2 members, which is too few. The minimum number of members in any class cannot be less than n_splits=3.\n",
      "  % (min_groups, self.n_splits)), Warning)\n",
      "[Parallel(n_jobs=-1)]: Done  48 out of  48 | elapsed:    0.2s finished\n"
     ]
    },
    {
     "name": "stdout",
     "output_type": "stream",
     "text": [
      "ACCURACY ON THE OOB SAMPLE IS 100.000\n",
      "STOPPING WITH 4 BASE MODELS\n",
      "0.9607585736997502\n",
      "~~~~~~~~~~~~~~~~~~~~~~~~~~~~~~~~~~~~~~~~~~~~~~~~~~\n",
      "ROUND 4\n",
      "KNN Score:\n",
      "0.9550349509173038\n",
      "Bagging Score:\n",
      "0.9555204784616549\n",
      "RP Score:\n",
      "0.9605990864814394\n",
      "RP-WEIGHTED Score:\n",
      "0.9837837837837838\n",
      "AC\n",
      "Fitting 3 folds for each of 16 candidates, totalling 48 fits\n",
      "Fitting 3 folds for each of 16 candidates, totalling 48 fits\n"
     ]
    },
    {
     "name": "stderr",
     "output_type": "stream",
     "text": [
      "/usr/local/lib/python2.7/dist-packages/sklearn/externals/joblib/parallel.py:547: UserWarning: Multiprocessing-backed parallel loops cannot be nested, setting n_jobs=1\n",
      "  **self._backend_args)\n",
      "/usr/local/lib/python2.7/dist-packages/sklearn/externals/joblib/parallel.py:547: UserWarning: Multiprocessing-backed parallel loops cannot be nested, setting n_jobs=1\n",
      "  **self._backend_args)\n"
     ]
    },
    {
     "name": "stdout",
     "output_type": "stream",
     "text": [
      "Fitting 3 folds for each of 16 candidates, totalling 48 fits\n",
      "Fitting 3 folds for each of 16 candidates, totalling 48 fits\n"
     ]
    },
    {
     "name": "stderr",
     "output_type": "stream",
     "text": [
      "/usr/local/lib/python2.7/dist-packages/sklearn/externals/joblib/parallel.py:547: UserWarning: Multiprocessing-backed parallel loops cannot be nested, setting n_jobs=1\n",
      "  **self._backend_args)\n",
      "/usr/local/lib/python2.7/dist-packages/sklearn/externals/joblib/parallel.py:547: UserWarning: Multiprocessing-backed parallel loops cannot be nested, setting n_jobs=1\n",
      "  **self._backend_args)\n",
      "[Parallel(n_jobs=-1)]: Done  48 out of  48 | elapsed:    0.2s finished\n"
     ]
    },
    {
     "name": "stdout",
     "output_type": "stream",
     "text": [
      "Fitting 3 folds for each of 16 candidates, totalling 48 fits\n"
     ]
    },
    {
     "name": "stderr",
     "output_type": "stream",
     "text": [
      "/usr/local/lib/python2.7/dist-packages/sklearn/model_selection/_split.py:605: Warning: The least populated class in y has only 1 members, which is too few. The minimum number of members in any class cannot be less than n_splits=3.\n",
      "  % (min_groups, self.n_splits)), Warning)\n",
      "[Parallel(n_jobs=-1)]: Done  48 out of  48 | elapsed:    0.3s finished\n"
     ]
    },
    {
     "name": "stdout",
     "output_type": "stream",
     "text": [
      "ACCURACY ON THE OOB SAMPLE IS 100.000\n",
      "STOPPING WITH 1 BASE MODELS\n",
      "Fitting 3 folds for each of 16 candidates, totalling 48 fits\n"
     ]
    },
    {
     "name": "stderr",
     "output_type": "stream",
     "text": [
      "[Parallel(n_jobs=-1)]: Done  48 out of  48 | elapsed:    0.4s finished\n"
     ]
    },
    {
     "name": "stdout",
     "output_type": "stream",
     "text": [
      "ACCURACY ON THE OOB SAMPLE IS 100.000\n",
      "STOPPING WITH 1 BASE MODELS\n"
     ]
    },
    {
     "name": "stderr",
     "output_type": "stream",
     "text": [
      "[Parallel(n_jobs=-1)]: Done  48 out of  48 | elapsed:    0.4s finished\n"
     ]
    },
    {
     "name": "stdout",
     "output_type": "stream",
     "text": [
      "ACCURACY ON THE OOB SAMPLE IS 100.000\n"
     ]
    },
    {
     "name": "stderr",
     "output_type": "stream",
     "text": [
      "[Parallel(n_jobs=-1)]: Done  48 out of  48 | elapsed:    0.2s finished\n"
     ]
    },
    {
     "name": "stdout",
     "output_type": "stream",
     "text": [
      "STOPPING WITH 1 BASE MODELS\n",
      "ACCURACY ON THE OOB SAMPLE IS 100.000\n",
      "STOPPING WITH 2 BASE MODELS\n"
     ]
    },
    {
     "name": "stderr",
     "output_type": "stream",
     "text": [
      "[Parallel(n_jobs=-1)]: Done  48 out of  48 | elapsed:    0.3s finished\n"
     ]
    },
    {
     "name": "stdout",
     "output_type": "stream",
     "text": [
      "ACCURACY ON THE OOB SAMPLE IS 100.000\n",
      "STOPPING WITH 1 BASE MODELS\n",
      "0.9607585736997502\n",
      "~~~~~~~~~~~~~~~~~~~~~~~~~~~~~~~~~~~~~~~~~~~~~~~~~~\n",
      "ROUND 5\n",
      "KNN Score:\n",
      "0.9550349509173038\n",
      "Bagging Score:\n",
      "0.9448598178009944\n",
      "RP Score:\n",
      "0.9493292452115982\n",
      "RP-WEIGHTED Score:\n",
      "0.9669583869583871\n",
      "AC\n",
      "Fitting 3 folds for each of 16 candidates, totalling 48 fits\n",
      "Fitting 3 folds for each of 16 candidates, totalling 48 fits\n"
     ]
    },
    {
     "name": "stderr",
     "output_type": "stream",
     "text": [
      "/usr/local/lib/python2.7/dist-packages/sklearn/externals/joblib/parallel.py:547: UserWarning: Multiprocessing-backed parallel loops cannot be nested, setting n_jobs=1\n",
      "  **self._backend_args)\n",
      "/usr/local/lib/python2.7/dist-packages/sklearn/externals/joblib/parallel.py:547: UserWarning: Multiprocessing-backed parallel loops cannot be nested, setting n_jobs=1\n",
      "  **self._backend_args)\n"
     ]
    },
    {
     "name": "stdout",
     "output_type": "stream",
     "text": [
      "Fitting 3 folds for each of 16 candidates, totalling 48 fits\n",
      "Fitting 3 folds for each of 16 candidates, totalling 48 fits\n"
     ]
    },
    {
     "name": "stderr",
     "output_type": "stream",
     "text": [
      "/usr/local/lib/python2.7/dist-packages/sklearn/externals/joblib/parallel.py:547: UserWarning: Multiprocessing-backed parallel loops cannot be nested, setting n_jobs=1\n",
      "  **self._backend_args)\n",
      "/usr/local/lib/python2.7/dist-packages/sklearn/externals/joblib/parallel.py:547: UserWarning: Multiprocessing-backed parallel loops cannot be nested, setting n_jobs=1\n",
      "  **self._backend_args)\n",
      "[Parallel(n_jobs=-1)]: Done  48 out of  48 | elapsed:    0.2s finished\n"
     ]
    },
    {
     "name": "stdout",
     "output_type": "stream",
     "text": [
      "ACCURACY ON THE OOB SAMPLE IS 100.000\n",
      "STOPPING WITH 1 BASE MODELS\n",
      "Fitting 3 folds for each of 16 candidates, totalling 48 fits\n"
     ]
    },
    {
     "name": "stderr",
     "output_type": "stream",
     "text": [
      "[Parallel(n_jobs=-1)]: Done  48 out of  48 | elapsed:    0.3s finished\n",
      "[Parallel(n_jobs=-1)]: Done  48 out of  48 | elapsed:    0.3s finished\n"
     ]
    },
    {
     "name": "stdout",
     "output_type": "stream",
     "text": [
      "Fitting 3 folds for each of 16 candidates, totalling 48 fits\n",
      "ACCURACY ON THE OOB SAMPLE IS 100.000\n"
     ]
    },
    {
     "name": "stderr",
     "output_type": "stream",
     "text": [
      "/usr/local/lib/python2.7/dist-packages/sklearn/model_selection/_split.py:605: Warning: The least populated class in y has only 1 members, which is too few. The minimum number of members in any class cannot be less than n_splits=3.\n",
      "  % (min_groups, self.n_splits)), Warning)\n"
     ]
    },
    {
     "name": "stdout",
     "output_type": "stream",
     "text": [
      "STOPPING WITH 1 BASE MODELS\n"
     ]
    },
    {
     "name": "stderr",
     "output_type": "stream",
     "text": [
      "[Parallel(n_jobs=-1)]: Done  48 out of  48 | elapsed:    0.4s finished\n"
     ]
    },
    {
     "name": "stdout",
     "output_type": "stream",
     "text": [
      "ACCURACY ON THE OOB SAMPLE IS 100.000\n",
      "STOPPING WITH 1 BASE MODELS\n"
     ]
    },
    {
     "name": "stderr",
     "output_type": "stream",
     "text": [
      "[Parallel(n_jobs=-1)]: Done  48 out of  48 | elapsed:    0.2s finished\n",
      "[Parallel(n_jobs=-1)]: Done  48 out of  48 | elapsed:    0.2s finished\n"
     ]
    },
    {
     "name": "stdout",
     "output_type": "stream",
     "text": [
      "ACCURACY ON THE OOB SAMPLE IS 100.000\n",
      "ACCURACY ON THE OOB SAMPLE IS 100.000\n",
      "STOPPING WITH 1 BASE MODELS\n",
      "STOPPING WITH 2 BASE MODELS\n",
      "0.9553531682943447\n",
      "~~~~~~~~~~~~~~~~~~~~~~~~~~~~~~~~~~~~~~~~~~~~~~~~~~\n",
      "ROUND 6\n",
      "KNN Score:\n",
      "0.9550349509173038\n",
      "Bagging Score:\n",
      "0.9723458752870517\n",
      "RP Score:\n",
      "0.9725139425139424\n",
      "RP-WEIGHTED Score:\n",
      "0.9669404698816463\n",
      "AC\n",
      "Fitting 3 folds for each of 16 candidates, totalling 48 fits\n",
      "Fitting 3 folds for each of 16 candidates, totalling 48 fits\n",
      "Fitting 3 folds for each of 16 candidates, totalling 48 fits\n"
     ]
    },
    {
     "name": "stderr",
     "output_type": "stream",
     "text": [
      "/usr/local/lib/python2.7/dist-packages/sklearn/externals/joblib/parallel.py:547: UserWarning: Multiprocessing-backed parallel loops cannot be nested, setting n_jobs=1\n",
      "  **self._backend_args)\n"
     ]
    },
    {
     "name": "stdout",
     "output_type": "stream",
     "text": [
      "Fitting 3 folds for each of 16 candidates, totalling 48 fits\n"
     ]
    },
    {
     "name": "stderr",
     "output_type": "stream",
     "text": [
      "/usr/local/lib/python2.7/dist-packages/sklearn/externals/joblib/parallel.py:547: UserWarning: Multiprocessing-backed parallel loops cannot be nested, setting n_jobs=1\n",
      "  **self._backend_args)\n",
      "/usr/local/lib/python2.7/dist-packages/sklearn/externals/joblib/parallel.py:547: UserWarning: Multiprocessing-backed parallel loops cannot be nested, setting n_jobs=1\n",
      "  **self._backend_args)\n",
      "/usr/local/lib/python2.7/dist-packages/sklearn/externals/joblib/parallel.py:547: UserWarning: Multiprocessing-backed parallel loops cannot be nested, setting n_jobs=1\n",
      "  **self._backend_args)\n",
      "[Parallel(n_jobs=-1)]: Done  48 out of  48 | elapsed:    0.2s finished\n"
     ]
    },
    {
     "name": "stdout",
     "output_type": "stream",
     "text": [
      "ACCURACY ON THE OOB SAMPLE IS 100.000\n",
      "STOPPING WITH 1 BASE MODELS\n"
     ]
    },
    {
     "name": "stderr",
     "output_type": "stream",
     "text": [
      "[Parallel(n_jobs=-1)]: Done  48 out of  48 | elapsed:    0.2s finished\n",
      "[Parallel(n_jobs=-1)]: Done  48 out of  48 | elapsed:    0.2s finished\n"
     ]
    },
    {
     "name": "stdout",
     "output_type": "stream",
     "text": [
      "Fitting 3 folds for each of 16 candidates, totalling 48 fits\n",
      "Fitting 3 folds for each of 16 candidates, totalling 48 fits\n",
      "ACCURACY ON THE OOB SAMPLE IS 100.000\n",
      "STOPPING WITH 1 BASE MODELS\n"
     ]
    },
    {
     "name": "stderr",
     "output_type": "stream",
     "text": [
      "/usr/local/lib/python2.7/dist-packages/sklearn/model_selection/_split.py:605: Warning: The least populated class in y has only 1 members, which is too few. The minimum number of members in any class cannot be less than n_splits=3.\n",
      "  % (min_groups, self.n_splits)), Warning)\n",
      "[Parallel(n_jobs=-1)]: Done  48 out of  48 | elapsed:    0.3s finished\n"
     ]
    },
    {
     "name": "stdout",
     "output_type": "stream",
     "text": [
      "ACCURACY ON THE OOB SAMPLE IS 100.000\n",
      "STOPPING WITH 1 BASE MODELS\n"
     ]
    },
    {
     "name": "stderr",
     "output_type": "stream",
     "text": [
      "[Parallel(n_jobs=-1)]: Done  48 out of  48 | elapsed:    0.2s finished\n"
     ]
    },
    {
     "name": "stdout",
     "output_type": "stream",
     "text": [
      "ACCURACY ON THE OOB SAMPLE IS 100.000\n",
      "STOPPING WITH 2 BASE MODELS\n"
     ]
    },
    {
     "name": "stderr",
     "output_type": "stream",
     "text": [
      "[Parallel(n_jobs=-1)]: Done  48 out of  48 | elapsed:    0.2s finished\n"
     ]
    },
    {
     "name": "stdout",
     "output_type": "stream",
     "text": [
      "ACCURACY ON THE OOB SAMPLE IS 100.000\n",
      "STOPPING WITH 1 BASE MODELS\n",
      "0.9445423574835339\n",
      "~~~~~~~~~~~~~~~~~~~~~~~~~~~~~~~~~~~~~~~~~~~~~~~~~~\n",
      "ROUND 7\n",
      "KNN Score:\n",
      "0.9550349509173038\n",
      "Bagging Score:\n",
      "0.9551757639992934\n",
      "RP Score:\n",
      "0.9548754636989931\n",
      "RP-WEIGHTED Score:\n",
      "0.9726726726726728\n",
      "AC\n",
      "Fitting 3 folds for each of 16 candidates, totalling 48 fits\n",
      "Fitting 3 folds for each of 16 candidates, totalling 48 fits\n",
      "Fitting 3 folds for each of 16 candidates, totalling 48 fits\n"
     ]
    },
    {
     "name": "stderr",
     "output_type": "stream",
     "text": [
      "/usr/local/lib/python2.7/dist-packages/sklearn/externals/joblib/parallel.py:547: UserWarning: Multiprocessing-backed parallel loops cannot be nested, setting n_jobs=1\n",
      "  **self._backend_args)\n",
      "/usr/local/lib/python2.7/dist-packages/sklearn/externals/joblib/parallel.py:547: UserWarning: Multiprocessing-backed parallel loops cannot be nested, setting n_jobs=1\n",
      "  **self._backend_args)\n"
     ]
    },
    {
     "name": "stdout",
     "output_type": "stream",
     "text": [
      "Fitting 3 folds for each of 16 candidates, totalling 48 fits\n"
     ]
    },
    {
     "name": "stderr",
     "output_type": "stream",
     "text": [
      "/usr/local/lib/python2.7/dist-packages/sklearn/externals/joblib/parallel.py:547: UserWarning: Multiprocessing-backed parallel loops cannot be nested, setting n_jobs=1\n",
      "  **self._backend_args)\n",
      "/usr/local/lib/python2.7/dist-packages/sklearn/externals/joblib/parallel.py:547: UserWarning: Multiprocessing-backed parallel loops cannot be nested, setting n_jobs=1\n",
      "  **self._backend_args)\n",
      "[Parallel(n_jobs=-1)]: Done  48 out of  48 | elapsed:    0.2s finished\n",
      "[Parallel(n_jobs=-1)]: Done  48 out of  48 | elapsed:    0.2s finished\n",
      "[Parallel(n_jobs=-1)]: Done  48 out of  48 | elapsed:    0.2s finished\n"
     ]
    },
    {
     "name": "stdout",
     "output_type": "stream",
     "text": [
      "ACCURACY ON THE OOB SAMPLE IS 100.000\n",
      "STOPPING WITH 1 BASE MODELS\n",
      "ACCURACY ON THE OOB SAMPLE IS 100.000\n",
      "Fitting 3 folds for each of 16 candidates, totalling 48 fits\n",
      "Fitting 3 folds for each of 16 candidates, totalling 48 fits\n",
      "STOPPING WITH 1 BASE MODELS\n"
     ]
    },
    {
     "name": "stderr",
     "output_type": "stream",
     "text": [
      "/usr/local/lib/python2.7/dist-packages/sklearn/model_selection/_split.py:605: Warning: The least populated class in y has only 1 members, which is too few. The minimum number of members in any class cannot be less than n_splits=3.\n",
      "  % (min_groups, self.n_splits)), Warning)\n",
      "[Parallel(n_jobs=-1)]: Done  48 out of  48 | elapsed:    0.3s finished\n"
     ]
    },
    {
     "name": "stdout",
     "output_type": "stream",
     "text": [
      "ACCURACY ON THE OOB SAMPLE IS 100.000\n",
      "STOPPING WITH 1 BASE MODELS\n"
     ]
    },
    {
     "name": "stderr",
     "output_type": "stream",
     "text": [
      "[Parallel(n_jobs=-1)]: Done  48 out of  48 | elapsed:    0.2s finished\n"
     ]
    },
    {
     "name": "stdout",
     "output_type": "stream",
     "text": [
      "Fitting 3 folds for each of 16 candidates, totalling 48 fits\n"
     ]
    },
    {
     "name": "stderr",
     "output_type": "stream",
     "text": [
      "[Parallel(n_jobs=-1)]: Done  48 out of  48 | elapsed:    0.2s finished\n"
     ]
    },
    {
     "name": "stdout",
     "output_type": "stream",
     "text": [
      "ACCURACY ON THE OOB SAMPLE IS 100.000\n",
      "STOPPING WITH 1 BASE MODELS\n"
     ]
    },
    {
     "name": "stderr",
     "output_type": "stream",
     "text": [
      "[Parallel(n_jobs=-1)]: Done  48 out of  48 | elapsed:    0.2s finished\n"
     ]
    },
    {
     "name": "stdout",
     "output_type": "stream",
     "text": [
      "Fitting 3 folds for each of 16 candidates, totalling 48 fits\n"
     ]
    },
    {
     "name": "stderr",
     "output_type": "stream",
     "text": [
      "/usr/local/lib/python2.7/dist-packages/sklearn/model_selection/_split.py:605: Warning: The least populated class in y has only 2 members, which is too few. The minimum number of members in any class cannot be less than n_splits=3.\n",
      "  % (min_groups, self.n_splits)), Warning)\n",
      "[Parallel(n_jobs=-1)]: Done  48 out of  48 | elapsed:    0.2s finished\n"
     ]
    },
    {
     "name": "stdout",
     "output_type": "stream",
     "text": [
      "ACCURACY ON THE OOB SAMPLE IS 100.000\n",
      "STOPPING WITH 4 BASE MODELS\n",
      "0.9337315466727232\n",
      "~~~~~~~~~~~~~~~~~~~~~~~~~~~~~~~~~~~~~~~~~~~~~~~~~~\n",
      "ROUND 8\n",
      "KNN Score:\n",
      "0.9550349509173038\n",
      "Bagging Score:\n",
      "0.9723458752870517\n",
      "RP Score:\n",
      "0.9725225225225225\n",
      "RP-WEIGHTED Score:\n",
      "0.9447096676508441\n",
      "AC\n",
      "Fitting 3 folds for each of 16 candidates, totalling 48 fits\n",
      "Fitting 3 folds for each of 16 candidates, totalling 48 fits\n"
     ]
    },
    {
     "name": "stderr",
     "output_type": "stream",
     "text": [
      "/usr/local/lib/python2.7/dist-packages/sklearn/externals/joblib/parallel.py:547: UserWarning: Multiprocessing-backed parallel loops cannot be nested, setting n_jobs=1\n",
      "  **self._backend_args)\n",
      "/usr/local/lib/python2.7/dist-packages/sklearn/externals/joblib/parallel.py:547: UserWarning: Multiprocessing-backed parallel loops cannot be nested, setting n_jobs=1\n",
      "  **self._backend_args)\n"
     ]
    },
    {
     "name": "stdout",
     "output_type": "stream",
     "text": [
      "Fitting 3 folds for each of 16 candidates, totalling 48 fits\n",
      "Fitting 3 folds for each of 16 candidates, totalling 48 fits\n"
     ]
    },
    {
     "name": "stderr",
     "output_type": "stream",
     "text": [
      "/usr/local/lib/python2.7/dist-packages/sklearn/externals/joblib/parallel.py:547: UserWarning: Multiprocessing-backed parallel loops cannot be nested, setting n_jobs=1\n",
      "  **self._backend_args)\n",
      "/usr/local/lib/python2.7/dist-packages/sklearn/externals/joblib/parallel.py:547: UserWarning: Multiprocessing-backed parallel loops cannot be nested, setting n_jobs=1\n",
      "  **self._backend_args)\n",
      "[Parallel(n_jobs=-1)]: Done  48 out of  48 | elapsed:    0.2s finished\n"
     ]
    },
    {
     "name": "stdout",
     "output_type": "stream",
     "text": [
      "Fitting 3 folds for each of 16 candidates, totalling 48 fits\n"
     ]
    },
    {
     "name": "stderr",
     "output_type": "stream",
     "text": [
      "[Parallel(n_jobs=-1)]: Done  48 out of  48 | elapsed:    0.2s finished\n",
      "[Parallel(n_jobs=-1)]: Done  48 out of  48 | elapsed:    0.2s finished\n"
     ]
    },
    {
     "name": "stdout",
     "output_type": "stream",
     "text": [
      "ACCURACY ON THE OOB SAMPLE IS 100.000\n",
      "STOPPING WITH 1 BASE MODELS\n",
      "Fitting 3 folds for each of 16 candidates, totalling 48 fits\n",
      "ACCURACY ON THE OOB SAMPLE IS 100.000\n",
      "STOPPING WITH 1 BASE MODELS\n"
     ]
    },
    {
     "name": "stderr",
     "output_type": "stream",
     "text": [
      "[Parallel(n_jobs=-1)]: Done  48 out of  48 | elapsed:    0.3s finished\n"
     ]
    },
    {
     "name": "stdout",
     "output_type": "stream",
     "text": [
      "ACCURACY ON THE OOB SAMPLE IS 100.000\n",
      "STOPPING WITH 1 BASE MODELS\n"
     ]
    },
    {
     "ename": "JoblibValueError",
     "evalue": "JoblibValueError\n___________________________________________________________________________\nMultiprocessing exception:\n...........................................................................\n/usr/lib/python2.7/runpy.py in _run_module_as_main(mod_name='ipykernel_launcher', alter_argv=1)\n    169     pkg_name = mod_name.rpartition('.')[0]\n    170     main_globals = sys.modules[\"__main__\"].__dict__\n    171     if alter_argv:\n    172         sys.argv[0] = fname\n    173     return _run_code(code, main_globals, None,\n--> 174                      \"__main__\", fname, loader, pkg_name)\n        fname = '/usr/local/lib/python2.7/dist-packages/ipykernel_launcher.py'\n        loader = <pkgutil.ImpLoader instance>\n        pkg_name = ''\n    175 \n    176 def run_module(mod_name, init_globals=None,\n    177                run_name=None, alter_sys=False):\n    178     \"\"\"Execute a module's code without importing it\n\n...........................................................................\n/usr/lib/python2.7/runpy.py in _run_code(code=<code object <module> at 0x7f74f081a9b0, file \"/...2.7/dist-packages/ipykernel_launcher.py\", line 5>, run_globals={'__builtins__': <module '__builtin__' (built-in)>, '__doc__': 'Entry point for launching an IPython kernel.\\n\\nTh...orts until\\nafter removing the cwd from sys.path.\\n', '__file__': '/usr/local/lib/python2.7/dist-packages/ipykernel_launcher.py', '__loader__': <pkgutil.ImpLoader instance>, '__name__': '__main__', '__package__': '', 'app': <module 'ipykernel.kernelapp' from '/usr/local/lib/python2.7/dist-packages/ipykernel/kernelapp.pyc'>, 'sys': <module 'sys' (built-in)>}, init_globals=None, mod_name='__main__', mod_fname='/usr/local/lib/python2.7/dist-packages/ipykernel_launcher.py', mod_loader=<pkgutil.ImpLoader instance>, pkg_name='')\n     67         run_globals.update(init_globals)\n     68     run_globals.update(__name__ = mod_name,\n     69                        __file__ = mod_fname,\n     70                        __loader__ = mod_loader,\n     71                        __package__ = pkg_name)\n---> 72     exec code in run_globals\n        code = <code object <module> at 0x7f74f081a9b0, file \"/...2.7/dist-packages/ipykernel_launcher.py\", line 5>\n        run_globals = {'__builtins__': <module '__builtin__' (built-in)>, '__doc__': 'Entry point for launching an IPython kernel.\\n\\nTh...orts until\\nafter removing the cwd from sys.path.\\n', '__file__': '/usr/local/lib/python2.7/dist-packages/ipykernel_launcher.py', '__loader__': <pkgutil.ImpLoader instance>, '__name__': '__main__', '__package__': '', 'app': <module 'ipykernel.kernelapp' from '/usr/local/lib/python2.7/dist-packages/ipykernel/kernelapp.pyc'>, 'sys': <module 'sys' (built-in)>}\n     73     return run_globals\n     74 \n     75 def _run_module_code(code, init_globals=None,\n     76                     mod_name=None, mod_fname=None,\n\n...........................................................................\n/usr/local/lib/python2.7/dist-packages/ipykernel_launcher.py in <module>()\n     11     # This is added back by InteractiveShellApp.init_path()\n     12     if sys.path[0] == '':\n     13         del sys.path[0]\n     14 \n     15     from ipykernel import kernelapp as app\n---> 16     app.launch_new_instance()\n\n...........................................................................\n/usr/local/lib/python2.7/dist-packages/traitlets/config/application.py in launch_instance(cls=<class 'ipykernel.kernelapp.IPKernelApp'>, argv=None, **kwargs={})\n    653 \n    654         If a global instance already exists, this reinitializes and starts it\n    655         \"\"\"\n    656         app = cls.instance(**kwargs)\n    657         app.initialize(argv)\n--> 658         app.start()\n        app.start = <bound method IPKernelApp.start of <ipykernel.kernelapp.IPKernelApp object>>\n    659 \n    660 #-----------------------------------------------------------------------------\n    661 # utility functions, for convenience\n    662 #-----------------------------------------------------------------------------\n\n...........................................................................\n/usr/local/lib/python2.7/dist-packages/ipykernel/kernelapp.py in start(self=<ipykernel.kernelapp.IPKernelApp object>)\n    481         if self.poller is not None:\n    482             self.poller.start()\n    483         self.kernel.start()\n    484         self.io_loop = ioloop.IOLoop.current()\n    485         try:\n--> 486             self.io_loop.start()\n        self.io_loop.start = <bound method ZMQIOLoop.start of <zmq.eventloop.ioloop.ZMQIOLoop object>>\n    487         except KeyboardInterrupt:\n    488             pass\n    489 \n    490 launch_new_instance = IPKernelApp.launch_instance\n\n...........................................................................\n/usr/local/lib/python2.7/dist-packages/tornado/ioloop.py in start(self=<zmq.eventloop.ioloop.ZMQIOLoop object>)\n   1060                 self._events.update(event_pairs)\n   1061                 while self._events:\n   1062                     fd, events = self._events.popitem()\n   1063                     try:\n   1064                         fd_obj, handler_func = self._handlers[fd]\n-> 1065                         handler_func(fd_obj, events)\n        handler_func = <function null_wrapper>\n        fd_obj = <zmq.sugar.socket.Socket object>\n        events = 1\n   1066                     except (OSError, IOError) as e:\n   1067                         if errno_from_exception(e) == errno.EPIPE:\n   1068                             # Happens when the client closes the connection\n   1069                             pass\n\n...........................................................................\n/usr/local/lib/python2.7/dist-packages/tornado/stack_context.py in null_wrapper(*args=(<zmq.sugar.socket.Socket object>, 1), **kwargs={})\n    271         # Fast path when there are no active contexts.\n    272         def null_wrapper(*args, **kwargs):\n    273             try:\n    274                 current_state = _state.contexts\n    275                 _state.contexts = cap_contexts[0]\n--> 276                 return fn(*args, **kwargs)\n        args = (<zmq.sugar.socket.Socket object>, 1)\n        kwargs = {}\n    277             finally:\n    278                 _state.contexts = current_state\n    279         null_wrapper._wrapped = True\n    280         return null_wrapper\n\n...........................................................................\n/usr/local/lib/python2.7/dist-packages/zmq/eventloop/zmqstream.py in _handle_events(self=<zmq.eventloop.zmqstream.ZMQStream object>, fd=<zmq.sugar.socket.Socket object>, events=1)\n    445             return\n    446         zmq_events = self.socket.EVENTS\n    447         try:\n    448             # dispatch events:\n    449             if zmq_events & zmq.POLLIN and self.receiving():\n--> 450                 self._handle_recv()\n        self._handle_recv = <bound method ZMQStream._handle_recv of <zmq.eventloop.zmqstream.ZMQStream object>>\n    451                 if not self.socket:\n    452                     return\n    453             if zmq_events & zmq.POLLOUT and self.sending():\n    454                 self._handle_send()\n\n...........................................................................\n/usr/local/lib/python2.7/dist-packages/zmq/eventloop/zmqstream.py in _handle_recv(self=<zmq.eventloop.zmqstream.ZMQStream object>)\n    475             else:\n    476                 raise\n    477         else:\n    478             if self._recv_callback:\n    479                 callback = self._recv_callback\n--> 480                 self._run_callback(callback, msg)\n        self._run_callback = <bound method ZMQStream._run_callback of <zmq.eventloop.zmqstream.ZMQStream object>>\n        callback = <function null_wrapper>\n        msg = [<zmq.sugar.frame.Frame object>, <zmq.sugar.frame.Frame object>, <zmq.sugar.frame.Frame object>, <zmq.sugar.frame.Frame object>, <zmq.sugar.frame.Frame object>, <zmq.sugar.frame.Frame object>, <zmq.sugar.frame.Frame object>]\n    481         \n    482 \n    483     def _handle_send(self):\n    484         \"\"\"Handle a send event.\"\"\"\n\n...........................................................................\n/usr/local/lib/python2.7/dist-packages/zmq/eventloop/zmqstream.py in _run_callback(self=<zmq.eventloop.zmqstream.ZMQStream object>, callback=<function null_wrapper>, *args=([<zmq.sugar.frame.Frame object>, <zmq.sugar.frame.Frame object>, <zmq.sugar.frame.Frame object>, <zmq.sugar.frame.Frame object>, <zmq.sugar.frame.Frame object>, <zmq.sugar.frame.Frame object>, <zmq.sugar.frame.Frame object>],), **kwargs={})\n    427         close our socket.\"\"\"\n    428         try:\n    429             # Use a NullContext to ensure that all StackContexts are run\n    430             # inside our blanket exception handler rather than outside.\n    431             with stack_context.NullContext():\n--> 432                 callback(*args, **kwargs)\n        callback = <function null_wrapper>\n        args = ([<zmq.sugar.frame.Frame object>, <zmq.sugar.frame.Frame object>, <zmq.sugar.frame.Frame object>, <zmq.sugar.frame.Frame object>, <zmq.sugar.frame.Frame object>, <zmq.sugar.frame.Frame object>, <zmq.sugar.frame.Frame object>],)\n        kwargs = {}\n    433         except:\n    434             gen_log.error(\"Uncaught exception in ZMQStream callback\",\n    435                           exc_info=True)\n    436             # Re-raise the exception so that IOLoop.handle_callback_exception\n\n...........................................................................\n/usr/local/lib/python2.7/dist-packages/tornado/stack_context.py in null_wrapper(*args=([<zmq.sugar.frame.Frame object>, <zmq.sugar.frame.Frame object>, <zmq.sugar.frame.Frame object>, <zmq.sugar.frame.Frame object>, <zmq.sugar.frame.Frame object>, <zmq.sugar.frame.Frame object>, <zmq.sugar.frame.Frame object>],), **kwargs={})\n    271         # Fast path when there are no active contexts.\n    272         def null_wrapper(*args, **kwargs):\n    273             try:\n    274                 current_state = _state.contexts\n    275                 _state.contexts = cap_contexts[0]\n--> 276                 return fn(*args, **kwargs)\n        args = ([<zmq.sugar.frame.Frame object>, <zmq.sugar.frame.Frame object>, <zmq.sugar.frame.Frame object>, <zmq.sugar.frame.Frame object>, <zmq.sugar.frame.Frame object>, <zmq.sugar.frame.Frame object>, <zmq.sugar.frame.Frame object>],)\n        kwargs = {}\n    277             finally:\n    278                 _state.contexts = current_state\n    279         null_wrapper._wrapped = True\n    280         return null_wrapper\n\n...........................................................................\n/usr/local/lib/python2.7/dist-packages/ipykernel/kernelbase.py in dispatcher(msg=[<zmq.sugar.frame.Frame object>, <zmq.sugar.frame.Frame object>, <zmq.sugar.frame.Frame object>, <zmq.sugar.frame.Frame object>, <zmq.sugar.frame.Frame object>, <zmq.sugar.frame.Frame object>, <zmq.sugar.frame.Frame object>])\n    278         if self.control_stream:\n    279             self.control_stream.on_recv(self.dispatch_control, copy=False)\n    280 \n    281         def make_dispatcher(stream):\n    282             def dispatcher(msg):\n--> 283                 return self.dispatch_shell(stream, msg)\n        msg = [<zmq.sugar.frame.Frame object>, <zmq.sugar.frame.Frame object>, <zmq.sugar.frame.Frame object>, <zmq.sugar.frame.Frame object>, <zmq.sugar.frame.Frame object>, <zmq.sugar.frame.Frame object>, <zmq.sugar.frame.Frame object>]\n    284             return dispatcher\n    285 \n    286         for s in self.shell_streams:\n    287             s.on_recv(make_dispatcher(s), copy=False)\n\n...........................................................................\n/usr/local/lib/python2.7/dist-packages/ipykernel/kernelbase.py in dispatch_shell(self=<ipykernel.ipkernel.IPythonKernel object>, stream=<zmq.eventloop.zmqstream.ZMQStream object>, msg={'buffers': [], 'content': {'allow_stdin': True, 'code': 'for i in xrange(10):\\n    print(\"ROUND %d\" % i)\\n ... X, y, cv=5, n_jobs=-1).mean())\\n    print(\"~\"*50)', 'silent': False, 'stop_on_error': True, 'store_history': True, 'user_expressions': {}}, 'header': {'date': datetime.datetime(2018, 9, 4, 12, 4, 26, 80780, tzinfo=tzutc()), 'msg_id': '08772691c0e64edb8cbac660e884ad96', 'msg_type': 'execute_request', 'session': '35a02c8f281a40df8a3f97fc7e38bde4', 'username': 'username', 'version': '5.2'}, 'metadata': {}, 'msg_id': '08772691c0e64edb8cbac660e884ad96', 'msg_type': 'execute_request', 'parent_header': {}})\n    228             self.log.warn(\"Unknown message type: %r\", msg_type)\n    229         else:\n    230             self.log.debug(\"%s: %s\", msg_type, msg)\n    231             self.pre_handler_hook()\n    232             try:\n--> 233                 handler(stream, idents, msg)\n        handler = <bound method IPythonKernel.execute_request of <ipykernel.ipkernel.IPythonKernel object>>\n        stream = <zmq.eventloop.zmqstream.ZMQStream object>\n        idents = ['35a02c8f281a40df8a3f97fc7e38bde4']\n        msg = {'buffers': [], 'content': {'allow_stdin': True, 'code': 'for i in xrange(10):\\n    print(\"ROUND %d\" % i)\\n ... X, y, cv=5, n_jobs=-1).mean())\\n    print(\"~\"*50)', 'silent': False, 'stop_on_error': True, 'store_history': True, 'user_expressions': {}}, 'header': {'date': datetime.datetime(2018, 9, 4, 12, 4, 26, 80780, tzinfo=tzutc()), 'msg_id': '08772691c0e64edb8cbac660e884ad96', 'msg_type': 'execute_request', 'session': '35a02c8f281a40df8a3f97fc7e38bde4', 'username': 'username', 'version': '5.2'}, 'metadata': {}, 'msg_id': '08772691c0e64edb8cbac660e884ad96', 'msg_type': 'execute_request', 'parent_header': {}}\n    234             except Exception:\n    235                 self.log.error(\"Exception in message handler:\", exc_info=True)\n    236             finally:\n    237                 self.post_handler_hook()\n\n...........................................................................\n/usr/local/lib/python2.7/dist-packages/ipykernel/kernelbase.py in execute_request(self=<ipykernel.ipkernel.IPythonKernel object>, stream=<zmq.eventloop.zmqstream.ZMQStream object>, ident=['35a02c8f281a40df8a3f97fc7e38bde4'], parent={'buffers': [], 'content': {'allow_stdin': True, 'code': 'for i in xrange(10):\\n    print(\"ROUND %d\" % i)\\n ... X, y, cv=5, n_jobs=-1).mean())\\n    print(\"~\"*50)', 'silent': False, 'stop_on_error': True, 'store_history': True, 'user_expressions': {}}, 'header': {'date': datetime.datetime(2018, 9, 4, 12, 4, 26, 80780, tzinfo=tzutc()), 'msg_id': '08772691c0e64edb8cbac660e884ad96', 'msg_type': 'execute_request', 'session': '35a02c8f281a40df8a3f97fc7e38bde4', 'username': 'username', 'version': '5.2'}, 'metadata': {}, 'msg_id': '08772691c0e64edb8cbac660e884ad96', 'msg_type': 'execute_request', 'parent_header': {}})\n    394         if not silent:\n    395             self.execution_count += 1\n    396             self._publish_execute_input(code, parent, self.execution_count)\n    397 \n    398         reply_content = self.do_execute(code, silent, store_history,\n--> 399                                         user_expressions, allow_stdin)\n        user_expressions = {}\n        allow_stdin = True\n    400 \n    401         # Flush output before sending the reply.\n    402         sys.stdout.flush()\n    403         sys.stderr.flush()\n\n...........................................................................\n/usr/local/lib/python2.7/dist-packages/ipykernel/ipkernel.py in do_execute(self=<ipykernel.ipkernel.IPythonKernel object>, code=u'for i in xrange(10):\\n    print(\"ROUND %d\" % i..., y, cv=5, n_jobs=-1).mean())\\n    print(\"~\"*50)', silent=False, store_history=True, user_expressions={}, allow_stdin=True)\n    203 \n    204         self._forward_input(allow_stdin)\n    205 \n    206         reply_content = {}\n    207         try:\n--> 208             res = shell.run_cell(code, store_history=store_history, silent=silent)\n        res = undefined\n        shell.run_cell = <bound method ZMQInteractiveShell.run_cell of <ipykernel.zmqshell.ZMQInteractiveShell object>>\n        code = u'for i in xrange(10):\\n    print(\"ROUND %d\" % i..., y, cv=5, n_jobs=-1).mean())\\n    print(\"~\"*50)'\n        store_history = True\n        silent = False\n    209         finally:\n    210             self._restore_input()\n    211 \n    212         if res.error_before_exec is not None:\n\n...........................................................................\n/usr/local/lib/python2.7/dist-packages/ipykernel/zmqshell.py in run_cell(self=<ipykernel.zmqshell.ZMQInteractiveShell object>, *args=(u'for i in xrange(10):\\n    print(\"ROUND %d\" % i..., y, cv=5, n_jobs=-1).mean())\\n    print(\"~\"*50)',), **kwargs={'silent': False, 'store_history': True})\n    532             )\n    533         self.payload_manager.write_payload(payload)\n    534 \n    535     def run_cell(self, *args, **kwargs):\n    536         self._last_traceback = None\n--> 537         return super(ZMQInteractiveShell, self).run_cell(*args, **kwargs)\n        self.run_cell = <bound method ZMQInteractiveShell.run_cell of <ipykernel.zmqshell.ZMQInteractiveShell object>>\n        args = (u'for i in xrange(10):\\n    print(\"ROUND %d\" % i..., y, cv=5, n_jobs=-1).mean())\\n    print(\"~\"*50)',)\n        kwargs = {'silent': False, 'store_history': True}\n    538 \n    539     def _showtraceback(self, etype, evalue, stb):\n    540         # try to preserve ordering of tracebacks and print statements\n    541         sys.stdout.flush()\n\n...........................................................................\n/usr/local/lib/python2.7/dist-packages/IPython/core/interactiveshell.py in run_cell(self=<ipykernel.zmqshell.ZMQInteractiveShell object>, raw_cell=u'for i in xrange(10):\\n    print(\"ROUND %d\" % i..., y, cv=5, n_jobs=-1).mean())\\n    print(\"~\"*50)', store_history=True, silent=False, shell_futures=True)\n   2709                 self.displayhook.exec_result = result\n   2710 \n   2711                 # Execute the user code\n   2712                 interactivity = \"none\" if silent else self.ast_node_interactivity\n   2713                 has_raised = self.run_ast_nodes(code_ast.body, cell_name,\n-> 2714                    interactivity=interactivity, compiler=compiler, result=result)\n        interactivity = 'last_expr'\n        compiler = <IPython.core.compilerop.CachingCompiler instance>\n   2715                 \n   2716                 self.last_execution_succeeded = not has_raised\n   2717 \n   2718                 # Reset this so later displayed values do not modify the\n\n...........................................................................\n/usr/local/lib/python2.7/dist-packages/IPython/core/interactiveshell.py in run_ast_nodes(self=<ipykernel.zmqshell.ZMQInteractiveShell object>, nodelist=[<_ast.For object>], cell_name='<ipython-input-795-0ab9d5a70cee>', interactivity='none', compiler=<IPython.core.compilerop.CachingCompiler instance>, result=<ExecutionResult object at 7f749c93f3d0, executi..._before_exec=None error_in_exec=None result=None>)\n   2813 \n   2814         try:\n   2815             for i, node in enumerate(to_run_exec):\n   2816                 mod = ast.Module([node])\n   2817                 code = compiler(mod, cell_name, \"exec\")\n-> 2818                 if self.run_code(code, result):\n        self.run_code = <bound method ZMQInteractiveShell.run_code of <ipykernel.zmqshell.ZMQInteractiveShell object>>\n        code = <code object <module> at 0x7f749c11bb30, file \"<ipython-input-795-0ab9d5a70cee>\", line 1>\n        result = <ExecutionResult object at 7f749c93f3d0, executi..._before_exec=None error_in_exec=None result=None>\n   2819                     return True\n   2820 \n   2821             for i, node in enumerate(to_run_interactive):\n   2822                 mod = ast.Interactive([node])\n\n...........................................................................\n/usr/local/lib/python2.7/dist-packages/IPython/core/interactiveshell.py in run_code(self=<ipykernel.zmqshell.ZMQInteractiveShell object>, code_obj=<code object <module> at 0x7f749c11bb30, file \"<ipython-input-795-0ab9d5a70cee>\", line 1>, result=<ExecutionResult object at 7f749c93f3d0, executi..._before_exec=None error_in_exec=None result=None>)\n   2873         outflag = 1  # happens in more places, so it's easier as default\n   2874         try:\n   2875             try:\n   2876                 self.hooks.pre_run_code_hook()\n   2877                 #rprint('Running code', repr(code_obj)) # dbg\n-> 2878                 exec(code_obj, self.user_global_ns, self.user_ns)\n        code_obj = <code object <module> at 0x7f749c11bb30, file \"<ipython-input-795-0ab9d5a70cee>\", line 1>\n        self.user_global_ns = {'ABCMeta': <class 'abc.ABCMeta'>, 'Adversarial_Cascade': <class '__main__.Adversarial_Cascade'>, 'BaggingClassifier': <class 'sklearn.ensemble.bagging.BaggingClassifier'>, 'BaseEstimator': <class 'sklearn.base.BaseEstimator'>, 'ClassifierMixin': <class 'sklearn.base.ClassifierMixin'>, 'Combiner': <class 'brew.combination.combiner.Combiner'>, 'CountVectorizer': <class 'sklearn.feature_extraction.text.CountVectorizer'>, 'DecisionTreeClassifier': <class 'sklearn.tree.tree.DecisionTreeClassifier'>, 'DecisionTreeRegressor': <class 'sklearn.tree.tree.DecisionTreeRegressor'>, 'Ensemble': <class 'brew.base.Ensemble'>, ...}\n        self.user_ns = {'ABCMeta': <class 'abc.ABCMeta'>, 'Adversarial_Cascade': <class '__main__.Adversarial_Cascade'>, 'BaggingClassifier': <class 'sklearn.ensemble.bagging.BaggingClassifier'>, 'BaseEstimator': <class 'sklearn.base.BaseEstimator'>, 'ClassifierMixin': <class 'sklearn.base.ClassifierMixin'>, 'Combiner': <class 'brew.combination.combiner.Combiner'>, 'CountVectorizer': <class 'sklearn.feature_extraction.text.CountVectorizer'>, 'DecisionTreeClassifier': <class 'sklearn.tree.tree.DecisionTreeClassifier'>, 'DecisionTreeRegressor': <class 'sklearn.tree.tree.DecisionTreeRegressor'>, 'Ensemble': <class 'brew.base.Ensemble'>, ...}\n   2879             finally:\n   2880                 # Reset our crash handler in place\n   2881                 sys.excepthook = old_excepthook\n   2882         except SystemExit as e:\n\n...........................................................................\n/media/kostas/DATA/GIT/Cascada/<ipython-input-795-0ab9d5a70cee> in <module>()\n     12     print(\"RP Score:\")\n     13     print(cross_val_score(rp, X, y, cv=5, n_jobs=-1).mean())\n     14     print(\"RP-WEIGHTED Score:\")\n     15     print(cross_val_score(rp_w, X, y, cv=5, n_jobs=-1).mean())\n     16     print(\"AC\")\n---> 17     print(cross_val_score(ac, X, y, cv=5, n_jobs=-1).mean())\n     18     print(\"~\"*50)\n\n...........................................................................\n/usr/local/lib/python2.7/dist-packages/sklearn/cross_validation.py in cross_val_score(estimator=Adversarial_Cascade(acc_target=0.99,\n          b... object at 0x7f749c0c5fa0>,\n          way='prob'), X=array([[1.423e+01, 1.710e+00, 2.430e+00, ..., 1...., ..., 6.100e-01, 1.600e+00,\n        5.600e+02]]), y=array([0, 0, 0, 0, 0, 0, 0, 0, 0, 0, 0, 0, 0, 0,...2, 2, 2, 2, 2, 2, 2, 2, 2, 2, 2, 2,\n       2, 2]), scoring=None, cv=sklearn.cross_validation.StratifiedKFold(labels=... 2], n_folds=5, shuffle=False, random_state=None), n_jobs=-1, verbose=0, fit_params=None, pre_dispatch='2*n_jobs')\n   1576     parallel = Parallel(n_jobs=n_jobs, verbose=verbose,\n   1577                         pre_dispatch=pre_dispatch)\n   1578     scores = parallel(delayed(_fit_and_score)(clone(estimator), X, y, scorer,\n   1579                                               train, test, verbose, None,\n   1580                                               fit_params)\n-> 1581                       for train, test in cv)\n        cv = sklearn.cross_validation.StratifiedKFold(labels=... 2], n_folds=5, shuffle=False, random_state=None)\n   1582     return np.array(scores)[:, 0]\n   1583 \n   1584 \n   1585 def _fit_and_score(estimator, X, y, scorer, train, test, verbose,\n\n...........................................................................\n/usr/local/lib/python2.7/dist-packages/sklearn/externals/joblib/parallel.py in __call__(self=Parallel(n_jobs=-1), iterable=<generator object <genexpr>>)\n    784             if pre_dispatch == \"all\" or n_jobs == 1:\n    785                 # The iterable was consumed all at once by the above for loop.\n    786                 # No need to wait for async callbacks to trigger to\n    787                 # consumption.\n    788                 self._iterating = False\n--> 789             self.retrieve()\n        self.retrieve = <bound method Parallel.retrieve of Parallel(n_jobs=-1)>\n    790             # Make sure that we get a last message telling us we are done\n    791             elapsed_time = time.time() - self._start_time\n    792             self._print('Done %3i out of %3i | elapsed: %s finished',\n    793                         (len(self._output), len(self._output),\n\n---------------------------------------------------------------------------\nSub-process traceback:\n---------------------------------------------------------------------------\nValueError                                         Tue Sep  4 15:04:41 2018\nPID: 21566                                   Python 2.7.14: /usr/bin/python\n...........................................................................\n/usr/local/lib/python2.7/dist-packages/sklearn/externals/joblib/parallel.py in __call__(self=<sklearn.externals.joblib.parallel.BatchedCalls object>)\n    126     def __init__(self, iterator_slice):\n    127         self.items = list(iterator_slice)\n    128         self._size = len(self.items)\n    129 \n    130     def __call__(self):\n--> 131         return [func(*args, **kwargs) for func, args, kwargs in self.items]\n        func = <function _fit_and_score>\n        args = (Adversarial_Cascade(acc_target=0.99,\n          b... object at 0x7f749c07f320>,\n          way='prob'), array([[1.423e+01, 1.710e+00, 2.430e+00, ..., 1...., ..., 6.100e-01, 1.600e+00,\n        5.600e+02]]), array([0, 0, 0, 0, 0, 0, 0, 0, 0, 0, 0, 0, 0, 0,...2, 2, 2, 2, 2, 2, 2, 2, 2, 2, 2, 2,\n       2, 2]), <function _passthrough_scorer>, array([ 12,  13,  14,  15,  16,  17,  18,  19,  ...68, 169, 170, 171, 172, 173, 174, 175, 176, 177]), array([  0,   1,   2,   3,   4,   5,   6,   7,  ...30, 131, 132, 133, 134, 135, 136, 137, 138, 139]), 0, None, None)\n        kwargs = {}\n        self.items = [(<function _fit_and_score>, (Adversarial_Cascade(acc_target=0.99,\n          b... object at 0x7f749c07f320>,\n          way='prob'), array([[1.423e+01, 1.710e+00, 2.430e+00, ..., 1...., ..., 6.100e-01, 1.600e+00,\n        5.600e+02]]), array([0, 0, 0, 0, 0, 0, 0, 0, 0, 0, 0, 0, 0, 0,...2, 2, 2, 2, 2, 2, 2, 2, 2, 2, 2, 2,\n       2, 2]), <function _passthrough_scorer>, array([ 12,  13,  14,  15,  16,  17,  18,  19,  ...68, 169, 170, 171, 172, 173, 174, 175, 176, 177]), array([  0,   1,   2,   3,   4,   5,   6,   7,  ...30, 131, 132, 133, 134, 135, 136, 137, 138, 139]), 0, None, None), {})]\n    132 \n    133     def __len__(self):\n    134         return self._size\n    135 \n\n...........................................................................\n/usr/local/lib/python2.7/dist-packages/sklearn/cross_validation.py in _fit_and_score(estimator=Adversarial_Cascade(acc_target=0.99,\n          b... object at 0x7f749c07f320>,\n          way='prob'), X=array([[1.423e+01, 1.710e+00, 2.430e+00, ..., 1...., ..., 6.100e-01, 1.600e+00,\n        5.600e+02]]), y=array([0, 0, 0, 0, 0, 0, 0, 0, 0, 0, 0, 0, 0, 0,...2, 2, 2, 2, 2, 2, 2, 2, 2, 2, 2, 2,\n       2, 2]), scorer=<function _passthrough_scorer>, train=array([ 12,  13,  14,  15,  16,  17,  18,  19,  ...68, 169, 170, 171, 172, 173, 174, 175, 176, 177]), test=array([  0,   1,   2,   3,   4,   5,   6,   7,  ...30, 131, 132, 133, 134, 135, 136, 137, 138, 139]), verbose=0, parameters=None, fit_params={}, return_train_score=False, return_parameters=False, error_score='raise')\n   1670 \n   1671     try:\n   1672         if y_train is None:\n   1673             estimator.fit(X_train, **fit_params)\n   1674         else:\n-> 1675             estimator.fit(X_train, y_train, **fit_params)\n        estimator.fit = <bound method Adversarial_Cascade.fit of Adversa...object at 0x7f749c07f320>,\n          way='prob')>\n        X_train = array([[1.375e+01, 1.730e+00, 2.410e+00, ..., 1...., ..., 6.100e-01, 1.600e+00,\n        5.600e+02]])\n        y_train = array([0, 0, 0, 0, 0, 0, 0, 0, 0, 0, 0, 0, 0, 0,...2, 2, 2, 2, 2,\n       2, 2, 2, 2, 2, 2, 2, 2, 2])\n        fit_params = {}\n   1676 \n   1677     except Exception as e:\n   1678         if error_score == 'raise':\n   1679             raise\n\n...........................................................................\n/media/kostas/DATA/GIT/Cascada/<ipython-input-769-f790c0b86c9d> in fit(self=Adversarial_Cascade(acc_target=0.99,\n          b... object at 0x7f749c07f320>,\n          way='prob'), X=array([[1.375e+01, 1.730e+00, 2.410e+00, ..., 1...., ..., 6.100e-01, 1.600e+00,\n        5.600e+02]]), y=array([0, 0, 0, 0, 0, 0, 0, 0, 0, 0, 0, 0, 0, 0,...2, 2, 2, 2, 2,\n       2, 2, 2, 2, 2, 2, 2, 2, 2]))\n     30         self.acc = []\n     31         self.ensemble = []\n     32         self.selected_indices = []\n     33     \n     34     def fit(self, X, y):\n---> 35         self._fit(X, y)\n     36     \n     37     def _fit(self,X,y):\n     38         X, y = check_X_y(\n     39             X, y, ['csr', 'csc'], dtype=None, force_all_finite=False,\n\n...........................................................................\n/media/kostas/DATA/GIT/Cascada/<ipython-input-769-f790c0b86c9d> in _fit(self=Adversarial_Cascade(acc_target=0.99,\n          b... object at 0x7f749c07f320>,\n          way='prob'), X=array([[1.141e+01, 7.400e-01, 2.500e+00, ..., 1...., ..., 1.270e+00, 2.960e+00,\n        7.100e+02]]), y=array([1, 0, 0, 0, 1, 1, 1, 0, 0, 2, 1, 2, 1, 2,... 1, 1, 1, 1, 2, 0, 1, 2, 1, 0, 0, 2, 2, 0, 2, 1]))\n     47         flag_target = False\n     48         for i_est in xrange(self.n_estimators):\n     49             cur_mod = clone(self.base_estimator)\n     50             if self.optim:\n     51                 grid_search = GridSearchCV(cur_mod, self.parameters, n_jobs=-1, verbose=1, refit=True)\n---> 52                 grid_search.fit(cur_X, cur_y)\n     53                 cur_mod = grid_search.best_estimator_\n     54             else:\n     55                 cur_mod.fit(cur_X, cur_y)\n     56             self.ensemble.append(cur_mod)\n\n...........................................................................\n/usr/local/lib/python2.7/dist-packages/sklearn/model_selection/_search.py in fit(self=GridSearchCV(cv=None, error_score='raise',\n     ...ain_score='warn',\n       scoring=None, verbose=1), X=array([[1.181e+01, 2.120e+00, 2.740e+00, 2.150e+...0e+00, 1.000e+00, 3.170e+00,\n        5.100e+02]]), y=array([1, 2, 0, 2, 1]), groups=None, **fit_params={})\n    634                                   return_train_score=self.return_train_score,\n    635                                   return_n_test_samples=True,\n    636                                   return_times=True, return_parameters=False,\n    637                                   error_score=self.error_score)\n    638           for parameters, (train, test) in product(candidate_params,\n--> 639                                                    cv.split(X, y, groups)))\n        cv.split = <bound method StratifiedKFold.split of Stratifie...ld(n_splits=3, random_state=None, shuffle=False)>\n        X = array([[1.181e+01, 2.120e+00, 2.740e+00, 2.150e+...0e+00, 1.000e+00, 3.170e+00,\n        5.100e+02]])\n        y = array([1, 2, 0, 2, 1])\n        groups = None\n    640 \n    641         # if one choose to see train score, \"out\" will contain train score info\n    642         if self.return_train_score:\n    643             (train_score_dicts, test_score_dicts, test_sample_counts, fit_time,\n\n...........................................................................\n/usr/local/lib/python2.7/dist-packages/sklearn/model_selection/_split.py in split(self=StratifiedKFold(n_splits=3, random_state=None, shuffle=False), X=array([[1.181e+01, 2.120e+00, 2.740e+00, 2.150e+...0e+00, 1.000e+00, 3.170e+00,\n        5.100e+02]]), y=array([1, 2, 0, 2, 1]), groups=None)\n    327             raise ValueError(\n    328                 (\"Cannot have number of splits n_splits={0} greater\"\n    329                  \" than the number of samples: {1}.\").format(self.n_splits,\n    330                                                              n_samples))\n    331 \n--> 332         for train, test in super(_BaseKFold, self).split(X, y, groups):\n        train = undefined\n        test = undefined\n        self.split = <bound method StratifiedKFold.split of Stratifie...ld(n_splits=3, random_state=None, shuffle=False)>\n        X = array([[1.181e+01, 2.120e+00, 2.740e+00, 2.150e+...0e+00, 1.000e+00, 3.170e+00,\n        5.100e+02]])\n        y = array([1, 2, 0, 2, 1])\n        groups = None\n    333             yield train, test\n    334 \n    335     def get_n_splits(self, X=None, y=None, groups=None):\n    336         \"\"\"Returns the number of splitting iterations in the cross-validator\n\n...........................................................................\n/usr/local/lib/python2.7/dist-packages/sklearn/model_selection/_split.py in split(self=StratifiedKFold(n_splits=3, random_state=None, shuffle=False), X=array([[1.181e+01, 2.120e+00, 2.740e+00, 2.150e+...0e+00, 1.000e+00, 3.170e+00,\n        5.100e+02]]), y=array([1, 2, 0, 2, 1]), groups=None)\n     90         split. You can make the results identical by setting ``random_state``\n     91         to an integer.\n     92         \"\"\"\n     93         X, y, groups = indexable(X, y, groups)\n     94         indices = np.arange(_num_samples(X))\n---> 95         for test_index in self._iter_test_masks(X, y, groups):\n        test_index = undefined\n        self._iter_test_masks = <bound method StratifiedKFold._iter_test_masks o...ld(n_splits=3, random_state=None, shuffle=False)>\n        X = array([[1.181e+01, 2.120e+00, 2.740e+00, 2.150e+...0e+00, 1.000e+00, 3.170e+00,\n        5.100e+02]])\n        y = array([1, 2, 0, 2, 1])\n        groups = None\n     96             train_index = indices[np.logical_not(test_index)]\n     97             test_index = indices[test_index]\n     98             yield train_index, test_index\n     99 \n\n...........................................................................\n/usr/local/lib/python2.7/dist-packages/sklearn/model_selection/_split.py in _iter_test_masks(self=StratifiedKFold(n_splits=3, random_state=None, shuffle=False), X=array([[1.181e+01, 2.120e+00, 2.740e+00, 2.150e+...0e+00, 1.000e+00, 3.170e+00,\n        5.100e+02]]), y=array([1, 2, 0, 2, 1]), groups=None)\n    629                 test_folds[y == cls] = cls_test_folds\n    630 \n    631         return test_folds\n    632 \n    633     def _iter_test_masks(self, X, y=None, groups=None):\n--> 634         test_folds = self._make_test_folds(X, y)\n        test_folds = undefined\n        self._make_test_folds = <bound method StratifiedKFold._make_test_folds o...ld(n_splits=3, random_state=None, shuffle=False)>\n        X = array([[1.181e+01, 2.120e+00, 2.740e+00, 2.150e+...0e+00, 1.000e+00, 3.170e+00,\n        5.100e+02]])\n        y = array([1, 2, 0, 2, 1])\n    635         for i in range(self.n_splits):\n    636             yield test_folds == i\n    637 \n    638     def split(self, X, y, groups=None):\n\n...........................................................................\n/usr/local/lib/python2.7/dist-packages/sklearn/model_selection/_split.py in _make_test_folds(self=StratifiedKFold(n_splits=3, random_state=None, shuffle=False), X=array([[1.181e+01, 2.120e+00, 2.740e+00, 2.150e+...0e+00, 1.000e+00, 3.170e+00,\n        5.100e+02]]), y=array([1, 2, 0, 2, 1]))\n    594         y_counts = np.bincount(y_inversed)\n    595         min_groups = np.min(y_counts)\n    596         if np.all(self.n_splits > y_counts):\n    597             raise ValueError(\"n_splits=%d cannot be greater than the\"\n    598                              \" number of members in each class.\"\n--> 599                              % (self.n_splits))\n        self.n_splits = 3\n    600         if self.n_splits > min_groups:\n    601             warnings.warn((\"The least populated class in y has only %d\"\n    602                            \" members, which is too few. The minimum\"\n    603                            \" number of members in any class cannot\"\n\nValueError: n_splits=3 cannot be greater than the number of members in each class.\n___________________________________________________________________________",
     "output_type": "error",
     "traceback": [
      "\u001b[0;31m---------------------------------------------------------------------------\u001b[0m",
      "\u001b[0;31mJoblibValueError\u001b[0m                          Traceback (most recent call last)",
      "\u001b[0;32m<ipython-input-795-0ab9d5a70cee>\u001b[0m in \u001b[0;36m<module>\u001b[0;34m()\u001b[0m\n\u001b[1;32m     15\u001b[0m     \u001b[0;32mprint\u001b[0m\u001b[0;34m(\u001b[0m\u001b[0mcross_val_score\u001b[0m\u001b[0;34m(\u001b[0m\u001b[0mrp_w\u001b[0m\u001b[0;34m,\u001b[0m \u001b[0mX\u001b[0m\u001b[0;34m,\u001b[0m \u001b[0my\u001b[0m\u001b[0;34m,\u001b[0m \u001b[0mcv\u001b[0m\u001b[0;34m=\u001b[0m\u001b[0;36m5\u001b[0m\u001b[0;34m,\u001b[0m \u001b[0mn_jobs\u001b[0m\u001b[0;34m=\u001b[0m\u001b[0;34m-\u001b[0m\u001b[0;36m1\u001b[0m\u001b[0;34m)\u001b[0m\u001b[0;34m.\u001b[0m\u001b[0mmean\u001b[0m\u001b[0;34m(\u001b[0m\u001b[0;34m)\u001b[0m\u001b[0;34m)\u001b[0m\u001b[0;34m\u001b[0m\u001b[0m\n\u001b[1;32m     16\u001b[0m     \u001b[0;32mprint\u001b[0m\u001b[0;34m(\u001b[0m\u001b[0;34m\"AC\"\u001b[0m\u001b[0;34m)\u001b[0m\u001b[0;34m\u001b[0m\u001b[0m\n\u001b[0;32m---> 17\u001b[0;31m     \u001b[0;32mprint\u001b[0m\u001b[0;34m(\u001b[0m\u001b[0mcross_val_score\u001b[0m\u001b[0;34m(\u001b[0m\u001b[0mac\u001b[0m\u001b[0;34m,\u001b[0m \u001b[0mX\u001b[0m\u001b[0;34m,\u001b[0m \u001b[0my\u001b[0m\u001b[0;34m,\u001b[0m \u001b[0mcv\u001b[0m\u001b[0;34m=\u001b[0m\u001b[0;36m5\u001b[0m\u001b[0;34m,\u001b[0m \u001b[0mn_jobs\u001b[0m\u001b[0;34m=\u001b[0m\u001b[0;34m-\u001b[0m\u001b[0;36m1\u001b[0m\u001b[0;34m)\u001b[0m\u001b[0;34m.\u001b[0m\u001b[0mmean\u001b[0m\u001b[0;34m(\u001b[0m\u001b[0;34m)\u001b[0m\u001b[0;34m)\u001b[0m\u001b[0;34m\u001b[0m\u001b[0m\n\u001b[0m\u001b[1;32m     18\u001b[0m     \u001b[0;32mprint\u001b[0m\u001b[0;34m(\u001b[0m\u001b[0;34m\"~\"\u001b[0m\u001b[0;34m*\u001b[0m\u001b[0;36m50\u001b[0m\u001b[0;34m)\u001b[0m\u001b[0;34m\u001b[0m\u001b[0m\n",
      "\u001b[0;32m/usr/local/lib/python2.7/dist-packages/sklearn/cross_validation.pyc\u001b[0m in \u001b[0;36mcross_val_score\u001b[0;34m(estimator, X, y, scoring, cv, n_jobs, verbose, fit_params, pre_dispatch)\u001b[0m\n\u001b[1;32m   1579\u001b[0m                                               \u001b[0mtrain\u001b[0m\u001b[0;34m,\u001b[0m \u001b[0mtest\u001b[0m\u001b[0;34m,\u001b[0m \u001b[0mverbose\u001b[0m\u001b[0;34m,\u001b[0m \u001b[0mNone\u001b[0m\u001b[0;34m,\u001b[0m\u001b[0;34m\u001b[0m\u001b[0m\n\u001b[1;32m   1580\u001b[0m                                               fit_params)\n\u001b[0;32m-> 1581\u001b[0;31m                       for train, test in cv)\n\u001b[0m\u001b[1;32m   1582\u001b[0m     \u001b[0;32mreturn\u001b[0m \u001b[0mnp\u001b[0m\u001b[0;34m.\u001b[0m\u001b[0marray\u001b[0m\u001b[0;34m(\u001b[0m\u001b[0mscores\u001b[0m\u001b[0;34m)\u001b[0m\u001b[0;34m[\u001b[0m\u001b[0;34m:\u001b[0m\u001b[0;34m,\u001b[0m \u001b[0;36m0\u001b[0m\u001b[0;34m]\u001b[0m\u001b[0;34m\u001b[0m\u001b[0m\n\u001b[1;32m   1583\u001b[0m \u001b[0;34m\u001b[0m\u001b[0m\n",
      "\u001b[0;32m/usr/local/lib/python2.7/dist-packages/sklearn/externals/joblib/parallel.pyc\u001b[0m in \u001b[0;36m__call__\u001b[0;34m(self, iterable)\u001b[0m\n\u001b[1;32m    787\u001b[0m                 \u001b[0;31m# consumption.\u001b[0m\u001b[0;34m\u001b[0m\u001b[0;34m\u001b[0m\u001b[0m\n\u001b[1;32m    788\u001b[0m                 \u001b[0mself\u001b[0m\u001b[0;34m.\u001b[0m\u001b[0m_iterating\u001b[0m \u001b[0;34m=\u001b[0m \u001b[0mFalse\u001b[0m\u001b[0;34m\u001b[0m\u001b[0m\n\u001b[0;32m--> 789\u001b[0;31m             \u001b[0mself\u001b[0m\u001b[0;34m.\u001b[0m\u001b[0mretrieve\u001b[0m\u001b[0;34m(\u001b[0m\u001b[0;34m)\u001b[0m\u001b[0;34m\u001b[0m\u001b[0m\n\u001b[0m\u001b[1;32m    790\u001b[0m             \u001b[0;31m# Make sure that we get a last message telling us we are done\u001b[0m\u001b[0;34m\u001b[0m\u001b[0;34m\u001b[0m\u001b[0m\n\u001b[1;32m    791\u001b[0m             \u001b[0melapsed_time\u001b[0m \u001b[0;34m=\u001b[0m \u001b[0mtime\u001b[0m\u001b[0;34m.\u001b[0m\u001b[0mtime\u001b[0m\u001b[0;34m(\u001b[0m\u001b[0;34m)\u001b[0m \u001b[0;34m-\u001b[0m \u001b[0mself\u001b[0m\u001b[0;34m.\u001b[0m\u001b[0m_start_time\u001b[0m\u001b[0;34m\u001b[0m\u001b[0m\n",
      "\u001b[0;32m/usr/local/lib/python2.7/dist-packages/sklearn/externals/joblib/parallel.pyc\u001b[0m in \u001b[0;36mretrieve\u001b[0;34m(self)\u001b[0m\n\u001b[1;32m    738\u001b[0m                     \u001b[0mexception\u001b[0m \u001b[0;34m=\u001b[0m \u001b[0mexception_type\u001b[0m\u001b[0;34m(\u001b[0m\u001b[0mreport\u001b[0m\u001b[0;34m)\u001b[0m\u001b[0;34m\u001b[0m\u001b[0m\n\u001b[1;32m    739\u001b[0m \u001b[0;34m\u001b[0m\u001b[0m\n\u001b[0;32m--> 740\u001b[0;31m                     \u001b[0;32mraise\u001b[0m \u001b[0mexception\u001b[0m\u001b[0;34m\u001b[0m\u001b[0m\n\u001b[0m\u001b[1;32m    741\u001b[0m \u001b[0;34m\u001b[0m\u001b[0m\n\u001b[1;32m    742\u001b[0m     \u001b[0;32mdef\u001b[0m \u001b[0m__call__\u001b[0m\u001b[0;34m(\u001b[0m\u001b[0mself\u001b[0m\u001b[0;34m,\u001b[0m \u001b[0miterable\u001b[0m\u001b[0;34m)\u001b[0m\u001b[0;34m:\u001b[0m\u001b[0;34m\u001b[0m\u001b[0m\n",
      "\u001b[0;31mJoblibValueError\u001b[0m: JoblibValueError\n___________________________________________________________________________\nMultiprocessing exception:\n...........................................................................\n/usr/lib/python2.7/runpy.py in _run_module_as_main(mod_name='ipykernel_launcher', alter_argv=1)\n    169     pkg_name = mod_name.rpartition('.')[0]\n    170     main_globals = sys.modules[\"__main__\"].__dict__\n    171     if alter_argv:\n    172         sys.argv[0] = fname\n    173     return _run_code(code, main_globals, None,\n--> 174                      \"__main__\", fname, loader, pkg_name)\n        fname = '/usr/local/lib/python2.7/dist-packages/ipykernel_launcher.py'\n        loader = <pkgutil.ImpLoader instance>\n        pkg_name = ''\n    175 \n    176 def run_module(mod_name, init_globals=None,\n    177                run_name=None, alter_sys=False):\n    178     \"\"\"Execute a module's code without importing it\n\n...........................................................................\n/usr/lib/python2.7/runpy.py in _run_code(code=<code object <module> at 0x7f74f081a9b0, file \"/...2.7/dist-packages/ipykernel_launcher.py\", line 5>, run_globals={'__builtins__': <module '__builtin__' (built-in)>, '__doc__': 'Entry point for launching an IPython kernel.\\n\\nTh...orts until\\nafter removing the cwd from sys.path.\\n', '__file__': '/usr/local/lib/python2.7/dist-packages/ipykernel_launcher.py', '__loader__': <pkgutil.ImpLoader instance>, '__name__': '__main__', '__package__': '', 'app': <module 'ipykernel.kernelapp' from '/usr/local/lib/python2.7/dist-packages/ipykernel/kernelapp.pyc'>, 'sys': <module 'sys' (built-in)>}, init_globals=None, mod_name='__main__', mod_fname='/usr/local/lib/python2.7/dist-packages/ipykernel_launcher.py', mod_loader=<pkgutil.ImpLoader instance>, pkg_name='')\n     67         run_globals.update(init_globals)\n     68     run_globals.update(__name__ = mod_name,\n     69                        __file__ = mod_fname,\n     70                        __loader__ = mod_loader,\n     71                        __package__ = pkg_name)\n---> 72     exec code in run_globals\n        code = <code object <module> at 0x7f74f081a9b0, file \"/...2.7/dist-packages/ipykernel_launcher.py\", line 5>\n        run_globals = {'__builtins__': <module '__builtin__' (built-in)>, '__doc__': 'Entry point for launching an IPython kernel.\\n\\nTh...orts until\\nafter removing the cwd from sys.path.\\n', '__file__': '/usr/local/lib/python2.7/dist-packages/ipykernel_launcher.py', '__loader__': <pkgutil.ImpLoader instance>, '__name__': '__main__', '__package__': '', 'app': <module 'ipykernel.kernelapp' from '/usr/local/lib/python2.7/dist-packages/ipykernel/kernelapp.pyc'>, 'sys': <module 'sys' (built-in)>}\n     73     return run_globals\n     74 \n     75 def _run_module_code(code, init_globals=None,\n     76                     mod_name=None, mod_fname=None,\n\n...........................................................................\n/usr/local/lib/python2.7/dist-packages/ipykernel_launcher.py in <module>()\n     11     # This is added back by InteractiveShellApp.init_path()\n     12     if sys.path[0] == '':\n     13         del sys.path[0]\n     14 \n     15     from ipykernel import kernelapp as app\n---> 16     app.launch_new_instance()\n\n...........................................................................\n/usr/local/lib/python2.7/dist-packages/traitlets/config/application.py in launch_instance(cls=<class 'ipykernel.kernelapp.IPKernelApp'>, argv=None, **kwargs={})\n    653 \n    654         If a global instance already exists, this reinitializes and starts it\n    655         \"\"\"\n    656         app = cls.instance(**kwargs)\n    657         app.initialize(argv)\n--> 658         app.start()\n        app.start = <bound method IPKernelApp.start of <ipykernel.kernelapp.IPKernelApp object>>\n    659 \n    660 #-----------------------------------------------------------------------------\n    661 # utility functions, for convenience\n    662 #-----------------------------------------------------------------------------\n\n...........................................................................\n/usr/local/lib/python2.7/dist-packages/ipykernel/kernelapp.py in start(self=<ipykernel.kernelapp.IPKernelApp object>)\n    481         if self.poller is not None:\n    482             self.poller.start()\n    483         self.kernel.start()\n    484         self.io_loop = ioloop.IOLoop.current()\n    485         try:\n--> 486             self.io_loop.start()\n        self.io_loop.start = <bound method ZMQIOLoop.start of <zmq.eventloop.ioloop.ZMQIOLoop object>>\n    487         except KeyboardInterrupt:\n    488             pass\n    489 \n    490 launch_new_instance = IPKernelApp.launch_instance\n\n...........................................................................\n/usr/local/lib/python2.7/dist-packages/tornado/ioloop.py in start(self=<zmq.eventloop.ioloop.ZMQIOLoop object>)\n   1060                 self._events.update(event_pairs)\n   1061                 while self._events:\n   1062                     fd, events = self._events.popitem()\n   1063                     try:\n   1064                         fd_obj, handler_func = self._handlers[fd]\n-> 1065                         handler_func(fd_obj, events)\n        handler_func = <function null_wrapper>\n        fd_obj = <zmq.sugar.socket.Socket object>\n        events = 1\n   1066                     except (OSError, IOError) as e:\n   1067                         if errno_from_exception(e) == errno.EPIPE:\n   1068                             # Happens when the client closes the connection\n   1069                             pass\n\n...........................................................................\n/usr/local/lib/python2.7/dist-packages/tornado/stack_context.py in null_wrapper(*args=(<zmq.sugar.socket.Socket object>, 1), **kwargs={})\n    271         # Fast path when there are no active contexts.\n    272         def null_wrapper(*args, **kwargs):\n    273             try:\n    274                 current_state = _state.contexts\n    275                 _state.contexts = cap_contexts[0]\n--> 276                 return fn(*args, **kwargs)\n        args = (<zmq.sugar.socket.Socket object>, 1)\n        kwargs = {}\n    277             finally:\n    278                 _state.contexts = current_state\n    279         null_wrapper._wrapped = True\n    280         return null_wrapper\n\n...........................................................................\n/usr/local/lib/python2.7/dist-packages/zmq/eventloop/zmqstream.py in _handle_events(self=<zmq.eventloop.zmqstream.ZMQStream object>, fd=<zmq.sugar.socket.Socket object>, events=1)\n    445             return\n    446         zmq_events = self.socket.EVENTS\n    447         try:\n    448             # dispatch events:\n    449             if zmq_events & zmq.POLLIN and self.receiving():\n--> 450                 self._handle_recv()\n        self._handle_recv = <bound method ZMQStream._handle_recv of <zmq.eventloop.zmqstream.ZMQStream object>>\n    451                 if not self.socket:\n    452                     return\n    453             if zmq_events & zmq.POLLOUT and self.sending():\n    454                 self._handle_send()\n\n...........................................................................\n/usr/local/lib/python2.7/dist-packages/zmq/eventloop/zmqstream.py in _handle_recv(self=<zmq.eventloop.zmqstream.ZMQStream object>)\n    475             else:\n    476                 raise\n    477         else:\n    478             if self._recv_callback:\n    479                 callback = self._recv_callback\n--> 480                 self._run_callback(callback, msg)\n        self._run_callback = <bound method ZMQStream._run_callback of <zmq.eventloop.zmqstream.ZMQStream object>>\n        callback = <function null_wrapper>\n        msg = [<zmq.sugar.frame.Frame object>, <zmq.sugar.frame.Frame object>, <zmq.sugar.frame.Frame object>, <zmq.sugar.frame.Frame object>, <zmq.sugar.frame.Frame object>, <zmq.sugar.frame.Frame object>, <zmq.sugar.frame.Frame object>]\n    481         \n    482 \n    483     def _handle_send(self):\n    484         \"\"\"Handle a send event.\"\"\"\n\n...........................................................................\n/usr/local/lib/python2.7/dist-packages/zmq/eventloop/zmqstream.py in _run_callback(self=<zmq.eventloop.zmqstream.ZMQStream object>, callback=<function null_wrapper>, *args=([<zmq.sugar.frame.Frame object>, <zmq.sugar.frame.Frame object>, <zmq.sugar.frame.Frame object>, <zmq.sugar.frame.Frame object>, <zmq.sugar.frame.Frame object>, <zmq.sugar.frame.Frame object>, <zmq.sugar.frame.Frame object>],), **kwargs={})\n    427         close our socket.\"\"\"\n    428         try:\n    429             # Use a NullContext to ensure that all StackContexts are run\n    430             # inside our blanket exception handler rather than outside.\n    431             with stack_context.NullContext():\n--> 432                 callback(*args, **kwargs)\n        callback = <function null_wrapper>\n        args = ([<zmq.sugar.frame.Frame object>, <zmq.sugar.frame.Frame object>, <zmq.sugar.frame.Frame object>, <zmq.sugar.frame.Frame object>, <zmq.sugar.frame.Frame object>, <zmq.sugar.frame.Frame object>, <zmq.sugar.frame.Frame object>],)\n        kwargs = {}\n    433         except:\n    434             gen_log.error(\"Uncaught exception in ZMQStream callback\",\n    435                           exc_info=True)\n    436             # Re-raise the exception so that IOLoop.handle_callback_exception\n\n...........................................................................\n/usr/local/lib/python2.7/dist-packages/tornado/stack_context.py in null_wrapper(*args=([<zmq.sugar.frame.Frame object>, <zmq.sugar.frame.Frame object>, <zmq.sugar.frame.Frame object>, <zmq.sugar.frame.Frame object>, <zmq.sugar.frame.Frame object>, <zmq.sugar.frame.Frame object>, <zmq.sugar.frame.Frame object>],), **kwargs={})\n    271         # Fast path when there are no active contexts.\n    272         def null_wrapper(*args, **kwargs):\n    273             try:\n    274                 current_state = _state.contexts\n    275                 _state.contexts = cap_contexts[0]\n--> 276                 return fn(*args, **kwargs)\n        args = ([<zmq.sugar.frame.Frame object>, <zmq.sugar.frame.Frame object>, <zmq.sugar.frame.Frame object>, <zmq.sugar.frame.Frame object>, <zmq.sugar.frame.Frame object>, <zmq.sugar.frame.Frame object>, <zmq.sugar.frame.Frame object>],)\n        kwargs = {}\n    277             finally:\n    278                 _state.contexts = current_state\n    279         null_wrapper._wrapped = True\n    280         return null_wrapper\n\n...........................................................................\n/usr/local/lib/python2.7/dist-packages/ipykernel/kernelbase.py in dispatcher(msg=[<zmq.sugar.frame.Frame object>, <zmq.sugar.frame.Frame object>, <zmq.sugar.frame.Frame object>, <zmq.sugar.frame.Frame object>, <zmq.sugar.frame.Frame object>, <zmq.sugar.frame.Frame object>, <zmq.sugar.frame.Frame object>])\n    278         if self.control_stream:\n    279             self.control_stream.on_recv(self.dispatch_control, copy=False)\n    280 \n    281         def make_dispatcher(stream):\n    282             def dispatcher(msg):\n--> 283                 return self.dispatch_shell(stream, msg)\n        msg = [<zmq.sugar.frame.Frame object>, <zmq.sugar.frame.Frame object>, <zmq.sugar.frame.Frame object>, <zmq.sugar.frame.Frame object>, <zmq.sugar.frame.Frame object>, <zmq.sugar.frame.Frame object>, <zmq.sugar.frame.Frame object>]\n    284             return dispatcher\n    285 \n    286         for s in self.shell_streams:\n    287             s.on_recv(make_dispatcher(s), copy=False)\n\n...........................................................................\n/usr/local/lib/python2.7/dist-packages/ipykernel/kernelbase.py in dispatch_shell(self=<ipykernel.ipkernel.IPythonKernel object>, stream=<zmq.eventloop.zmqstream.ZMQStream object>, msg={'buffers': [], 'content': {'allow_stdin': True, 'code': 'for i in xrange(10):\\n    print(\"ROUND %d\" % i)\\n ... X, y, cv=5, n_jobs=-1).mean())\\n    print(\"~\"*50)', 'silent': False, 'stop_on_error': True, 'store_history': True, 'user_expressions': {}}, 'header': {'date': datetime.datetime(2018, 9, 4, 12, 4, 26, 80780, tzinfo=tzutc()), 'msg_id': '08772691c0e64edb8cbac660e884ad96', 'msg_type': 'execute_request', 'session': '35a02c8f281a40df8a3f97fc7e38bde4', 'username': 'username', 'version': '5.2'}, 'metadata': {}, 'msg_id': '08772691c0e64edb8cbac660e884ad96', 'msg_type': 'execute_request', 'parent_header': {}})\n    228             self.log.warn(\"Unknown message type: %r\", msg_type)\n    229         else:\n    230             self.log.debug(\"%s: %s\", msg_type, msg)\n    231             self.pre_handler_hook()\n    232             try:\n--> 233                 handler(stream, idents, msg)\n        handler = <bound method IPythonKernel.execute_request of <ipykernel.ipkernel.IPythonKernel object>>\n        stream = <zmq.eventloop.zmqstream.ZMQStream object>\n        idents = ['35a02c8f281a40df8a3f97fc7e38bde4']\n        msg = {'buffers': [], 'content': {'allow_stdin': True, 'code': 'for i in xrange(10):\\n    print(\"ROUND %d\" % i)\\n ... X, y, cv=5, n_jobs=-1).mean())\\n    print(\"~\"*50)', 'silent': False, 'stop_on_error': True, 'store_history': True, 'user_expressions': {}}, 'header': {'date': datetime.datetime(2018, 9, 4, 12, 4, 26, 80780, tzinfo=tzutc()), 'msg_id': '08772691c0e64edb8cbac660e884ad96', 'msg_type': 'execute_request', 'session': '35a02c8f281a40df8a3f97fc7e38bde4', 'username': 'username', 'version': '5.2'}, 'metadata': {}, 'msg_id': '08772691c0e64edb8cbac660e884ad96', 'msg_type': 'execute_request', 'parent_header': {}}\n    234             except Exception:\n    235                 self.log.error(\"Exception in message handler:\", exc_info=True)\n    236             finally:\n    237                 self.post_handler_hook()\n\n...........................................................................\n/usr/local/lib/python2.7/dist-packages/ipykernel/kernelbase.py in execute_request(self=<ipykernel.ipkernel.IPythonKernel object>, stream=<zmq.eventloop.zmqstream.ZMQStream object>, ident=['35a02c8f281a40df8a3f97fc7e38bde4'], parent={'buffers': [], 'content': {'allow_stdin': True, 'code': 'for i in xrange(10):\\n    print(\"ROUND %d\" % i)\\n ... X, y, cv=5, n_jobs=-1).mean())\\n    print(\"~\"*50)', 'silent': False, 'stop_on_error': True, 'store_history': True, 'user_expressions': {}}, 'header': {'date': datetime.datetime(2018, 9, 4, 12, 4, 26, 80780, tzinfo=tzutc()), 'msg_id': '08772691c0e64edb8cbac660e884ad96', 'msg_type': 'execute_request', 'session': '35a02c8f281a40df8a3f97fc7e38bde4', 'username': 'username', 'version': '5.2'}, 'metadata': {}, 'msg_id': '08772691c0e64edb8cbac660e884ad96', 'msg_type': 'execute_request', 'parent_header': {}})\n    394         if not silent:\n    395             self.execution_count += 1\n    396             self._publish_execute_input(code, parent, self.execution_count)\n    397 \n    398         reply_content = self.do_execute(code, silent, store_history,\n--> 399                                         user_expressions, allow_stdin)\n        user_expressions = {}\n        allow_stdin = True\n    400 \n    401         # Flush output before sending the reply.\n    402         sys.stdout.flush()\n    403         sys.stderr.flush()\n\n...........................................................................\n/usr/local/lib/python2.7/dist-packages/ipykernel/ipkernel.py in do_execute(self=<ipykernel.ipkernel.IPythonKernel object>, code=u'for i in xrange(10):\\n    print(\"ROUND %d\" % i..., y, cv=5, n_jobs=-1).mean())\\n    print(\"~\"*50)', silent=False, store_history=True, user_expressions={}, allow_stdin=True)\n    203 \n    204         self._forward_input(allow_stdin)\n    205 \n    206         reply_content = {}\n    207         try:\n--> 208             res = shell.run_cell(code, store_history=store_history, silent=silent)\n        res = undefined\n        shell.run_cell = <bound method ZMQInteractiveShell.run_cell of <ipykernel.zmqshell.ZMQInteractiveShell object>>\n        code = u'for i in xrange(10):\\n    print(\"ROUND %d\" % i..., y, cv=5, n_jobs=-1).mean())\\n    print(\"~\"*50)'\n        store_history = True\n        silent = False\n    209         finally:\n    210             self._restore_input()\n    211 \n    212         if res.error_before_exec is not None:\n\n...........................................................................\n/usr/local/lib/python2.7/dist-packages/ipykernel/zmqshell.py in run_cell(self=<ipykernel.zmqshell.ZMQInteractiveShell object>, *args=(u'for i in xrange(10):\\n    print(\"ROUND %d\" % i..., y, cv=5, n_jobs=-1).mean())\\n    print(\"~\"*50)',), **kwargs={'silent': False, 'store_history': True})\n    532             )\n    533         self.payload_manager.write_payload(payload)\n    534 \n    535     def run_cell(self, *args, **kwargs):\n    536         self._last_traceback = None\n--> 537         return super(ZMQInteractiveShell, self).run_cell(*args, **kwargs)\n        self.run_cell = <bound method ZMQInteractiveShell.run_cell of <ipykernel.zmqshell.ZMQInteractiveShell object>>\n        args = (u'for i in xrange(10):\\n    print(\"ROUND %d\" % i..., y, cv=5, n_jobs=-1).mean())\\n    print(\"~\"*50)',)\n        kwargs = {'silent': False, 'store_history': True}\n    538 \n    539     def _showtraceback(self, etype, evalue, stb):\n    540         # try to preserve ordering of tracebacks and print statements\n    541         sys.stdout.flush()\n\n...........................................................................\n/usr/local/lib/python2.7/dist-packages/IPython/core/interactiveshell.py in run_cell(self=<ipykernel.zmqshell.ZMQInteractiveShell object>, raw_cell=u'for i in xrange(10):\\n    print(\"ROUND %d\" % i..., y, cv=5, n_jobs=-1).mean())\\n    print(\"~\"*50)', store_history=True, silent=False, shell_futures=True)\n   2709                 self.displayhook.exec_result = result\n   2710 \n   2711                 # Execute the user code\n   2712                 interactivity = \"none\" if silent else self.ast_node_interactivity\n   2713                 has_raised = self.run_ast_nodes(code_ast.body, cell_name,\n-> 2714                    interactivity=interactivity, compiler=compiler, result=result)\n        interactivity = 'last_expr'\n        compiler = <IPython.core.compilerop.CachingCompiler instance>\n   2715                 \n   2716                 self.last_execution_succeeded = not has_raised\n   2717 \n   2718                 # Reset this so later displayed values do not modify the\n\n...........................................................................\n/usr/local/lib/python2.7/dist-packages/IPython/core/interactiveshell.py in run_ast_nodes(self=<ipykernel.zmqshell.ZMQInteractiveShell object>, nodelist=[<_ast.For object>], cell_name='<ipython-input-795-0ab9d5a70cee>', interactivity='none', compiler=<IPython.core.compilerop.CachingCompiler instance>, result=<ExecutionResult object at 7f749c93f3d0, executi..._before_exec=None error_in_exec=None result=None>)\n   2813 \n   2814         try:\n   2815             for i, node in enumerate(to_run_exec):\n   2816                 mod = ast.Module([node])\n   2817                 code = compiler(mod, cell_name, \"exec\")\n-> 2818                 if self.run_code(code, result):\n        self.run_code = <bound method ZMQInteractiveShell.run_code of <ipykernel.zmqshell.ZMQInteractiveShell object>>\n        code = <code object <module> at 0x7f749c11bb30, file \"<ipython-input-795-0ab9d5a70cee>\", line 1>\n        result = <ExecutionResult object at 7f749c93f3d0, executi..._before_exec=None error_in_exec=None result=None>\n   2819                     return True\n   2820 \n   2821             for i, node in enumerate(to_run_interactive):\n   2822                 mod = ast.Interactive([node])\n\n...........................................................................\n/usr/local/lib/python2.7/dist-packages/IPython/core/interactiveshell.py in run_code(self=<ipykernel.zmqshell.ZMQInteractiveShell object>, code_obj=<code object <module> at 0x7f749c11bb30, file \"<ipython-input-795-0ab9d5a70cee>\", line 1>, result=<ExecutionResult object at 7f749c93f3d0, executi..._before_exec=None error_in_exec=None result=None>)\n   2873         outflag = 1  # happens in more places, so it's easier as default\n   2874         try:\n   2875             try:\n   2876                 self.hooks.pre_run_code_hook()\n   2877                 #rprint('Running code', repr(code_obj)) # dbg\n-> 2878                 exec(code_obj, self.user_global_ns, self.user_ns)\n        code_obj = <code object <module> at 0x7f749c11bb30, file \"<ipython-input-795-0ab9d5a70cee>\", line 1>\n        self.user_global_ns = {'ABCMeta': <class 'abc.ABCMeta'>, 'Adversarial_Cascade': <class '__main__.Adversarial_Cascade'>, 'BaggingClassifier': <class 'sklearn.ensemble.bagging.BaggingClassifier'>, 'BaseEstimator': <class 'sklearn.base.BaseEstimator'>, 'ClassifierMixin': <class 'sklearn.base.ClassifierMixin'>, 'Combiner': <class 'brew.combination.combiner.Combiner'>, 'CountVectorizer': <class 'sklearn.feature_extraction.text.CountVectorizer'>, 'DecisionTreeClassifier': <class 'sklearn.tree.tree.DecisionTreeClassifier'>, 'DecisionTreeRegressor': <class 'sklearn.tree.tree.DecisionTreeRegressor'>, 'Ensemble': <class 'brew.base.Ensemble'>, ...}\n        self.user_ns = {'ABCMeta': <class 'abc.ABCMeta'>, 'Adversarial_Cascade': <class '__main__.Adversarial_Cascade'>, 'BaggingClassifier': <class 'sklearn.ensemble.bagging.BaggingClassifier'>, 'BaseEstimator': <class 'sklearn.base.BaseEstimator'>, 'ClassifierMixin': <class 'sklearn.base.ClassifierMixin'>, 'Combiner': <class 'brew.combination.combiner.Combiner'>, 'CountVectorizer': <class 'sklearn.feature_extraction.text.CountVectorizer'>, 'DecisionTreeClassifier': <class 'sklearn.tree.tree.DecisionTreeClassifier'>, 'DecisionTreeRegressor': <class 'sklearn.tree.tree.DecisionTreeRegressor'>, 'Ensemble': <class 'brew.base.Ensemble'>, ...}\n   2879             finally:\n   2880                 # Reset our crash handler in place\n   2881                 sys.excepthook = old_excepthook\n   2882         except SystemExit as e:\n\n...........................................................................\n/media/kostas/DATA/GIT/Cascada/<ipython-input-795-0ab9d5a70cee> in <module>()\n     12     print(\"RP Score:\")\n     13     print(cross_val_score(rp, X, y, cv=5, n_jobs=-1).mean())\n     14     print(\"RP-WEIGHTED Score:\")\n     15     print(cross_val_score(rp_w, X, y, cv=5, n_jobs=-1).mean())\n     16     print(\"AC\")\n---> 17     print(cross_val_score(ac, X, y, cv=5, n_jobs=-1).mean())\n     18     print(\"~\"*50)\n\n...........................................................................\n/usr/local/lib/python2.7/dist-packages/sklearn/cross_validation.py in cross_val_score(estimator=Adversarial_Cascade(acc_target=0.99,\n          b... object at 0x7f749c0c5fa0>,\n          way='prob'), X=array([[1.423e+01, 1.710e+00, 2.430e+00, ..., 1...., ..., 6.100e-01, 1.600e+00,\n        5.600e+02]]), y=array([0, 0, 0, 0, 0, 0, 0, 0, 0, 0, 0, 0, 0, 0,...2, 2, 2, 2, 2, 2, 2, 2, 2, 2, 2, 2,\n       2, 2]), scoring=None, cv=sklearn.cross_validation.StratifiedKFold(labels=... 2], n_folds=5, shuffle=False, random_state=None), n_jobs=-1, verbose=0, fit_params=None, pre_dispatch='2*n_jobs')\n   1576     parallel = Parallel(n_jobs=n_jobs, verbose=verbose,\n   1577                         pre_dispatch=pre_dispatch)\n   1578     scores = parallel(delayed(_fit_and_score)(clone(estimator), X, y, scorer,\n   1579                                               train, test, verbose, None,\n   1580                                               fit_params)\n-> 1581                       for train, test in cv)\n        cv = sklearn.cross_validation.StratifiedKFold(labels=... 2], n_folds=5, shuffle=False, random_state=None)\n   1582     return np.array(scores)[:, 0]\n   1583 \n   1584 \n   1585 def _fit_and_score(estimator, X, y, scorer, train, test, verbose,\n\n...........................................................................\n/usr/local/lib/python2.7/dist-packages/sklearn/externals/joblib/parallel.py in __call__(self=Parallel(n_jobs=-1), iterable=<generator object <genexpr>>)\n    784             if pre_dispatch == \"all\" or n_jobs == 1:\n    785                 # The iterable was consumed all at once by the above for loop.\n    786                 # No need to wait for async callbacks to trigger to\n    787                 # consumption.\n    788                 self._iterating = False\n--> 789             self.retrieve()\n        self.retrieve = <bound method Parallel.retrieve of Parallel(n_jobs=-1)>\n    790             # Make sure that we get a last message telling us we are done\n    791             elapsed_time = time.time() - self._start_time\n    792             self._print('Done %3i out of %3i | elapsed: %s finished',\n    793                         (len(self._output), len(self._output),\n\n---------------------------------------------------------------------------\nSub-process traceback:\n---------------------------------------------------------------------------\nValueError                                         Tue Sep  4 15:04:41 2018\nPID: 21566                                   Python 2.7.14: /usr/bin/python\n...........................................................................\n/usr/local/lib/python2.7/dist-packages/sklearn/externals/joblib/parallel.py in __call__(self=<sklearn.externals.joblib.parallel.BatchedCalls object>)\n    126     def __init__(self, iterator_slice):\n    127         self.items = list(iterator_slice)\n    128         self._size = len(self.items)\n    129 \n    130     def __call__(self):\n--> 131         return [func(*args, **kwargs) for func, args, kwargs in self.items]\n        func = <function _fit_and_score>\n        args = (Adversarial_Cascade(acc_target=0.99,\n          b... object at 0x7f749c07f320>,\n          way='prob'), array([[1.423e+01, 1.710e+00, 2.430e+00, ..., 1...., ..., 6.100e-01, 1.600e+00,\n        5.600e+02]]), array([0, 0, 0, 0, 0, 0, 0, 0, 0, 0, 0, 0, 0, 0,...2, 2, 2, 2, 2, 2, 2, 2, 2, 2, 2, 2,\n       2, 2]), <function _passthrough_scorer>, array([ 12,  13,  14,  15,  16,  17,  18,  19,  ...68, 169, 170, 171, 172, 173, 174, 175, 176, 177]), array([  0,   1,   2,   3,   4,   5,   6,   7,  ...30, 131, 132, 133, 134, 135, 136, 137, 138, 139]), 0, None, None)\n        kwargs = {}\n        self.items = [(<function _fit_and_score>, (Adversarial_Cascade(acc_target=0.99,\n          b... object at 0x7f749c07f320>,\n          way='prob'), array([[1.423e+01, 1.710e+00, 2.430e+00, ..., 1...., ..., 6.100e-01, 1.600e+00,\n        5.600e+02]]), array([0, 0, 0, 0, 0, 0, 0, 0, 0, 0, 0, 0, 0, 0,...2, 2, 2, 2, 2, 2, 2, 2, 2, 2, 2, 2,\n       2, 2]), <function _passthrough_scorer>, array([ 12,  13,  14,  15,  16,  17,  18,  19,  ...68, 169, 170, 171, 172, 173, 174, 175, 176, 177]), array([  0,   1,   2,   3,   4,   5,   6,   7,  ...30, 131, 132, 133, 134, 135, 136, 137, 138, 139]), 0, None, None), {})]\n    132 \n    133     def __len__(self):\n    134         return self._size\n    135 \n\n...........................................................................\n/usr/local/lib/python2.7/dist-packages/sklearn/cross_validation.py in _fit_and_score(estimator=Adversarial_Cascade(acc_target=0.99,\n          b... object at 0x7f749c07f320>,\n          way='prob'), X=array([[1.423e+01, 1.710e+00, 2.430e+00, ..., 1...., ..., 6.100e-01, 1.600e+00,\n        5.600e+02]]), y=array([0, 0, 0, 0, 0, 0, 0, 0, 0, 0, 0, 0, 0, 0,...2, 2, 2, 2, 2, 2, 2, 2, 2, 2, 2, 2,\n       2, 2]), scorer=<function _passthrough_scorer>, train=array([ 12,  13,  14,  15,  16,  17,  18,  19,  ...68, 169, 170, 171, 172, 173, 174, 175, 176, 177]), test=array([  0,   1,   2,   3,   4,   5,   6,   7,  ...30, 131, 132, 133, 134, 135, 136, 137, 138, 139]), verbose=0, parameters=None, fit_params={}, return_train_score=False, return_parameters=False, error_score='raise')\n   1670 \n   1671     try:\n   1672         if y_train is None:\n   1673             estimator.fit(X_train, **fit_params)\n   1674         else:\n-> 1675             estimator.fit(X_train, y_train, **fit_params)\n        estimator.fit = <bound method Adversarial_Cascade.fit of Adversa...object at 0x7f749c07f320>,\n          way='prob')>\n        X_train = array([[1.375e+01, 1.730e+00, 2.410e+00, ..., 1...., ..., 6.100e-01, 1.600e+00,\n        5.600e+02]])\n        y_train = array([0, 0, 0, 0, 0, 0, 0, 0, 0, 0, 0, 0, 0, 0,...2, 2, 2, 2, 2,\n       2, 2, 2, 2, 2, 2, 2, 2, 2])\n        fit_params = {}\n   1676 \n   1677     except Exception as e:\n   1678         if error_score == 'raise':\n   1679             raise\n\n...........................................................................\n/media/kostas/DATA/GIT/Cascada/<ipython-input-769-f790c0b86c9d> in fit(self=Adversarial_Cascade(acc_target=0.99,\n          b... object at 0x7f749c07f320>,\n          way='prob'), X=array([[1.375e+01, 1.730e+00, 2.410e+00, ..., 1...., ..., 6.100e-01, 1.600e+00,\n        5.600e+02]]), y=array([0, 0, 0, 0, 0, 0, 0, 0, 0, 0, 0, 0, 0, 0,...2, 2, 2, 2, 2,\n       2, 2, 2, 2, 2, 2, 2, 2, 2]))\n     30         self.acc = []\n     31         self.ensemble = []\n     32         self.selected_indices = []\n     33     \n     34     def fit(self, X, y):\n---> 35         self._fit(X, y)\n     36     \n     37     def _fit(self,X,y):\n     38         X, y = check_X_y(\n     39             X, y, ['csr', 'csc'], dtype=None, force_all_finite=False,\n\n...........................................................................\n/media/kostas/DATA/GIT/Cascada/<ipython-input-769-f790c0b86c9d> in _fit(self=Adversarial_Cascade(acc_target=0.99,\n          b... object at 0x7f749c07f320>,\n          way='prob'), X=array([[1.141e+01, 7.400e-01, 2.500e+00, ..., 1...., ..., 1.270e+00, 2.960e+00,\n        7.100e+02]]), y=array([1, 0, 0, 0, 1, 1, 1, 0, 0, 2, 1, 2, 1, 2,... 1, 1, 1, 1, 2, 0, 1, 2, 1, 0, 0, 2, 2, 0, 2, 1]))\n     47         flag_target = False\n     48         for i_est in xrange(self.n_estimators):\n     49             cur_mod = clone(self.base_estimator)\n     50             if self.optim:\n     51                 grid_search = GridSearchCV(cur_mod, self.parameters, n_jobs=-1, verbose=1, refit=True)\n---> 52                 grid_search.fit(cur_X, cur_y)\n     53                 cur_mod = grid_search.best_estimator_\n     54             else:\n     55                 cur_mod.fit(cur_X, cur_y)\n     56             self.ensemble.append(cur_mod)\n\n...........................................................................\n/usr/local/lib/python2.7/dist-packages/sklearn/model_selection/_search.py in fit(self=GridSearchCV(cv=None, error_score='raise',\n     ...ain_score='warn',\n       scoring=None, verbose=1), X=array([[1.181e+01, 2.120e+00, 2.740e+00, 2.150e+...0e+00, 1.000e+00, 3.170e+00,\n        5.100e+02]]), y=array([1, 2, 0, 2, 1]), groups=None, **fit_params={})\n    634                                   return_train_score=self.return_train_score,\n    635                                   return_n_test_samples=True,\n    636                                   return_times=True, return_parameters=False,\n    637                                   error_score=self.error_score)\n    638           for parameters, (train, test) in product(candidate_params,\n--> 639                                                    cv.split(X, y, groups)))\n        cv.split = <bound method StratifiedKFold.split of Stratifie...ld(n_splits=3, random_state=None, shuffle=False)>\n        X = array([[1.181e+01, 2.120e+00, 2.740e+00, 2.150e+...0e+00, 1.000e+00, 3.170e+00,\n        5.100e+02]])\n        y = array([1, 2, 0, 2, 1])\n        groups = None\n    640 \n    641         # if one choose to see train score, \"out\" will contain train score info\n    642         if self.return_train_score:\n    643             (train_score_dicts, test_score_dicts, test_sample_counts, fit_time,\n\n...........................................................................\n/usr/local/lib/python2.7/dist-packages/sklearn/model_selection/_split.py in split(self=StratifiedKFold(n_splits=3, random_state=None, shuffle=False), X=array([[1.181e+01, 2.120e+00, 2.740e+00, 2.150e+...0e+00, 1.000e+00, 3.170e+00,\n        5.100e+02]]), y=array([1, 2, 0, 2, 1]), groups=None)\n    327             raise ValueError(\n    328                 (\"Cannot have number of splits n_splits={0} greater\"\n    329                  \" than the number of samples: {1}.\").format(self.n_splits,\n    330                                                              n_samples))\n    331 \n--> 332         for train, test in super(_BaseKFold, self).split(X, y, groups):\n        train = undefined\n        test = undefined\n        self.split = <bound method StratifiedKFold.split of Stratifie...ld(n_splits=3, random_state=None, shuffle=False)>\n        X = array([[1.181e+01, 2.120e+00, 2.740e+00, 2.150e+...0e+00, 1.000e+00, 3.170e+00,\n        5.100e+02]])\n        y = array([1, 2, 0, 2, 1])\n        groups = None\n    333             yield train, test\n    334 \n    335     def get_n_splits(self, X=None, y=None, groups=None):\n    336         \"\"\"Returns the number of splitting iterations in the cross-validator\n\n...........................................................................\n/usr/local/lib/python2.7/dist-packages/sklearn/model_selection/_split.py in split(self=StratifiedKFold(n_splits=3, random_state=None, shuffle=False), X=array([[1.181e+01, 2.120e+00, 2.740e+00, 2.150e+...0e+00, 1.000e+00, 3.170e+00,\n        5.100e+02]]), y=array([1, 2, 0, 2, 1]), groups=None)\n     90         split. You can make the results identical by setting ``random_state``\n     91         to an integer.\n     92         \"\"\"\n     93         X, y, groups = indexable(X, y, groups)\n     94         indices = np.arange(_num_samples(X))\n---> 95         for test_index in self._iter_test_masks(X, y, groups):\n        test_index = undefined\n        self._iter_test_masks = <bound method StratifiedKFold._iter_test_masks o...ld(n_splits=3, random_state=None, shuffle=False)>\n        X = array([[1.181e+01, 2.120e+00, 2.740e+00, 2.150e+...0e+00, 1.000e+00, 3.170e+00,\n        5.100e+02]])\n        y = array([1, 2, 0, 2, 1])\n        groups = None\n     96             train_index = indices[np.logical_not(test_index)]\n     97             test_index = indices[test_index]\n     98             yield train_index, test_index\n     99 \n\n...........................................................................\n/usr/local/lib/python2.7/dist-packages/sklearn/model_selection/_split.py in _iter_test_masks(self=StratifiedKFold(n_splits=3, random_state=None, shuffle=False), X=array([[1.181e+01, 2.120e+00, 2.740e+00, 2.150e+...0e+00, 1.000e+00, 3.170e+00,\n        5.100e+02]]), y=array([1, 2, 0, 2, 1]), groups=None)\n    629                 test_folds[y == cls] = cls_test_folds\n    630 \n    631         return test_folds\n    632 \n    633     def _iter_test_masks(self, X, y=None, groups=None):\n--> 634         test_folds = self._make_test_folds(X, y)\n        test_folds = undefined\n        self._make_test_folds = <bound method StratifiedKFold._make_test_folds o...ld(n_splits=3, random_state=None, shuffle=False)>\n        X = array([[1.181e+01, 2.120e+00, 2.740e+00, 2.150e+...0e+00, 1.000e+00, 3.170e+00,\n        5.100e+02]])\n        y = array([1, 2, 0, 2, 1])\n    635         for i in range(self.n_splits):\n    636             yield test_folds == i\n    637 \n    638     def split(self, X, y, groups=None):\n\n...........................................................................\n/usr/local/lib/python2.7/dist-packages/sklearn/model_selection/_split.py in _make_test_folds(self=StratifiedKFold(n_splits=3, random_state=None, shuffle=False), X=array([[1.181e+01, 2.120e+00, 2.740e+00, 2.150e+...0e+00, 1.000e+00, 3.170e+00,\n        5.100e+02]]), y=array([1, 2, 0, 2, 1]))\n    594         y_counts = np.bincount(y_inversed)\n    595         min_groups = np.min(y_counts)\n    596         if np.all(self.n_splits > y_counts):\n    597             raise ValueError(\"n_splits=%d cannot be greater than the\"\n    598                              \" number of members in each class.\"\n--> 599                              % (self.n_splits))\n        self.n_splits = 3\n    600         if self.n_splits > min_groups:\n    601             warnings.warn((\"The least populated class in y has only %d\"\n    602                            \" members, which is too few. The minimum\"\n    603                            \" number of members in any class cannot\"\n\nValueError: n_splits=3 cannot be greater than the number of members in each class.\n___________________________________________________________________________"
     ]
    }
   ],
   "source": [
    "for i in xrange(10):\n",
    "    print(\"ROUND %d\" % i)\n",
    "    base = pipeline\n",
    "    bagging = BaggingClassifier(base, max_samples=0.5, max_features=0.5, random_state=i)\n",
    "    rp = Vanilla_RP(base,max_samples=0.5, max_features=0.5, random_state=i)\n",
    "    rp_w = Vanilla_RP(base, max_samples=0.5, max_features=0.5, patcher='weighted', random_state=i)\n",
    "    ac = Adversarial_Cascade(base_estimator=base, optim=True, parameters=parameters, oob=True, random_state=i)\n",
    "    print(\"KNN Score:\")\n",
    "    print(cross_val_score(knn, X, y, cv=5, n_jobs=-1).mean())\n",
    "    print(\"Bagging Score:\")\n",
    "    print(cross_val_score(bagging, X, y, cv=5, n_jobs=-1).mean())\n",
    "    print(\"RP Score:\")\n",
    "    print(cross_val_score(rp, X, y, cv=5, n_jobs=-1).mean())\n",
    "    print(\"RP-WEIGHTED Score:\")\n",
    "    print(cross_val_score(rp_w, X, y, cv=5, n_jobs=-1).mean())\n",
    "    print(\"AC\")\n",
    "    print(cross_val_score(ac, X, y, cv=5, n_jobs=-1).mean())\n",
    "    print(\"~\"*50)"
   ]
  },
  {
   "cell_type": "code",
   "execution_count": 30,
   "metadata": {},
   "outputs": [
    {
     "name": "stdout",
     "output_type": "stream",
     "text": [
      "Automatically created module for IPython interactive environment\n"
     ]
    },
    {
     "name": "stderr",
     "output_type": "stream",
     "text": [
      "/usr/local/lib/python2.7/dist-packages/sklearn/linear_model/stochastic_gradient.py:128: FutureWarning: max_iter and tol parameters have been added in <class 'sklearn.linear_model.stochastic_gradient.SGDClassifier'> in 0.19. If both are left unset, they default to max_iter=5 and tol=None. If tol is not None, max_iter defaults to max_iter=1000. From 0.21, default max_iter will be 1000, and default tol will be 1e-3.\n",
      "  \"and default tol will be 1e-3.\" % type(self), FutureWarning)\n"
     ]
    },
    {
     "name": "stdout",
     "output_type": "stream",
     "text": [
      "10 ESTIMATORS -- 77.037\n",
      "SVC with linear kernel : 82.000\n",
      "SVC with RBF kernel : 82.667\n",
      "KNN : 83.333\n",
      "SGD : 73.333\n",
      "Bagging : 76.667\n",
      "RP : 68.000\n",
      "RP-W : 66.667\n",
      "AC : 77.333\n"
     ]
    },
    {
     "data": {
      "image/png": "[encoded data removed]",
      "text/plain": [
       "<Figure size 1440x720 with 8 Axes>"
      ]
     },
     "metadata": {},
     "output_type": "display_data"
    }
   ],
   "source": [
    "print(__doc__)\n",
    "\n",
    "import numpy as np\n",
    "import matplotlib.pyplot as plt\n",
    "from sklearn import svm, datasets\n",
    "\n",
    "\n",
    "def make_meshgrid(x, y, h=.02):\n",
    "    \"\"\"Create a mesh of points to plot in\n",
    "\n",
    "    Parameters\n",
    "    ----------\n",
    "    x: data to base x-axis meshgrid on\n",
    "    y: data to base y-axis meshgrid on\n",
    "    h: stepsize for meshgrid, optional\n",
    "\n",
    "    Returns\n",
    "    -------\n",
    "    xx, yy : ndarray\n",
    "    \"\"\"\n",
    "    x_min, x_max = x.min() - 1, x.max() + 1\n",
    "    y_min, y_max = y.min() - 1, y.max() + 1\n",
    "    xx, yy = np.meshgrid(np.arange(x_min, x_max, h),\n",
    "                         np.arange(y_min, y_max, h))\n",
    "    return xx, yy\n",
    "\n",
    "\n",
    "def plot_contours(ax, clf, xx, yy, **params):\n",
    "    \"\"\"Plot the decision boundaries for a classifier.\n",
    "\n",
    "    Parameters\n",
    "    ----------\n",
    "    ax: matplotlib axes object\n",
    "    clf: a classifier\n",
    "    xx: meshgrid ndarray\n",
    "    yy: meshgrid ndarray\n",
    "    params: dictionary of params to pass to contourf, optional\n",
    "    \"\"\"\n",
    "    #print(clf)\n",
    "    Z = clf.predict(np.c_[xx.ravel(), yy.ravel()])\n",
    "    Z = Z.reshape(xx.shape)\n",
    "    out = ax.contourf(xx, yy, Z, **params)\n",
    "    return out\n",
    "\n",
    "\n",
    "# import some data to play with\n",
    "iris = datasets.load_iris()\n",
    "# Take the first two features. We could avoid this by using a two-dim dataset\n",
    "X = iris.data[:, :2]\n",
    "y = iris.target\n",
    "\n",
    "\n",
    "C = 1.0  # SVM regularization parameter\n",
    "base = svm.SVC(kernel='rbf', C=C, probability=True)\n",
    "bagging = BaggingClassifier(base, max_samples=0.5, max_features=0.5, random_state=42)\n",
    "rp = Vanilla_RP(base,max_samples=0.8, max_features=0.5, random_state=42)\n",
    "rp_w = Vanilla_RP(base, max_samples=0.8, max_features=0.5, patcher='weighted', random_state=42)\n",
    "ac = Adversarial_Cascade(base_estimator=base, num_adversaries_per_instance=10,\n",
    "                         optim=False, \n",
    "                         parameters=None, oob=True)\n",
    "\n",
    "# we create an instance of SVM and fit out data. We do not scale our\n",
    "# data since we want to plot the support vectors\n",
    "\n",
    "models = (svm.SVC(kernel='linear', C=C),\n",
    "          svm.SVC(kernel='rbf', gamma=0.7, C=C), \n",
    "          KNeighborsClassifier(),\n",
    "         pipeline,\n",
    "         bagging,\n",
    "         rp,\n",
    "         rp_w,\n",
    "         ac)\n",
    "\n",
    "models = (clf.fit(X, y) for clf in models)\n",
    "\n",
    "# title for the plots\n",
    "titles = ('SVC with linear kernel',\n",
    "          'SVC with RBF kernel',\n",
    "          'KNN',\n",
    "         'SGD', \n",
    "         \"Bagging\",\n",
    "         \"RP\",\n",
    "         \"RP-W\",\n",
    "         'AC')\n",
    "\n",
    "# Set-up 2x2 grid for plotting.\n",
    "fig, sub = plt.subplots(2, 4)\n",
    "plt.subplots_adjust(wspace=0.4, hspace=0.4)\n",
    "\n",
    "X0, X1 = X[:, 0], X[:, 1]\n",
    "xx, yy = make_meshgrid(X0, X1)\n",
    "\n",
    "for clf, title, ax in zip(models, titles, sub.flatten()):\n",
    "    \n",
    "    print(\"%s : %0.3f\"% (title, 100*accuracy_score(y, clf.predict(X))))\n",
    "    plot_contours(ax, clf, xx, yy,\n",
    "                  cmap=plt.cm.coolwarm, alpha=0.8)\n",
    "    ax.scatter(X0, X1, c=y, cmap=plt.cm.coolwarm, s=20, edgecolors='k')\n",
    "    ax.set_xlim(xx.min(), xx.max())\n",
    "    ax.set_ylim(yy.min(), yy.max())\n",
    "    ax.set_xlabel('Sepal length')\n",
    "    ax.set_ylabel('Sepal width')\n",
    "    ax.set_xticks(())\n",
    "    ax.set_yticks(())\n",
    "    ax.set_title(title)\n",
    "fig.set_figwidth(20)\n",
    "fig.set_figheight(10)\n",
    "plt.show()"
   ]
  },
  {
   "cell_type": "code",
   "execution_count": 75,
   "metadata": {},
   "outputs": [],
   "source": [
    "class Adversarial_Cascade(BaseEstimator, ClassifierMixin):\n",
    "    \n",
    "    def __init__(self, base_estimator=KNeighborsClassifier(), n_estimators=10, acc_target=0.99,\n",
    "                 num_adversaries_per_instance=4, way = 'prob', \n",
    "                 random_state=42, optim=False, parameters=None, metric='accuracy', oob=False, oob_size=0.1):\n",
    "        self.base_estimator = base_estimator\n",
    "        self.n_estimators = n_estimators\n",
    "        self.acc_target = acc_target\n",
    "        self.num_adversaries_per_instance = num_adversaries_per_instance\n",
    "        self.way = way\n",
    "        self.random_state = check_random_state(random_state)\n",
    "        self.optim = optim\n",
    "        self.oob = oob\n",
    "        self.oob_size = 0.1\n",
    "        self.X_oob = None\n",
    "        self.y_oob = None\n",
    "        if self.optim:\n",
    "            self.parameters = parameters\n",
    "        else:\n",
    "            self.parameters = None\n",
    "        self.scoring = get_scorer(metric)\n",
    "        self.acc = 0\n",
    "        self.ensemble = []\n",
    "        self.selected_indices = []\n",
    "    \n",
    "    def fit(self, X, y):\n",
    "        return self._fit(X, y)\n",
    "    \n",
    "    def _fit(self,X,y):\n",
    "        X, y = check_X_y(\n",
    "            X, y, ['csr', 'csc'], dtype=None, force_all_finite=False,\n",
    "            multi_output=True)\n",
    "        y = self._validate_y(y)\n",
    "        if self.oob:\n",
    "            X, self.X_oob, y, self.y_oob = train_test_split(X,y,test_size=0.1,stratify=y)\n",
    "        n_samples, self.n_features_ = X.shape\n",
    "        cur_X, cur_y = X, y\n",
    "        self.selected_indices.append([i for i in xrange(X.shape[0])])\n",
    "        flag_target = False\n",
    "        for i_est in xrange(self.n_estimators):\n",
    "            cur_mod = clone(self.base_estimator)\n",
    "            if self.optim:\n",
    "                grid_search = GridSearchCV(cur_mod, self.parameters, n_jobs=-1, verbose=1, refit=True)\n",
    "                grid_search.fit(cur_X, cur_y)\n",
    "                cur_mod = grid_search.best_estimator_\n",
    "            else:\n",
    "                cur_mod.fit(cur_X, cur_y)\n",
    "            self.ensemble.append(cur_mod)\n",
    "            cur_X, cur_y, flag_target = self._create_next_batch(X, y)\n",
    "            if flag_target:\n",
    "                break\n",
    "            #print(cur_X.shape, cur_y.shape)\n",
    "        print(\"%d ESTIMATORS -- %0.3f\" % (len(self.ensemble), 100*accuracy_score(y, self.predict(X), normalize=True)))\n",
    "        return self\n",
    "    \n",
    "    def _create_next_batch(self, X, y):\n",
    "        if self.oob:\n",
    "            preds = self.predict(self.X_oob)\n",
    "            centroids = self.X_oob[preds != self.y_oob]\n",
    "            centroids_ind = np.argwhere(preds != self.y_oob).reshape(-1,)\n",
    "            cur_X = copy.deepcopy(self.X_oob[centroids_ind,:])\n",
    "            cur_y = copy.deepcopy(self.y_oob[centroids_ind])\n",
    "            str_target = \"OOB SAMPLE\"\n",
    "            self.acc = accuracy_score(self.y_oob, preds, normalize=True)\n",
    "            #acc = (1-(centroids.shape[0])/float(self.X_oob.shape[0]))\n",
    "        else:\n",
    "            preds = self.predict(X)\n",
    "            centroids = X[preds != y]\n",
    "            centroids_ind = np.argwhere(preds!=y).reshape(-1,)\n",
    "            cur_X = copy.deepcopy(X[centroids_ind,:])\n",
    "            cur_y = copy.deepcopy(y[centroids_ind])\n",
    "            str_target = \"TRAIN SAMPLE\"\n",
    "            self.acc = accuracy_score(y, preds, normalize=True)\n",
    "            #acc = (1-(centroids.shape[0])/float(X.shape[0]))\n",
    "        if  self.acc > self.acc_target:\n",
    "            #return X, y, False\n",
    "            #print(\"ACCURACY ON THE %s IS %0.3f\" % (str_target, 100*(1-(centroids.shape[0])/float(X.shape[0]))))\n",
    "            #print(\"STOPPING WITH %d BASE MODELS\" % len(self.ensemble))\n",
    "            return _, _,True\n",
    "        probas = pairwise_distances(centroids, X)\n",
    "        probas /= np.sum(probas, axis=1).reshape(-1,1)\n",
    "\n",
    "        \n",
    "        for i_centr in xrange(probas.shape[0]):\n",
    "            if self.way == 'prob':\n",
    "                indices = self.random_state.choice([i for i in xrange(0, probas.shape[1])],\n",
    "                                                   self.num_adversaries_per_instance, p=probas[i_centr,:])\n",
    "            if self.way == 'furthest':\n",
    "                indices = np.argsort(probas[i_centr,:])[::-1][:self.num_adversaries_per_instance]\n",
    "            indices = self._fix_class_indices(y, indices)\n",
    "            #print(cur_X.shape, X[indices,:].shape)\n",
    "            cur_X = np.vstack((cur_X, X[indices,:]))\n",
    "            cur_y = np.append(cur_y, y[indices])\n",
    "                #cur_y.extend(indices)\n",
    "\n",
    "            #cur_X = np.delete(cur_X, 0, axis=0)\n",
    "            #cur_y = y[cur_y]\n",
    "        return cur_X, cur_y, False\n",
    "        \n",
    "    def _fix_class_indices(self, y, samples_indices):\n",
    "        in_set = set(y[samples_indices])\n",
    "        a = set(y).difference(in_set)\n",
    "        for item in a:\n",
    "           samples_indices= np.append(samples_indices, [np.where(y==item)[0][0]])\n",
    "        return samples_indices    \n",
    "    \n",
    "    def _validate_y(self, y):\n",
    "        y = column_or_1d(y, warn=True)\n",
    "        check_classification_targets(y)\n",
    "        self.classes_, y = np.unique(y, return_inverse=True)\n",
    "        self.n_classes_ = len(self.classes_)\n",
    "        return y\n",
    "    \n",
    "    def predict(self, X):\n",
    "        \"\"\"Predict class for X.\n",
    "        The predicted class of an input sample is computed as the class with\n",
    "        the highest mean predicted probability. If base estimators do not\n",
    "        implement a ``predict_proba`` method, then it resorts to voting.\n",
    "        Parameters\n",
    "        ----------\n",
    "        X : {array-like, sparse matrix} of shape = [n_samples, n_features]\n",
    "            The training input samples. Sparse matrices are accepted only if\n",
    "            they are supported by the base estimator.\n",
    "        Returns\n",
    "        -------\n",
    "        y : array of shape = [n_samples]\n",
    "            The predicted classes.\n",
    "        \"\"\"\n",
    "        \n",
    "        if hasattr(self.base_estimator, \"predict_proba\"):\n",
    "            predicted_probability = self.predict_proba(X)\n",
    "            return self.classes_.take((np.argmax(predicted_probability, axis=1)),\n",
    "                                  axis=0)\n",
    "        else:\n",
    "            predicted_probability = np.zeros((X.shape[0],1), dtype=int)\n",
    "            for i, ens in enumerate(self.ensemble):\n",
    "                predicted_probability = np.hstack((predicted_probability, ens.predict(X).reshape(-1,1)))\n",
    "            predicted_probability = np.delete(predicted_probability,0,axis=1)\n",
    "            final_pred = []\n",
    "            for sample in xrange(X.shape[0]):\n",
    "                final_pred.append(most_common(predicted_probability[sample,:]))\n",
    "                #votes = []\n",
    "                #for i, mod_vote in predictions[sample,:]:\n",
    "                #    votes.extend([predictions[sample, i] for j in xrange(int(self.acc[i]))])\n",
    "                #final_pred = most_common(votes)\n",
    "            return np.array(final_pred)   \n",
    "\n",
    "\n",
    "    def predict_proba(self, X):\n",
    "        \"\"\"Predict class probabilities for X.\n",
    "        The predicted class probabilities of an input sample is computed as\n",
    "        the mean predicted class probabilities of the base estimators in the\n",
    "        ensemble. If base estimators do not implement a ``predict_proba``\n",
    "        method, then it resorts to voting and the predicted class probabilities\n",
    "        of an input sample represents the proportion of estimators predicting\n",
    "        each class.\n",
    "        Parameters\n",
    "        ----------\n",
    "        X : {array-like, sparse matrix} of shape = [n_samples, n_features]\n",
    "            The training input samples. Sparse matrices are accepted only if\n",
    "            they are supported by the base estimator.\n",
    "        Returns\n",
    "        -------\n",
    "        p : array of shape = [n_samples, n_classes]\n",
    "            The class probabilities of the input samples. The order of the\n",
    "            classes corresponds to that in the attribute `classes_`.\n",
    "        \"\"\"\n",
    "        check_is_fitted(self, \"classes_\")\n",
    "        # Check data\n",
    "        X = check_array(\n",
    "            X, accept_sparse=['csr', 'csc'], dtype=None,\n",
    "            force_all_finite=False\n",
    "        )\n",
    "\n",
    "        if self.n_features_ != X.shape[1]:\n",
    "            raise ValueError(\"Number of features of the model must \"\n",
    "                             \"match the input. Model n_features is {0} and \"\n",
    "                             \"input n_features is {1}.\"\n",
    "                             \"\".format(self.n_features_, X.shape[1]))\n",
    "\n",
    "        all_proba = np.zeros((X.shape[0], self.n_classes_))\n",
    "        for i, ens in enumerate(self.ensemble):\n",
    "            all_proba += ens.predict_proba(X)\n",
    "        all_proba /= self.n_estimators\n",
    "        #print(all_proba.shape)\n",
    "        #print(all_proba)\n",
    "        #proba = np.sum(all_proba, axis=0) / self.n_estimators\n",
    "        #print(proba.shape)\n",
    "        #print(proba)\n",
    "        return all_proba\n",
    "\n",
    "\n",
    "    @if_delegate_has_method(delegate='base_estimator')\n",
    "    def decision_function(self, X):\n",
    "        \"\"\"Average of the decision functions of the base classifiers.\n",
    "        Parameters\n",
    "        ----------\n",
    "        X : {array-like, sparse matrix} of shape = [n_samples, n_features]\n",
    "            The training input samples. Sparse matrices are accepted only if\n",
    "            they are supported by the base estimator.\n",
    "        Returns\n",
    "        -------\n",
    "        score : array, shape = [n_samples, k]\n",
    "            The decision function of the input samples. The columns correspond\n",
    "            to the classes in sorted order, as they appear in the attribute\n",
    "            ``classes_``. Regression and binary classification are special\n",
    "            cases with ``k == 1``, otherwise ``k==n_classes``.\n",
    "        \"\"\"\n",
    "        check_is_fitted(self, \"classes_\")\n",
    "\n",
    "        # Check data\n",
    "        X = check_array(\n",
    "            X, accept_sparse=['csr', 'csc'], dtype=None,\n",
    "            force_all_finite=False\n",
    "        )\n",
    "\n",
    "        if self.n_features_ != X.shape[1]:\n",
    "            raise ValueError(\"Number of features of the model must \"\n",
    "                             \"match the input. Model n_features is {0} and \"\n",
    "                             \"input n_features is {1} \"\n",
    "                             \"\".format(self.n_features_, X.shape[1]))\n",
    "        all_decisions = np.zeros((X.shape[0], self.n_classes_))\n",
    "        for i, ens in enumerate(self.ensemble):\n",
    "            all_decisions += ens.predict_proba(X) \n",
    "        decisions = sum(all_decisions) / self.n_estimators\n",
    "\n",
    "        return decisions\n",
    "    \n",
    "    def viz_fit(self, X, y):\n",
    "        X, y = check_X_y(\n",
    "            X, y, ['csr', 'csc'], dtype=None, force_all_finite=False,\n",
    "            multi_output=True)\n",
    "        y = self._validate_y(y)\n",
    "        if self.oob:\n",
    "            X, self.X_oob, y, self.y_oob = train_test_split(X,y,test_size=0.1,stratify=y)\n",
    "        n_samples, self.n_features_ = X.shape\n",
    "        cur_X, cur_y = X, y\n",
    "        self.selected_indices.append([i for i in xrange(X.shape[0])])\n",
    "        flag_target = False\n",
    "        for i_est in xrange(self.n_estimators):\n",
    "            cur_mod = clone(self.base_estimator)\n",
    "            if self.optim:\n",
    "                grid_search = GridSearchCV(cur_mod, self.parameters, n_jobs=-1, verbose=1, refit=True)\n",
    "                grid_search.fit(cur_X, cur_y)\n",
    "                cur_mod = grid_search.best_estimator_\n",
    "            else:\n",
    "                cur_mod.fit(cur_X, cur_y)\n",
    "            self.ensemble.append(cur_mod)\n",
    "            cur_X, cur_y, flag_target = self.viz_create_next_batch(X, y)\n",
    "            if flag_target:\n",
    "                break\n",
    "            #print(cur_X.shape, cur_y.shape)\n",
    "        print(\"%d ESTIMATORS -- %0.3f\" % (len(self.ensemble), 100*accuracy_score(y, self.predict(X), normalize=True)))\n",
    "        return self\n",
    "    \n",
    "    def viz_create_next_batch(self, X, y):\n",
    "        if self.oob:\n",
    "            preds = self.predict(self.X_oob)\n",
    "            centroids = self.X_oob[preds != self.y_oob]\n",
    "            centroids_ind = np.argwhere(preds != self.y_oob).reshape(-1,)\n",
    "            cur_X = copy.deepcopy(self.X_oob[centroids_ind,:])\n",
    "            cur_y = copy.deepcopy(self.y_oob[centroids_ind])\n",
    "            str_target = \"OOB SAMPLE\"\n",
    "            self.acc = accuracy_score(self.y_oob, preds, normalize=True)\n",
    "            #acc = (1-(centroids.shape[0])/float(self.X_oob.shape[0]))\n",
    "        else:\n",
    "            preds = self.predict(X)\n",
    "            centroids = X[preds != y]\n",
    "            centroids_ind = np.argwhere(preds!=y).reshape(-1,)\n",
    "            cur_X = copy.deepcopy(X[centroids_ind,:])\n",
    "            cur_y = copy.deepcopy(y[centroids_ind])\n",
    "            str_target = \"TRAIN SAMPLE\"\n",
    "            self.acc = accuracy_score(y, preds, normalize=True)\n",
    "            #acc = (1-(centroids.shape[0])/float(X.shape[0]))\n",
    "        if  self.acc > self.acc_target:\n",
    "            #return X, y, False\n",
    "            #print(\"ACCURACY ON THE %s IS %0.3f\" % (str_target, 100*(1-(centroids.shape[0])/float(X.shape[0]))))\n",
    "            #print(\"STOPPING WITH %d BASE MODELS\" % len(self.ensemble))\n",
    "            return _, _,True\n",
    "        probas = pairwise_distances(centroids, X)\n",
    "        probas /= np.sum(probas, axis=1).reshape(-1,1)\n",
    "        for i_centr in xrange(probas.shape[0]):\n",
    "            if self.way == 'prob':\n",
    "                indices = self.random_state.choice([i for i in xrange(0, probas.shape[1])],\n",
    "                                                   self.num_adversaries_per_instance, p=probas[i_centr,:])\n",
    "            if self.way == 'furthest':\n",
    "                indices = np.argsort(probas[i_centr,:])[::-1][:self.num_adversaries_per_instance]\n",
    "            indices = self._fix_class_indices(y, indices)\n",
    "            plot_selected_points(self, X,y, centroids_ind[i_centr], indices)\n",
    "            cc = raw_input()\n",
    "            if cc == 'q':\n",
    "                break\n",
    "            #print(cur_X.shape, X[indices,:].shape)\n",
    "            cur_X = np.vstack((cur_X, X[indices,:]))\n",
    "            cur_y = np.append(cur_y, y[indices])\n",
    "                #cur_y.extend(indices)\n",
    "\n",
    "            #cur_X = np.delete(cur_X, 0, axis=0)\n",
    "            #cur_y = y[cur_y]\n",
    "        return cur_X, cur_y, False\n",
    "       \n",
    "\n",
    "def most_common(lst):\n",
    "    if isinstance(lst, np.ndarray):\n",
    "        lst = lst.tolist()\n",
    "    #print(lst, max(set(lst), key=lst.count)  )\n",
    "    return max(set(lst), key=lst.count)"
   ]
  },
  {
   "cell_type": "code",
   "execution_count": 76,
   "metadata": {},
   "outputs": [
    {
     "data": {
      "image/png": "[encoded data removed]",
      "text/plain": [
       "<Figure size 720x720 with 1 Axes>"
      ]
     },
     "metadata": {},
     "output_type": "display_data"
    },
    {
     "name": "stdout",
     "output_type": "stream",
     "text": [
      "q\n"
     ]
    },
    {
     "data": {
      "image/png": "[encoded data removed]",
      "text/plain": [
       "<Figure size 720x720 with 1 Axes>"
      ]
     },
     "metadata": {},
     "output_type": "display_data"
    },
    {
     "name": "stdout",
     "output_type": "stream",
     "text": [
      "q\n"
     ]
    },
    {
     "data": {
      "image/png": "[encoded data removed]",
      "text/plain": [
       "<Figure size 720x720 with 1 Axes>"
      ]
     },
     "metadata": {},
     "output_type": "display_data"
    },
    {
     "ename": "KeyboardInterrupt",
     "evalue": "",
     "output_type": "error",
     "traceback": [
      "\u001b[0;31m---------------------------------------------------------------------------\u001b[0m",
      "\u001b[0;31mKeyboardInterrupt\u001b[0m                         Traceback (most recent call last)",
      "\u001b[0;32m<ipython-input-76-f408efaf9b9c>\u001b[0m in \u001b[0;36m<module>\u001b[0;34m()\u001b[0m\n\u001b[1;32m      1\u001b[0m \u001b[0mac\u001b[0m \u001b[0;34m=\u001b[0m \u001b[0mAdversarial_Cascade\u001b[0m\u001b[0;34m(\u001b[0m\u001b[0;34m)\u001b[0m\u001b[0;34m\u001b[0m\u001b[0m\n\u001b[0;32m----> 2\u001b[0;31m \u001b[0mac\u001b[0m\u001b[0;34m.\u001b[0m\u001b[0mviz_fit\u001b[0m\u001b[0;34m(\u001b[0m\u001b[0mX\u001b[0m\u001b[0;34m,\u001b[0m\u001b[0my\u001b[0m\u001b[0;34m)\u001b[0m\u001b[0;34m\u001b[0m\u001b[0m\n\u001b[0m",
      "\u001b[0;32m<ipython-input-75-4bca6224271d>\u001b[0m in \u001b[0;36mviz_fit\u001b[0;34m(self, X, y)\u001b[0m\n\u001b[1;32m    247\u001b[0m                 \u001b[0mcur_mod\u001b[0m\u001b[0;34m.\u001b[0m\u001b[0mfit\u001b[0m\u001b[0;34m(\u001b[0m\u001b[0mcur_X\u001b[0m\u001b[0;34m,\u001b[0m \u001b[0mcur_y\u001b[0m\u001b[0;34m)\u001b[0m\u001b[0;34m\u001b[0m\u001b[0m\n\u001b[1;32m    248\u001b[0m             \u001b[0mself\u001b[0m\u001b[0;34m.\u001b[0m\u001b[0mensemble\u001b[0m\u001b[0;34m.\u001b[0m\u001b[0mappend\u001b[0m\u001b[0;34m(\u001b[0m\u001b[0mcur_mod\u001b[0m\u001b[0;34m)\u001b[0m\u001b[0;34m\u001b[0m\u001b[0m\n\u001b[0;32m--> 249\u001b[0;31m             \u001b[0mcur_X\u001b[0m\u001b[0;34m,\u001b[0m \u001b[0mcur_y\u001b[0m\u001b[0;34m,\u001b[0m \u001b[0mflag_target\u001b[0m \u001b[0;34m=\u001b[0m \u001b[0mself\u001b[0m\u001b[0;34m.\u001b[0m\u001b[0mviz_create_next_batch\u001b[0m\u001b[0;34m(\u001b[0m\u001b[0mX\u001b[0m\u001b[0;34m,\u001b[0m \u001b[0my\u001b[0m\u001b[0;34m)\u001b[0m\u001b[0;34m\u001b[0m\u001b[0m\n\u001b[0m\u001b[1;32m    250\u001b[0m             \u001b[0;32mif\u001b[0m \u001b[0mflag_target\u001b[0m\u001b[0;34m:\u001b[0m\u001b[0;34m\u001b[0m\u001b[0m\n\u001b[1;32m    251\u001b[0m                 \u001b[0;32mbreak\u001b[0m\u001b[0;34m\u001b[0m\u001b[0m\n",
      "\u001b[0;32m<ipython-input-75-4bca6224271d>\u001b[0m in \u001b[0;36mviz_create_next_batch\u001b[0;34m(self, X, y)\u001b[0m\n\u001b[1;32m    288\u001b[0m             \u001b[0mindices\u001b[0m \u001b[0;34m=\u001b[0m \u001b[0mself\u001b[0m\u001b[0;34m.\u001b[0m\u001b[0m_fix_class_indices\u001b[0m\u001b[0;34m(\u001b[0m\u001b[0my\u001b[0m\u001b[0;34m,\u001b[0m \u001b[0mindices\u001b[0m\u001b[0;34m)\u001b[0m\u001b[0;34m\u001b[0m\u001b[0m\n\u001b[1;32m    289\u001b[0m             \u001b[0mplot_selected_points\u001b[0m\u001b[0;34m(\u001b[0m\u001b[0mself\u001b[0m\u001b[0;34m,\u001b[0m \u001b[0mX\u001b[0m\u001b[0;34m,\u001b[0m\u001b[0my\u001b[0m\u001b[0;34m,\u001b[0m \u001b[0mcentroids_ind\u001b[0m\u001b[0;34m[\u001b[0m\u001b[0mi_centr\u001b[0m\u001b[0;34m]\u001b[0m\u001b[0;34m,\u001b[0m \u001b[0mindices\u001b[0m\u001b[0;34m)\u001b[0m\u001b[0;34m\u001b[0m\u001b[0m\n\u001b[0;32m--> 290\u001b[0;31m             \u001b[0mcc\u001b[0m \u001b[0;34m=\u001b[0m \u001b[0mraw_input\u001b[0m\u001b[0;34m(\u001b[0m\u001b[0;34m)\u001b[0m\u001b[0;34m\u001b[0m\u001b[0m\n\u001b[0m\u001b[1;32m    291\u001b[0m             \u001b[0;32mif\u001b[0m \u001b[0mcc\u001b[0m \u001b[0;34m==\u001b[0m \u001b[0;34m'q'\u001b[0m\u001b[0;34m:\u001b[0m\u001b[0;34m\u001b[0m\u001b[0m\n\u001b[1;32m    292\u001b[0m                 \u001b[0;32mbreak\u001b[0m\u001b[0;34m\u001b[0m\u001b[0m\n",
      "\u001b[0;32m/usr/local/lib/python2.7/dist-packages/ipykernel/kernelbase.pyc\u001b[0m in \u001b[0;36mraw_input\u001b[0;34m(self, prompt)\u001b[0m\n\u001b[1;32m    702\u001b[0m             \u001b[0mself\u001b[0m\u001b[0;34m.\u001b[0m\u001b[0m_parent_ident\u001b[0m\u001b[0;34m,\u001b[0m\u001b[0;34m\u001b[0m\u001b[0m\n\u001b[1;32m    703\u001b[0m             \u001b[0mself\u001b[0m\u001b[0;34m.\u001b[0m\u001b[0m_parent_header\u001b[0m\u001b[0;34m,\u001b[0m\u001b[0;34m\u001b[0m\u001b[0m\n\u001b[0;32m--> 704\u001b[0;31m             \u001b[0mpassword\u001b[0m\u001b[0;34m=\u001b[0m\u001b[0mFalse\u001b[0m\u001b[0;34m,\u001b[0m\u001b[0;34m\u001b[0m\u001b[0m\n\u001b[0m\u001b[1;32m    705\u001b[0m         )\n\u001b[1;32m    706\u001b[0m \u001b[0;34m\u001b[0m\u001b[0m\n",
      "\u001b[0;32m/usr/local/lib/python2.7/dist-packages/ipykernel/kernelbase.pyc\u001b[0m in \u001b[0;36m_input_request\u001b[0;34m(self, prompt, ident, parent, password)\u001b[0m\n\u001b[1;32m    732\u001b[0m             \u001b[0;32mexcept\u001b[0m \u001b[0mKeyboardInterrupt\u001b[0m\u001b[0;34m:\u001b[0m\u001b[0;34m\u001b[0m\u001b[0m\n\u001b[1;32m    733\u001b[0m                 \u001b[0;31m# re-raise KeyboardInterrupt, to truncate traceback\u001b[0m\u001b[0;34m\u001b[0m\u001b[0;34m\u001b[0m\u001b[0m\n\u001b[0;32m--> 734\u001b[0;31m                 \u001b[0;32mraise\u001b[0m \u001b[0mKeyboardInterrupt\u001b[0m\u001b[0;34m\u001b[0m\u001b[0m\n\u001b[0m\u001b[1;32m    735\u001b[0m             \u001b[0;32melse\u001b[0m\u001b[0;34m:\u001b[0m\u001b[0;34m\u001b[0m\u001b[0m\n\u001b[1;32m    736\u001b[0m                 \u001b[0;32mbreak\u001b[0m\u001b[0;34m\u001b[0m\u001b[0m\n",
      "\u001b[0;31mKeyboardInterrupt\u001b[0m: "
     ]
    }
   ],
   "source": [
    "ac = Adversarial_Cascade()\n",
    "ac.viz_fit(X,y)"
   ]
  },
  {
   "cell_type": "code",
   "execution_count": 72,
   "metadata": {},
   "outputs": [],
   "source": [
    "def plot_selected_points(clf, X, y, center_id, indices, s=100):\n",
    "    fig = plt.figure(figsize=(10,10))\n",
    "    ax = plt.gca()\n",
    "    plt.subplots_adjust(wspace=0.4, hspace=0.4)\n",
    "    X0, X1 = X[:, 0], X[:, 1]\n",
    "    xx, yy = make_meshgrid(X0, X1)\n",
    "    plot_contours(ax, clf, xx, yy, cmap=plt.cm.coolwarm, alpha=0.8)\n",
    "    ax.scatter(X0, X1, c=y, cmap=plt.cm.coolwarm, s=s, edgecolors='grey')\n",
    "    ax.scatter(X[center_id,0], X[center_id,1], s=s, edgecolors='magenta', facecolors='none')\n",
    "    ax.scatter(X[indices,0], X[indices, 1], s=s, edgecolors='black', facecolors='none')\n",
    "    ax.set_xlim(xx.min(), xx.max())\n",
    "    ax.set_ylim(yy.min(), yy.max())\n",
    "    ax.set_xlabel('Sepal length')\n",
    "    ax.set_ylabel('Sepal width')\n",
    "    ax.set_xticks(())\n",
    "    ax.set_yticks(())\n",
    "    ax.set_title(title)\n",
    "    plt.show()\n",
    "    "
   ]
  },
  {
   "cell_type": "code",
   "execution_count": 61,
   "metadata": {},
   "outputs": [
    {
     "name": "stdout",
     "output_type": "stream",
     "text": [
      "AC : 77.333\n"
     ]
    },
    {
     "data": {
      "image/png": "[encoded data removed]",
      "text/plain": [
       "<Figure size 720x720 with 1 Axes>"
      ]
     },
     "metadata": {},
     "output_type": "display_data"
    }
   ],
   "source": [
    "fig = plt.figure(figsize=(10,10))\n",
    "ax = plt.gca()\n",
    "plt.subplots_adjust(wspace=0.4, hspace=0.4)\n",
    "\n",
    "X0, X1 = X[:, 0], X[:, 1]\n",
    "xx, yy = make_meshgrid(X0, X1)\n",
    "    \n",
    "print(\"%s : %0.3f\"% (title, 100*accuracy_score(y, clf.predict(X))))\n",
    "plot_contours(ax, clf, xx, yy,\n",
    "              cmap=plt.cm.coolwarm, alpha=0.8)\n",
    "ax.scatter(X0, X1, c=y, cmap=plt.cm.coolwarm, s=80, edgecolors='grey', facecolors='none')\n",
    "ax.set_xlim(xx.min(), xx.max())\n",
    "ax.set_ylim(yy.min(), yy.max())\n",
    "ax.set_xlabel('Sepal length')\n",
    "ax.set_ylabel('Sepal width')\n",
    "ax.set_xticks(())\n",
    "ax.set_yticks(())\n",
    "ax.set_title(title)\n",
    "plt.show()"
   ]
  },
  {
   "cell_type": "code",
   "execution_count": null,
   "metadata": {},
   "outputs": [],
   "source": []
  }
 ],
 "metadata": {
  "kernelspec": {
   "display_name": "Python 2",
   "language": "python",
   "name": "python2"
  },
  "language_info": {
   "codemirror_mode": {
    "name": "ipython",
    "version": 2
   },
   "file_extension": ".py",
   "mimetype": "text/x-python",
   "name": "python",
   "nbconvert_exporter": "python",
   "pygments_lexer": "ipython2",
   "version": "2.7.14"
  }
 },
 "nbformat": 4,
 "nbformat_minor": 2
}
