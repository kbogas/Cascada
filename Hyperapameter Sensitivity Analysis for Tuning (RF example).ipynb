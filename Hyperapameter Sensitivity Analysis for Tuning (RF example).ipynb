{
 "cells": [
  {
   "cell_type": "markdown",
   "metadata": {},
   "source": [
    "##### Example use of the hyperopt to see the sensitivy of an algorith with respect ot their hyperparameters\n",
    "Here the use-case is a RandomForest algo and see the importance of different hyperaparameters based on the accuracy on the train and test set.\n",
    "Simple train/test split has been performed."
   ]
  },
  {
   "cell_type": "code",
   "execution_count": 1,
   "metadata": {},
   "outputs": [
    {
     "ename": "NameError",
     "evalue": "name 'X_B' is not defined",
     "output_type": "error",
     "traceback": [
      "\u001b[0;31m---------------------------------------------------------------------------\u001b[0m",
      "\u001b[0;31mNameError\u001b[0m                                 Traceback (most recent call last)",
      "\u001b[0;32m<ipython-input-1-2f89932356f5>\u001b[0m in \u001b[0;36m<module>\u001b[0;34m()\u001b[0m\n\u001b[1;32m     24\u001b[0m \u001b[0mrandom_state\u001b[0m \u001b[0;34m=\u001b[0m \u001b[0;36m42\u001b[0m\u001b[0;34m\u001b[0m\u001b[0m\n\u001b[1;32m     25\u001b[0m \u001b[0;34m\u001b[0m\u001b[0m\n\u001b[0;32m---> 26\u001b[0;31m X_train, X_cv, y_train, y_cv = train_test_split(X_B,\n\u001b[0m\u001b[1;32m     27\u001b[0m                                                 \u001b[0my\u001b[0m\u001b[0;34m,\u001b[0m\u001b[0;34m\u001b[0m\u001b[0m\n\u001b[1;32m     28\u001b[0m                                                 \u001b[0mtest_size\u001b[0m\u001b[0;34m=\u001b[0m\u001b[0;36m0.1\u001b[0m\u001b[0;34m,\u001b[0m\u001b[0;34m\u001b[0m\u001b[0m\n",
      "\u001b[0;31mNameError\u001b[0m: name 'X_B' is not defined"
     ]
    }
   ],
   "source": [
    "import pandas as pd\n",
    "import numpy as np\n",
    "from sklearn.metrics import accuracy_score\n",
    "from hyperopt import hp, fmin, tpe, STATUS_OK, Trials\n",
    "from sklearn.model_selection import train_test_split\n",
    "from sklearn.ensemble import RandomForestClassifier\n",
    "\n",
    "\n",
    "\n",
    "space = {\n",
    "    'criterion': hp.choice( 'criterion', ( 'gini', 'entropy' )),\n",
    "    'bootstrap': hp.choice( 'bootstrap', ( True, False )),\n",
    "    'class_weight': hp.choice( 'class_weight', ( 'balanced', 'balanced_subsample', None )),\n",
    "    'max_depth': hp.choice('max_depth', np.arange( 2, 50, dtype=int)),\n",
    "    'max_features': hp.choice( 'mf', ( 'sqrt', 'log2', None )),\n",
    "    'min_samples_split': hp.choice('min_samples_split', np.arange( 2, 20, dtype=int)),\n",
    "    'min_samples_leaf': hp.choice('min_samples_leaf', np.arange( 1, 20, dtype=int)),\n",
    "    'n_estimators': hp.choice( 'n_estimators', [100,150, 200, 250, 300, 350,500]),\n",
    "}\n",
    "\n",
    "\n",
    "\n",
    "\n",
    "random_state = 42\n",
    "\n",
    "X_train, X_cv, y_train, y_cv = train_test_split(X_B,\n",
    "                                                y, \n",
    "                                                test_size=0.1, \n",
    "                                                random_state=random_state, \n",
    "                                                stratify=y)\n",
    "\n",
    "\n",
    "def objective(space):\n",
    "\n",
    "    clf = RandomForestClassifier(random_state=random_state, **space)\n",
    "    clf.fit(X_train, y_train)\n",
    "    pred = clf.predict(X_cv)\n",
    "    acc = accuracy_score(y_cv, pred)\n",
    "    train_acc = accuracy_score(y_train, clf.predict(X_train))\n",
    "    print \"Train score: %0.3f  -- Validation score: %0.3f\"% (train_acc, acc)\n",
    "    to_return = {'loss':1-acc, 'train_loss':1-train_acc, 'status': STATUS_OK }\n",
    "    to_return.update(space)\n",
    "    return to_return\n",
    "\n",
    "\n",
    "trials = Trials()\n",
    "best = fmin(fn=objective,\n",
    "            space=space,\n",
    "            algo=tpe.suggest,\n",
    "            max_evals=100,\n",
    "            trials=trials)\n",
    "\n",
    "print best\n"
   ]
  },
  {
   "cell_type": "markdown",
   "metadata": {},
   "source": [
    "# Fetch the trials results\n",
    "And keep a separate Dataframe for the categorical variables"
   ]
  },
  {
   "cell_type": "code",
   "execution_count": 2,
   "metadata": {},
   "outputs": [
    {
     "ename": "NameError",
     "evalue": "name 'trials' is not defined",
     "output_type": "error",
     "traceback": [
      "\u001b[0;31m---------------------------------------------------------------------------\u001b[0m",
      "\u001b[0;31mNameError\u001b[0m                                 Traceback (most recent call last)",
      "\u001b[0;32m<ipython-input-2-cba28a0b011e>\u001b[0m in \u001b[0;36m<module>\u001b[0;34m()\u001b[0m\n\u001b[0;32m----> 1\u001b[0;31m \u001b[0mtt\u001b[0m \u001b[0;34m=\u001b[0m \u001b[0;34m[\u001b[0m\u001b[0mt\u001b[0m\u001b[0;34m[\u001b[0m\u001b[0;34m'result'\u001b[0m\u001b[0;34m]\u001b[0m \u001b[0;32mfor\u001b[0m \u001b[0mt\u001b[0m \u001b[0;32min\u001b[0m \u001b[0mtrials\u001b[0m\u001b[0;34m.\u001b[0m\u001b[0mtrials\u001b[0m\u001b[0;34m]\u001b[0m\u001b[0;34m\u001b[0m\u001b[0m\n\u001b[0m\u001b[1;32m      2\u001b[0m \u001b[0mdd\u001b[0m \u001b[0;34m=\u001b[0m \u001b[0mpd\u001b[0m\u001b[0;34m.\u001b[0m\u001b[0mDataFrame\u001b[0m\u001b[0;34m(\u001b[0m\u001b[0mtt\u001b[0m\u001b[0;34m)\u001b[0m\u001b[0;34m\u001b[0m\u001b[0m\n\u001b[1;32m      3\u001b[0m categorical_feats = ['criterion', \n\u001b[1;32m      4\u001b[0m                      \u001b[0;34m'class_weight'\u001b[0m\u001b[0;34m,\u001b[0m\u001b[0;34m\u001b[0m\u001b[0m\n\u001b[1;32m      5\u001b[0m                      \u001b[0;34m'max_features'\u001b[0m\u001b[0;34m,\u001b[0m\u001b[0;34m\u001b[0m\u001b[0m\n",
      "\u001b[0;31mNameError\u001b[0m: name 'trials' is not defined"
     ]
    }
   ],
   "source": [
    "tt = [t['result'] for t in trials.trials]\n",
    "dd = pd.DataFrame(tt)\n",
    "categorical_feats = ['criterion', \n",
    "                     'class_weight', \n",
    "                     'max_features',\n",
    "                     'bootstrap']\n",
    "dd_cat = dd[categorical_feats+['loss']+['train_loss']]\n",
    "for cat in categorical_feats:\n",
    "    del dd[cat]\n",
    "del dd['status']\n",
    "print dd.shape\n",
    "print dd.columns"
   ]
  },
  {
   "cell_type": "markdown",
   "metadata": {},
   "source": [
    "# Pivot the table\n",
    "(this can be done more efficiently probably)"
   ]
  },
  {
   "cell_type": "code",
   "execution_count": 5,
   "metadata": {},
   "outputs": [
    {
     "ename": "NameError",
     "evalue": "name 'dd' is not defined",
     "output_type": "error",
     "traceback": [
      "\u001b[0;31m---------------------------------------------------------------------------\u001b[0m",
      "\u001b[0;31mNameError\u001b[0m                                 Traceback (most recent call last)",
      "\u001b[0;32m<ipython-input-5-83b9ad396157>\u001b[0m in \u001b[0;36m<module>\u001b[0;34m()\u001b[0m\n\u001b[1;32m      1\u001b[0m \u001b[0mtr\u001b[0m \u001b[0;34m=\u001b[0m \u001b[0;34m[\u001b[0m\u001b[0;34m]\u001b[0m\u001b[0;34m\u001b[0m\u001b[0m\n\u001b[0;32m----> 2\u001b[0;31m \u001b[0;32mfor\u001b[0m \u001b[0mi\u001b[0m\u001b[0;34m,\u001b[0m \u001b[0mrow\u001b[0m \u001b[0;32min\u001b[0m \u001b[0mdd\u001b[0m\u001b[0;34m.\u001b[0m\u001b[0miterrows\u001b[0m\u001b[0;34m(\u001b[0m\u001b[0;34m)\u001b[0m\u001b[0;34m:\u001b[0m\u001b[0;34m\u001b[0m\u001b[0m\n\u001b[0m\u001b[1;32m      3\u001b[0m     \u001b[0mcur\u001b[0m \u001b[0;34m=\u001b[0m \u001b[0;34m{\u001b[0m\u001b[0;34m}\u001b[0m\u001b[0;34m\u001b[0m\u001b[0m\n\u001b[1;32m      4\u001b[0m     \u001b[0mcur\u001b[0m\u001b[0;34m[\u001b[0m\u001b[0;34m'loss'\u001b[0m\u001b[0;34m]\u001b[0m \u001b[0;34m=\u001b[0m \u001b[0mrow\u001b[0m\u001b[0;34m[\u001b[0m\u001b[0;34m'loss'\u001b[0m\u001b[0;34m]\u001b[0m\u001b[0;34m\u001b[0m\u001b[0m\n\u001b[1;32m      5\u001b[0m     \u001b[0mtrain_loss\u001b[0m \u001b[0;34m=\u001b[0m \u001b[0mrow\u001b[0m\u001b[0;34m[\u001b[0m\u001b[0;34m'train_loss'\u001b[0m\u001b[0;34m]\u001b[0m\u001b[0;34m\u001b[0m\u001b[0m\n",
      "\u001b[0;31mNameError\u001b[0m: name 'dd' is not defined"
     ]
    }
   ],
   "source": [
    "tr = []\n",
    "for i, row in dd.iterrows():\n",
    "    cur = {}\n",
    "    cur['loss'] = row['loss']\n",
    "    train_loss = row['train_loss']\n",
    "    del row['loss']\n",
    "    del row['train_loss']\n",
    "    cur['set'] = \"Test\"\n",
    "    cur.update(row.to_dict())\n",
    "    tr.append(cur)\n",
    "    cur = {}\n",
    "    cur['loss'] = train_loss\n",
    "    cur['set'] = \"Train\"\n",
    "    cur.update(row.to_dict())\n",
    "    tr.append(cur)\n",
    "dd2 = pd.DataFrame(tr)\n",
    "dd2"
   ]
  },
  {
   "cell_type": "markdown",
   "metadata": {},
   "source": [
    "# Do the same for the categorical Dataframe\n"
   ]
  },
  {
   "cell_type": "code",
   "execution_count": 7,
   "metadata": {},
   "outputs": [
    {
     "ename": "NameError",
     "evalue": "name 'dd_cat' is not defined",
     "output_type": "error",
     "traceback": [
      "\u001b[0;31m---------------------------------------------------------------------------\u001b[0m",
      "\u001b[0;31mNameError\u001b[0m                                 Traceback (most recent call last)",
      "\u001b[0;32m<ipython-input-7-7ee156885dff>\u001b[0m in \u001b[0;36m<module>\u001b[0;34m()\u001b[0m\n\u001b[1;32m      1\u001b[0m \u001b[0mtr\u001b[0m \u001b[0;34m=\u001b[0m \u001b[0;34m[\u001b[0m\u001b[0;34m]\u001b[0m\u001b[0;34m\u001b[0m\u001b[0m\n\u001b[0;32m----> 2\u001b[0;31m \u001b[0;32mfor\u001b[0m \u001b[0mi\u001b[0m\u001b[0;34m,\u001b[0m \u001b[0mrow\u001b[0m \u001b[0;32min\u001b[0m \u001b[0mdd_cat\u001b[0m\u001b[0;34m.\u001b[0m\u001b[0miterrows\u001b[0m\u001b[0;34m(\u001b[0m\u001b[0;34m)\u001b[0m\u001b[0;34m:\u001b[0m\u001b[0;34m\u001b[0m\u001b[0m\n\u001b[0m\u001b[1;32m      3\u001b[0m     \u001b[0mcur\u001b[0m \u001b[0;34m=\u001b[0m \u001b[0;34m{\u001b[0m\u001b[0;34m}\u001b[0m\u001b[0;34m\u001b[0m\u001b[0m\n\u001b[1;32m      4\u001b[0m     \u001b[0mcur\u001b[0m\u001b[0;34m[\u001b[0m\u001b[0;34m'loss'\u001b[0m\u001b[0;34m]\u001b[0m \u001b[0;34m=\u001b[0m \u001b[0mrow\u001b[0m\u001b[0;34m[\u001b[0m\u001b[0;34m'loss'\u001b[0m\u001b[0;34m]\u001b[0m\u001b[0;34m\u001b[0m\u001b[0m\n\u001b[1;32m      5\u001b[0m     \u001b[0mtrain_loss\u001b[0m \u001b[0;34m=\u001b[0m \u001b[0mrow\u001b[0m\u001b[0;34m[\u001b[0m\u001b[0;34m'train_loss'\u001b[0m\u001b[0;34m]\u001b[0m\u001b[0;34m\u001b[0m\u001b[0m\n",
      "\u001b[0;31mNameError\u001b[0m: name 'dd_cat' is not defined"
     ]
    }
   ],
   "source": [
    "tr = []\n",
    "for i, row in dd_cat.iterrows():\n",
    "    cur = {}\n",
    "    cur['loss'] = row['loss']\n",
    "    train_loss = row['train_loss']\n",
    "    del row['loss']\n",
    "    del row['train_loss']\n",
    "    cur['set'] = \"Test\"\n",
    "    cur.update(row.to_dict())\n",
    "    tr.append(cur)\n",
    "    cur = {}\n",
    "    cur['loss'] = train_loss\n",
    "    cur['set'] = \"Train\"\n",
    "    cur.update(row.to_dict())\n",
    "    tr.append(cur)\n",
    "dd2_cat = pd.DataFrame(tr)\n",
    "dd2_cat"
   ]
  },
  {
   "cell_type": "markdown",
   "metadata": {},
   "source": [
    "### Plot the Results"
   ]
  },
  {
   "cell_type": "code",
   "execution_count": null,
   "metadata": {},
   "outputs": [],
   "source": [
    "dd2_melted = dd2.melt(['loss', 'set'])\n",
    "g = sns.lmplot(x=\"value\", y=\"loss\", col=\"variable\", hue='set', data=dd2_melted,sharex=False) "
   ]
  },
  {
   "cell_type": "markdown",
   "metadata": {},
   "source": [
    "### Plot the Results\n",
    "(Categorical Vars into boxplot)\n",
    "This needs some fixing for the empty labels"
   ]
  },
  {
   "cell_type": "code",
   "execution_count": null,
   "metadata": {},
   "outputs": [],
   "source": [
    "dd2_cat_melted = dd2_cat.melt(['loss', 'set'])\n",
    "g = sns.catplot(x=\"value\", y=\"loss\", col='variable', hue='set', \n",
    "                data=dd2_cat_melted, sharex=False,\n",
    "                kind='box')"
   ]
  }
 ],
 "metadata": {
  "kernelspec": {
   "display_name": "Python 2",
   "language": "python",
   "name": "python2"
  },
  "language_info": {
   "codemirror_mode": {
    "name": "ipython",
    "version": 2
   },
   "file_extension": ".py",
   "mimetype": "text/x-python",
   "name": "python",
   "nbconvert_exporter": "python",
   "pygments_lexer": "ipython2",
   "version": "2.7.15rc1"
  }
 },
 "nbformat": 4,
 "nbformat_minor": 2
}
