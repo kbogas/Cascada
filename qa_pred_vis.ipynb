{
 "cells": [
  {
   "cell_type": "code",
   "execution_count": 12,
   "metadata": {},
   "outputs": [],
   "source": [
    "import requests\n",
    "from pymongo import MongoClient"
   ]
  },
  {
   "cell_type": "code",
   "execution_count": 9,
   "metadata": {},
   "outputs": [],
   "source": [
    "ID = \"123123\"\n",
    "text = \"Are the human bombesin receptors, GRPR and NMBR, frequently overexpressed G-protein-coupled-receptors by lung-cancers?\"\n",
    "PHASE_A_URL = \"http://143.233.226.57:9000/answer_text_with_id\"\n",
    "r = requests.post(PHASE_A_URL, headers={\"content-type\":\"application/json\"}, \n",
    "                  json={\"text\": text, 'ID':ID})\n",
    "pmids_result = r.json()"
   ]
  },
  {
   "cell_type": "code",
   "execution_count": 72,
   "metadata": {},
   "outputs": [],
   "source": [
    "context = \"Our findings suggest that increasing apoE2 in APOE4 carriers is a beneficial strategy to treat AD, whereas increasing apoE4 in APOE4 carriers is likely harmful. Furthermore, overexpression of apoE4 elevated the levels of endogenous Aβ, whereas apoE2 overexpression trended to lower endogenous Aβ. ApoE4 confers a gain of toxic function, a loss of neuroprotective function or a combination of both in AD pathogenesis. Opposing effects of viral mediated brain expression of apolipoprotein E2 (apoE2) and apoE4 on apoE lipidation and Aβ metabolism in apoE4-targeted replacement mice. We have also established novel methods to express apoE isoforms in mouse brain to study apoE-related pathways in AD and related dementia. Among the gene alleles encoding the three isoforms, the APOE4 allele is the strongest genetic risk factor for late-onset Alzheimer's disease (AD), whereas APOE2 is protective. Viral mediated overexpression of apoE4 in the apoE4-TR background increased poorly-lipidated apoE lipoprotein particles and decreased apoE-associated cholesterol in apoE4-TR mice. RESULTS AAV8-GFAP-apoE isoforms were specifically expressed in astrocytes throughout all brain regions, which led to overall increased apoE levels in the brain. CONCLUSIONS Overexpression of apoE isoforms induces differential effects in the apoE4-TR background: apoE4 decreases apoE lipidation and enhances Aβ accumulation, whereas apoE2 has the opposite effects. BACKGROUND Human apolipoprotein E (apoE) exists in three major isoforms: apoE2, apoE3 and apoE4. Specifically, apoE isoform expression driven by the astrocyte-specific glial fibrillary acidic protein (GFAP) promoter was built into an adeno-associated virus serotype 8 (AAV8) vector and injected into the ventricles of postnatal day 2 (P2) apoE3-TR or apoE4-TR mice. In the brain, apoE is produced mostly by astrocytes and transports cholesterol to neurons via apoE receptors. Given that therapeutic impacts of modulating apoE expression may be isoform-dependent, we sought to investigate the relationship between overexpressing apoE isoform and apoE-related functions in apoE-targeted replacement (TR) mice. Conversely, apoE2 overexpression in apoE4-TR mice enhanced apoE lipidation and associated cholesterol. Upon confirmation of apoE isoform expression, effects on apoE lipidation and the levels of amyloid-β (Aβ) in the brain were assessed. Using the anti-apoE co-IP assay, we found that human cerebrospinal fluid (CSF) epsilon 3 can also form an SDS-resistant complex with Ass(1-40) but human CSF epsilon;4 cannot. The SDS-resistant interaction between epsilon;3 and Ass(1-40) is apparently maximal at an Ass(1-40) concentration of approximately 75 micro M, and an Ass(1-40) /epsilon 3 molar ratio of about 250:1. The major apoE-isoform-specific difference in interaction with Ass(1-40) is the ability of Ass(1-40) to form SDS- resistant complexes with epsilon 3 but not with epsilon 4. The apoE3 and apoE4 isoforms were shown to display different binding reactivities with amyloid beta peptide (Abeta) and tau protein in vitro. The isoform-specific differences in binding were temperature-dependent and are attenuated upon decrease of the temperature. Interaction of nascent ApoE2, ApoE3, and ApoE4 isoforms expressed in mammalian cells with amyloid peptide beta (1-40). In addition, the apoE2 dimer formed a complex with Abeta more efficiently than the apoE3 dimer. All included individuals had undergone extensive neuropsychological testing and 25 had in addition undergone FDG-PET and MRI to determine CMRgl and regional gray matter volume (GMV). Importantly, a higher relative ratio of apoE4 over apoE3 was associated with GMV loss in the right posterior cingulate and with reduced CMRgl bilaterally in the anterior cingulate and in the right hippocampal area. RESULTS Application of this assay demonstrated that the interaction of Ass(1-40) and apoE can be distinguished into two types: sodium dodecyl sulfate (SDS) -resistant and SDS-releasable. CONCLUSIONS These results suggest the presence in CSF of factors that interfere with the formation of complexes between synthetic Ass(1-40) and apoE epsilon 3. Human cerebrospinal fluid apolipoprotein E isoforms are apparently inefficient at complexing with synthetic Alzheimer's amyloid-[beta] peptide (A[beta] 1-40 ) in vitro. BACKGROUND Variation at the apolipoprotein E locus on chromosome 19 plays a role in more cases of Alzheimer's disease than does any other identified genetic determinant. MATERIALS AND METHODS In order to investigate the apoE: A beta interaction further, a modified assay was developed based on co-immunoprecipitation of the complex using an anti-apoE antibody (anti-apoE IP assay). A 1:1 mixture of CSF plus apoE epsilon 3-containing conditioned medium is associated with diminished Ass(1-40) /epsilon;3 complex formation to a greater extent than that observed when an identical volume of phosphate-buffered saline is added to apoE epsilon;3 medium. To study the interaction of Abeta with nascent apoE isoforms we have expressed their cDNAs in baby hamster kidney (BHK-21) cells using the Semliki Forest Virus expression system. However, when compared with apoE epsilon;3 collected from the conditioned medium of APOE epsilon 3-transfected cells, the competence of equal concentrations of CSF apoE epsilon 3 to form SDS-resistant complexes with Ass(1-40) is apparently diminished. Population studies have established that one of the common isoforms of apolipoprotein E, the apoE4, is associated with higher incidence and earlier age of onset of late onset familial Alzheimer's disease (AD), whereas apoE2 may have the opposite effect. RESULTS Our results demonstrated higher apoE4 levels in females versus males and an age-dependent increase in the apoE3 isoform levels in females only. The binding behavior of the monomeric apoE is different from that reported for plasma apoE3 and apoE4 or commercially available apoE3 and apoE4 preparations and similar to that described for apoE3 and apoE4 produced by human embryonic kidney (HEK-293) cells. Analysis of the interaction of nascent apoE2, apoE3, and apoE4 produced by BHK-21 cells with Abeta (1-40) under physiological conditions (pH 7.4, 37 degrees C) showed that the efficiency of the apoE monomer-Abeta complex formation follows the order apoE2 > apoE3 >> apoE4. On the basis of these findings, it has been proposed that the apoE isoforms may modulate positively or negatively the formation of either the neurofibrillary tangles or the amyloid deposits in the brain of patients with AD. It appears that the efficiency of binding between each of three main apoE isoforms and Abeta correlates inversely with the risk of developing late-onset familial AD and may indicate possible involvement of apoE in the binding and clearance of Abeta in vivo. A dimeric form of apoE is formed with apoE2 and apoE3 but not with apoE4 isoforms. Analysis of the secreted apoE by one- and two-dimensional gel electrophoresis and immunoblotting showed that the nascent apoE is heavily modified with carbohydrate chains containing sialic acid. Finally, our results indicated only weak associations between apoE plasma levels and cognitive performance which further appear to be affected by sex. Whether low plasma apoE levels are associated with structural and functional brain measurements and cognitive performance remains to be investigated. We have previously reported the isoform-specific interaction of native human apolipoprotein E (APOE, gene; apoE, protein) epsilon 3 with the amyloid-ss peptide, Ass(1-40), the major component of the cerebral amyloid deposits that appear to cause Alzheimer's disease. METHODS Using quantitative mass spectrometry we quantified the plasma levels of total apoE and the individual apoE3 and apoE4 isoforms in 128 cognitively normal APOE ε3/ε4 individuals included in the Arizona APOE cohort. CONCLUSIONS Our study proposes a sex-dependent and age-dependent variation in plasma apoE isoform levels and concludes that peripheral apoE levels are associated with GMV, CMRgl and possibly cognitive performance in cognitively healthy individuals with a genetic predisposition to AD. BACKGROUND Carriers of the APOE ε4 allele are at increased risk of developing Alzheimer's disease (AD), and have been shown to have reduced cerebral metabolic rate of glucose (CMRgl) in the same brain areas frequently affected in AD. Additional exploratory analysis revealed several negative associations between total plasma apoE, individual apoE isoform levels, GMV and CMRgl predominantly in the frontal, occipital and temporal areas. These individuals also exhibit reduced plasma levels of apolipoprotein E (apoE) attributed to a specific decrease in the apoE4 isoform as determined by quantification of individual apoE isoforms in APOE ε4 heterozygotes. Peripheral apoE isoform levels in cognitively normal APOE ε3/ε4 individuals are associated with regional gray matter volume and cerebral glucose metabolism. RESULTS The E2, E3 and E4 allele frequencies were 5.7%, 84.0%, and 10.2%, respectively, and differed significantly between ethnic groups. Dietary and lifestyle factors accounted for modest variation in several traits including HDL-C (5.6% and 5.0%, respectively). Additional genetic variants and/or health behaviors likely contribute to ethnic variations in plasma lipid traits. The E4 genotype was associated with higher low-density lipoprotein cholesterol (p for trend<0.001), ApoB (p<0.001), ApoB/ApoA ratio (p<0.001) and lipoprotein (a) (p<0.001), and lower ApoA (p<0.001) and high-density lipoprotein cholesterol (HDL-C) (p=0.005). A similar pattern of effects was observed across all ethnic groups. A beta(1-28) and A beta(1-40) peptides were incubated in the presence or absence of apoE3, apoE4, or bovine serum albumin for 4 d at 37 degrees C (pH 7.3). Unlike purely monofibrillar apoE4/A beta coincubates, apoE3/A beta coincubates also contained double- and triple-stranded structures. We observed that soluble SDS-stable complexes of apoE3 or apoE4, formed by coincubation with A beta peptide, precipitated after several days of incubation at 37 degrees C with apoE4 complexes precipitating more rapidly than apoE3 complexes. Negative stain electron microscopy revealed that the A beta peptide alone self-assembled into twisted ribbons containing two or three strands but occasionally into multistranded sheets. ApoE4/A beta coincubates yielded a denser matrix of monofibrils than apoE3/A beta coincubates. Monofibrils appeared earlier in apoE4/A beta than in apoE3/A beta in time-course experiments. The apoE/A beta coincubates yielded monofibrils 7 nm in diameter. Ethnicity accounted for modest variation in ApoA, ApoB/ApoA ratio and HDL-C (4.2-5.0%), whereas ApoE isoforms explained only a small proportion of variability (0.3-1.4%). BACKGROUND The prevalence of cardiovascular risk factors and atherosclerosis vary between ethnic groups. Relationship of the ApoE polymorphism to plasma lipid traits among South Asians, Chinese, and Europeans living in Canada. Thus apoE3 and apoE4 each interact with beta amyloid peptide to form novel monofibrillar structures, apoE4 more avidly, a finding consistent with the biochemical and genetic association between apoE4 and Alzheimer's disease. Further, apoE-bound cholesterol is highly incorporated in membranous compartments in hippocampal neurons, whereas hippocampal astrocytes show higher intracellular distribution. Hippocampal neurons express high levels of the LDLR related protein (LRP), whereas hippocampal astrocytes are highly positive for LDLR. There was a strong, stepwise association between ApoE and each plasma lipid trait, except triglycerides. This is an effect that coincides with cell-type dependent difference of low density lipoprotein receptor (LDLR) family member expression. In contrast, hippocampal astrocytes show decreased internalization of apoE2-bound cholesterol. In hippocampal neurons, we could find a decreased apoE4-bound cholesterol uptake. In contrary, hippocampal astrocytes show faint apoE2 immunocytostaining intensity. Apolipoprotein E binds avidly to beta amyloid (A beta) peptide, a major component of senile plaque of Alzheimer's disease, in an isoform-specific manner. Both apoE isoforms were shown by immunogold labeling to be uniformly distributed along the A beta peptide monofibrils. The apoE4 isoform binds to A beta peptide more rapidly than apoE3. In addition, lipidated apoE4 is little associated with neurites in hippocampal neurons in comparison to the other two isoforms. CONCLUSIONS The ApoE isoform is associated with plasma lipoproteins in all ethnic groups, yet explains only a small proportion of the inter-ethnic variation for most plasma lipoproteins. Data presented indicate that the role of apoE4 in cholesterol homeostasis and apolipoprotein cell association is more pronounced in hippocampal neurons, showing significant alterations compared to the other two isoforms, suggesting that hippocampal neurons are affected by apoE4 associated altered cholesterol metabolism compared to hippocampal astrocytes. METHODS In a randomly sampled cross-sectional study of 985 South Asian, Chinese, and European Canadians, three common isoforms of ApoE (E2, E3 and E4), plasma lipid concentrations and atherosclerosis of the carotid artery were measured. It has been demonstrated that altered lipid content of hippocampal plasma membrane coincides with the disease. We examined the apolipoprotein E (ApoE) polymorphism, its association with lipid traits and atherosclerosis, and its influence on ethnic variations on lipid traits. Carotid atherosclerosis was lower among individuals with E2 isoform in keeping with the effect of E2 on lipid levels. Apolipoprotein E associates with beta amyloid peptide of Alzheimer's disease to form novel monofibrils. Relevance to Alzheimer's disease. EPR spectra of the spin-labeled side chain report on side chain and backbone dynamics as well as the spatial proximity of spins in an assembly. A vital question centers on the influence of the two predominant isoforms, E3 and E4, on Aβ peptide processing and hence Aβ toxicity. Coupled with SPR binding measurements, apoE3 displays a higher affinity and capacity for the toxic Aβ oligomer. The molecular pathogenesis of disorders arising from protein misfolding and aggregation is difficult to elucidate, involving a complex ensemble of intermediates, whose toxicity depends upon their state of progression along distinct processing pathways. From the three common alleles (epsilon2, epsilon3 and epsilon4), epsilon4 has been suggested to promote amyloid beta (Ass) plaque fibrillation, one hallmark of Alzheimer's disease. A differential association of Apolipoprotein E isoforms with the amyloid-β oligomer in solution. In this study, we show for the first time that the apoE dependent cholesterol metabolism in hippocampal neurons is higher than that of hippocampal astrocytes. Isoform apoE4 associates more efficiently than apoE3. Implication of apoE isoforms in cholesterol metabolism by primary rat hippocampal neurons and astrocytes. The level of the apoE3.A beta complex was approximately 20-fold greater than that of the apoE4.A beta complex. Isoform-specific binding of apolipoprotein E to beta-amyloid. 90, 8098-8102). U. S. A. Acad. Natl. Sci.\""
   ]
  },
  {
   "cell_type": "code",
   "execution_count": 10,
   "metadata": {},
   "outputs": [
    {
     "name": "stdout",
     "output_type": "stream",
     "text": [
      "Our findings suggest that increasing apoE2 in APOE4 carriers is a beneficial strategy to treat AD, whereas increasing apoE4 in APOE4 carriers is likely harmful. Furthermore, overexpression of apoE4 elevated the levels of endogenous Aβ, whereas apoE2 overexpression trended to lower endogenous Aβ. ApoE4 confers a gain of toxic function, a loss of neuroprotective function or a combination of both in AD pathogenesis. Opposing effects of viral mediated brain expression of apolipoprotein E2 (apoE2) and apoE4 on apoE lipidation and Aβ metabolism in apoE4-targeted replacement mice. We have also established novel methods to express apoE isoforms in mouse brain to study apoE-related pathways in AD and related dementia. Among the gene alleles encoding the three isoforms, the APOE4 allele is the strongest genetic risk factor for late-onset Alzheimer's disease (AD), whereas APOE2 is protective. Viral mediated overexpression of apoE4 in the apoE4-TR background increased poorly-lipidated apoE lipoprotein particles and decreased apoE-associated cholesterol in apoE4-TR mice. RESULTS AAV8-GFAP-apoE isoforms were specifically expressed in astrocytes throughout all brain regions, which led to overall increased apoE levels in the brain. CONCLUSIONS Overexpression of apoE isoforms induces differential effects in the apoE4-TR background: apoE4 decreases apoE lipidation and enhances Aβ accumulation, whereas apoE2 has the opposite effects. BACKGROUND Human apolipoprotein E (apoE) exists in three major isoforms: apoE2, apoE3 and apoE4. Specifically, apoE isoform expression driven by the astrocyte-specific glial fibrillary acidic protein (GFAP) promoter was built into an adeno-associated virus serotype 8 (AAV8) vector and injected into the ventricles of postnatal day 2 (P2) apoE3-TR or apoE4-TR mice. In the brain, apoE is produced mostly by astrocytes and transports cholesterol to neurons via apoE receptors. Given that therapeutic impacts of modulating apoE expression may be isoform-dependent, we sought to investigate the relationship between overexpressing apoE isoform and apoE-related functions in apoE-targeted replacement (TR) mice. Conversely, apoE2 overexpression in apoE4-TR mice enhanced apoE lipidation and associated cholesterol. Upon confirmation of apoE isoform expression, effects on apoE lipidation and the levels of amyloid-β (Aβ) in the brain were assessed. Using the anti-apoE co-IP assay, we found that human cerebrospinal fluid (CSF) epsilon 3 can also form an SDS-resistant complex with Ass(1-40) but human CSF epsilon;4 cannot. The SDS-resistant interaction between epsilon;3 and Ass(1-40) is apparently maximal at an Ass(1-40) concentration of approximately 75 micro M, and an Ass(1-40) /epsilon 3 molar ratio of about 250:1. The major apoE-isoform-specific difference in interaction with Ass(1-40) is the ability of Ass(1-40) to form SDS- resistant complexes with epsilon 3 but not with epsilon 4. The apoE3 and apoE4 isoforms were shown to display different binding reactivities with amyloid beta peptide (Abeta) and tau protein in vitro. The isoform-specific differences in binding were temperature-dependent and are attenuated upon decrease of the temperature. Interaction of nascent ApoE2, ApoE3, and ApoE4 isoforms expressed in mammalian cells with amyloid peptide beta (1-40). In addition, the apoE2 dimer formed a complex with Abeta more efficiently than the apoE3 dimer. All included individuals had undergone extensive neuropsychological testing and 25 had in addition undergone FDG-PET and MRI to determine CMRgl and regional gray matter volume (GMV). Importantly, a higher relative ratio of apoE4 over apoE3 was associated with GMV loss in the right posterior cingulate and with reduced CMRgl bilaterally in the anterior cingulate and in the right hippocampal area. RESULTS Application of this assay demonstrated that the interaction of Ass(1-40) and apoE can be distinguished into two types: sodium dodecyl sulfate (SDS) -resistant and SDS-releasable. CONCLUSIONS These results suggest the presence in CSF of factors that interfere with the formation of complexes between synthetic Ass(1-40) and apoE epsilon 3. Human cerebrospinal fluid apolipoprotein E isoforms are apparently inefficient at complexing with synthetic Alzheimer's amyloid-[beta] peptide (A[beta] 1-40 ) in vitro. BACKGROUND Variation at the apolipoprotein E locus on chromosome 19 plays a role in more cases of Alzheimer's disease than does any other identified genetic determinant. MATERIALS AND METHODS In order to investigate the apoE: A beta interaction further, a modified assay was developed based on co-immunoprecipitation of the complex using an anti-apoE antibody (anti-apoE IP assay). A 1:1 mixture of CSF plus apoE epsilon 3-containing conditioned medium is associated with diminished Ass(1-40) /epsilon;3 complex formation to a greater extent than that observed when an identical volume of phosphate-buffered saline is added to apoE epsilon;3 medium. To study the interaction of Abeta with nascent apoE isoforms we have expressed their cDNAs in baby hamster kidney (BHK-21) cells using the Semliki Forest Virus expression system. However, when compared with apoE epsilon;3 collected from the conditioned medium of APOE epsilon 3-transfected cells, the competence of equal concentrations of CSF apoE epsilon 3 to form SDS-resistant complexes with Ass(1-40) is apparently diminished. Population studies have established that one of the common isoforms of apolipoprotein E, the apoE4, is associated with higher incidence and earlier age of onset of late onset familial Alzheimer's disease (AD), whereas apoE2 may have the opposite effect. RESULTS Our results demonstrated higher apoE4 levels in females versus males and an age-dependent increase in the apoE3 isoform levels in females only. The binding behavior of the monomeric apoE is different from that reported for plasma apoE3 and apoE4 or commercially available apoE3 and apoE4 preparations and similar to that described for apoE3 and apoE4 produced by human embryonic kidney (HEK-293) cells. Analysis of the interaction of nascent apoE2, apoE3, and apoE4 produced by BHK-21 cells with Abeta (1-40) under physiological conditions (pH 7.4, 37 degrees C) showed that the efficiency of the apoE monomer-Abeta complex formation follows the order apoE2 > apoE3 >> apoE4. On the basis of these findings, it has been proposed that the apoE isoforms may modulate positively or negatively the formation of either the neurofibrillary tangles or the amyloid deposits in the brain of patients with AD. It appears that the efficiency of binding between each of three main apoE isoforms and Abeta correlates inversely with the risk of developing late-onset familial AD and may indicate possible involvement of apoE in the binding and clearance of Abeta in vivo. A dimeric form of apoE is formed with apoE2 and apoE3 but not with apoE4 isoforms. Analysis of the secreted apoE by one- and two-dimensional gel electrophoresis and immunoblotting showed that the nascent apoE is heavily modified with carbohydrate chains containing sialic acid. Finally, our results indicated only weak associations between apoE plasma levels and cognitive performance which further appear to be affected by sex. Whether low plasma apoE levels are associated with structural and functional brain measurements and cognitive performance remains to be investigated. We have previously reported the isoform-specific interaction of native human apolipoprotein E (APOE, gene; apoE, protein) epsilon 3 with the amyloid-ss peptide, Ass(1-40), the major component of the cerebral amyloid deposits that appear to cause Alzheimer's disease. METHODS Using quantitative mass spectrometry we quantified the plasma levels of total apoE and the individual apoE3 and apoE4 isoforms in 128 cognitively normal APOE ε3/ε4 individuals included in the Arizona APOE cohort. CONCLUSIONS Our study proposes a sex-dependent and age-dependent variation in plasma apoE isoform levels and concludes that peripheral apoE levels are associated with GMV, CMRgl and possibly cognitive performance in cognitively healthy individuals with a genetic predisposition to AD. BACKGROUND Carriers of the APOE ε4 allele are at increased risk of developing Alzheimer's disease (AD), and have been shown to have reduced cerebral metabolic rate of glucose (CMRgl) in the same brain areas frequently affected in AD. Additional exploratory analysis revealed several negative associations between total plasma apoE, individual apoE isoform levels, GMV and CMRgl predominantly in the frontal, occipital and temporal areas. These individuals also exhibit reduced plasma levels of apolipoprotein E (apoE) attributed to a specific decrease in the apoE4 isoform as determined by quantification of individual apoE isoforms in APOE ε4 heterozygotes. Peripheral apoE isoform levels in cognitively normal APOE ε3/ε4 individuals are associated with regional gray matter volume and cerebral glucose metabolism. RESULTS The E2, E3 and E4 allele frequencies were 5.7%, 84.0%, and 10.2%, respectively, and differed significantly between ethnic groups. Dietary and lifestyle factors accounted for modest variation in several traits including HDL-C (5.6% and 5.0%, respectively). Additional genetic variants and/or health behaviors likely contribute to ethnic variations in plasma lipid traits. The E4 genotype was associated with higher low-density lipoprotein cholesterol (p for trend<0.001), ApoB (p<0.001), ApoB/ApoA ratio (p<0.001) and lipoprotein (a) (p<0.001), and lower ApoA (p<0.001) and high-density lipoprotein cholesterol (HDL-C) (p=0.005). A similar pattern of effects was observed across all ethnic groups. A beta(1-28) and A beta(1-40) peptides were incubated in the presence or absence of apoE3, apoE4, or bovine serum albumin for 4 d at 37 degrees C (pH 7.3). Unlike purely monofibrillar apoE4/A beta coincubates, apoE3/A beta coincubates also contained double- and triple-stranded structures. We observed that soluble SDS-stable complexes of apoE3 or apoE4, formed by coincubation with A beta peptide, precipitated after several days of incubation at 37 degrees C with apoE4 complexes precipitating more rapidly than apoE3 complexes. Negative stain electron microscopy revealed that the A beta peptide alone self-assembled into twisted ribbons containing two or three strands but occasionally into multistranded sheets. ApoE4/A beta coincubates yielded a denser matrix of monofibrils than apoE3/A beta coincubates. Monofibrils appeared earlier in apoE4/A beta than in apoE3/A beta in time-course experiments. The apoE/A beta coincubates yielded monofibrils 7 nm in diameter. Ethnicity accounted for modest variation in ApoA, ApoB/ApoA ratio and HDL-C (4.2-5.0%), whereas ApoE isoforms explained only a small proportion of variability (0.3-1.4%). BACKGROUND The prevalence of cardiovascular risk factors and atherosclerosis vary between ethnic groups. Relationship of the ApoE polymorphism to plasma lipid traits among South Asians, Chinese, and Europeans living in Canada. Thus apoE3 and apoE4 each interact with beta amyloid peptide to form novel monofibrillar structures, apoE4 more avidly, a finding consistent with the biochemical and genetic association between apoE4 and Alzheimer's disease. Further, apoE-bound cholesterol is highly incorporated in membranous compartments in hippocampal neurons, whereas hippocampal astrocytes show higher intracellular distribution. Hippocampal neurons express high levels of the LDLR related protein (LRP), whereas hippocampal astrocytes are highly positive for LDLR. There was a strong, stepwise association between ApoE and each plasma lipid trait, except triglycerides. This is an effect that coincides with cell-type dependent difference of low density lipoprotein receptor (LDLR) family member expression. In contrast, hippocampal astrocytes show decreased internalization of apoE2-bound cholesterol. In hippocampal neurons, we could find a decreased apoE4-bound cholesterol uptake. In contrary, hippocampal astrocytes show faint apoE2 immunocytostaining intensity. Apolipoprotein E binds avidly to beta amyloid (A beta) peptide, a major component of senile plaque of Alzheimer's disease, in an isoform-specific manner. Both apoE isoforms were shown by immunogold labeling to be uniformly distributed along the A beta peptide monofibrils. The apoE4 isoform binds to A beta peptide more rapidly than apoE3. In addition, lipidated apoE4 is little associated with neurites in hippocampal neurons in comparison to the other two isoforms. CONCLUSIONS The ApoE isoform is associated with plasma lipoproteins in all ethnic groups, yet explains only a small proportion of the inter-ethnic variation for most plasma lipoproteins. Data presented indicate that the role of apoE4 in cholesterol homeostasis and apolipoprotein cell association is more pronounced in hippocampal neurons, showing significant alterations compared to the other two isoforms, suggesting that hippocampal neurons are affected by apoE4 associated altered cholesterol metabolism compared to hippocampal astrocytes. METHODS In a randomly sampled cross-sectional study of 985 South Asian, Chinese, and European Canadians, three common isoforms of ApoE (E2, E3 and E4), plasma lipid concentrations and atherosclerosis of the carotid artery were measured. It has been demonstrated that altered lipid content of hippocampal plasma membrane coincides with the disease. We examined the apolipoprotein E (ApoE) polymorphism, its association with lipid traits and atherosclerosis, and its influence on ethnic variations on lipid traits. Carotid atherosclerosis was lower among individuals with E2 isoform in keeping with the effect of E2 on lipid levels. Apolipoprotein E associates with beta amyloid peptide of Alzheimer's disease to form novel monofibrils. Relevance to Alzheimer's disease. EPR spectra of the spin-labeled side chain report on side chain and backbone dynamics as well as the spatial proximity of spins in an assembly. A vital question centers on the influence of the two predominant isoforms, E3 and E4, on Aβ peptide processing and hence Aβ toxicity. Coupled with SPR binding measurements, apoE3 displays a higher affinity and capacity for the toxic Aβ oligomer. The molecular pathogenesis of disorders arising from protein misfolding and aggregation is difficult to elucidate, involving a complex ensemble of intermediates, whose toxicity depends upon their state of progression along distinct processing pathways. From the three common alleles (epsilon2, epsilon3 and epsilon4), epsilon4 has been suggested to promote amyloid beta (Ass) plaque fibrillation, one hallmark of Alzheimer's disease. A differential association of Apolipoprotein E isoforms with the amyloid-β oligomer in solution. In this study, we show for the first time that the apoE dependent cholesterol metabolism in hippocampal neurons is higher than that of hippocampal astrocytes. Isoform apoE4 associates more efficiently than apoE3. Implication of apoE isoforms in cholesterol metabolism by primary rat hippocampal neurons and astrocytes. The level of the apoE3.A beta complex was approximately 20-fold greater than that of the apoE4.A beta complex. Isoform-specific binding of apolipoprotein E to beta-amyloid. 90, 8098-8102). U. S. A. Acad. Natl. Sci.\n"
     ]
    }
   ],
   "source": [
    "context = \" \".join([snip['text'] for snip in pmids_result['questions'][0]['snippets']])\n",
    "print(context)"
   ]
  },
  {
   "cell_type": "code",
   "execution_count": 10,
   "metadata": {},
   "outputs": [
    {
     "name": "stdout",
     "output_type": "stream",
     "text": [
      "{u'drugs': [{u'pubmedid': 2020, u'label': u'Drug1'}], u'proteins': [], u'phenotypes': [{u'pubmedid': 2020, u'label': u'Pheno'}], u'disorders': [{u'pubmedid': 2020, u'label': u'Disorder1'}, {u'pubmedid': 2021, u'label': u'Disorder2'}]}\n"
     ]
    }
   ],
   "source": [
    "LUH_URL = \"http://0.0.0.0:5001/qa_service\"\n",
    "r = requests.post(LUH_URL, headers={\"content-type\":\"application/json\"}, \n",
    "                  json={\"ids\":[ID, ID]})\n",
    "pmids_result = r.json()\n",
    "print(pmids_result)"
   ]
  },
  {
   "cell_type": "code",
   "execution_count": 11,
   "metadata": {},
   "outputs": [
    {
     "data": {
      "text/plain": [
       "{'ID': '123123',\n",
       " u'disorders': [{u'label': u'Disorder1', u'pubmedid': 2020},\n",
       "  {u'label': u'Disorder2', u'pubmedid': 2021}],\n",
       " u'drugs': [{u'label': u'Drug1', u'pubmedid': 2020}],\n",
       " u'phenotypes': [{u'label': u'Pheno', u'pubmedid': 2020}],\n",
       " u'proteins': []}"
      ]
     },
     "execution_count": 11,
     "metadata": {},
     "output_type": "execute_result"
    }
   ],
   "source": [
    "doc = {\"ID\":ID}\n",
    "doc.update(pmids_result)\n",
    "doc"
   ]
  },
  {
   "cell_type": "code",
   "execution_count": 76,
   "metadata": {},
   "outputs": [
    {
     "name": "stdout",
     "output_type": "stream",
     "text": [
      "{u'Final_Answer': [u'no', [-0.2563924193382263]]}\n"
     ]
    }
   ],
   "source": [
    "BERT_URL = \"http://143.233.226.57:9000/answer_factoid_bert\"\n",
    "r = requests.post(BERT_URL, headers={\"content-type\":\"application/json\"}, \n",
    "                  json={\"ID\":ID, \"text\":\"Are the human bombesin receptors, GRPR and NMBR, frequently overexpressed G-protein-coupled-receptors by lung-cancers?\",\n",
    "                        \"context\":context})\n",
    "bert_result = r.json()\n",
    "print(bert_result)"
   ]
  },
  {
   "cell_type": "code",
   "execution_count": 16,
   "metadata": {},
   "outputs": [],
   "source": [
    "txt = \"BACKGROUND:Chemokines are well known inflammatory factors critical for tumor development in diverse tissues, including lung cancer. Chemokine (C-C motif) Ligand 2 (CCL2) was one of such chemokines important for both primary tumor development and metastasis of various cancers. Polymorphism at rs3760396 of CCL2 genes is associated with the prognosis of non-small cell lung cancer (NSCLC). The goal of our study was to examine the relationship of genetic polymorphisms rs3760396 with the susceptibility of lung cancer and its pathological subtypes in Han-ancestry Chinese population.METHODS:rs3760396 G/C polymorphism of CCL2 was genotyped using PCR in 394 patients with lung cancer and 545 cancer-free controls from the same Northeast region of China.RESULTS:After controlling for gender, age and smoking status, no significant association was observed between rs3760396 polymorphism and overall lung cancer. However, minor allele G of rs3760396 polymorphism was significantly associated with increased risk of adenosquamous lung carcinoma with either allelic genetic model (OR = 5.29, P < 0.001), or dominant genetic model (OR = 9.88, P < 0.001), or genotypic model (GC genotype vs. CC genotype, OR = 10.73, P < 0.001). Although rs3760396 polymorphism was not significantly associated with increased risk of adenocarcinoma subtype, it was nominally associated with the pooled outcome of either adenocarcinoma or adenosquamous carcinoma under allelic genetic model (OR = 1.54, P = 0.023) or dominant genetic model (OR = 1.57, P = 0.031).CONCLUSIONS:Our study suggested rs3760396 polymorphism of CCL2 is associated not only with prognosis of NSCLC, but also with risk of lung cancer in a subtype-specific manner. Our results further supported previous evidence of the important role of CCL2 in lung cancer development.\""
   ]
  },
  {
   "cell_type": "code",
   "execution_count": 3,
   "metadata": {},
   "outputs": [],
   "source": [
    "import json\n",
    "with open('../AD_questions.json', 'r') as f:\n",
    "    questions = json.load(f)['questions']\n",
    "with open('../LC_questions.json', 'r') as f:\n",
    "    questions += json.load(f)['questions']"
   ]
  },
  {
   "cell_type": "code",
   "execution_count": 4,
   "metadata": {},
   "outputs": [
    {
     "data": {
      "text/plain": [
       "Counter({u'factoid': 8, u'list': 7, u'summary': 8, u'yesno': 16})"
      ]
     },
     "execution_count": 4,
     "metadata": {},
     "output_type": "execute_result"
    }
   ],
   "source": [
    "from collections import Counter\n",
    "Counter([q['type'] for q in questions])"
   ]
  },
  {
   "cell_type": "code",
   "execution_count": 14,
   "metadata": {},
   "outputs": [],
   "source": [
    "from pymongo import MongoClient\n",
    "client = MongoClient('mongodb://localhost:27017/')\n",
    "db = client['Neo4j']\n",
    "collection = db['IASIS_QA']"
   ]
  },
  {
   "cell_type": "code",
   "execution_count": 1,
   "metadata": {},
   "outputs": [
    {
     "name": "stdout",
     "output_type": "stream",
     "text": [
      "\n",
      "/usr/lib/python2.7\n",
      "/usr/lib/python2.7/plat-x86_64-linux-gnu\n",
      "/usr/lib/python2.7/lib-tk\n",
      "/usr/lib/python2.7/lib-old\n",
      "/usr/lib/python2.7/lib-dynload\n",
      "/home/kostas/.local/lib/python2.7/site-packages\n",
      "/media/kostas/DATA/GIT/hyperopt-sklearn\n",
      "/usr/local/lib/python2.7/dist-packages\n",
      "/usr/local/lib/python2.7/dist-packages/spotlight-0.1.5-py2.7.egg\n",
      "/usr/local/lib/python2.7/dist-packages/pygpu-0.7.6+2.g5ceeb8e-py2.7-linux-x86_64.egg\n",
      "/usr/local/lib/python2.7/dist-packages/Mako-1.0.7-py2.7.egg\n",
      "/usr/local/lib/python2.7/dist-packages/polylearn-0.1.dev0-py2.7-linux-x86_64.egg\n",
      "/usr/lib/python2.7/dist-packages\n",
      "/usr/lib/python2.7/dist-packages/gtk-2.0\n",
      "/home/kostas/.local/lib/python2.7/site-packages/IPython/extensions\n",
      "/home/kostas/.ipython\n",
      "/usr/bin/python\n"
     ]
    }
   ],
   "source": [
    "import sys\n",
    "for item in sys.path:\n",
    "    print(item)\n",
    "print(sys.executable)\n"
   ]
  },
  {
   "cell_type": "code",
   "execution_count": 4,
   "metadata": {},
   "outputs": [],
   "source": [
    "from pymongo import MongoClient\n",
    "client = MongoClient('mongodb://localhost:27017/')\n",
    "db = client['Neo4j']\n",
    "collection = db['IASIS_QA']\n",
    "for q in questions:\n",
    "    if q['type'] in ['factoid', 'yesno']:\n",
    "        sample = {\"ID\":q['id'], 'question':q[\"body\"], 'type':q['type']}\n",
    "        try:\n",
    "            sample[\"exact_answer\"] = q[\"exact_answer\"]\n",
    "        except KeyError:\n",
    "            sample[\"exact_answer\"] = \"\"\n",
    "        try:\n",
    "            sample[\"ideal_answer\"] = q[\"ideal_answer\"]\n",
    "        except KeyError:\n",
    "            sample[\"ideal_answer\"] = \"\"\n",
    "        collection.insert_one(sample)"
   ]
  },
  {
   "cell_type": "code",
   "execution_count": 8,
   "metadata": {},
   "outputs": [
    {
     "data": {
      "text/plain": [
       "<Response [500]>"
      ]
     },
     "execution_count": 8,
     "metadata": {},
     "output_type": "execute_result"
    }
   ],
   "source": [
    "r"
   ]
  },
  {
   "cell_type": "code",
   "execution_count": 9,
   "metadata": {},
   "outputs": [
    {
     "data": {
      "application/vnd.jupyter.widget-view+json": {
       "model_id": "88132b2c74dc41059655a20dd493e043",
       "version_major": 2,
       "version_minor": 0
      },
      "text/plain": [
       "HBox(children=(IntProgress(value=1, bar_style=u'info', max=1), HTML(value=u'')))"
      ]
     },
     "metadata": {},
     "output_type": "display_data"
    },
    {
     "name": "stdout",
     "output_type": "stream",
     "text": [
      "Is the ACE inhibitor indicated for lung cancer treatment?\n",
      "True: no | Pred: no\n",
      "\n",
      "\n",
      "Are the human bombesin receptors, GRPR and NMBR, frequently overexpressed G-protein-coupled-receptors by lung-cancers?\n",
      "True: yes | Pred: yes\n",
      "\n",
      "\n",
      "Is TREM2 associated with Alzheimer's disease in humans?\n",
      "True: yes | Pred: no\n",
      "\n",
      "\n",
      "Is bapineuzumab effective for treatment of patients with Alzheimer's disease?\n",
      "True: no | Pred: yes\n",
      "\n",
      "\n",
      "Is TREM2 associated with Alzheimer's disease?\n",
      "True: yes | Pred: yes\n",
      "\n",
      "\n",
      "Does Apolipoprotein E (ApoE) have anti-inflammatory activity?\n",
      "True: yes | Pred: no\n",
      "\n",
      "\n",
      "Is there any research that relates the function of Notch Signaling with Alzheimer Disease?\n",
      "True: yes | Pred: no\n",
      "\n",
      "\n",
      "Can Alzheimer's disease related miRNAs be detected in patients' blood?\n",
      "True: yes | Pred: yes\n",
      "\n",
      "\n",
      "Can we use platelet biomarkers to study Alzheimer's disease?\n",
      "True: yes | Pred: no\n",
      "\n",
      "\n",
      "Has whole exome sequencing been performed in Alzheimer patients?\n",
      "True: yes | Pred: yes\n",
      "\n",
      "\n",
      "What is the role of gamma-secreatase complex in Alzheimer's Disease?\n",
      "True: [u'cleaves a precursor protein to create the amyloid beta peptide'] | Pred: presenilin,\n",
      "\n",
      "\n",
      "Which ApoE isoform is associated with atherosclerosis and Alzheimer's disease?\n",
      "True: [u'ApoE4 isoform', u'Apolipoprotein E4 isoform'] | Pred: apoE2\n",
      "\n",
      "\n",
      "What is the administration route of IVIG in Alzheimer's disease patients?\n",
      "True: [u'Intravenous'] | Pred: multiple myeloma and parvovirus B19\n",
      "\n",
      "\n",
      "Has IVIG been tested in clinical trials for the treatment of Alzheimer's disease?\n",
      "True: yes | Pred: no\n",
      "\n",
      "\n",
      "Was saracatinib being considered as a treatment for Alzheimer's disease in November 2017?\n",
      "True: yes | Pred: yes\n",
      "\n",
      "\n",
      "Is Solanezumab effective for Alzheimer's Disease?\n",
      "True: no | Pred: yes\n",
      "\n",
      "\n",
      "What is the association of the protein RAB10 and Alzheimers disease?\n",
      "True: [u'RAB10 may be potential biomarkers of AD'] | Pred: type 2 diabetes mellitus\n",
      "\n",
      "\n",
      "Mutation of which gene is implicated in the Brain-lung-thyroid syndrome?\n",
      "True: [u'thyroid transcription factor 1'] | Pred: p53\n",
      "\n",
      "\n",
      "Which type of lung cancer is the most strongly associated with Lambert-Eaton syndrome?\n",
      "True: [u'small-cell lung cancer'] | Pred: Small-cell lung cancer\n",
      "\n",
      "\n",
      "Is there a role for the cylindromatosis tumor suppressor (CYLD) in lung cancer?\n",
      "True: yes | Pred: yes\n",
      "\n",
      "\n",
      "Is nivolumab used for treatment of Non–Small-Cell Lung Cancer?\n",
      "True: yes | Pred: no\n",
      "\n",
      "\n",
      "Which type of lung cancer is afatinib used for?\n",
      "True: [u'EGFR-mutant non small cell lung carcinoma', u'EGFR-mutant NSCLC'] | Pred: gefitinib\n",
      "\n",
      "\n",
      "Are DNA methylation maps applicable to the diagnosis of non-small-cell lung carcinomas?\n",
      "True: yes | Pred: no\n",
      "\n",
      "\n",
      "What causes Black Lung?\n",
      "True: [u'Chronic exposure to coal dust'] | Pred: carbon black\n",
      "\n",
      "\n",
      "\n"
     ]
    }
   ],
   "source": [
    "docker_url = \"http://localhost:5000/predict_id\"\n",
    "\n",
    "import tqdm\n",
    "import requests\n",
    "for q in tqdm.tqdm_notebook(collection.find({\"$or\":[ {\"type\":\"yesno\"}, \n",
    "                                                     {\"type\":\"factoid\"},\n",
    "                                                     {\"type\":\"list\"}]})):\n",
    "    print(q['question'])\n",
    "    docker_url = \"http://localhost:5000/predict_id\"\n",
    "    r = requests.post(docker_url, headers={\"content-type\":\"application/json\"}, \n",
    "                  json={\"ID\":q['ID']})\n",
    "    pmids_result = r.json()\n",
    "    #print(pmids_result)\n",
    "    q1 = collection.find_one({\"ID\":q['ID']})\n",
    "    print(\"True: %s | Pred: %s\" %(q['exact_answer'], q1['Final_Answer']))\n",
    "    print('\\n')"
   ]
  },
  {
   "cell_type": "code",
   "execution_count": 42,
   "metadata": {},
   "outputs": [],
   "source": [
    "questions_yesno = []\n",
    "for item in collection.find({\"type\":\"yesno\"}):\n",
    "    questions_yesno.append(item)"
   ]
  },
  {
   "cell_type": "code",
   "execution_count": 44,
   "metadata": {},
   "outputs": [
    {
     "data": {
      "application/vnd.jupyter.widget-view+json": {
       "model_id": "9241c560a26e4444bf85a57fd0bce37c",
       "version_major": 2,
       "version_minor": 0
      },
      "text/plain": [
       "HBox(children=(IntProgress(value=0, max=9), HTML(value=u'')))"
      ]
     },
     "metadata": {},
     "output_type": "display_data"
    },
    {
     "name": "stdout",
     "output_type": "stream",
     "text": [
      "Can Alzheimer's disease related miRNAs be detected in patients' blood?\n",
      "True: yes     |    Pred: yes\n",
      "\n",
      "\n",
      "Can we use platelet biomarkers to study Alzheimer's disease?\n",
      "True: yes     |    Pred: yes\n",
      "\n",
      "\n",
      "Has whole exome sequencing been performed in Alzheimer patients?\n"
     ]
    },
    {
     "ename": "KeyboardInterrupt",
     "evalue": "",
     "output_type": "error",
     "traceback": [
      "\u001b[0;31m---------------------------------------------------------------------------\u001b[0m",
      "\u001b[0;31mKeyboardInterrupt\u001b[0m                         Traceback (most recent call last)",
      "\u001b[0;32m<ipython-input-44-13a862e6ac44>\u001b[0m in \u001b[0;36m<module>\u001b[0;34m()\u001b[0m\n\u001b[1;32m      9\u001b[0m         \u001b[0mPHASE_A_URL\u001b[0m \u001b[0;34m=\u001b[0m \u001b[0;34m\"http://143.233.226.57:9000/answer_text_with_id\"\u001b[0m\u001b[0;34m\u001b[0m\u001b[0;34m\u001b[0m\u001b[0m\n\u001b[1;32m     10\u001b[0m         r = requests.post(PHASE_A_URL, headers={\"content-type\":\"application/json\"}, \n\u001b[0;32m---> 11\u001b[0;31m                           json={\"text\": q['question'], 'ID':\"123\"})\n\u001b[0m\u001b[1;32m     12\u001b[0m         \u001b[0mpmids_result\u001b[0m \u001b[0;34m=\u001b[0m \u001b[0mr\u001b[0m\u001b[0;34m.\u001b[0m\u001b[0mjson\u001b[0m\u001b[0;34m(\u001b[0m\u001b[0;34m)\u001b[0m\u001b[0;34m\u001b[0m\u001b[0;34m\u001b[0m\u001b[0m\n\u001b[1;32m     13\u001b[0m         \u001b[0mcontext\u001b[0m \u001b[0;34m=\u001b[0m \u001b[0;34m\" \"\u001b[0m\u001b[0;34m.\u001b[0m\u001b[0mjoin\u001b[0m\u001b[0;34m(\u001b[0m\u001b[0;34m[\u001b[0m\u001b[0msnip\u001b[0m\u001b[0;34m[\u001b[0m\u001b[0;34m'text'\u001b[0m\u001b[0;34m]\u001b[0m \u001b[0;32mfor\u001b[0m \u001b[0msnip\u001b[0m \u001b[0;32min\u001b[0m \u001b[0mpmids_result\u001b[0m\u001b[0;34m[\u001b[0m\u001b[0;34m'questions'\u001b[0m\u001b[0;34m]\u001b[0m\u001b[0;34m[\u001b[0m\u001b[0;36m0\u001b[0m\u001b[0;34m]\u001b[0m\u001b[0;34m[\u001b[0m\u001b[0;34m'snippets'\u001b[0m\u001b[0;34m]\u001b[0m\u001b[0;34m]\u001b[0m\u001b[0;34m)\u001b[0m\u001b[0;34m\u001b[0m\u001b[0;34m\u001b[0m\u001b[0m\n",
      "\u001b[0;32m/home/kostas/.local/lib/python2.7/site-packages/requests/api.pyc\u001b[0m in \u001b[0;36mpost\u001b[0;34m(url, data, json, **kwargs)\u001b[0m\n\u001b[1;32m    114\u001b[0m     \"\"\"\n\u001b[1;32m    115\u001b[0m \u001b[0;34m\u001b[0m\u001b[0m\n\u001b[0;32m--> 116\u001b[0;31m     \u001b[0;32mreturn\u001b[0m \u001b[0mrequest\u001b[0m\u001b[0;34m(\u001b[0m\u001b[0;34m'post'\u001b[0m\u001b[0;34m,\u001b[0m \u001b[0murl\u001b[0m\u001b[0;34m,\u001b[0m \u001b[0mdata\u001b[0m\u001b[0;34m=\u001b[0m\u001b[0mdata\u001b[0m\u001b[0;34m,\u001b[0m \u001b[0mjson\u001b[0m\u001b[0;34m=\u001b[0m\u001b[0mjson\u001b[0m\u001b[0;34m,\u001b[0m \u001b[0;34m**\u001b[0m\u001b[0mkwargs\u001b[0m\u001b[0;34m)\u001b[0m\u001b[0;34m\u001b[0m\u001b[0;34m\u001b[0m\u001b[0m\n\u001b[0m\u001b[1;32m    117\u001b[0m \u001b[0;34m\u001b[0m\u001b[0m\n\u001b[1;32m    118\u001b[0m \u001b[0;34m\u001b[0m\u001b[0m\n",
      "\u001b[0;32m/home/kostas/.local/lib/python2.7/site-packages/requests/api.pyc\u001b[0m in \u001b[0;36mrequest\u001b[0;34m(method, url, **kwargs)\u001b[0m\n\u001b[1;32m     58\u001b[0m     \u001b[0;31m# cases, and look like a memory leak in others.\u001b[0m\u001b[0;34m\u001b[0m\u001b[0;34m\u001b[0m\u001b[0;34m\u001b[0m\u001b[0m\n\u001b[1;32m     59\u001b[0m     \u001b[0;32mwith\u001b[0m \u001b[0msessions\u001b[0m\u001b[0;34m.\u001b[0m\u001b[0mSession\u001b[0m\u001b[0;34m(\u001b[0m\u001b[0;34m)\u001b[0m \u001b[0;32mas\u001b[0m \u001b[0msession\u001b[0m\u001b[0;34m:\u001b[0m\u001b[0;34m\u001b[0m\u001b[0;34m\u001b[0m\u001b[0m\n\u001b[0;32m---> 60\u001b[0;31m         \u001b[0;32mreturn\u001b[0m \u001b[0msession\u001b[0m\u001b[0;34m.\u001b[0m\u001b[0mrequest\u001b[0m\u001b[0;34m(\u001b[0m\u001b[0mmethod\u001b[0m\u001b[0;34m=\u001b[0m\u001b[0mmethod\u001b[0m\u001b[0;34m,\u001b[0m \u001b[0murl\u001b[0m\u001b[0;34m=\u001b[0m\u001b[0murl\u001b[0m\u001b[0;34m,\u001b[0m \u001b[0;34m**\u001b[0m\u001b[0mkwargs\u001b[0m\u001b[0;34m)\u001b[0m\u001b[0;34m\u001b[0m\u001b[0;34m\u001b[0m\u001b[0m\n\u001b[0m\u001b[1;32m     61\u001b[0m \u001b[0;34m\u001b[0m\u001b[0m\n\u001b[1;32m     62\u001b[0m \u001b[0;34m\u001b[0m\u001b[0m\n",
      "\u001b[0;32m/home/kostas/.local/lib/python2.7/site-packages/requests/sessions.pyc\u001b[0m in \u001b[0;36mrequest\u001b[0;34m(self, method, url, params, data, headers, cookies, files, auth, timeout, allow_redirects, proxies, hooks, stream, verify, cert, json)\u001b[0m\n\u001b[1;32m    531\u001b[0m         }\n\u001b[1;32m    532\u001b[0m         \u001b[0msend_kwargs\u001b[0m\u001b[0;34m.\u001b[0m\u001b[0mupdate\u001b[0m\u001b[0;34m(\u001b[0m\u001b[0msettings\u001b[0m\u001b[0;34m)\u001b[0m\u001b[0;34m\u001b[0m\u001b[0;34m\u001b[0m\u001b[0m\n\u001b[0;32m--> 533\u001b[0;31m         \u001b[0mresp\u001b[0m \u001b[0;34m=\u001b[0m \u001b[0mself\u001b[0m\u001b[0;34m.\u001b[0m\u001b[0msend\u001b[0m\u001b[0;34m(\u001b[0m\u001b[0mprep\u001b[0m\u001b[0;34m,\u001b[0m \u001b[0;34m**\u001b[0m\u001b[0msend_kwargs\u001b[0m\u001b[0;34m)\u001b[0m\u001b[0;34m\u001b[0m\u001b[0;34m\u001b[0m\u001b[0m\n\u001b[0m\u001b[1;32m    534\u001b[0m \u001b[0;34m\u001b[0m\u001b[0m\n\u001b[1;32m    535\u001b[0m         \u001b[0;32mreturn\u001b[0m \u001b[0mresp\u001b[0m\u001b[0;34m\u001b[0m\u001b[0;34m\u001b[0m\u001b[0m\n",
      "\u001b[0;32m/home/kostas/.local/lib/python2.7/site-packages/requests/sessions.pyc\u001b[0m in \u001b[0;36msend\u001b[0;34m(self, request, **kwargs)\u001b[0m\n\u001b[1;32m    644\u001b[0m \u001b[0;34m\u001b[0m\u001b[0m\n\u001b[1;32m    645\u001b[0m         \u001b[0;31m# Send the request\u001b[0m\u001b[0;34m\u001b[0m\u001b[0;34m\u001b[0m\u001b[0;34m\u001b[0m\u001b[0m\n\u001b[0;32m--> 646\u001b[0;31m         \u001b[0mr\u001b[0m \u001b[0;34m=\u001b[0m \u001b[0madapter\u001b[0m\u001b[0;34m.\u001b[0m\u001b[0msend\u001b[0m\u001b[0;34m(\u001b[0m\u001b[0mrequest\u001b[0m\u001b[0;34m,\u001b[0m \u001b[0;34m**\u001b[0m\u001b[0mkwargs\u001b[0m\u001b[0;34m)\u001b[0m\u001b[0;34m\u001b[0m\u001b[0;34m\u001b[0m\u001b[0m\n\u001b[0m\u001b[1;32m    647\u001b[0m \u001b[0;34m\u001b[0m\u001b[0m\n\u001b[1;32m    648\u001b[0m         \u001b[0;31m# Total elapsed time of the request (approximately)\u001b[0m\u001b[0;34m\u001b[0m\u001b[0;34m\u001b[0m\u001b[0;34m\u001b[0m\u001b[0m\n",
      "\u001b[0;32m/home/kostas/.local/lib/python2.7/site-packages/requests/adapters.pyc\u001b[0m in \u001b[0;36msend\u001b[0;34m(self, request, stream, timeout, verify, cert, proxies)\u001b[0m\n\u001b[1;32m    447\u001b[0m                     \u001b[0mdecode_content\u001b[0m\u001b[0;34m=\u001b[0m\u001b[0mFalse\u001b[0m\u001b[0;34m,\u001b[0m\u001b[0;34m\u001b[0m\u001b[0;34m\u001b[0m\u001b[0m\n\u001b[1;32m    448\u001b[0m                     \u001b[0mretries\u001b[0m\u001b[0;34m=\u001b[0m\u001b[0mself\u001b[0m\u001b[0;34m.\u001b[0m\u001b[0mmax_retries\u001b[0m\u001b[0;34m,\u001b[0m\u001b[0;34m\u001b[0m\u001b[0;34m\u001b[0m\u001b[0m\n\u001b[0;32m--> 449\u001b[0;31m                     \u001b[0mtimeout\u001b[0m\u001b[0;34m=\u001b[0m\u001b[0mtimeout\u001b[0m\u001b[0;34m\u001b[0m\u001b[0;34m\u001b[0m\u001b[0m\n\u001b[0m\u001b[1;32m    450\u001b[0m                 )\n\u001b[1;32m    451\u001b[0m \u001b[0;34m\u001b[0m\u001b[0m\n",
      "\u001b[0;32m/home/kostas/.local/lib/python2.7/site-packages/urllib3/connectionpool.pyc\u001b[0m in \u001b[0;36murlopen\u001b[0;34m(self, method, url, body, headers, retries, redirect, assert_same_host, timeout, pool_timeout, release_conn, chunked, body_pos, **response_kw)\u001b[0m\n\u001b[1;32m    601\u001b[0m                                                   \u001b[0mtimeout\u001b[0m\u001b[0;34m=\u001b[0m\u001b[0mtimeout_obj\u001b[0m\u001b[0;34m,\u001b[0m\u001b[0;34m\u001b[0m\u001b[0;34m\u001b[0m\u001b[0m\n\u001b[1;32m    602\u001b[0m                                                   \u001b[0mbody\u001b[0m\u001b[0;34m=\u001b[0m\u001b[0mbody\u001b[0m\u001b[0;34m,\u001b[0m \u001b[0mheaders\u001b[0m\u001b[0;34m=\u001b[0m\u001b[0mheaders\u001b[0m\u001b[0;34m,\u001b[0m\u001b[0;34m\u001b[0m\u001b[0;34m\u001b[0m\u001b[0m\n\u001b[0;32m--> 603\u001b[0;31m                                                   chunked=chunked)\n\u001b[0m\u001b[1;32m    604\u001b[0m \u001b[0;34m\u001b[0m\u001b[0m\n\u001b[1;32m    605\u001b[0m             \u001b[0;31m# If we're going to release the connection in ``finally:``, then\u001b[0m\u001b[0;34m\u001b[0m\u001b[0;34m\u001b[0m\u001b[0;34m\u001b[0m\u001b[0m\n",
      "\u001b[0;32m/home/kostas/.local/lib/python2.7/site-packages/urllib3/connectionpool.pyc\u001b[0m in \u001b[0;36m_make_request\u001b[0;34m(self, conn, method, url, timeout, chunked, **httplib_request_kw)\u001b[0m\n\u001b[1;32m    377\u001b[0m             \u001b[0;32mtry\u001b[0m\u001b[0;34m:\u001b[0m\u001b[0;34m\u001b[0m\u001b[0;34m\u001b[0m\u001b[0m\n\u001b[1;32m    378\u001b[0m                 \u001b[0;31m# Python 2.7, use buffering of HTTP responses\u001b[0m\u001b[0;34m\u001b[0m\u001b[0;34m\u001b[0m\u001b[0;34m\u001b[0m\u001b[0m\n\u001b[0;32m--> 379\u001b[0;31m                 \u001b[0mhttplib_response\u001b[0m \u001b[0;34m=\u001b[0m \u001b[0mconn\u001b[0m\u001b[0;34m.\u001b[0m\u001b[0mgetresponse\u001b[0m\u001b[0;34m(\u001b[0m\u001b[0mbuffering\u001b[0m\u001b[0;34m=\u001b[0m\u001b[0mTrue\u001b[0m\u001b[0;34m)\u001b[0m\u001b[0;34m\u001b[0m\u001b[0;34m\u001b[0m\u001b[0m\n\u001b[0m\u001b[1;32m    380\u001b[0m             \u001b[0;32mexcept\u001b[0m \u001b[0mTypeError\u001b[0m\u001b[0;34m:\u001b[0m\u001b[0;34m\u001b[0m\u001b[0;34m\u001b[0m\u001b[0m\n\u001b[1;32m    381\u001b[0m                 \u001b[0;31m# Python 3\u001b[0m\u001b[0;34m\u001b[0m\u001b[0;34m\u001b[0m\u001b[0;34m\u001b[0m\u001b[0m\n",
      "\u001b[0;32m/usr/lib/python2.7/httplib.pyc\u001b[0m in \u001b[0;36mgetresponse\u001b[0;34m(self, buffering)\u001b[0m\n\u001b[1;32m   1135\u001b[0m \u001b[0;34m\u001b[0m\u001b[0m\n\u001b[1;32m   1136\u001b[0m         \u001b[0;32mtry\u001b[0m\u001b[0;34m:\u001b[0m\u001b[0;34m\u001b[0m\u001b[0;34m\u001b[0m\u001b[0m\n\u001b[0;32m-> 1137\u001b[0;31m             \u001b[0mresponse\u001b[0m\u001b[0;34m.\u001b[0m\u001b[0mbegin\u001b[0m\u001b[0;34m(\u001b[0m\u001b[0;34m)\u001b[0m\u001b[0;34m\u001b[0m\u001b[0;34m\u001b[0m\u001b[0m\n\u001b[0m\u001b[1;32m   1138\u001b[0m             \u001b[0;32massert\u001b[0m \u001b[0mresponse\u001b[0m\u001b[0;34m.\u001b[0m\u001b[0mwill_close\u001b[0m \u001b[0;34m!=\u001b[0m \u001b[0m_UNKNOWN\u001b[0m\u001b[0;34m\u001b[0m\u001b[0;34m\u001b[0m\u001b[0m\n\u001b[1;32m   1139\u001b[0m             \u001b[0mself\u001b[0m\u001b[0;34m.\u001b[0m\u001b[0m__state\u001b[0m \u001b[0;34m=\u001b[0m \u001b[0m_CS_IDLE\u001b[0m\u001b[0;34m\u001b[0m\u001b[0;34m\u001b[0m\u001b[0m\n",
      "\u001b[0;32m/usr/lib/python2.7/httplib.pyc\u001b[0m in \u001b[0;36mbegin\u001b[0;34m(self)\u001b[0m\n\u001b[1;32m    446\u001b[0m         \u001b[0;31m# read until we get a non-100 response\u001b[0m\u001b[0;34m\u001b[0m\u001b[0;34m\u001b[0m\u001b[0;34m\u001b[0m\u001b[0m\n\u001b[1;32m    447\u001b[0m         \u001b[0;32mwhile\u001b[0m \u001b[0mTrue\u001b[0m\u001b[0;34m:\u001b[0m\u001b[0;34m\u001b[0m\u001b[0;34m\u001b[0m\u001b[0m\n\u001b[0;32m--> 448\u001b[0;31m             \u001b[0mversion\u001b[0m\u001b[0;34m,\u001b[0m \u001b[0mstatus\u001b[0m\u001b[0;34m,\u001b[0m \u001b[0mreason\u001b[0m \u001b[0;34m=\u001b[0m \u001b[0mself\u001b[0m\u001b[0;34m.\u001b[0m\u001b[0m_read_status\u001b[0m\u001b[0;34m(\u001b[0m\u001b[0;34m)\u001b[0m\u001b[0;34m\u001b[0m\u001b[0;34m\u001b[0m\u001b[0m\n\u001b[0m\u001b[1;32m    449\u001b[0m             \u001b[0;32mif\u001b[0m \u001b[0mstatus\u001b[0m \u001b[0;34m!=\u001b[0m \u001b[0mCONTINUE\u001b[0m\u001b[0;34m:\u001b[0m\u001b[0;34m\u001b[0m\u001b[0;34m\u001b[0m\u001b[0m\n\u001b[1;32m    450\u001b[0m                 \u001b[0;32mbreak\u001b[0m\u001b[0;34m\u001b[0m\u001b[0;34m\u001b[0m\u001b[0m\n",
      "\u001b[0;32m/usr/lib/python2.7/httplib.pyc\u001b[0m in \u001b[0;36m_read_status\u001b[0;34m(self)\u001b[0m\n\u001b[1;32m    402\u001b[0m     \u001b[0;32mdef\u001b[0m \u001b[0m_read_status\u001b[0m\u001b[0;34m(\u001b[0m\u001b[0mself\u001b[0m\u001b[0;34m)\u001b[0m\u001b[0;34m:\u001b[0m\u001b[0;34m\u001b[0m\u001b[0;34m\u001b[0m\u001b[0m\n\u001b[1;32m    403\u001b[0m         \u001b[0;31m# Initialize with Simple-Response defaults\u001b[0m\u001b[0;34m\u001b[0m\u001b[0;34m\u001b[0m\u001b[0;34m\u001b[0m\u001b[0m\n\u001b[0;32m--> 404\u001b[0;31m         \u001b[0mline\u001b[0m \u001b[0;34m=\u001b[0m \u001b[0mself\u001b[0m\u001b[0;34m.\u001b[0m\u001b[0mfp\u001b[0m\u001b[0;34m.\u001b[0m\u001b[0mreadline\u001b[0m\u001b[0;34m(\u001b[0m\u001b[0m_MAXLINE\u001b[0m \u001b[0;34m+\u001b[0m \u001b[0;36m1\u001b[0m\u001b[0;34m)\u001b[0m\u001b[0;34m\u001b[0m\u001b[0;34m\u001b[0m\u001b[0m\n\u001b[0m\u001b[1;32m    405\u001b[0m         \u001b[0;32mif\u001b[0m \u001b[0mlen\u001b[0m\u001b[0;34m(\u001b[0m\u001b[0mline\u001b[0m\u001b[0;34m)\u001b[0m \u001b[0;34m>\u001b[0m \u001b[0m_MAXLINE\u001b[0m\u001b[0;34m:\u001b[0m\u001b[0;34m\u001b[0m\u001b[0;34m\u001b[0m\u001b[0m\n\u001b[1;32m    406\u001b[0m             \u001b[0;32mraise\u001b[0m \u001b[0mLineTooLong\u001b[0m\u001b[0;34m(\u001b[0m\u001b[0;34m\"header line\"\u001b[0m\u001b[0;34m)\u001b[0m\u001b[0;34m\u001b[0m\u001b[0;34m\u001b[0m\u001b[0m\n",
      "\u001b[0;32m/usr/lib/python2.7/socket.pyc\u001b[0m in \u001b[0;36mreadline\u001b[0;34m(self, size)\u001b[0m\n\u001b[1;32m    478\u001b[0m             \u001b[0;32mwhile\u001b[0m \u001b[0mTrue\u001b[0m\u001b[0;34m:\u001b[0m\u001b[0;34m\u001b[0m\u001b[0;34m\u001b[0m\u001b[0m\n\u001b[1;32m    479\u001b[0m                 \u001b[0;32mtry\u001b[0m\u001b[0;34m:\u001b[0m\u001b[0;34m\u001b[0m\u001b[0;34m\u001b[0m\u001b[0m\n\u001b[0;32m--> 480\u001b[0;31m                     \u001b[0mdata\u001b[0m \u001b[0;34m=\u001b[0m \u001b[0mself\u001b[0m\u001b[0;34m.\u001b[0m\u001b[0m_sock\u001b[0m\u001b[0;34m.\u001b[0m\u001b[0mrecv\u001b[0m\u001b[0;34m(\u001b[0m\u001b[0mself\u001b[0m\u001b[0;34m.\u001b[0m\u001b[0m_rbufsize\u001b[0m\u001b[0;34m)\u001b[0m\u001b[0;34m\u001b[0m\u001b[0;34m\u001b[0m\u001b[0m\n\u001b[0m\u001b[1;32m    481\u001b[0m                 \u001b[0;32mexcept\u001b[0m \u001b[0merror\u001b[0m\u001b[0;34m,\u001b[0m \u001b[0me\u001b[0m\u001b[0;34m:\u001b[0m\u001b[0;34m\u001b[0m\u001b[0;34m\u001b[0m\u001b[0m\n\u001b[1;32m    482\u001b[0m                     \u001b[0;32mif\u001b[0m \u001b[0me\u001b[0m\u001b[0;34m.\u001b[0m\u001b[0margs\u001b[0m\u001b[0;34m[\u001b[0m\u001b[0;36m0\u001b[0m\u001b[0;34m]\u001b[0m \u001b[0;34m==\u001b[0m \u001b[0mEINTR\u001b[0m\u001b[0;34m:\u001b[0m\u001b[0;34m\u001b[0m\u001b[0;34m\u001b[0m\u001b[0m\n",
      "\u001b[0;31mKeyboardInterrupt\u001b[0m: "
     ]
    }
   ],
   "source": [
    "from pymongo import MongoClient\n",
    "import tqdm\n",
    "client = MongoClient('mongodb://localhost:27017/')\n",
    "db = client['Neo4j']\n",
    "collection = db['IASIS_QA']\n",
    "for q in tqdm.tqdm_notebook(questions_yesno[7:]):\n",
    "    if q['type'] == 'yesno':\n",
    "        print(\"%s\"%(q['question']))\n",
    "        PHASE_A_URL = \"http://143.233.226.57:9000/answer_text_with_id\"\n",
    "        r = requests.post(PHASE_A_URL, headers={\"content-type\":\"application/json\"}, \n",
    "                          json={\"text\": q['question'], 'ID':\"123\"})\n",
    "        pmids_result = r.json()\n",
    "        context = \" \".join([snip['text'] for snip in pmids_result['questions'][0]['snippets']])\n",
    "        BERT_URL = \"http://143.233.226.57:9000/answer_factoid_bert\"\n",
    "        r = requests.post(BERT_URL, headers={\"content-type\":\"application/json\"}, \n",
    "                          json={\"ID\":ID, \"text\":q['question'],\n",
    "                                \"context\":context})\n",
    "        bert_result = r.json()\n",
    "        print(\"True: %s     |    Pred: %s\"%(q['exact_answer'], bert_result[\"Final_Answer\"][0]))\n",
    "        print(\"\\n\")"
   ]
  },
  {
   "cell_type": "code",
   "execution_count": 3,
   "metadata": {},
   "outputs": [
    {
     "name": "stdout",
     "output_type": "stream",
     "text": [
      "absl-py==0.6.1\r\n",
      "ad3==2.2\r\n",
      "adjustText==0.7.3\r\n",
      "again==1.2.21\r\n",
      "alabaster==0.7.11\r\n",
      "algopy==0.5.7\r\n",
      "altgraph==0.16.1\r\n",
      "amqp==2.3.2\r\n",
      "annoy==1.14.0\r\n",
      "anyjson==0.3.3\r\n",
      "apipkg==1.5\r\n",
      "appier==1.17.6\r\n",
      "argcomplete==1.9.4\r\n",
      "arrow==0.12.1\r\n",
      "asn1crypto==0.24.0\r\n",
      "aspy.yaml==1.1.1\r\n",
      "asteval==0.9.1\r\n",
      "astor==0.7.1\r\n",
      "astroid==1.6.5\r\n",
      "atomicwrites==1.2.1\r\n",
      "attrs==19.1.0\r\n",
      "audioread==2.1.6\r\n",
      "autograd==1.2\r\n",
      "autopep8==1.4\r\n",
      "Babel==2.6.0\r\n",
      "backports-abc==0.5\r\n",
      "backports.csv==1.0.6\r\n",
      "backports.functools-lru-cache==1.5\r\n",
      "backports.shutil-get-terminal-size==1.0.0\r\n",
      "backports.ssl-match-hostname==3.5.0.1\r\n",
      "backports.weakref==1.0.post1\r\n",
      "bayesian-optimization==0.6.0\r\n",
      "bcrypt==3.1.4\r\n",
      "BeautifulSoup==3.2.1\r\n",
      "beautifulsoup4==4.6.3\r\n",
      "bibtexparser==1.1.0\r\n",
      "billiard==3.5.0.4\r\n",
      "binaryornot==0.4.4\r\n",
      "bioc==1.0\r\n",
      "bleach==3.1.0\r\n",
      "boto==2.49.0\r\n",
      "boto3==1.9.227\r\n",
      "botocore==1.12.227\r\n",
      "bz2file==0.98\r\n",
      "CacheControl==0.12.5\r\n",
      "cached-property==1.5.1\r\n",
      "cachetools==2.1.0\r\n",
      "capturer==2.4\r\n",
      "catboost==0.10.0\r\n",
      "celery==4.2.1\r\n",
      "certifi==2019.9.11\r\n",
      "cffi==1.11.5\r\n",
      "cfgv==1.1.0\r\n",
      "chainer==4.4.0\r\n",
      "chardet==3.0.4\r\n",
      "cheroot==6.5.2\r\n",
      "CherryPy==17.3.0\r\n",
      "Click==7.0\r\n",
      "cloudpickle==0.5.6\r\n",
      "colorama==0.3.9\r\n",
      "config==0.4.0\r\n",
      "configparser==4.0.2\r\n",
      "contextlib2==0.5.5\r\n",
      "control==0.8.0\r\n",
      "cookiecutter==1.6.0\r\n",
      "coverage==3.7.1\r\n",
      "cryptography==2.1.4\r\n",
      "csc-pysparse==1.1.1.4\r\n",
      "csc-utils==0.6.7\r\n",
      "cssselect==1.0.3\r\n",
      "CVXcanon==0.1.1\r\n",
      "cvxopt==1.2.1\r\n",
      "cvxpy==1.0.8\r\n",
      "cycler==0.10.0\r\n",
      "cymem==1.31.2\r\n",
      "Cython==0.28.5\r\n",
      "cytoolz==0.9.0.1\r\n",
      "dask==0.19.2\r\n",
      "DBUtils==1.1\r\n",
      "deap==1.2.2\r\n",
      "decorator==4.4.0\r\n",
      "defer==1.0.4\r\n",
      "defusedxml==0.6.0\r\n",
      "Deprecated==1.2.3\r\n",
      "dill==0.2.8.2\r\n",
      "dis3==0.1.2\r\n",
      "diskcache==2.9.0\r\n",
      "Divisi2==2.2.5\r\n",
      "Django==1.11.15\r\n",
      "django-widget-tweaks==1.4.3\r\n",
      "djangorestframework==3.8.2\r\n",
      "dnspython==1.15.0\r\n",
      "docopt==0.6.2\r\n",
      "docutils==0.15.2\r\n",
      "dominate==2.3.1\r\n",
      "ecdsa==0.13\r\n",
      "ecos==2.0.5\r\n",
      "editdistance==0.5\r\n",
      "elm==0.1.1\r\n",
      "email==4.0.2\r\n",
      "en-core-web-sm==2.0.0\r\n",
      "entrypoints==0.3\r\n",
      "enum-compat==0.0.2\r\n",
      "enum34==1.1.6\r\n",
      "esmre==0.3.1\r\n",
      "et-xmlfile==1.0.1\r\n",
      "eventlet==0.24.1\r\n",
      "execnet==1.5.0\r\n",
      "eyeD3==0.8.7\r\n",
      "fastcache==1.0.2\r\n",
      "fasteners==0.14.1\r\n",
      "feedparser==5.2.1\r\n",
      "filelock==3.0.8\r\n",
      "firefly-python==0.1.14\r\n",
      "fitter==1.0.8\r\n",
      "Flask==1.1.1\r\n",
      "Flask-Bootstrap==3.3.7.1\r\n",
      "Flask-Script==2.0.6\r\n",
      "flurs==0.0.2\r\n",
      "FormEncode==1.3.1\r\n",
      "ftfy==4.4.3\r\n",
      "funcsigs==1.0.2\r\n",
      "functools32==3.2.3.post2\r\n",
      "funcy==1.10.3\r\n",
      "future==0.17.1\r\n",
      "futures==3.3.0\r\n",
      "fuzzywuzzy==0.17.0\r\n",
      "gast==0.2.0\r\n",
      "gem==0.1.12\r\n",
      "gensim==3.8.0\r\n",
      "geographiclib==1.49\r\n",
      "geopy==1.17.0\r\n",
      "gevent==1.3.6\r\n",
      "gevent-websocket==0.10.1\r\n",
      "google-scholar-scraper==0.2\r\n",
      "goslate==1.5.1\r\n",
      "graphviz==0.8.4\r\n",
      "greenlet==0.4.15\r\n",
      "grpcio==1.16.0\r\n",
      "gscholar==1.6.1\r\n",
      "gunicorn==19.9.0\r\n",
      "guppy==0.1.10\r\n",
      "h5py==2.8.0\r\n",
      "hashlib==20081119\r\n",
      "hgapi==1.7.4\r\n",
      "-e git+git@github.com:hyperopt/hyperopt-sklearn.git@4b28c67b91c67ecea32bc27d64c15b2635991336#egg=hpsklearn\r\n",
      "html2text==2018.1.9\r\n",
      "html5lib==1.0.1\r\n",
      "httplib2==0.11.3\r\n",
      "humanfriendly==4.16.1\r\n",
      "hyperopt==0.1.1\r\n",
      "identify==1.1.6\r\n",
      "idna==2.8\r\n",
      "ijson==2.3\r\n",
      "imagesize==1.1.0\r\n",
      "imbalanced-learn==0.4.3\r\n",
      "imdbpie==5.6.2\r\n",
      "IMDbPY==6.6\r\n",
      "iml==0.6.2\r\n",
      "importlib-metadata==0.4\r\n",
      "inflect==1.0.0\r\n",
      "intelhex==2.2.1\r\n",
      "intervaltree==2.1.0\r\n",
      "ipaddress==1.0.22\r\n",
      "ipykernel==4.10.1\r\n",
      "ipyparallel==6.2.2\r\n",
      "ipython==5.8.0\r\n",
      "ipython-genutils==0.2.0\r\n",
      "ipywidgets==7.4.2\r\n",
      "isodate==0.6.0\r\n",
      "isort==4.3.4\r\n",
      "itsdangerous==1.1.0\r\n",
      "jaraco.functools==1.20\r\n",
      "JCC==3.2\r\n",
      "jdcal==1.4\r\n",
      "jgraph==0.2.1\r\n",
      "Jinja2==2.10.1\r\n",
      "jinja2-time==0.2.0\r\n",
      "jmespath==0.9.4\r\n",
      "joblib==0.13.2\r\n",
      "jsonpointer==1.14\r\n",
      "jsonschema==3.0.2\r\n",
      "jsonstreamer==1.3.6\r\n",
      "jupyter==1.0.0\r\n",
      "jupyter-client==5.3.3\r\n",
      "jupyter-console==5.2.0\r\n",
      "jupyter-contrib-core==0.3.3\r\n",
      "jupyter-contrib-nbextensions==0.5.1\r\n",
      "jupyter-core==4.5.0\r\n",
      "jupyter-highlight-selected-word==0.2.0\r\n",
      "jupyter-latex-envs==1.4.6\r\n",
      "jupyter-nbextensions-configurator==0.4.1\r\n",
      "jupyterthemes==0.19.6\r\n",
      "Keras==2.2.4\r\n",
      "Keras-Applications==1.0.6\r\n",
      "Keras-Preprocessing==1.0.5\r\n",
      "keyring==10.6.0\r\n",
      "keyrings.alt==3.0\r\n",
      "kindred==2.2.0\r\n",
      "kiwisolver==1.1.0\r\n",
      "kombu==4.2.1\r\n",
      "langid==1.1.6\r\n",
      "Lasagne==0.1\r\n",
      "lazy-object-proxy==1.3.1\r\n",
      "lda==1.1.0\r\n",
      "lesscpy==0.13.0\r\n",
      "liac-arff==2.3.1\r\n",
      "librosa==0.6.2\r\n",
      "lightfm==1.15\r\n",
      "lime==0.1.1.32\r\n",
      "linkpred==0.3\r\n",
      "llvmlite==0.29.0\r\n",
      "lockfile==0.12.2\r\n",
      "logging==0.4.9.6\r\n",
      "logilab-common==1.4.2\r\n",
      "logutils==0.3.5\r\n",
      "lxml==4.4.1\r\n",
      "macholib==1.11\r\n",
      "mailbox==0.4\r\n",
      "Mako==1.0.7\r\n",
      "Markdown==3.0.1\r\n",
      "MarkupSafe==1.1.1\r\n",
      "matplotlib==2.2.4\r\n",
      "matplotlib-venn==0.11.5\r\n",
      "matplotlib-venn-wordcloud==0.2.4\r\n",
      "mbed-test-wrapper==1.0.0\r\n",
      "mccabe==0.6.1\r\n",
      "memory-profiler==0.54.0\r\n",
      "mercurial==4.7.1\r\n",
      "mistune==0.8.4\r\n",
      "mlconf==0.0.3\r\n",
      "mlens==0.2.2\r\n",
      "mlxtend==0.13.0\r\n",
      "mmh3==2.5.1\r\n",
      "mock==2.0.0\r\n",
      "monotonic==1.5\r\n",
      "more-itertools==4.3.0\r\n",
      "Morfessor==2.0.4\r\n",
      "mpld3==0.3\r\n",
      "mpmath==1.0.0\r\n",
      "msgpack==0.5.6\r\n",
      "msgpack-numpy==0.4.3.1\r\n",
      "msgpack-python==0.5.6\r\n",
      "multiprocess==0.70.6.1\r\n",
      "murmurhash==0.28.0\r\n",
      "mxnet==1.3.0.post0\r\n",
      "mysql==0.0.1\r\n",
      "mysql-connector-python==8.0.12\r\n",
      "MySQL-python==1.2.5\r\n",
      "mysqlclient==1.3.13\r\n",
      "natsort==5.4.1\r\n",
      "naya==1.0.0\r\n",
      "nbconvert==5.6.0\r\n",
      "nbformat==4.4.0\r\n",
      "ndg-httpsclient==0.5.1\r\n",
      "neo4j-driver==1.6.2\r\n",
      "neotime==1.0.0\r\n",
      "networkx==2.2\r\n",
      "nltk==3.3\r\n",
      "nmslib==1.7.3.6\r\n",
      "nodeenv==1.3.2\r\n",
      "nose==1.3.7\r\n",
      "notebook==5.7.8\r\n",
      "numba==0.44.1\r\n",
      "numdifftools==0.9.20\r\n",
      "numexpr==2.6.8\r\n",
      "numpy==1.16.5\r\n",
      "numpydoc==0.8.0\r\n",
      "nupic==1.0.5\r\n",
      "nupic.bindings==1.0.6\r\n",
      "oauth2==1.9.0.post1\r\n",
      "oauthlib==2.1.0\r\n",
      "olefile==0.45.1\r\n",
      "openpyxl==2.5.7\r\n",
      "Optunity==1.0.1\r\n",
      "ordereddict==1.1\r\n",
      "osqp==0.4.0\r\n",
      "Owlready==0.3.1\r\n",
      "Owlready2==0.9\r\n",
      "packaging==17.1\r\n",
      "pam==0.1.4\r\n",
      "pandas==0.24.2\r\n",
      "pandas-ml==0.5.0\r\n",
      "pandasql==0.7.3\r\n",
      "pandocfilters==1.4.2\r\n",
      "parameterized==0.6.1\r\n",
      "paramiko==2.4.1\r\n",
      "path.py==11.2.0\r\n",
      "pathlib==1.0.1\r\n",
      "pathlib2==2.3.4\r\n",
      "patsy==0.5.1\r\n",
      "Pattern==3.6\r\n",
      "Paver==1.3.4\r\n",
      "pbr==5.1.0\r\n",
      "pdfminer==20140328\r\n",
      "pefile==2018.8.8\r\n",
      "pep8==1.7.1\r\n",
      "pexpect==4.7.0\r\n",
      "pickleshare==0.7.5\r\n",
      "pika==0.12.0\r\n",
      "Pillow==6.1.0\r\n",
      "pipreqs==0.4.9\r\n",
      "plac==0.9.6\r\n",
      "plotly==3.2.1\r\n",
      "pluggy==0.7.1\r\n",
      "ply==3.11\r\n",
      "pmlb==0.3\r\n",
      "polyglot==16.7.4\r\n",
      "polylearn==0.1.dev0\r\n",
      "portend==2.3\r\n",
      "poyo==0.4.1\r\n",
      "pp==1.6.5\r\n",
      "pre-commit==1.11.0\r\n",
      "preshed==1.0.1\r\n",
      "prettytable==0.7.2\r\n",
      "progress==1.4\r\n",
      "progressbar==2.5\r\n",
      "progressbar2==3.38.0\r\n",
      "project-generator==0.8.17\r\n",
      "project-generator-definitions==0.2.36\r\n",
      "prometheus-client==0.7.1\r\n",
      "prompt-toolkit==1.0.16\r\n",
      "protobuf==3.6.1\r\n",
      "psutil==5.4.8\r\n",
      "ptyprocess==0.6.0\r\n",
      "py==1.6.0\r\n",
      "py2neo==3.1.2\r\n",
      "pyaml==17.12.1\r\n",
      "pyasn1==0.4.4\r\n",
      "pybind11==2.2.4\r\n",
      "pycairo==1.16.2\r\n",
      "pycapnp==0.6.3\r\n",
      "pycld2==0.31\r\n",
      "pycodestyle==2.4.0\r\n",
      "pycorenlp==0.3.0\r\n",
      "pycparser==2.18\r\n",
      "pycrypto==2.6.1\r\n",
      "PyDispatcher==2.0.5\r\n",
      "pydot==1.2.4\r\n",
      "pydot2==1.0.33\r\n",
      "pydotplus==2.0.2\r\n",
      "pyelftools==0.23\r\n",
      "pyemd==0.5.1\r\n",
      "pyfm==0.2.4\r\n",
      "pygexf==0.2.2\r\n",
      "PyGithub==1.43.2\r\n",
      "Pygments==2.4.2\r\n",
      "pygobject==3.26.1\r\n",
      "pygpu==0.7.6+2.g5ceeb8e\r\n",
      "PyICU==2.1\r\n",
      "PyInstaller==3.4\r\n",
      "PyJWT==1.6.4\r\n",
      "pyLDAvis==2.1.2\r\n",
      "pylint==1.9.3\r\n",
      "pymediawiki==0.4.1\r\n",
      "pymetamap==0.1\r\n",
      "pymongo==2.9\r\n",
      "PyMySQL==0.6.2\r\n",
      "PyNaCl==1.2.1\r\n",
      "pynisher==0.5.0\r\n",
      "pynput==1.4\r\n",
      "pyOCD==0.12.0\r\n",
      "PyOpenGL==3.1.0\r\n",
      "pyOpenSSL==18.0.0\r\n",
      "pyparsing==2.4.2\r\n",
      "Pyphen==0.9.5\r\n",
      "pyproj==1.9.3\r\n",
      "pyquery==1.4.0\r\n",
      "Pyrex==0.9.9\r\n",
      "pyrsistent==0.15.4\r\n",
      "pyserial==3.4\r\n",
      "PySocks==1.6.8\r\n",
      "pytest==3.0.7\r\n",
      "pytest-cov==2.5.0\r\n",
      "pytest-socket==0.3.1\r\n",
      "pytest-xdist==1.16.0\r\n",
      "python-apt==1.6.4\r\n",
      "python-dateutil==2.8.0\r\n",
      "python-docx==0.8.7\r\n",
      "python-Levenshtein==0.12.0\r\n",
      "python-magic==0.4.15\r\n",
      "python-utils==2.3.0\r\n",
      "python-xlib==0.23\r\n",
      "pytorch-pretrained-bert==0.6.1\r\n",
      "pytz==2019.2\r\n",
      "pyusb==1.0.2\r\n",
      "PyWavelets==1.0.0\r\n",
      "pyxdg==0.25\r\n",
      "PyYAML==5.1.2\r\n",
      "pyzmq==18.1.0\r\n",
      "qtconsole==4.4.1\r\n",
      "rdflib==4.2.2\r\n",
      "redis==2.10.6\r\n",
      "regex==2017.4.5\r\n",
      "reportlab==3.5.6\r\n",
      "requests==2.22.0\r\n",
      "requests-oauthlib==1.0.0\r\n",
      "resampy==0.2.1\r\n",
      "retrying==1.3.3\r\n",
      "roman==3.0\r\n",
      "rq==0.12.0\r\n",
      "ruamel.ordereddict==0.4.13\r\n",
      "ruamel.yaml==0.15.66\r\n",
      "s3transfer==0.2.1\r\n",
      "scandir==1.10.0\r\n",
      "scattertext==0.0.2.29\r\n",
      "scholarly==0.2.4\r\n",
      "scikit-image==0.14.0\r\n",
      "scikit-learn==0.20.4\r\n",
      "scikit-MDR==0.4.4\r\n",
      "scikit-optimize==0.5.2\r\n",
      "scikit-plot==0.3.7\r\n",
      "scikit-posthocs==0.5.1\r\n",
      "scikit-tensor==0.1\r\n",
      "scipy==1.2.2\r\n",
      "scs==2.0.2\r\n",
      "seaborn==0.9.0\r\n",
      "SecretStorage==2.3.1\r\n",
      "semantic-version==2.6.0\r\n",
      "semver==2.8.1\r\n",
      "Send2Trash==1.5.0\r\n",
      "shap==0.24.0\r\n",
      "simplegeneric==0.8.1\r\n",
      "simplejson==3.16.0\r\n",
      "singledispatch==3.4.0.3\r\n",
      "six==1.12.0\r\n",
      "sklearn==0.0\r\n",
      "sklearn-contrib-lightning==0.5.0\r\n",
      "skll==1.5.2\r\n",
      "skrebate==0.6\r\n",
      "smart-open==1.8.4\r\n",
      "smokesignal==0.7.0\r\n",
      "snakeviz==1.0.0\r\n",
      "snap==0.5\r\n",
      "snowballstemmer==1.2.1\r\n",
      "sortedcontainers==2.0.5\r\n",
      "South==1.0.2\r\n",
      "spacy==2.0.12\r\n",
      "sparql-client==3.2\r\n",
      "SPARQLWrapper==1.8.2\r\n",
      "sparse==0.6.0\r\n",
      "speech==0.5.2\r\n",
      "Sphinx==1.5.5\r\n",
      "sphinx-rtd-theme==0.4.1\r\n",
      "sphinxcontrib-websupport==1.1.0\r\n",
      "spotlight==0.1.5\r\n",
      "sputnik==0.9.3\r\n",
      "SQLAlchemy==1.2.11\r\n",
      "sqlalchemy-migrate==0.11.0\r\n",
      "SQLObject==3.7.0\r\n",
      "sqlparse==0.2.4\r\n",
      "sshtunnel==0.1.4\r\n",
      "statistics==1.0.3.5\r\n",
      "statsmodels==0.9.0\r\n",
      "stevedore==1.29.0\r\n",
      "stopit==1.1.2\r\n",
      "subprocess32==3.5.4\r\n",
      "sympy==1.3\r\n",
      "t3f==1.0.0\r\n",
      "tables==3.4.4\r\n",
      "tabulate==0.8.2\r\n",
      "Tempita==0.5.2\r\n",
      "tempora==1.13\r\n",
      "tensorboard==1.11.0\r\n",
      "tensorflow==1.11.0\r\n",
      "tensorflow-gpu==1.10.1\r\n",
      "tensorly==0.2.0\r\n",
      "termcolor==1.1.0\r\n",
      "terminado==0.8.2\r\n",
      "testpath==0.4.2\r\n",
      "text-unidecode==1.2\r\n",
      "textacy==0.6.2\r\n",
      "textblob==0.15.1\r\n",
      "Theano==1.0.3+21.g813faf6a9\r\n",
      "thinc==6.10.3\r\n",
      "tictacs==0.0.3\r\n",
      "toml==0.9.6\r\n",
      "toolz==0.9.0\r\n",
      "torch==0.4.1\r\n",
      "torchvision==0.2.1\r\n",
      "tornado==5.1.1\r\n",
      "tox==3.3.0\r\n",
      "TPOT==0.9.5\r\n",
      "tqdm==4.26.0\r\n",
      "traitlets==4.3.2\r\n",
      "translate==3.5.0\r\n",
      "trash-cli==0.17.1.14\r\n",
      "twarc==1.6.1\r\n",
      "tweepy==3.6.0\r\n",
      "twitter==1.18.0\r\n",
      "twitter-api==0.1.7\r\n",
      "twython==3.7.0\r\n",
      "typing==3.6.6\r\n",
      "ujson==1.35\r\n",
      "umap-learn==0.3.2\r\n",
      "unicodecsv==0.14.1\r\n",
      "Unidecode==1.0.22\r\n",
      "unittest2==0.5.1\r\n",
      "untangle==1.1.1\r\n",
      "update-checker==0.16\r\n",
      "urllib3==1.25.3\r\n",
      "urwid==2.0.1\r\n",
      "validictory==0.9.1\r\n",
      "valinor==0.0.15\r\n",
      "vine==1.1.4\r\n",
      "virtualenv==16.0.0\r\n",
      "virtualenv-clone==0.3.0\r\n",
      "virtualenvwrapper==4.8.2\r\n",
      "visitor==0.1.3\r\n",
      "wcwidth==0.1.7\r\n",
      "webencodings==0.5.1\r\n",
      "WebOb==1.8.2\r\n",
      "websocket==0.2.1\r\n",
      "websocket-client==0.53.0\r\n",
      "Werkzeug==0.15.6\r\n",
      "whichcraft==0.4.1\r\n",
      "Whoosh==2.7.4\r\n",
      "widgetsnbextension==3.4.2\r\n",
      "wikipedia==1.4.0\r\n",
      "wolpert==0.1b2\r\n",
      "wordcloud==1.5.0\r\n",
      "wrapt==1.10.11\r\n",
      "xcessiv==0.5.1\r\n",
      "xdot==1.0\r\n",
      "xgboost==0.80\r\n",
      "xlrd==1.1.0\r\n",
      "xlwt==1.3.0\r\n",
      "xmljson==0.1.9\r\n",
      "xmltodict==0.11.0\r\n",
      "xxhash==1.2.0\r\n",
      "yarg==0.1.9\r\n",
      "yellowbrick==0.9\r\n",
      "yotta==0.18.5\r\n",
      "zc.lockfile==1.3.0\r\n"
     ]
    }
   ],
   "source": [
    "def question_classifier(question):\n",
    "    if question.startswith()"
   ]
  },
  {
   "cell_type": "code",
   "execution_count": 28,
   "metadata": {},
   "outputs": [
    {
     "data": {
      "text/plain": [
       "False"
      ]
     },
     "execution_count": 28,
     "metadata": {},
     "output_type": "execute_result"
    }
   ],
   "source": [
    "text = \"Can we use platelet biomarkers to study Alzheimer's disease?\"\n",
    "\n",
    "def check_yesno(text):\n",
    "    \"\"\"\n",
    "    Simple yesno question classifier\n",
    "    \"\"\"\n",
    "    initials = [\n",
    "    'is',\n",
    "    'are',\n",
    "    'was',\n",
    "    'were',\n",
    "    'do',\n",
    "    'does',\n",
    "    'did'\n",
    "    'can',\n",
    "    'could',\n",
    "    'will',\n",
    "    'would',\n",
    "    'has',\n",
    "    'have',\n",
    "    'had',\n",
    "    'shall',\n",
    "    'should'\n",
    "    ]\n",
    "    if any(text.lower().startswith(ini) for ini in initials):\n",
    "        return True\n",
    "    else:\n",
    "        return False\n",
    "\n",
    "check_yesno(text)"
   ]
  },
  {
   "cell_type": "code",
   "execution_count": 40,
   "metadata": {},
   "outputs": [
    {
     "name": "stdout",
     "output_type": "stream",
     "text": [
      "is\n",
      "are\n",
      "was\n",
      "were\n",
      "do\n",
      "does\n",
      "did\n",
      "can\n",
      "could\n",
      "will\n",
      "would\n",
      "has\n",
      "have\n",
      "had\n",
      "shall\n",
      "should\n"
     ]
    }
   ],
   "source": [
    "lower = text.lower()\n",
    "initials = [\n",
    "'is',\n",
    "'are',\n",
    "'was',\n",
    "'were',\n",
    "'do',\n",
    "'does',\n",
    "'did',\n",
    "'can',\n",
    "'could',\n",
    "'will',\n",
    "'would',\n",
    "'has',\n",
    "'have',\n",
    "'had',\n",
    "'shall',\n",
    "'should'\n",
    "]\n",
    "for ini in initials:\n",
    "    print(ini)"
   ]
  },
  {
   "cell_type": "code",
   "execution_count": 85,
   "metadata": {},
   "outputs": [
    {
     "data": {
      "application/vnd.jupyter.widget-view+json": {
       "model_id": "e8b68607c88846eea7b7e791d04c8b51",
       "version_major": 2,
       "version_minor": 0
      },
      "text/plain": [
       "HBox(children=(IntProgress(value=1, bar_style=u'info', max=1), HTML(value=u'')))"
      ]
     },
     "metadata": {},
     "output_type": "display_data"
    }
   ],
   "source": [
    "import tqdm\n",
    "logs = []\n",
    "for q in tqdm.tqdm_notebook(collection.find({\"$or\":[ {\"type\":\"yesno\"}, \n",
    "                                                     {\"type\":\"factoid\"},\n",
    "                                                     {\"type\":\"list\"}]})):\n",
    "    cur_dic = {k: q[k] for k in ('question', 'type', 'exact_answer', 'Final_Answer', 'pmids', 'context', )}\n",
    "    logs.append(cur_dic)"
   ]
  },
  {
   "cell_type": "code",
   "execution_count": 86,
   "metadata": {},
   "outputs": [],
   "source": [
    "import pandas as pd\n",
    "df = pd.DataFrame(logs)\n",
    "df = df[['question', 'type', 'exact_answer', 'Final_Answer', 'pmids', 'context']]\n",
    "df.to_csv('../mongodb_res_no.csv', encoding='utf8')"
   ]
  },
  {
   "cell_type": "code",
   "execution_count": 15,
   "metadata": {},
   "outputs": [
    {
     "data": {
      "application/vnd.jupyter.widget-view+json": {
       "model_id": "3ceb2ee6ce5344a8b7489c56d075e014",
       "version_major": 2,
       "version_minor": 0
      },
      "text/plain": [
       "HBox(children=(IntProgress(value=1, bar_style=u'info', max=1), HTML(value=u'')))"
      ]
     },
     "metadata": {},
     "output_type": "display_data"
    },
    {
     "name": "stdout",
     "output_type": "stream",
     "text": [
      "\n"
     ]
    }
   ],
   "source": [
    "y_true = []\n",
    "y_pred = []\n",
    "y_pred_lit = []\n",
    "import tqdm\n",
    "for q in tqdm.tqdm_notebook(collection.find({\"$or\":[ {\"type\":\"yesno\"}]})):\n",
    "    if q['exact_answer'] == 'yes':\n",
    "        y_true.append(1)\n",
    "    else:\n",
    "        y_true.append(0)\n",
    "    BERT_URL = \"http://143.233.226.57:9000/answer_yesno_bert_probas\"\n",
    "    r = requests.post(BERT_URL, headers={\"content-type\":\"application/json\"}, \n",
    "                      json={\"ID\":q['ID'], \"text\":q['question'],\n",
    "                            \"context\":q['context']})\n",
    "    bert_result = r.json()\n",
    "    y_pred.append(bert_result['Final_Answer'][1][0])\n",
    "    y_pred_lit.append(bert_result['Final_Answer'][0])\n",
    "    #break"
   ]
  },
  {
   "cell_type": "code",
   "execution_count": 18,
   "metadata": {},
   "outputs": [],
   "source": [
    "import numpy as np\n",
    "#y_logits = np.log(np.array(y_pred))/np.log(1-np.array(y_pred))\n",
    "y_probas = np.exp(y_pred)/(1+np.exp(y_pred))\n",
    "y_pred_yesno = []\n",
    "for y_ in y_pred_lit:\n",
    "    if y_ == 'yes':\n",
    "        y_pred_yesno.append(1)\n",
    "    else:\n",
    "        y_pred_yesno.append(0)"
   ]
  },
  {
   "cell_type": "code",
   "execution_count": 19,
   "metadata": {},
   "outputs": [
    {
     "data": {
      "text/plain": [
       "array([0.53991625, 0.42474123, 0.5582539 , 0.52644894, 0.45046205,\n",
       "       0.55260946, 0.74547748, 0.61363579, 0.53590854, 0.51412453,\n",
       "       0.53842227, 0.63358812, 0.56029986, 0.51325079, 0.52975899,\n",
       "       0.50920341])"
      ]
     },
     "execution_count": 19,
     "metadata": {},
     "output_type": "execute_result"
    }
   ],
   "source": [
    "y_probas"
   ]
  },
  {
   "cell_type": "code",
   "execution_count": 109,
   "metadata": {},
   "outputs": [],
   "source": [
    "y_true = [y_ for i, y_ in enumerate(y_true) if not(i in range(1,32,2))]"
   ]
  },
  {
   "cell_type": "code",
   "execution_count": 21,
   "metadata": {},
   "outputs": [
    {
     "name": "stdout",
     "output_type": "stream",
     "text": [
      "Average precision-recall score: 0.99\n"
     ]
    }
   ],
   "source": []
  },
  {
   "cell_type": "code",
   "execution_count": 20,
   "metadata": {},
   "outputs": [
    {
     "name": "stdout",
     "output_type": "stream",
     "text": [
      "Average precision-recall score: 0.71\n"
     ]
    },
    {
     "data": {
      "image/png": "[encoded data removed]",
      "text/plain": [
       "<Figure size 720x360 with 1 Axes>"
      ]
     },
     "metadata": {},
     "output_type": "display_data"
    }
   ],
   "source": [
    "from sklearn.metrics import precision_recall_curve\n",
    "import matplotlib.pyplot as plt\n",
    "%matplotlib inline\n",
    "plt.style.use('dark_background')\n",
    "from sklearn.metrics import average_precision_score\n",
    "average_precision = average_precision_score(y_true, y_probas)\n",
    "\n",
    "print('Average precision-recall score: {0:0.2f}'.format( average_precision))\n",
    "\n",
    "\n",
    "pos_label = 0\n",
    "prec, rec, tre = precision_recall_curve(y_true, y_probas, pos_label=pos_label)\n",
    "\n",
    "def plot_prec_recall_vs_tresh(precisions, recalls, thresholds, pos_label):\n",
    "    plt.figure(figsize=(10,5))\n",
    "    plt.plot(thresholds, precisions[:-1], 'b--', label='precision')\n",
    "    plt.plot(thresholds, recalls[:-1], 'g--', label = 'recall')\n",
    "    plt.plot(thresholds, 2*precisions[:-1]*recalls[:-1]/(precisions[:-1]+recalls[:-1]), \n",
    "             'r--', label = 'F-1')\n",
    "    plt.xlabel('Threshold')\n",
    "    plt.legend(loc='upper left')\n",
    "    plt.ylim([0.05,1.05])\n",
    "    plt.xlim([0,1])\n",
    "    plt.axvline(0.5, color='y', linestyle='-.')\n",
    "    plt.title(\"Results for class Label %s\" % (str(pos_label)))\n",
    "\n",
    "plot_prec_recall_vs_tresh(prec, rec, tre, pos_label)\n",
    "plt.show()"
   ]
  },
  {
   "cell_type": "code",
   "execution_count": 16,
   "metadata": {},
   "outputs": [],
   "source": []
  },
  {
   "cell_type": "code",
   "execution_count": 17,
   "metadata": {},
   "outputs": [
    {
     "data": {
      "text/plain": [
       "array([0.50030338, 0.49272178, 0.44235273, 0.49988198, 0.45686107,\n",
       "       0.56618832, 0.44284433, 0.52616355, 0.44860377, 0.59670837,\n",
       "       0.40688047, 0.43864703, 0.51630415, 0.41383026, 0.40834405,\n",
       "       0.41650085])"
      ]
     },
     "execution_count": 17,
     "metadata": {},
     "output_type": "execute_result"
    }
   ],
   "source": [
    "y_probas"
   ]
  },
  {
   "cell_type": "code",
   "execution_count": 27,
   "metadata": {},
   "outputs": [
    {
     "name": "stdout",
     "output_type": "stream",
     "text": [
      "THRESH: 0.57\n",
      "              precision    recall  f1-score   support\n",
      "\n",
      "           0       0.08      0.33      0.12         3\n",
      "           1       0.33      0.08      0.12        13\n",
      "\n",
      "   micro avg       0.12      0.12      0.12        16\n",
      "   macro avg       0.21      0.21      0.12        16\n",
      "weighted avg       0.29      0.12      0.12        16\n",
      "\n",
      "THRESH: 0.35\n",
      "              precision    recall  f1-score   support\n",
      "\n",
      "           0       0.00      0.00      0.00         3\n",
      "           1       0.81      1.00      0.90        13\n",
      "\n",
      "   micro avg       0.81      0.81      0.81        16\n",
      "   macro avg       0.41      0.50      0.45        16\n",
      "weighted avg       0.66      0.81      0.73        16\n",
      "\n",
      "THRESH: 0.50\n",
      "              precision    recall  f1-score   support\n",
      "\n",
      "           0       0.00      0.00      0.00         3\n",
      "           1       0.79      0.85      0.81        13\n",
      "\n",
      "   micro avg       0.69      0.69      0.69        16\n",
      "   macro avg       0.39      0.42      0.41        16\n",
      "weighted avg       0.64      0.69      0.66        16\n",
      "\n",
      "THRESH: 0.62\n",
      "              precision    recall  f1-score   support\n",
      "\n",
      "           0       0.14      0.67      0.24         3\n",
      "           1       0.50      0.08      0.13        13\n",
      "\n",
      "   micro avg       0.19      0.19      0.19        16\n",
      "   macro avg       0.32      0.37      0.18        16\n",
      "weighted avg       0.43      0.19      0.15        16\n",
      "\n"
     ]
    },
    {
     "name": "stderr",
     "output_type": "stream",
     "text": [
      "/home/kostas/.local/lib/python2.7/site-packages/sklearn/metrics/classification.py:1143: UndefinedMetricWarning: Precision and F-score are ill-defined and being set to 0.0 in labels with no predicted samples.\n",
      "  'precision', 'predicted', average, warn_for)\n",
      "/home/kostas/.local/lib/python2.7/site-packages/sklearn/metrics/classification.py:1143: UndefinedMetricWarning: Precision and F-score are ill-defined and being set to 0.0 in labels with no predicted samples.\n",
      "  'precision', 'predicted', average, warn_for)\n",
      "/home/kostas/.local/lib/python2.7/site-packages/sklearn/metrics/classification.py:1143: UndefinedMetricWarning: Precision and F-score are ill-defined and being set to 0.0 in labels with no predicted samples.\n",
      "  'precision', 'predicted', average, warn_for)\n"
     ]
    }
   ],
   "source": [
    "from sklearn.metrics import classification_report\n",
    "tr = 0.57\n",
    "print(\"THRESH: %.2f\" % tr)\n",
    "print classification_report(y_true, tresh(y_probas, tr))\n",
    "\n",
    "tr = 0.35\n",
    "print(\"THRESH: %.2f\" % tr)\n",
    "print classification_report(y_true, tresh(y_probas, tr))\n",
    "\n",
    "tr = 0.5\n",
    "print(\"THRESH: %.2f\" % tr)\n",
    "print classification_report(y_true, tresh(y_probas, tr))\n",
    "\n",
    "tr = 0.623\n",
    "print(\"THRESH: %.2f\" % tr)\n",
    "print classification_report(y_true, tresh(y_probas, tr))"
   ]
  },
  {
   "cell_type": "code",
   "execution_count": 21,
   "metadata": {},
   "outputs": [],
   "source": [
    "from sklearn.metrics import confusion_matrix\n",
    "from sklearn.utils.multiclass import unique_labels\n",
    "\n",
    "def plot_confusion_matrix(y_true, y_pred, classes,\n",
    "                          normalize=False,\n",
    "                          title=None,\n",
    "                          cmap=plt.cm.Blues):\n",
    "    \"\"\"\n",
    "    This function prints and plots the confusion matrix.\n",
    "    Normalization can be applied by setting `normalize=True`.\n",
    "    \"\"\"\n",
    "    if not title:\n",
    "        if normalize:\n",
    "            title = 'Normalized confusion matrix'\n",
    "        else:\n",
    "            title = 'Confusion matrix, without normalization'\n",
    "\n",
    "    # Compute confusion matrix\n",
    "    cm = confusion_matrix(y_true, y_pred)\n",
    "    # Only use the labels that appear in the data\n",
    "    classes = classes[unique_labels(y_true, y_pred)]\n",
    "    if normalize:\n",
    "        cm = cm.astype('float') / cm.sum(axis=1)[:, np.newaxis]\n",
    "        print(\"Normalized confusion matrix\")\n",
    "    else:\n",
    "        print('Confusion matrix, without normalization')\n",
    "\n",
    "    print(cm)\n",
    "\n",
    "    fig, ax = plt.subplots()\n",
    "    im = ax.imshow(cm, interpolation='nearest', cmap=cmap)\n",
    "    ax.figure.colorbar(im, ax=ax)\n",
    "    # We want to show all ticks...\n",
    "    ax.set(xticks=np.arange(cm.shape[1]),\n",
    "           yticks=np.arange(cm.shape[0]),\n",
    "           # ... and label them with the respective list entries\n",
    "           xticklabels=classes, yticklabels=classes,\n",
    "           title=title,\n",
    "           ylabel='True label',\n",
    "           xlabel='Predicted label')\n",
    "\n",
    "    # Rotate the tick labels and set their alignment.\n",
    "    plt.setp(ax.get_xticklabels(), rotation=45, ha=\"right\",\n",
    "             rotation_mode=\"anchor\")\n",
    "\n",
    "    # Loop over data dimensions and create text annotations.\n",
    "    fmt = '.2f' if normalize else 'd'\n",
    "    thresh = cm.max() / 2.\n",
    "    for i in range(cm.shape[0]):\n",
    "        for j in range(cm.shape[1]):\n",
    "            ax.text(j, i, format(cm[i, j], fmt),\n",
    "                    ha=\"center\", va=\"center\",\n",
    "                    color=\"white\" if cm[i, j] > thresh else \"black\")\n",
    "    fig.tight_layout()\n",
    "    return ax\n",
    "\n",
    "\n",
    "np.set_printoptions(precision=2)\n",
    "\n",
    "def plot_prec_recall_vs_tresh(precisions, recalls, thresholds, pos_label):\n",
    "    fig = plt.figure(figsize=(10,5))\n",
    "    plt.plot(thresholds, precisions[:-1], 'b--', label='precision')\n",
    "    plt.plot(thresholds, recalls[:-1], 'g--', label = 'recall')\n",
    "    plt.plot(thresholds, 2*precisions[:-1]*recalls[:-1]/(precisions[:-1]+recalls[:-1]), \n",
    "             'r--', label = 'F-1')\n",
    "    plt.xlabel('Threshold')\n",
    "    plt.legend(loc='upper left')\n",
    "    plt.ylim([0.05,1.05])\n",
    "    plt.xlim([0,1])\n",
    "    plt.axvline(0.5, color='y', linestyle='-.')\n",
    "    plt.title(\"Results for class Label %s\" % (str(pos_label)))\n",
    "    return fig"
   ]
  },
  {
   "cell_type": "code",
   "execution_count": 31,
   "metadata": {},
   "outputs": [
    {
     "data": {
      "application/vnd.jupyter.widget-view+json": {
       "model_id": "a12144a0a03b4909a6eb715461bfbdd2",
       "version_major": 2,
       "version_minor": 0
      },
      "text/plain": [
       "aW50ZXJhY3RpdmUoY2hpbGRyZW49KEZsb2F0U2xpZGVyKHZhbHVlPTAuNSwgZGVzY3JpcHRpb249dSdUaHJlc2hvbGQnLCBtYXg9MS4wLCBzdGVwPTAuMDEpLCBPdXRwdXQoKSksIF9kb21fY2zigKY=\n"
      ]
     },
     "metadata": {},
     "output_type": "display_data"
    }
   ],
   "source": [
    "from IPython.display import display\n",
    "from ipywidgets import widgets\n",
    "import numpy as np\n",
    "from sklearn.metrics import classification_report\n",
    "\n",
    "\n",
    "def tresh_inter(Threshold=0.5):\n",
    "    y_new = tresh(y_probas, Threshold)\n",
    "#     plot_confusion_matrix(y_true, y_new, [0,1],\n",
    "#                           normalize=False,\n",
    "#                           title=None)\n",
    "    pos_label = 0\n",
    "    prec, rec, tre = precision_recall_curve(y_true, y_new, pos_label=pos_label)\n",
    "    fig1 = plot_prec_recall_vs_tresh(prec, rec, tre, pos_label)\n",
    "    pos_label = 1\n",
    "    prec, rec, tre = precision_recall_curve(y_true, y_new, pos_label=pos_label)\n",
    "    fig2 = plot_prec_recall_vs_tresh(prec, rec, tre, pos_label)\n",
    "    plt.show()\n",
    "    print classification_report(y_true, y_new)\n",
    "\n",
    "   \n",
    "    \n",
    "    \n",
    "def tresh(x, tr=0.5):\n",
    "    res = []\n",
    "    for x_ in x:\n",
    "        if x_ > tr:\n",
    "            res.append(1)\n",
    "        else:\n",
    "            res.append(0)\n",
    "    return np.array(res)\n",
    "    \n",
    "threshold_slider = widgets.interact(tresh_inter, Threshold=(0,1,0.01))"
   ]
  },
  {
   "cell_type": "code",
   "execution_count": 167,
   "metadata": {},
   "outputs": [
    {
     "data": {
      "text/plain": [
       "(1600, 4)"
      ]
     },
     "execution_count": 167,
     "metadata": {},
     "output_type": "execute_result"
    }
   ],
   "source": [
    "df.shape"
   ]
  },
  {
   "cell_type": "code",
   "execution_count": 178,
   "metadata": {},
   "outputs": [
    {
     "data": {
      "text/plain": [
       "array([ 699,  623,  627, ..., 1326, 1399, 1398])"
      ]
     },
     "execution_count": 178,
     "metadata": {},
     "output_type": "execute_result"
    }
   ],
   "source": [
    "temp = np.repeat(y_probas,100).argsort()[::-1]\n",
    "cur_rank = np.empty_like(temp)\n",
    "cur_rank[temp] = np.arange(len(np.repeat(y_probas,100)))\n",
    "cur_rank"
   ]
  },
  {
   "cell_type": "code",
   "execution_count": 179,
   "metadata": {},
   "outputs": [],
   "source": [
    "import pandas as pd\n",
    "logs = []\n",
    "tresh = 0.5\n",
    "for i, prob in enumerate(np.repeat(y_probas,100)):\n",
    "    #print(prob, y_true[i])\n",
    "    if prob > tresh and np.repeat(y_true,100)[i] == 1:\n",
    "        kind = \"True Positive\"\n",
    "    elif prob > tresh and np.repeat(y_true,100)[i] == 0:\n",
    "        kind = \"False Positive\"\n",
    "    elif prob <= tresh and np.repeat(y_true,100)[i] == 0:\n",
    "        kind = 'True Negative'\n",
    "    else:\n",
    "        kind = 'False Negative'\n",
    "    logs.append({\"Rank\":cur_rank[i], \"Proba\":prob, \"Kind\":kind})\n",
    "df = pd.DataFrame(logs)\n",
    "df = df.sort_values('Rank')\n",
    "df.reset_index(inplace=True)\n",
    "import seaborn as sns\n",
    "palette ={\"True Positive\":\"g\",\n",
    "          \"True Negative\":\"g\",\n",
    "          \"False Positive\":\"r\", \n",
    "          \"False Negative\":\"m\"}\n",
    "# sns.barplot(x='Rank', y='Proba', hue='Kind', data=df, palette=palette)\n",
    "# #ax.bar()\n",
    "# plt.axhline(tresh, color='y', linestyle='-.')\n",
    "# plt.show()\n",
    "#plt.bar(x=np.arange(len(y_true)), height=y_probas, width=0.1)"
   ]
  },
  {
   "cell_type": "code",
   "execution_count": 187,
   "metadata": {},
   "outputs": [
    {
     "data": {
      "text/plain": [
       "<matplotlib.axes._subplots.AxesSubplot at 0x7f4ecb520410>"
      ]
     },
     "execution_count": 187,
     "metadata": {},
     "output_type": "execute_result"
    },
    {
     "data": {
      "image/png": "[encoded data removed]",
      "text/plain": [
       "<Figure size 432x288 with 1 Axes>"
      ]
     },
     "metadata": {},
     "output_type": "display_data"
    }
   ],
   "source": []
  },
  {
   "cell_type": "code",
   "execution_count": 130,
   "metadata": {},
   "outputs": [
    {
     "data": {
      "text/plain": [
       "[<BarContainer object of 1 artists>,\n",
       " <BarContainer object of 1 artists>,\n",
       " <BarContainer object of 1 artists>]"
      ]
     },
     "execution_count": 130,
     "metadata": {},
     "output_type": "execute_result"
    }
   ],
   "source": [
    "legend_handles"
   ]
  },
  {
   "cell_type": "code",
   "execution_count": 182,
   "metadata": {},
   "outputs": [
    {
     "data": {
      "image/png": "[encoded data removed]",
      "text/plain": [
       "<Figure size 1440x720 with 1 Axes>"
      ]
     },
     "metadata": {},
     "output_type": "display_data"
    }
   ],
   "source": [
    "legend_names = []\n",
    "legend_handles = []\n",
    "fig = plt.figure(figsize=(20,10))\n",
    "for i, row in df.iterrows():\n",
    "    h = plt.bar(i+1, row['Proba'], color=palette[row['Kind']], width=1, align='center')\n",
    "    if not(row['Kind'] in legend_names):\n",
    "        legend_names.append(row['Kind'])\n",
    "        legend_handles.append(h)\n",
    "#plt.xticks([i+1 for i in range(len(df))], [str(i+1) for i in range(len(df))], rotation=45)\n",
    "plt.xlabel(\"Ranks\")\n",
    "#plt.tick_params(axis='x', which='both',)\n",
    "plt.grid(axis='x')\n",
    "plt.ylim([0,1])\n",
    "plt.ylabel(\"Probability\")\n",
    "ax = plt.axhline(tresh, color='y', linestyle='-.', lw=1)\n",
    "legend_names.append(\"Threshold %0.2f\" % tresh)\n",
    "#legend_handles.append(ax)\n",
    "plt.legend(legend_handles, legend_names)\n",
    "plt.title(\"Probability of predictions vs actual value\")\n",
    "plt.show()"
   ]
  },
  {
   "cell_type": "code",
   "execution_count": 119,
   "metadata": {},
   "outputs": [
    {
     "data": {
      "text/plain": [
       "<BarContainer object of 16 artists>"
      ]
     },
     "execution_count": 119,
     "metadata": {},
     "output_type": "execute_result"
    }
   ],
   "source": [
    "handles[0]"
   ]
  },
  {
   "cell_type": "code",
   "execution_count": 153,
   "metadata": {},
   "outputs": [
    {
     "data": {
      "application/vnd.jupyter.widget-view+json": {
       "model_id": "b2b0a7ab8b3641358a9bc06921b29040",
       "version_major": 2,
       "version_minor": 0
      },
      "text/plain": [
       "HBox(children=(IntProgress(value=1, bar_style=u'info', max=1), HTML(value=u'')))"
      ]
     },
     "metadata": {},
     "output_type": "display_data"
    },
    {
     "name": "stdout",
     "output_type": "stream",
     "text": [
      "              precision    recall  f1-score   support\n",
      "\n",
      "           0       0.21      1.00      0.35         3\n",
      "           1       1.00      0.15      0.27        13\n",
      "\n",
      "   micro avg       0.31      0.31      0.31        16\n",
      "   macro avg       0.61      0.58      0.31        16\n",
      "weighted avg       0.85      0.31      0.28        16\n",
      "\n"
     ]
    }
   ],
   "source": [
    "y_pred2 = []\n",
    "for q in tqdm.tqdm_notebook(collection.find({\"$or\":[ {\"type\":\"yesno\"}]})):\n",
    "    if q['Final_Answer'] == 'yes':\n",
    "        y_pred2.append(1)\n",
    "    else:\n",
    "        y_pred2.append(0)\n",
    "        \n",
    "# THIS IS WITH THE RESULTS AS IS (LOGIT > 0.5)\n",
    "print classification_report(y_true, y_pred2)"
   ]
  },
  {
   "cell_type": "code",
   "execution_count": 172,
   "metadata": {},
   "outputs": [
    {
     "name": "stdout",
     "output_type": "stream",
     "text": [
      "              precision    recall  f1-score   support\n",
      "\n",
      "           0       0.00      0.00      0.00         3\n",
      "           1       0.81      1.00      0.90        13\n",
      "\n",
      "   micro avg       0.81      0.81      0.81        16\n",
      "   macro avg       0.41      0.50      0.45        16\n",
      "weighted avg       0.66      0.81      0.73        16\n",
      "\n"
     ]
    }
   ],
   "source": [
    "# THIS IS AFTER THE RESTORATION OF THE LOGIT -> PROBA > 0.5\n",
    "def yesno_2_01(x):\n",
    "    res = []\n",
    "    for x_ in x:\n",
    "        if x_ == 'yes':\n",
    "            res.append(1)\n",
    "        elif x_ == 'no':\n",
    "            res.append(0)\n",
    "        else:\n",
    "            raise ValueError\n",
    "    return res\n",
    "\n",
    "print classification_report(y_true, yesno_2_01(y_pred_lit)) "
   ]
  },
  {
   "cell_type": "code",
   "execution_count": 175,
   "metadata": {},
   "outputs": [
    {
     "name": "stdout",
     "output_type": "stream",
     "text": [
      "              precision    recall  f1-score   support\n",
      "\n",
      "           0       0.00      0.00      0.00         3\n",
      "           1       0.81      1.00      0.90        13\n",
      "\n",
      "   micro avg       0.81      0.81      0.81        16\n",
      "   macro avg       0.41      0.50      0.45        16\n",
      "weighted avg       0.66      0.81      0.73        16\n",
      "\n"
     ]
    }
   ],
   "source": [
    "#y_probas = np.exp(y_pred)/(1+np.exp(y_pred))\n",
    "print classification_report(y_true, tresh(y_pred,0.5))"
   ]
  },
  {
   "cell_type": "code",
   "execution_count": 174,
   "metadata": {},
   "outputs": [
    {
     "data": {
      "text/plain": [
       "array([0.5210487 , 0.47604683, 0.61647835, 0.57234665, 0.39053136,\n",
       "       0.44497646, 0.52162561, 0.48870746, 0.68635591, 0.56889854,\n",
       "       0.33075871, 0.53548046, 0.48521848, 0.52425385, 0.38517539,\n",
       "       0.50334539])"
      ]
     },
     "execution_count": 174,
     "metadata": {},
     "output_type": "execute_result"
    }
   ],
   "source": [
    "y_probas"
   ]
  },
  {
   "cell_type": "code",
   "execution_count": 173,
   "metadata": {},
   "outputs": [
    {
     "data": {
      "text/plain": [
       "[u'yes',\n",
       " u'yes',\n",
       " u'yes',\n",
       " u'yes',\n",
       " u'yes',\n",
       " u'yes',\n",
       " u'yes',\n",
       " u'yes',\n",
       " u'yes',\n",
       " u'yes',\n",
       " u'yes',\n",
       " u'yes',\n",
       " u'yes',\n",
       " u'yes',\n",
       " u'yes',\n",
       " u'yes']"
      ]
     },
     "execution_count": 173,
     "metadata": {},
     "output_type": "execute_result"
    }
   ],
   "source": [
    "y_pred_lit"
   ]
  },
  {
   "cell_type": "code",
   "execution_count": 57,
   "metadata": {},
   "outputs": [
    {
     "name": "stdout",
     "output_type": "stream",
     "text": [
      "Automatically created module for IPython interactive environment\n"
     ]
    }
   ],
   "source": [
    "# Multiclass plot roc-auc curve\n",
    "print(__doc__)\n",
    "\n",
    "import numpy as np\n",
    "import matplotlib.pyplot as plt\n",
    "from itertools import cycle\n",
    "\n",
    "from sklearn import svm, datasets\n",
    "from sklearn.metrics import roc_curve, auc\n",
    "from sklearn.model_selection import train_test_split\n",
    "from sklearn.preprocessing import label_binarize\n",
    "from sklearn.multiclass import OneVsRestClassifier\n",
    "from scipy import interp\n",
    "\n",
    "\n",
    "n_classes = len(set(y_true))\n",
    "\n",
    "y_score = np.concatenate([(1-y_probas).reshape(-1,1), y_probas.reshape(-1,1)], axis=1)\n",
    "\n",
    "# Compute ROC curve and ROC area for each class\n",
    "fpr = dict()\n",
    "tpr = dict()\n",
    "roc_auc = dict()\n",
    "for i in range(n_classes):\n",
    "    fpr[i], tpr[i], _ = roc_curve(y_true, y_score[:, i], pos_label=i)\n",
    "    roc_auc[i] = auc(fpr[i], tpr[i])\n",
    "\n",
    "# Compute micro-average ROC curve and ROC area\n",
    "fpr[\"micro\"], tpr[\"micro\"], _ = roc_curve(np.array(y_true+y_true).ravel(), y_score.ravel())\n",
    "roc_auc[\"micro\"] = auc(fpr[\"micro\"], tpr[\"micro\"])"
   ]
  },
  {
   "cell_type": "code",
   "execution_count": 60,
   "metadata": {},
   "outputs": [
    {
     "data": {
      "text/plain": [
       "{0: 0.9487179487179488,\n",
       " 1: 0.9487179487179488,\n",
       " 'macro': 0.9728796844181459,\n",
       " 'micro': 0.4807692307692307}"
      ]
     },
     "execution_count": 60,
     "metadata": {},
     "output_type": "execute_result"
    }
   ],
   "source": [
    "roc_auc"
   ]
  },
  {
   "cell_type": "code",
   "execution_count": 63,
   "metadata": {},
   "outputs": [
    {
     "data": {
      "image/png": "[encoded data removed]",
      "text/plain": [
       "<Figure size 432x288 with 1 Axes>"
      ]
     },
     "metadata": {
      "needs_background": "light"
     },
     "output_type": "display_data"
    }
   ],
   "source": [
    "# Compute macro-average ROC curve and ROC area\n",
    "lw = 2\n",
    "# First aggregate all false positive rates\n",
    "all_fpr = np.unique(np.concatenate([fpr[i] for i in range(n_classes)]))\n",
    "\n",
    "# Then interpolate all ROC curves at this points\n",
    "mean_tpr = np.zeros_like(all_fpr)\n",
    "for i in range(n_classes):\n",
    "    mean_tpr += interp(all_fpr, fpr[i], tpr[i])\n",
    "\n",
    "# Finally average it and compute AUC\n",
    "mean_tpr /= n_classes\n",
    "\n",
    "fpr[\"macro\"] = all_fpr\n",
    "tpr[\"macro\"] = mean_tpr\n",
    "roc_auc[\"macro\"] = auc(fpr[\"macro\"], tpr[\"macro\"])\n",
    "\n",
    "# Plot all ROC curves\n",
    "plt.figure()\n",
    "plt.plot(fpr[\"micro\"], tpr[\"micro\"],\n",
    "         label='micro-average ROC curve (area = {0:0.2f})'\n",
    "               ''.format(roc_auc[\"micro\"]),\n",
    "         color='deeppink', linestyle=':', linewidth=4)\n",
    "\n",
    "plt.plot(fpr[\"macro\"], tpr[\"macro\"],\n",
    "         label='macro-average ROC curve (area = {0:0.2f})'\n",
    "               ''.format(roc_auc[\"macro\"]),\n",
    "         color='navy', linestyle=':', linewidth=4)\n",
    "\n",
    "colors = cycle(['aqua', 'darkorange', 'cornflowerblue'])\n",
    "for i, color in zip(range(n_classes), colors):\n",
    "    plt.plot(fpr[i], tpr[i], color=color, lw=lw,\n",
    "             label='ROC curve of class {0} (area = {1:0.2f})'\n",
    "             ''.format(i, roc_auc[i]))\n",
    "\n",
    "plt.plot([0, 1], [0, 1], 'k--', lw=lw)\n",
    "plt.xlim([0.0, 1.0])\n",
    "plt.ylim([0.0, 1.05])\n",
    "plt.xlabel('False Positive Rate')\n",
    "plt.ylabel('True Positive Rate')\n",
    "plt.title('Some extension of Receiver operating characteristic to multi-class')\n",
    "plt.legend(loc=\"lower right\")\n",
    "plt.show()"
   ]
  },
  {
   "cell_type": "code",
   "execution_count": null,
   "metadata": {},
   "outputs": [],
   "source": []
  }
 ],
 "metadata": {
  "kernelspec": {
   "display_name": "Python 2",
   "language": "python",
   "name": "python2"
  },
  "language_info": {
   "codemirror_mode": {
    "name": "ipython",
    "version": 2
   },
   "file_extension": ".py",
   "mimetype": "text/x-python",
   "name": "python",
   "nbconvert_exporter": "python",
   "pygments_lexer": "ipython2",
   "version": "2.7.15+"
  }
 },
 "nbformat": 4,
 "nbformat_minor": 2
}
